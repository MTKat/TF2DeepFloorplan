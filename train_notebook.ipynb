{
 "cells": [
  {
   "cell_type": "code",
   "execution_count": 1,
   "metadata": {},
   "outputs": [],
   "source": [
    "import train"
   ]
  },
  {
   "cell_type": "code",
   "execution_count": 2,
   "metadata": {},
   "outputs": [],
   "source": [
    "config = {'batchsize':1, 'lr':5e-5, 'wd':1e-5, 'epochs':200, 'logdir':'./log/Jan9_TFR4', 'saveTensorInterval':50,\n",
    "         'saveModelInterval':20, 'restore':None, 'outdir':'./outJan9_TFR4', 'train':True}"
   ]
  },
  {
   "cell_type": "code",
   "execution_count": 3,
   "metadata": {},
   "outputs": [
    {
     "name": "stderr",
     "output_type": "stream",
     "text": [
      "Lossy conversion from float32 to uint8. Range [0.0, 255.0]. Convert image to uint8 prior to saving to suppress this warning.\n",
      "/d2/studies/TF2DeepFloorplan/train.py:95: UserWarning: /d2/studies/TF2DeepFloorplan/./outJan11_TFR4/3_rooms.png is a low contrast image\n",
      "  imsave(os.path.join(os.getcwd(), outdir + '/' + str(pltiter) + '_rooms.png'), r)\n",
      "Lossy conversion from float32 to uint8. Range [0.0, 2.0]. Convert image to uint8 prior to saving to suppress this warning.\n",
      "/d2/studies/TF2DeepFloorplan/train.py:99: UserWarning: /d2/studies/TF2DeepFloorplan/./outJan11_TFR4/3_rooms_pred.png is a low contrast image\n",
      "  imsave(os.path.join(os.getcwd(), outdir + '/' + str(pltiter) + '_rooms_pred.png'), img_as_float(lr))\n",
      "Lossy conversion from float64 to uint8. Range [0, 1]. Convert image to uint8 prior to saving to suppress this warning.\n",
      "Clipping input data to the valid range for imshow with RGB data ([0..1] for floats or [0..255] for integers).\n",
      "Lossy conversion from float32 to uint8. Range [0.0, 255.0]. Convert image to uint8 prior to saving to suppress this warning.\n",
      "/d2/studies/TF2DeepFloorplan/train.py:95: UserWarning: /d2/studies/TF2DeepFloorplan/./outJan11_TFR4/31868853_rooms.png is a low contrast image\n",
      "  imsave(os.path.join(os.getcwd(), outdir + '/' + str(pltiter) + '_rooms.png'), r)\n",
      "/d2/studies/TF2DeepFloorplan/train.py:97: UserWarning: /d2/studies/TF2DeepFloorplan/./outJan11_TFR4/31868853_close_walls.png is a low contrast image\n",
      "  imsave(os.path.join(os.getcwd(), outdir + '/' + str(pltiter) + '_close_walls.png'), img_as_float(lcw))\n",
      "Lossy conversion from float32 to uint8. Range [0.0, 2.0]. Convert image to uint8 prior to saving to suppress this warning.\n",
      "/d2/studies/TF2DeepFloorplan/train.py:99: UserWarning: /d2/studies/TF2DeepFloorplan/./outJan11_TFR4/31868853_rooms_pred.png is a low contrast image\n",
      "  imsave(os.path.join(os.getcwd(), outdir + '/' + str(pltiter) + '_rooms_pred.png'), img_as_float(lr))\n",
      "Lossy conversion from float64 to uint8. Range [0, 1]. Convert image to uint8 prior to saving to suppress this warning.\n",
      "Clipping input data to the valid range for imshow with RGB data ([0..1] for floats or [0..255] for integers).\n",
      "Lossy conversion from float32 to uint8. Range [17.0, 255.0]. Convert image to uint8 prior to saving to suppress this warning.\n",
      "/d2/studies/TF2DeepFloorplan/train.py:95: UserWarning: /d2/studies/TF2DeepFloorplan/./outJan11_TFR4/45724414_rooms.png is a low contrast image\n",
      "  imsave(os.path.join(os.getcwd(), outdir + '/' + str(pltiter) + '_rooms.png'), r)\n",
      "Lossy conversion from float32 to uint8. Range [0.0, 2.0]. Convert image to uint8 prior to saving to suppress this warning.\n",
      "/d2/studies/TF2DeepFloorplan/train.py:99: UserWarning: /d2/studies/TF2DeepFloorplan/./outJan11_TFR4/45724414_rooms_pred.png is a low contrast image\n",
      "  imsave(os.path.join(os.getcwd(), outdir + '/' + str(pltiter) + '_rooms_pred.png'), img_as_float(lr))\n",
      "Lossy conversion from float64 to uint8. Range [0, 1]. Convert image to uint8 prior to saving to suppress this warning.\n",
      "Clipping input data to the valid range for imshow with RGB data ([0..1] for floats or [0..255] for integers).\n",
      "Lossy conversion from float32 to uint8. Range [0.0, 255.0]. Convert image to uint8 prior to saving to suppress this warning.\n",
      "/d2/studies/TF2DeepFloorplan/train.py:95: UserWarning: /d2/studies/TF2DeepFloorplan/./outJan11_TFR4/47499269_rooms.png is a low contrast image\n",
      "  imsave(os.path.join(os.getcwd(), outdir + '/' + str(pltiter) + '_rooms.png'), r)\n",
      "Lossy conversion from float32 to uint8. Range [0.0, 2.0]. Convert image to uint8 prior to saving to suppress this warning.\n",
      "/d2/studies/TF2DeepFloorplan/train.py:99: UserWarning: /d2/studies/TF2DeepFloorplan/./outJan11_TFR4/47499269_rooms_pred.png is a low contrast image\n",
      "  imsave(os.path.join(os.getcwd(), outdir + '/' + str(pltiter) + '_rooms_pred.png'), img_as_float(lr))\n",
      "Lossy conversion from float64 to uint8. Range [0, 1]. Convert image to uint8 prior to saving to suppress this warning.\n",
      "Clipping input data to the valid range for imshow with RGB data ([0..1] for floats or [0..255] for integers).\n"
     ]
    },
    {
     "name": "stdout",
     "output_type": "stream",
     "text": [
      "WARNING:tensorflow:From /home/smith/anaconda3/envs/dfp/lib/python3.7/site-packages/tensorflow/python/training/tracking/tracking.py:111: Model.state_updates (from tensorflow.python.keras.engine.training) is deprecated and will be removed in a future version.\n",
      "Instructions for updating:\n",
      "This property should not be used in TensorFlow 2.0, as updates are applied automatically.\n",
      "WARNING:tensorflow:From /home/smith/anaconda3/envs/dfp/lib/python3.7/site-packages/tensorflow/python/training/tracking/tracking.py:111: Layer.updates (from tensorflow.python.keras.engine.base_layer) is deprecated and will be removed in a future version.\n",
      "Instructions for updating:\n",
      "This property should not be used in TensorFlow 2.0, as updates are applied automatically.\n",
      "INFO:tensorflow:Assets written to: ./log/Jan11_TFR4/save/assets\n",
      "[INFO] Saving Model\n",
      "[INFO] Epoch 0 loss tf.Tensor(13.561258, shape=(), dtype=float32) roomTypeLoss: tf.Tensor(4.0360675, shape=(), dtype=float32) roomBoundLosstf.Tensor(23.086449, shape=(), dtype=float32)\n"
     ]
    },
    {
     "name": "stderr",
     "output_type": "stream",
     "text": [
      "/home/smith/anaconda3/envs/dfp/lib/python3.7/site-packages/pandas/core/internals/construction.py:309: VisibleDeprecationWarning: Creating an ndarray from ragged nested sequences (which is a list-or-tuple of lists-or-tuples-or ndarrays with different lengths or shapes) is deprecated. If you meant to do this, you must specify 'dtype=object' when creating the ndarray\n",
      "  values = np.array([convert(v) for v in values])\n",
      "Lossy conversion from float32 to uint8. Range [0.0, 255.0]. Convert image to uint8 prior to saving to suppress this warning.\n",
      "/d2/studies/TF2DeepFloorplan/train.py:95: UserWarning: /d2/studies/TF2DeepFloorplan/./outJan11_TFR4/45243139_rooms.png is a low contrast image\n",
      "  imsave(os.path.join(os.getcwd(), outdir + '/' + str(pltiter) + '_rooms.png'), r)\n",
      "Lossy conversion from float32 to uint8. Range [0.0, 2.0]. Convert image to uint8 prior to saving to suppress this warning.\n",
      "/d2/studies/TF2DeepFloorplan/train.py:99: UserWarning: /d2/studies/TF2DeepFloorplan/./outJan11_TFR4/45243139_rooms_pred.png is a low contrast image\n",
      "  imsave(os.path.join(os.getcwd(), outdir + '/' + str(pltiter) + '_rooms_pred.png'), img_as_float(lr))\n",
      "Lossy conversion from float64 to uint8. Range [0, 1]. Convert image to uint8 prior to saving to suppress this warning.\n",
      "Clipping input data to the valid range for imshow with RGB data ([0..1] for floats or [0..255] for integers).\n",
      "Lossy conversion from float32 to uint8. Range [0.0, 255.0]. Convert image to uint8 prior to saving to suppress this warning.\n",
      "/d2/studies/TF2DeepFloorplan/train.py:95: UserWarning: /d2/studies/TF2DeepFloorplan/./outJan11_TFR4/7_rooms.png is a low contrast image\n",
      "  imsave(os.path.join(os.getcwd(), outdir + '/' + str(pltiter) + '_rooms.png'), r)\n",
      "Lossy conversion from float32 to uint8. Range [0.0, 2.0]. Convert image to uint8 prior to saving to suppress this warning.\n",
      "/d2/studies/TF2DeepFloorplan/train.py:99: UserWarning: /d2/studies/TF2DeepFloorplan/./outJan11_TFR4/7_rooms_pred.png is a low contrast image\n",
      "  imsave(os.path.join(os.getcwd(), outdir + '/' + str(pltiter) + '_rooms_pred.png'), img_as_float(lr))\n",
      "Lossy conversion from float64 to uint8. Range [0, 1]. Convert image to uint8 prior to saving to suppress this warning.\n",
      "Clipping input data to the valid range for imshow with RGB data ([0..1] for floats or [0..255] for integers).\n",
      "Lossy conversion from float32 to uint8. Range [0.0, 255.0]. Convert image to uint8 prior to saving to suppress this warning.\n",
      "/d2/studies/TF2DeepFloorplan/train.py:95: UserWarning: /d2/studies/TF2DeepFloorplan/./outJan11_TFR4/31874937_rooms.png is a low contrast image\n",
      "  imsave(os.path.join(os.getcwd(), outdir + '/' + str(pltiter) + '_rooms.png'), r)\n",
      "Lossy conversion from float32 to uint8. Range [0.0, 2.0]. Convert image to uint8 prior to saving to suppress this warning.\n",
      "/d2/studies/TF2DeepFloorplan/train.py:99: UserWarning: /d2/studies/TF2DeepFloorplan/./outJan11_TFR4/31874937_rooms_pred.png is a low contrast image\n",
      "  imsave(os.path.join(os.getcwd(), outdir + '/' + str(pltiter) + '_rooms_pred.png'), img_as_float(lr))\n",
      "Lossy conversion from float64 to uint8. Range [0, 1]. Convert image to uint8 prior to saving to suppress this warning.\n",
      "Clipping input data to the valid range for imshow with RGB data ([0..1] for floats or [0..255] for integers).\n",
      "Lossy conversion from float32 to uint8. Range [0.0, 255.0]. Convert image to uint8 prior to saving to suppress this warning.\n",
      "/d2/studies/TF2DeepFloorplan/train.py:95: UserWarning: /d2/studies/TF2DeepFloorplan/./outJan11_TFR4/31677402_rooms.png is a low contrast image\n",
      "  imsave(os.path.join(os.getcwd(), outdir + '/' + str(pltiter) + '_rooms.png'), r)\n",
      "Lossy conversion from float32 to uint8. Range [0.0, 2.0]. Convert image to uint8 prior to saving to suppress this warning.\n",
      "/d2/studies/TF2DeepFloorplan/train.py:99: UserWarning: /d2/studies/TF2DeepFloorplan/./outJan11_TFR4/31677402_rooms_pred.png is a low contrast image\n",
      "  imsave(os.path.join(os.getcwd(), outdir + '/' + str(pltiter) + '_rooms_pred.png'), img_as_float(lr))\n",
      "Lossy conversion from float64 to uint8. Range [0, 1]. Convert image to uint8 prior to saving to suppress this warning.\n",
      "Clipping input data to the valid range for imshow with RGB data ([0..1] for floats or [0..255] for integers).\n"
     ]
    },
    {
     "name": "stdout",
     "output_type": "stream",
     "text": [
      "INFO:tensorflow:Assets written to: ./log/Jan11_TFR4/save/assets\n",
      "[INFO] Saving Model\n",
      "[INFO] Epoch 1 loss tf.Tensor(9.977821, shape=(), dtype=float32) roomTypeLoss: tf.Tensor(3.8449101, shape=(), dtype=float32) roomBoundLosstf.Tensor(16.110733, shape=(), dtype=float32)\n"
     ]
    },
    {
     "name": "stderr",
     "output_type": "stream",
     "text": [
      "Lossy conversion from float32 to uint8. Range [0.0, 255.0]. Convert image to uint8 prior to saving to suppress this warning.\n",
      "/d2/studies/TF2DeepFloorplan/train.py:95: UserWarning: /d2/studies/TF2DeepFloorplan/./outJan11_TFR4/31483593_rooms.png is a low contrast image\n",
      "  imsave(os.path.join(os.getcwd(), outdir + '/' + str(pltiter) + '_rooms.png'), r)\n",
      "Lossy conversion from float32 to uint8. Range [0.0, 2.0]. Convert image to uint8 prior to saving to suppress this warning.\n",
      "/d2/studies/TF2DeepFloorplan/train.py:99: UserWarning: /d2/studies/TF2DeepFloorplan/./outJan11_TFR4/31483593_rooms_pred.png is a low contrast image\n",
      "  imsave(os.path.join(os.getcwd(), outdir + '/' + str(pltiter) + '_rooms_pred.png'), img_as_float(lr))\n",
      "Lossy conversion from float64 to uint8. Range [0, 1]. Convert image to uint8 prior to saving to suppress this warning.\n",
      "Clipping input data to the valid range for imshow with RGB data ([0..1] for floats or [0..255] for integers).\n",
      "Lossy conversion from float32 to uint8. Range [0.0, 255.0]. Convert image to uint8 prior to saving to suppress this warning.\n",
      "Lossy conversion from float32 to uint8. Range [0.0, 2.0]. Convert image to uint8 prior to saving to suppress this warning.\n",
      "Lossy conversion from float64 to uint8. Range [0, 1]. Convert image to uint8 prior to saving to suppress this warning.\n",
      "Clipping input data to the valid range for imshow with RGB data ([0..1] for floats or [0..255] for integers).\n",
      "Lossy conversion from float32 to uint8. Range [0.0, 255.0]. Convert image to uint8 prior to saving to suppress this warning.\n",
      "/d2/studies/TF2DeepFloorplan/train.py:95: UserWarning: /d2/studies/TF2DeepFloorplan/./outJan11_TFR4/45591514_rooms.png is a low contrast image\n",
      "  imsave(os.path.join(os.getcwd(), outdir + '/' + str(pltiter) + '_rooms.png'), r)\n",
      "Lossy conversion from float32 to uint8. Range [0.0, 2.0]. Convert image to uint8 prior to saving to suppress this warning.\n",
      "/d2/studies/TF2DeepFloorplan/train.py:99: UserWarning: /d2/studies/TF2DeepFloorplan/./outJan11_TFR4/45591514_rooms_pred.png is a low contrast image\n",
      "  imsave(os.path.join(os.getcwd(), outdir + '/' + str(pltiter) + '_rooms_pred.png'), img_as_float(lr))\n",
      "Lossy conversion from float64 to uint8. Range [0, 1]. Convert image to uint8 prior to saving to suppress this warning.\n",
      "Clipping input data to the valid range for imshow with RGB data ([0..1] for floats or [0..255] for integers).\n"
     ]
    },
    {
     "name": "stdout",
     "output_type": "stream",
     "text": [
      "INFO:tensorflow:Assets written to: ./log/Jan11_TFR4/save/assets\n",
      "[INFO] Saving Model\n",
      "[INFO] Epoch 2 loss tf.Tensor(8.561938, shape=(), dtype=float32) roomTypeLoss: tf.Tensor(3.1051397, shape=(), dtype=float32) roomBoundLosstf.Tensor(14.018737, shape=(), dtype=float32)\n"
     ]
    },
    {
     "name": "stderr",
     "output_type": "stream",
     "text": [
      "Lossy conversion from float32 to uint8. Range [13.0, 255.0]. Convert image to uint8 prior to saving to suppress this warning.\n",
      "/d2/studies/TF2DeepFloorplan/train.py:95: UserWarning: /d2/studies/TF2DeepFloorplan/./outJan11_TFR4/31852929_rooms.png is a low contrast image\n",
      "  imsave(os.path.join(os.getcwd(), outdir + '/' + str(pltiter) + '_rooms.png'), r)\n",
      "Lossy conversion from float32 to uint8. Range [0.0, 2.0]. Convert image to uint8 prior to saving to suppress this warning.\n",
      "/d2/studies/TF2DeepFloorplan/train.py:99: UserWarning: /d2/studies/TF2DeepFloorplan/./outJan11_TFR4/31852929_rooms_pred.png is a low contrast image\n",
      "  imsave(os.path.join(os.getcwd(), outdir + '/' + str(pltiter) + '_rooms_pred.png'), img_as_float(lr))\n",
      "Lossy conversion from float64 to uint8. Range [0, 1]. Convert image to uint8 prior to saving to suppress this warning.\n",
      "Clipping input data to the valid range for imshow with RGB data ([0..1] for floats or [0..255] for integers).\n",
      "Lossy conversion from float32 to uint8. Range [0.0, 255.0]. Convert image to uint8 prior to saving to suppress this warning.\n",
      "/d2/studies/TF2DeepFloorplan/train.py:95: UserWarning: /d2/studies/TF2DeepFloorplan/./outJan11_TFR4/43169833_rooms.png is a low contrast image\n",
      "  imsave(os.path.join(os.getcwd(), outdir + '/' + str(pltiter) + '_rooms.png'), r)\n",
      "Lossy conversion from float32 to uint8. Range [0.0, 2.0]. Convert image to uint8 prior to saving to suppress this warning.\n",
      "/d2/studies/TF2DeepFloorplan/train.py:99: UserWarning: /d2/studies/TF2DeepFloorplan/./outJan11_TFR4/43169833_rooms_pred.png is a low contrast image\n",
      "  imsave(os.path.join(os.getcwd(), outdir + '/' + str(pltiter) + '_rooms_pred.png'), img_as_float(lr))\n",
      "Lossy conversion from float64 to uint8. Range [0, 1]. Convert image to uint8 prior to saving to suppress this warning.\n",
      "Clipping input data to the valid range for imshow with RGB data ([0..1] for floats or [0..255] for integers).\n",
      "Lossy conversion from float32 to uint8. Range [4.0, 255.0]. Convert image to uint8 prior to saving to suppress this warning.\n",
      "/d2/studies/TF2DeepFloorplan/train.py:95: UserWarning: /d2/studies/TF2DeepFloorplan/./outJan11_TFR4/57_rooms.png is a low contrast image\n",
      "  imsave(os.path.join(os.getcwd(), outdir + '/' + str(pltiter) + '_rooms.png'), r)\n",
      "Lossy conversion from float32 to uint8. Range [0.0, 2.0]. Convert image to uint8 prior to saving to suppress this warning.\n",
      "/d2/studies/TF2DeepFloorplan/train.py:99: UserWarning: /d2/studies/TF2DeepFloorplan/./outJan11_TFR4/57_rooms_pred.png is a low contrast image\n",
      "  imsave(os.path.join(os.getcwd(), outdir + '/' + str(pltiter) + '_rooms_pred.png'), img_as_float(lr))\n",
      "Lossy conversion from float64 to uint8. Range [0, 1]. Convert image to uint8 prior to saving to suppress this warning.\n",
      "Clipping input data to the valid range for imshow with RGB data ([0..1] for floats or [0..255] for integers).\n",
      "Lossy conversion from float32 to uint8. Range [6.0, 255.0]. Convert image to uint8 prior to saving to suppress this warning.\n",
      "/d2/studies/TF2DeepFloorplan/train.py:95: UserWarning: /d2/studies/TF2DeepFloorplan/./outJan11_TFR4/44591497_rooms.png is a low contrast image\n",
      "  imsave(os.path.join(os.getcwd(), outdir + '/' + str(pltiter) + '_rooms.png'), r)\n",
      "Lossy conversion from float32 to uint8. Range [0.0, 2.0]. Convert image to uint8 prior to saving to suppress this warning.\n",
      "/d2/studies/TF2DeepFloorplan/train.py:99: UserWarning: /d2/studies/TF2DeepFloorplan/./outJan11_TFR4/44591497_rooms_pred.png is a low contrast image\n",
      "  imsave(os.path.join(os.getcwd(), outdir + '/' + str(pltiter) + '_rooms_pred.png'), img_as_float(lr))\n",
      "Lossy conversion from float64 to uint8. Range [0, 1]. Convert image to uint8 prior to saving to suppress this warning.\n",
      "Clipping input data to the valid range for imshow with RGB data ([0..1] for floats or [0..255] for integers).\n"
     ]
    },
    {
     "name": "stdout",
     "output_type": "stream",
     "text": [
      "INFO:tensorflow:Assets written to: ./log/Jan11_TFR4/save/assets\n",
      "[INFO] Saving Model\n",
      "[INFO] Epoch 3 loss tf.Tensor(6.9339304, shape=(), dtype=float32) roomTypeLoss: tf.Tensor(3.5298333, shape=(), dtype=float32) roomBoundLosstf.Tensor(10.338027, shape=(), dtype=float32)\n"
     ]
    },
    {
     "name": "stderr",
     "output_type": "stream",
     "text": [
      "Lossy conversion from float32 to uint8. Range [13.0, 255.0]. Convert image to uint8 prior to saving to suppress this warning.\n",
      "Lossy conversion from float32 to uint8. Range [0.0, 2.0]. Convert image to uint8 prior to saving to suppress this warning.\n",
      "Lossy conversion from float64 to uint8. Range [0, 1]. Convert image to uint8 prior to saving to suppress this warning.\n",
      "Clipping input data to the valid range for imshow with RGB data ([0..1] for floats or [0..255] for integers).\n",
      "Lossy conversion from float32 to uint8. Range [0.0, 255.0]. Convert image to uint8 prior to saving to suppress this warning.\n",
      "Lossy conversion from float32 to uint8. Range [0.0, 2.0]. Convert image to uint8 prior to saving to suppress this warning.\n",
      "Lossy conversion from float64 to uint8. Range [0, 1]. Convert image to uint8 prior to saving to suppress this warning.\n",
      "Clipping input data to the valid range for imshow with RGB data ([0..1] for floats or [0..255] for integers).\n",
      "Lossy conversion from float32 to uint8. Range [0.0, 255.0]. Convert image to uint8 prior to saving to suppress this warning.\n",
      "/d2/studies/TF2DeepFloorplan/train.py:95: UserWarning: /d2/studies/TF2DeepFloorplan/./outJan11_TFR4/45775138_rooms.png is a low contrast image\n",
      "  imsave(os.path.join(os.getcwd(), outdir + '/' + str(pltiter) + '_rooms.png'), r)\n",
      "Lossy conversion from float32 to uint8. Range [0.0, 2.0]. Convert image to uint8 prior to saving to suppress this warning.\n",
      "/d2/studies/TF2DeepFloorplan/train.py:99: UserWarning: /d2/studies/TF2DeepFloorplan/./outJan11_TFR4/45775138_rooms_pred.png is a low contrast image\n",
      "  imsave(os.path.join(os.getcwd(), outdir + '/' + str(pltiter) + '_rooms_pred.png'), img_as_float(lr))\n",
      "Lossy conversion from float64 to uint8. Range [0, 1]. Convert image to uint8 prior to saving to suppress this warning.\n",
      "Clipping input data to the valid range for imshow with RGB data ([0..1] for floats or [0..255] for integers).\n"
     ]
    },
    {
     "name": "stdout",
     "output_type": "stream",
     "text": [
      "[INFO] Epoch 4 loss tf.Tensor(9.688509, shape=(), dtype=float32) roomTypeLoss: tf.Tensor(3.914051, shape=(), dtype=float32) roomBoundLosstf.Tensor(15.462967, shape=(), dtype=float32)\n"
     ]
    },
    {
     "name": "stderr",
     "output_type": "stream",
     "text": [
      "Lossy conversion from float32 to uint8. Range [65.0, 255.0]. Convert image to uint8 prior to saving to suppress this warning.\n",
      "/d2/studies/TF2DeepFloorplan/train.py:95: UserWarning: /d2/studies/TF2DeepFloorplan/./outJan11_TFR4/47505359_rooms.png is a low contrast image\n",
      "  imsave(os.path.join(os.getcwd(), outdir + '/' + str(pltiter) + '_rooms.png'), r)\n",
      "Lossy conversion from float32 to uint8. Range [0.0, 2.0]. Convert image to uint8 prior to saving to suppress this warning.\n",
      "/d2/studies/TF2DeepFloorplan/train.py:99: UserWarning: /d2/studies/TF2DeepFloorplan/./outJan11_TFR4/47505359_rooms_pred.png is a low contrast image\n",
      "  imsave(os.path.join(os.getcwd(), outdir + '/' + str(pltiter) + '_rooms_pred.png'), img_as_float(lr))\n",
      "Lossy conversion from float64 to uint8. Range [0, 1]. Convert image to uint8 prior to saving to suppress this warning.\n",
      "Clipping input data to the valid range for imshow with RGB data ([0..1] for floats or [0..255] for integers).\n",
      "Lossy conversion from float32 to uint8. Range [0.0, 255.0]. Convert image to uint8 prior to saving to suppress this warning.\n",
      "/d2/studies/TF2DeepFloorplan/train.py:95: UserWarning: /d2/studies/TF2DeepFloorplan/./outJan11_TFR4/30049107_rooms.png is a low contrast image\n",
      "  imsave(os.path.join(os.getcwd(), outdir + '/' + str(pltiter) + '_rooms.png'), r)\n",
      "Lossy conversion from float32 to uint8. Range [0.0, 2.0]. Convert image to uint8 prior to saving to suppress this warning.\n",
      "/d2/studies/TF2DeepFloorplan/train.py:99: UserWarning: /d2/studies/TF2DeepFloorplan/./outJan11_TFR4/30049107_rooms_pred.png is a low contrast image\n",
      "  imsave(os.path.join(os.getcwd(), outdir + '/' + str(pltiter) + '_rooms_pred.png'), img_as_float(lr))\n",
      "Lossy conversion from float64 to uint8. Range [0, 1]. Convert image to uint8 prior to saving to suppress this warning.\n",
      "Clipping input data to the valid range for imshow with RGB data ([0..1] for floats or [0..255] for integers).\n",
      "Lossy conversion from float32 to uint8. Range [0.0, 255.0]. Convert image to uint8 prior to saving to suppress this warning.\n",
      "/d2/studies/TF2DeepFloorplan/train.py:95: UserWarning: /d2/studies/TF2DeepFloorplan/./outJan11_TFR4/31814460_rooms.png is a low contrast image\n",
      "  imsave(os.path.join(os.getcwd(), outdir + '/' + str(pltiter) + '_rooms.png'), r)\n",
      "Lossy conversion from float32 to uint8. Range [0.0, 2.0]. Convert image to uint8 prior to saving to suppress this warning.\n",
      "/d2/studies/TF2DeepFloorplan/train.py:99: UserWarning: /d2/studies/TF2DeepFloorplan/./outJan11_TFR4/31814460_rooms_pred.png is a low contrast image\n",
      "  imsave(os.path.join(os.getcwd(), outdir + '/' + str(pltiter) + '_rooms_pred.png'), img_as_float(lr))\n",
      "Lossy conversion from float64 to uint8. Range [0, 1]. Convert image to uint8 prior to saving to suppress this warning.\n",
      "Clipping input data to the valid range for imshow with RGB data ([0..1] for floats or [0..255] for integers).\n",
      "Lossy conversion from float32 to uint8. Range [0.0, 255.0]. Convert image to uint8 prior to saving to suppress this warning.\n",
      "/d2/studies/TF2DeepFloorplan/train.py:95: UserWarning: /d2/studies/TF2DeepFloorplan/./outJan11_TFR4/47236967_rooms.png is a low contrast image\n",
      "  imsave(os.path.join(os.getcwd(), outdir + '/' + str(pltiter) + '_rooms.png'), r)\n",
      "Lossy conversion from float32 to uint8. Range [0.0, 2.0]. Convert image to uint8 prior to saving to suppress this warning.\n",
      "/d2/studies/TF2DeepFloorplan/train.py:99: UserWarning: /d2/studies/TF2DeepFloorplan/./outJan11_TFR4/47236967_rooms_pred.png is a low contrast image\n",
      "  imsave(os.path.join(os.getcwd(), outdir + '/' + str(pltiter) + '_rooms_pred.png'), img_as_float(lr))\n",
      "Lossy conversion from float64 to uint8. Range [0, 1]. Convert image to uint8 prior to saving to suppress this warning.\n",
      "Clipping input data to the valid range for imshow with RGB data ([0..1] for floats or [0..255] for integers).\n"
     ]
    },
    {
     "name": "stdout",
     "output_type": "stream",
     "text": [
      "INFO:tensorflow:Assets written to: ./log/Jan11_TFR4/save/assets\n",
      "[INFO] Saving Model\n",
      "[INFO] Epoch 5 loss tf.Tensor(5.2623396, shape=(), dtype=float32) roomTypeLoss: tf.Tensor(2.4209647, shape=(), dtype=float32) roomBoundLosstf.Tensor(8.103714, shape=(), dtype=float32)\n"
     ]
    },
    {
     "name": "stderr",
     "output_type": "stream",
     "text": [
      "Lossy conversion from float32 to uint8. Range [0.0, 255.0]. Convert image to uint8 prior to saving to suppress this warning.\n",
      "/d2/studies/TF2DeepFloorplan/train.py:95: UserWarning: /d2/studies/TF2DeepFloorplan/./outJan11_TFR4/31727418_rooms.png is a low contrast image\n",
      "  imsave(os.path.join(os.getcwd(), outdir + '/' + str(pltiter) + '_rooms.png'), r)\n",
      "Lossy conversion from float32 to uint8. Range [0.0, 2.0]. Convert image to uint8 prior to saving to suppress this warning.\n",
      "/d2/studies/TF2DeepFloorplan/train.py:99: UserWarning: /d2/studies/TF2DeepFloorplan/./outJan11_TFR4/31727418_rooms_pred.png is a low contrast image\n",
      "  imsave(os.path.join(os.getcwd(), outdir + '/' + str(pltiter) + '_rooms_pred.png'), img_as_float(lr))\n",
      "Lossy conversion from float64 to uint8. Range [0, 1]. Convert image to uint8 prior to saving to suppress this warning.\n",
      "Clipping input data to the valid range for imshow with RGB data ([0..1] for floats or [0..255] for integers).\n",
      "Lossy conversion from float32 to uint8. Range [0.0, 255.0]. Convert image to uint8 prior to saving to suppress this warning.\n",
      "/d2/studies/TF2DeepFloorplan/train.py:95: UserWarning: /d2/studies/TF2DeepFloorplan/./outJan11_TFR4/47464142_rooms.png is a low contrast image\n",
      "  imsave(os.path.join(os.getcwd(), outdir + '/' + str(pltiter) + '_rooms.png'), r)\n",
      "Lossy conversion from float32 to uint8. Range [0.0, 2.0]. Convert image to uint8 prior to saving to suppress this warning.\n",
      "/d2/studies/TF2DeepFloorplan/train.py:99: UserWarning: /d2/studies/TF2DeepFloorplan/./outJan11_TFR4/47464142_rooms_pred.png is a low contrast image\n",
      "  imsave(os.path.join(os.getcwd(), outdir + '/' + str(pltiter) + '_rooms_pred.png'), img_as_float(lr))\n",
      "Lossy conversion from float64 to uint8. Range [0, 1]. Convert image to uint8 prior to saving to suppress this warning.\n",
      "Clipping input data to the valid range for imshow with RGB data ([0..1] for floats or [0..255] for integers).\n",
      "Lossy conversion from float32 to uint8. Range [0.0, 255.0]. Convert image to uint8 prior to saving to suppress this warning.\n",
      "/d2/studies/TF2DeepFloorplan/train.py:95: UserWarning: /d2/studies/TF2DeepFloorplan/./outJan11_TFR4/45775894_rooms.png is a low contrast image\n",
      "  imsave(os.path.join(os.getcwd(), outdir + '/' + str(pltiter) + '_rooms.png'), r)\n",
      "Lossy conversion from float32 to uint8. Range [0.0, 2.0]. Convert image to uint8 prior to saving to suppress this warning.\n",
      "/d2/studies/TF2DeepFloorplan/train.py:99: UserWarning: /d2/studies/TF2DeepFloorplan/./outJan11_TFR4/45775894_rooms_pred.png is a low contrast image\n",
      "  imsave(os.path.join(os.getcwd(), outdir + '/' + str(pltiter) + '_rooms_pred.png'), img_as_float(lr))\n",
      "Lossy conversion from float64 to uint8. Range [0, 1]. Convert image to uint8 prior to saving to suppress this warning.\n",
      "Clipping input data to the valid range for imshow with RGB data ([0..1] for floats or [0..255] for integers).\n",
      "Lossy conversion from float32 to uint8. Range [0.0, 255.0]. Convert image to uint8 prior to saving to suppress this warning.\n",
      "/d2/studies/TF2DeepFloorplan/train.py:95: UserWarning: /d2/studies/TF2DeepFloorplan/./outJan11_TFR4/52_rooms.png is a low contrast image\n",
      "  imsave(os.path.join(os.getcwd(), outdir + '/' + str(pltiter) + '_rooms.png'), r)\n",
      "Lossy conversion from float32 to uint8. Range [0.0, 2.0]. Convert image to uint8 prior to saving to suppress this warning.\n",
      "/d2/studies/TF2DeepFloorplan/train.py:99: UserWarning: /d2/studies/TF2DeepFloorplan/./outJan11_TFR4/52_rooms_pred.png is a low contrast image\n",
      "  imsave(os.path.join(os.getcwd(), outdir + '/' + str(pltiter) + '_rooms_pred.png'), img_as_float(lr))\n",
      "Lossy conversion from float64 to uint8. Range [0, 1]. Convert image to uint8 prior to saving to suppress this warning.\n",
      "Clipping input data to the valid range for imshow with RGB data ([0..1] for floats or [0..255] for integers).\n"
     ]
    },
    {
     "name": "stdout",
     "output_type": "stream",
     "text": [
      "INFO:tensorflow:Assets written to: ./log/Jan11_TFR4/save/assets\n",
      "[INFO] Saving Model\n",
      "[INFO] Epoch 6 loss tf.Tensor(4.8356066, shape=(), dtype=float32) roomTypeLoss: tf.Tensor(2.3089542, shape=(), dtype=float32) roomBoundLosstf.Tensor(7.362259, shape=(), dtype=float32)\n"
     ]
    },
    {
     "name": "stderr",
     "output_type": "stream",
     "text": [
      "Lossy conversion from float32 to uint8. Range [0.0, 255.0]. Convert image to uint8 prior to saving to suppress this warning.\n",
      "/d2/studies/TF2DeepFloorplan/train.py:95: UserWarning: /d2/studies/TF2DeepFloorplan/./outJan11_TFR4/45665893_rooms.png is a low contrast image\n",
      "  imsave(os.path.join(os.getcwd(), outdir + '/' + str(pltiter) + '_rooms.png'), r)\n",
      "Lossy conversion from float32 to uint8. Range [0.0, 2.0]. Convert image to uint8 prior to saving to suppress this warning.\n",
      "/d2/studies/TF2DeepFloorplan/train.py:99: UserWarning: /d2/studies/TF2DeepFloorplan/./outJan11_TFR4/45665893_rooms_pred.png is a low contrast image\n",
      "  imsave(os.path.join(os.getcwd(), outdir + '/' + str(pltiter) + '_rooms_pred.png'), img_as_float(lr))\n",
      "Lossy conversion from float64 to uint8. Range [0, 1]. Convert image to uint8 prior to saving to suppress this warning.\n",
      "Clipping input data to the valid range for imshow with RGB data ([0..1] for floats or [0..255] for integers).\n",
      "Lossy conversion from float32 to uint8. Range [0.0, 255.0]. Convert image to uint8 prior to saving to suppress this warning.\n",
      "Lossy conversion from float32 to uint8. Range [0.0, 2.0]. Convert image to uint8 prior to saving to suppress this warning.\n",
      "Lossy conversion from float64 to uint8. Range [0, 1]. Convert image to uint8 prior to saving to suppress this warning.\n",
      "Clipping input data to the valid range for imshow with RGB data ([0..1] for floats or [0..255] for integers).\n",
      "Lossy conversion from float32 to uint8. Range [0.0, 255.0]. Convert image to uint8 prior to saving to suppress this warning.\n",
      "/d2/studies/TF2DeepFloorplan/train.py:95: UserWarning: /d2/studies/TF2DeepFloorplan/./outJan11_TFR4/45765070_rooms.png is a low contrast image\n",
      "  imsave(os.path.join(os.getcwd(), outdir + '/' + str(pltiter) + '_rooms.png'), r)\n",
      "Lossy conversion from float32 to uint8. Range [0.0, 2.0]. Convert image to uint8 prior to saving to suppress this warning.\n",
      "/d2/studies/TF2DeepFloorplan/train.py:99: UserWarning: /d2/studies/TF2DeepFloorplan/./outJan11_TFR4/45765070_rooms_pred.png is a low contrast image\n",
      "  imsave(os.path.join(os.getcwd(), outdir + '/' + str(pltiter) + '_rooms_pred.png'), img_as_float(lr))\n",
      "Lossy conversion from float64 to uint8. Range [0, 1]. Convert image to uint8 prior to saving to suppress this warning.\n",
      "Clipping input data to the valid range for imshow with RGB data ([0..1] for floats or [0..255] for integers).\n"
     ]
    },
    {
     "name": "stdout",
     "output_type": "stream",
     "text": [
      "[INFO] Epoch 7 loss tf.Tensor(7.359329, shape=(), dtype=float32) roomTypeLoss: tf.Tensor(3.976708, shape=(), dtype=float32) roomBoundLosstf.Tensor(10.741951, shape=(), dtype=float32)\n"
     ]
    },
    {
     "name": "stderr",
     "output_type": "stream",
     "text": [
      "Lossy conversion from float32 to uint8. Range [0.0, 255.0]. Convert image to uint8 prior to saving to suppress this warning.\n",
      "/d2/studies/TF2DeepFloorplan/train.py:95: UserWarning: /d2/studies/TF2DeepFloorplan/./outJan11_TFR4/31878867_rooms.png is a low contrast image\n",
      "  imsave(os.path.join(os.getcwd(), outdir + '/' + str(pltiter) + '_rooms.png'), r)\n",
      "Lossy conversion from float32 to uint8. Range [0.0, 2.0]. Convert image to uint8 prior to saving to suppress this warning.\n",
      "/d2/studies/TF2DeepFloorplan/train.py:99: UserWarning: /d2/studies/TF2DeepFloorplan/./outJan11_TFR4/31878867_rooms_pred.png is a low contrast image\n",
      "  imsave(os.path.join(os.getcwd(), outdir + '/' + str(pltiter) + '_rooms_pred.png'), img_as_float(lr))\n",
      "Lossy conversion from float64 to uint8. Range [0, 1]. Convert image to uint8 prior to saving to suppress this warning.\n",
      "Clipping input data to the valid range for imshow with RGB data ([0..1] for floats or [0..255] for integers).\n",
      "Lossy conversion from float32 to uint8. Range [0.0, 255.0]. Convert image to uint8 prior to saving to suppress this warning.\n",
      "/d2/studies/TF2DeepFloorplan/train.py:95: UserWarning: /d2/studies/TF2DeepFloorplan/./outJan11_TFR4/45724069_rooms.png is a low contrast image\n",
      "  imsave(os.path.join(os.getcwd(), outdir + '/' + str(pltiter) + '_rooms.png'), r)\n",
      "Lossy conversion from float32 to uint8. Range [0.0, 2.0]. Convert image to uint8 prior to saving to suppress this warning.\n",
      "/d2/studies/TF2DeepFloorplan/train.py:99: UserWarning: /d2/studies/TF2DeepFloorplan/./outJan11_TFR4/45724069_rooms_pred.png is a low contrast image\n",
      "  imsave(os.path.join(os.getcwd(), outdir + '/' + str(pltiter) + '_rooms_pred.png'), img_as_float(lr))\n",
      "Lossy conversion from float64 to uint8. Range [0, 1]. Convert image to uint8 prior to saving to suppress this warning.\n",
      "Clipping input data to the valid range for imshow with RGB data ([0..1] for floats or [0..255] for integers).\n",
      "Lossy conversion from float32 to uint8. Range [0.0, 255.0]. Convert image to uint8 prior to saving to suppress this warning.\n",
      "Lossy conversion from float32 to uint8. Range [0.0, 2.0]. Convert image to uint8 prior to saving to suppress this warning.\n",
      "Lossy conversion from float64 to uint8. Range [0, 1]. Convert image to uint8 prior to saving to suppress this warning.\n",
      "Clipping input data to the valid range for imshow with RGB data ([0..1] for floats or [0..255] for integers).\n",
      "Lossy conversion from float32 to uint8. Range [0.0, 255.0]. Convert image to uint8 prior to saving to suppress this warning.\n",
      "/d2/studies/TF2DeepFloorplan/train.py:95: UserWarning: /d2/studies/TF2DeepFloorplan/./outJan11_TFR4/45774964_rooms.png is a low contrast image\n",
      "  imsave(os.path.join(os.getcwd(), outdir + '/' + str(pltiter) + '_rooms.png'), r)\n",
      "Lossy conversion from float32 to uint8. Range [0.0, 2.0]. Convert image to uint8 prior to saving to suppress this warning.\n",
      "/d2/studies/TF2DeepFloorplan/train.py:99: UserWarning: /d2/studies/TF2DeepFloorplan/./outJan11_TFR4/45774964_rooms_pred.png is a low contrast image\n",
      "  imsave(os.path.join(os.getcwd(), outdir + '/' + str(pltiter) + '_rooms_pred.png'), img_as_float(lr))\n",
      "Lossy conversion from float64 to uint8. Range [0, 1]. Convert image to uint8 prior to saving to suppress this warning.\n",
      "Clipping input data to the valid range for imshow with RGB data ([0..1] for floats or [0..255] for integers).\n"
     ]
    },
    {
     "name": "stdout",
     "output_type": "stream",
     "text": [
      "[INFO] Epoch 8 loss tf.Tensor(6.0490694, shape=(), dtype=float32) roomTypeLoss: tf.Tensor(2.1462317, shape=(), dtype=float32) roomBoundLosstf.Tensor(9.951907, shape=(), dtype=float32)\n"
     ]
    },
    {
     "name": "stderr",
     "output_type": "stream",
     "text": [
      "Lossy conversion from float32 to uint8. Range [0.0, 255.0]. Convert image to uint8 prior to saving to suppress this warning.\n",
      "Lossy conversion from float32 to uint8. Range [0.0, 2.0]. Convert image to uint8 prior to saving to suppress this warning.\n",
      "Lossy conversion from float64 to uint8. Range [0, 1]. Convert image to uint8 prior to saving to suppress this warning.\n",
      "Clipping input data to the valid range for imshow with RGB data ([0..1] for floats or [0..255] for integers).\n",
      "Lossy conversion from float32 to uint8. Range [0.0, 255.0]. Convert image to uint8 prior to saving to suppress this warning.\n",
      "/d2/studies/TF2DeepFloorplan/train.py:95: UserWarning: /d2/studies/TF2DeepFloorplan/./outJan11_TFR4/31878534_rooms.png is a low contrast image\n",
      "  imsave(os.path.join(os.getcwd(), outdir + '/' + str(pltiter) + '_rooms.png'), r)\n",
      "Lossy conversion from float32 to uint8. Range [0.0, 2.0]. Convert image to uint8 prior to saving to suppress this warning.\n",
      "/d2/studies/TF2DeepFloorplan/train.py:99: UserWarning: /d2/studies/TF2DeepFloorplan/./outJan11_TFR4/31878534_rooms_pred.png is a low contrast image\n",
      "  imsave(os.path.join(os.getcwd(), outdir + '/' + str(pltiter) + '_rooms_pred.png'), img_as_float(lr))\n",
      "Lossy conversion from float64 to uint8. Range [0, 1]. Convert image to uint8 prior to saving to suppress this warning.\n",
      "Clipping input data to the valid range for imshow with RGB data ([0..1] for floats or [0..255] for integers).\n",
      "Lossy conversion from float32 to uint8. Range [0.0, 255.0]. Convert image to uint8 prior to saving to suppress this warning.\n",
      "/d2/studies/TF2DeepFloorplan/train.py:95: UserWarning: /d2/studies/TF2DeepFloorplan/./outJan11_TFR4/45708481_rooms.png is a low contrast image\n",
      "  imsave(os.path.join(os.getcwd(), outdir + '/' + str(pltiter) + '_rooms.png'), r)\n",
      "Lossy conversion from float32 to uint8. Range [0.0, 2.0]. Convert image to uint8 prior to saving to suppress this warning.\n",
      "/d2/studies/TF2DeepFloorplan/train.py:99: UserWarning: /d2/studies/TF2DeepFloorplan/./outJan11_TFR4/45708481_rooms_pred.png is a low contrast image\n",
      "  imsave(os.path.join(os.getcwd(), outdir + '/' + str(pltiter) + '_rooms_pred.png'), img_as_float(lr))\n",
      "Lossy conversion from float64 to uint8. Range [0, 1]. Convert image to uint8 prior to saving to suppress this warning.\n",
      "Clipping input data to the valid range for imshow with RGB data ([0..1] for floats or [0..255] for integers).\n"
     ]
    },
    {
     "name": "stdout",
     "output_type": "stream",
     "text": [
      "[INFO] Epoch 9 loss tf.Tensor(6.0806723, shape=(), dtype=float32) roomTypeLoss: tf.Tensor(2.1462317, shape=(), dtype=float32) roomBoundLosstf.Tensor(10.015113, shape=(), dtype=float32)\n"
     ]
    },
    {
     "name": "stderr",
     "output_type": "stream",
     "text": [
      "Lossy conversion from float32 to uint8. Range [0.0, 255.0]. Convert image to uint8 prior to saving to suppress this warning.\n",
      "/d2/studies/TF2DeepFloorplan/train.py:95: UserWarning: /d2/studies/TF2DeepFloorplan/./outJan11_TFR4/46807061_rooms.png is a low contrast image\n",
      "  imsave(os.path.join(os.getcwd(), outdir + '/' + str(pltiter) + '_rooms.png'), r)\n",
      "Lossy conversion from float32 to uint8. Range [0.0, 2.0]. Convert image to uint8 prior to saving to suppress this warning.\n",
      "/d2/studies/TF2DeepFloorplan/train.py:99: UserWarning: /d2/studies/TF2DeepFloorplan/./outJan11_TFR4/46807061_rooms_pred.png is a low contrast image\n",
      "  imsave(os.path.join(os.getcwd(), outdir + '/' + str(pltiter) + '_rooms_pred.png'), img_as_float(lr))\n",
      "Lossy conversion from float64 to uint8. Range [0, 1]. Convert image to uint8 prior to saving to suppress this warning.\n",
      "Clipping input data to the valid range for imshow with RGB data ([0..1] for floats or [0..255] for integers).\n",
      "Lossy conversion from float32 to uint8. Range [0.0, 255.0]. Convert image to uint8 prior to saving to suppress this warning.\n",
      "/d2/studies/TF2DeepFloorplan/train.py:95: UserWarning: /d2/studies/TF2DeepFloorplan/./outJan11_TFR4/47429369_rooms.png is a low contrast image\n",
      "  imsave(os.path.join(os.getcwd(), outdir + '/' + str(pltiter) + '_rooms.png'), r)\n",
      "Lossy conversion from float32 to uint8. Range [0.0, 2.0]. Convert image to uint8 prior to saving to suppress this warning.\n",
      "/d2/studies/TF2DeepFloorplan/train.py:99: UserWarning: /d2/studies/TF2DeepFloorplan/./outJan11_TFR4/47429369_rooms_pred.png is a low contrast image\n",
      "  imsave(os.path.join(os.getcwd(), outdir + '/' + str(pltiter) + '_rooms_pred.png'), img_as_float(lr))\n",
      "Lossy conversion from float64 to uint8. Range [0, 1]. Convert image to uint8 prior to saving to suppress this warning.\n",
      "Clipping input data to the valid range for imshow with RGB data ([0..1] for floats or [0..255] for integers).\n",
      "Lossy conversion from float32 to uint8. Range [0.0, 255.0]. Convert image to uint8 prior to saving to suppress this warning.\n",
      "/d2/studies/TF2DeepFloorplan/train.py:95: UserWarning: /d2/studies/TF2DeepFloorplan/./outJan11_TFR4/31871118_rooms.png is a low contrast image\n",
      "  imsave(os.path.join(os.getcwd(), outdir + '/' + str(pltiter) + '_rooms.png'), r)\n",
      "Lossy conversion from float32 to uint8. Range [0.0, 2.0]. Convert image to uint8 prior to saving to suppress this warning.\n",
      "/d2/studies/TF2DeepFloorplan/train.py:99: UserWarning: /d2/studies/TF2DeepFloorplan/./outJan11_TFR4/31871118_rooms_pred.png is a low contrast image\n",
      "  imsave(os.path.join(os.getcwd(), outdir + '/' + str(pltiter) + '_rooms_pred.png'), img_as_float(lr))\n",
      "Lossy conversion from float64 to uint8. Range [0, 1]. Convert image to uint8 prior to saving to suppress this warning.\n",
      "Clipping input data to the valid range for imshow with RGB data ([0..1] for floats or [0..255] for integers).\n",
      "Lossy conversion from float32 to uint8. Range [0.0, 255.0]. Convert image to uint8 prior to saving to suppress this warning.\n",
      "/d2/studies/TF2DeepFloorplan/train.py:95: UserWarning: /d2/studies/TF2DeepFloorplan/./outJan11_TFR4/45763060_rooms.png is a low contrast image\n",
      "  imsave(os.path.join(os.getcwd(), outdir + '/' + str(pltiter) + '_rooms.png'), r)\n",
      "Lossy conversion from float32 to uint8. Range [0.0, 2.0]. Convert image to uint8 prior to saving to suppress this warning.\n",
      "/d2/studies/TF2DeepFloorplan/train.py:99: UserWarning: /d2/studies/TF2DeepFloorplan/./outJan11_TFR4/45763060_rooms_pred.png is a low contrast image\n",
      "  imsave(os.path.join(os.getcwd(), outdir + '/' + str(pltiter) + '_rooms_pred.png'), img_as_float(lr))\n",
      "Lossy conversion from float64 to uint8. Range [0, 1]. Convert image to uint8 prior to saving to suppress this warning.\n",
      "Clipping input data to the valid range for imshow with RGB data ([0..1] for floats or [0..255] for integers).\n"
     ]
    },
    {
     "name": "stdout",
     "output_type": "stream",
     "text": [
      "[INFO] Epoch 10 loss tf.Tensor(6.3150287, shape=(), dtype=float32) roomTypeLoss: tf.Tensor(2.8968675, shape=(), dtype=float32) roomBoundLosstf.Tensor(9.73319, shape=(), dtype=float32)\n"
     ]
    },
    {
     "name": "stderr",
     "output_type": "stream",
     "text": [
      "Lossy conversion from float32 to uint8. Range [0.0, 255.0]. Convert image to uint8 prior to saving to suppress this warning.\n",
      "/d2/studies/TF2DeepFloorplan/train.py:95: UserWarning: /d2/studies/TF2DeepFloorplan/./outJan11_TFR4/47073524_rooms.png is a low contrast image\n",
      "  imsave(os.path.join(os.getcwd(), outdir + '/' + str(pltiter) + '_rooms.png'), r)\n",
      "Lossy conversion from float32 to uint8. Range [0.0, 2.0]. Convert image to uint8 prior to saving to suppress this warning.\n",
      "/d2/studies/TF2DeepFloorplan/train.py:99: UserWarning: /d2/studies/TF2DeepFloorplan/./outJan11_TFR4/47073524_rooms_pred.png is a low contrast image\n",
      "  imsave(os.path.join(os.getcwd(), outdir + '/' + str(pltiter) + '_rooms_pred.png'), img_as_float(lr))\n",
      "Lossy conversion from float64 to uint8. Range [0, 1]. Convert image to uint8 prior to saving to suppress this warning.\n",
      "Clipping input data to the valid range for imshow with RGB data ([0..1] for floats or [0..255] for integers).\n",
      "Lossy conversion from float32 to uint8. Range [6.0, 255.0]. Convert image to uint8 prior to saving to suppress this warning.\n",
      "/d2/studies/TF2DeepFloorplan/train.py:95: UserWarning: /d2/studies/TF2DeepFloorplan/./outJan11_TFR4/46_rooms.png is a low contrast image\n",
      "  imsave(os.path.join(os.getcwd(), outdir + '/' + str(pltiter) + '_rooms.png'), r)\n",
      "Lossy conversion from float32 to uint8. Range [0.0, 2.0]. Convert image to uint8 prior to saving to suppress this warning.\n",
      "/d2/studies/TF2DeepFloorplan/train.py:99: UserWarning: /d2/studies/TF2DeepFloorplan/./outJan11_TFR4/46_rooms_pred.png is a low contrast image\n",
      "  imsave(os.path.join(os.getcwd(), outdir + '/' + str(pltiter) + '_rooms_pred.png'), img_as_float(lr))\n",
      "Lossy conversion from float64 to uint8. Range [0, 1]. Convert image to uint8 prior to saving to suppress this warning.\n",
      "Clipping input data to the valid range for imshow with RGB data ([0..1] for floats or [0..255] for integers).\n",
      "Lossy conversion from float32 to uint8. Range [0.0, 255.0]. Convert image to uint8 prior to saving to suppress this warning.\n",
      "/d2/studies/TF2DeepFloorplan/train.py:95: UserWarning: /d2/studies/TF2DeepFloorplan/./outJan11_TFR4/38877131_rooms.png is a low contrast image\n",
      "  imsave(os.path.join(os.getcwd(), outdir + '/' + str(pltiter) + '_rooms.png'), r)\n",
      "Lossy conversion from float32 to uint8. Range [0.0, 2.0]. Convert image to uint8 prior to saving to suppress this warning.\n",
      "/d2/studies/TF2DeepFloorplan/train.py:99: UserWarning: /d2/studies/TF2DeepFloorplan/./outJan11_TFR4/38877131_rooms_pred.png is a low contrast image\n",
      "  imsave(os.path.join(os.getcwd(), outdir + '/' + str(pltiter) + '_rooms_pred.png'), img_as_float(lr))\n",
      "Lossy conversion from float64 to uint8. Range [0, 1]. Convert image to uint8 prior to saving to suppress this warning.\n",
      "Clipping input data to the valid range for imshow with RGB data ([0..1] for floats or [0..255] for integers).\n"
     ]
    },
    {
     "name": "stdout",
     "output_type": "stream",
     "text": [
      "INFO:tensorflow:Assets written to: ./log/Jan11_TFR4/save/assets\n",
      "[INFO] Saving Model\n",
      "[INFO] Epoch 11 loss tf.Tensor(4.3514433, shape=(), dtype=float32) roomTypeLoss: tf.Tensor(2.793601, shape=(), dtype=float32) roomBoundLosstf.Tensor(5.909286, shape=(), dtype=float32)\n"
     ]
    },
    {
     "name": "stderr",
     "output_type": "stream",
     "text": [
      "Lossy conversion from float32 to uint8. Range [6.0, 255.0]. Convert image to uint8 prior to saving to suppress this warning.\n",
      "Lossy conversion from float32 to uint8. Range [0.0, 2.0]. Convert image to uint8 prior to saving to suppress this warning.\n",
      "Lossy conversion from float64 to uint8. Range [0, 1]. Convert image to uint8 prior to saving to suppress this warning.\n",
      "Clipping input data to the valid range for imshow with RGB data ([0..1] for floats or [0..255] for integers).\n",
      "Lossy conversion from float32 to uint8. Range [0.0, 255.0]. Convert image to uint8 prior to saving to suppress this warning.\n",
      "/d2/studies/TF2DeepFloorplan/train.py:95: UserWarning: /d2/studies/TF2DeepFloorplan/./outJan11_TFR4/47465963_rooms.png is a low contrast image\n",
      "  imsave(os.path.join(os.getcwd(), outdir + '/' + str(pltiter) + '_rooms.png'), r)\n",
      "Lossy conversion from float32 to uint8. Range [0.0, 2.0]. Convert image to uint8 prior to saving to suppress this warning.\n",
      "/d2/studies/TF2DeepFloorplan/train.py:99: UserWarning: /d2/studies/TF2DeepFloorplan/./outJan11_TFR4/47465963_rooms_pred.png is a low contrast image\n",
      "  imsave(os.path.join(os.getcwd(), outdir + '/' + str(pltiter) + '_rooms_pred.png'), img_as_float(lr))\n",
      "Lossy conversion from float64 to uint8. Range [0, 1]. Convert image to uint8 prior to saving to suppress this warning.\n",
      "Clipping input data to the valid range for imshow with RGB data ([0..1] for floats or [0..255] for integers).\n",
      "Lossy conversion from float32 to uint8. Range [0.0, 255.0]. Convert image to uint8 prior to saving to suppress this warning.\n",
      "/d2/studies/TF2DeepFloorplan/train.py:95: UserWarning: /d2/studies/TF2DeepFloorplan/./outJan11_TFR4/28025487_rooms.png is a low contrast image\n",
      "  imsave(os.path.join(os.getcwd(), outdir + '/' + str(pltiter) + '_rooms.png'), r)\n",
      "Lossy conversion from float32 to uint8. Range [0.0, 2.0]. Convert image to uint8 prior to saving to suppress this warning.\n",
      "/d2/studies/TF2DeepFloorplan/train.py:99: UserWarning: /d2/studies/TF2DeepFloorplan/./outJan11_TFR4/28025487_rooms_pred.png is a low contrast image\n",
      "  imsave(os.path.join(os.getcwd(), outdir + '/' + str(pltiter) + '_rooms_pred.png'), img_as_float(lr))\n",
      "Lossy conversion from float64 to uint8. Range [0, 1]. Convert image to uint8 prior to saving to suppress this warning.\n",
      "Clipping input data to the valid range for imshow with RGB data ([0..1] for floats or [0..255] for integers).\n",
      "Lossy conversion from float32 to uint8. Range [0.0, 255.0]. Convert image to uint8 prior to saving to suppress this warning.\n",
      "/d2/studies/TF2DeepFloorplan/train.py:95: UserWarning: /d2/studies/TF2DeepFloorplan/./outJan11_TFR4/31830270_rooms.png is a low contrast image\n",
      "  imsave(os.path.join(os.getcwd(), outdir + '/' + str(pltiter) + '_rooms.png'), r)\n",
      "Lossy conversion from float32 to uint8. Range [0.0, 2.0]. Convert image to uint8 prior to saving to suppress this warning.\n",
      "/d2/studies/TF2DeepFloorplan/train.py:99: UserWarning: /d2/studies/TF2DeepFloorplan/./outJan11_TFR4/31830270_rooms_pred.png is a low contrast image\n",
      "  imsave(os.path.join(os.getcwd(), outdir + '/' + str(pltiter) + '_rooms_pred.png'), img_as_float(lr))\n",
      "Lossy conversion from float64 to uint8. Range [0, 1]. Convert image to uint8 prior to saving to suppress this warning.\n",
      "Clipping input data to the valid range for imshow with RGB data ([0..1] for floats or [0..255] for integers).\n"
     ]
    },
    {
     "name": "stdout",
     "output_type": "stream",
     "text": [
      "[INFO] Epoch 12 loss tf.Tensor(5.905864, shape=(), dtype=float32) roomTypeLoss: tf.Tensor(3.0154636, shape=(), dtype=float32) roomBoundLosstf.Tensor(8.796264, shape=(), dtype=float32)\n"
     ]
    },
    {
     "name": "stderr",
     "output_type": "stream",
     "text": [
      "Lossy conversion from float32 to uint8. Range [0.0, 255.0]. Convert image to uint8 prior to saving to suppress this warning.\n",
      "Lossy conversion from float32 to uint8. Range [0.0, 2.0]. Convert image to uint8 prior to saving to suppress this warning.\n",
      "Lossy conversion from float64 to uint8. Range [0, 1]. Convert image to uint8 prior to saving to suppress this warning.\n",
      "Clipping input data to the valid range for imshow with RGB data ([0..1] for floats or [0..255] for integers).\n",
      "Lossy conversion from float32 to uint8. Range [0.0, 255.0]. Convert image to uint8 prior to saving to suppress this warning.\n",
      "/d2/studies/TF2DeepFloorplan/train.py:95: UserWarning: /d2/studies/TF2DeepFloorplan/./outJan11_TFR4/45764671_rooms.png is a low contrast image\n",
      "  imsave(os.path.join(os.getcwd(), outdir + '/' + str(pltiter) + '_rooms.png'), r)\n",
      "Lossy conversion from float32 to uint8. Range [0.0, 2.0]. Convert image to uint8 prior to saving to suppress this warning.\n",
      "/d2/studies/TF2DeepFloorplan/train.py:99: UserWarning: /d2/studies/TF2DeepFloorplan/./outJan11_TFR4/45764671_rooms_pred.png is a low contrast image\n",
      "  imsave(os.path.join(os.getcwd(), outdir + '/' + str(pltiter) + '_rooms_pred.png'), img_as_float(lr))\n",
      "Lossy conversion from float64 to uint8. Range [0, 1]. Convert image to uint8 prior to saving to suppress this warning.\n",
      "Clipping input data to the valid range for imshow with RGB data ([0..1] for floats or [0..255] for integers).\n",
      "Lossy conversion from float32 to uint8. Range [0.0, 254.0]. Convert image to uint8 prior to saving to suppress this warning.\n",
      "/d2/studies/TF2DeepFloorplan/train.py:95: UserWarning: /d2/studies/TF2DeepFloorplan/./outJan11_TFR4/50_rooms.png is a low contrast image\n",
      "  imsave(os.path.join(os.getcwd(), outdir + '/' + str(pltiter) + '_rooms.png'), r)\n",
      "Lossy conversion from float32 to uint8. Range [0.0, 2.0]. Convert image to uint8 prior to saving to suppress this warning.\n",
      "/d2/studies/TF2DeepFloorplan/train.py:99: UserWarning: /d2/studies/TF2DeepFloorplan/./outJan11_TFR4/50_rooms_pred.png is a low contrast image\n",
      "  imsave(os.path.join(os.getcwd(), outdir + '/' + str(pltiter) + '_rooms_pred.png'), img_as_float(lr))\n",
      "Lossy conversion from float64 to uint8. Range [0, 1]. Convert image to uint8 prior to saving to suppress this warning.\n",
      "Clipping input data to the valid range for imshow with RGB data ([0..1] for floats or [0..255] for integers).\n",
      "Lossy conversion from float32 to uint8. Range [6.0, 255.0]. Convert image to uint8 prior to saving to suppress this warning.\n",
      "Lossy conversion from float32 to uint8. Range [0.0, 2.0]. Convert image to uint8 prior to saving to suppress this warning.\n",
      "Lossy conversion from float64 to uint8. Range [0, 1]. Convert image to uint8 prior to saving to suppress this warning.\n",
      "Clipping input data to the valid range for imshow with RGB data ([0..1] for floats or [0..255] for integers).\n"
     ]
    },
    {
     "name": "stdout",
     "output_type": "stream",
     "text": [
      "[INFO] Epoch 13 loss tf.Tensor(6.9780583, shape=(), dtype=float32) roomTypeLoss: tf.Tensor(3.0588648, shape=(), dtype=float32) roomBoundLosstf.Tensor(10.897252, shape=(), dtype=float32)\n"
     ]
    },
    {
     "name": "stderr",
     "output_type": "stream",
     "text": [
      "Lossy conversion from float32 to uint8. Range [0.0, 255.0]. Convert image to uint8 prior to saving to suppress this warning.\n",
      "/d2/studies/TF2DeepFloorplan/train.py:95: UserWarning: /d2/studies/TF2DeepFloorplan/./outJan11_TFR4/45719912_rooms.png is a low contrast image\n",
      "  imsave(os.path.join(os.getcwd(), outdir + '/' + str(pltiter) + '_rooms.png'), r)\n",
      "Lossy conversion from float32 to uint8. Range [0.0, 2.0]. Convert image to uint8 prior to saving to suppress this warning.\n",
      "/d2/studies/TF2DeepFloorplan/train.py:99: UserWarning: /d2/studies/TF2DeepFloorplan/./outJan11_TFR4/45719912_rooms_pred.png is a low contrast image\n",
      "  imsave(os.path.join(os.getcwd(), outdir + '/' + str(pltiter) + '_rooms_pred.png'), img_as_float(lr))\n",
      "Lossy conversion from float64 to uint8. Range [0, 1]. Convert image to uint8 prior to saving to suppress this warning.\n",
      "Clipping input data to the valid range for imshow with RGB data ([0..1] for floats or [0..255] for integers).\n",
      "Lossy conversion from float32 to uint8. Range [0.0, 255.0]. Convert image to uint8 prior to saving to suppress this warning.\n",
      "/d2/studies/TF2DeepFloorplan/train.py:95: UserWarning: /d2/studies/TF2DeepFloorplan/./outJan11_TFR4/45775501_rooms.png is a low contrast image\n",
      "  imsave(os.path.join(os.getcwd(), outdir + '/' + str(pltiter) + '_rooms.png'), r)\n",
      "Lossy conversion from float32 to uint8. Range [0.0, 2.0]. Convert image to uint8 prior to saving to suppress this warning.\n",
      "/d2/studies/TF2DeepFloorplan/train.py:99: UserWarning: /d2/studies/TF2DeepFloorplan/./outJan11_TFR4/45775501_rooms_pred.png is a low contrast image\n",
      "  imsave(os.path.join(os.getcwd(), outdir + '/' + str(pltiter) + '_rooms_pred.png'), img_as_float(lr))\n",
      "Lossy conversion from float64 to uint8. Range [0, 1]. Convert image to uint8 prior to saving to suppress this warning.\n",
      "Clipping input data to the valid range for imshow with RGB data ([0..1] for floats or [0..255] for integers).\n",
      "Lossy conversion from float32 to uint8. Range [0.0, 255.0]. Convert image to uint8 prior to saving to suppress this warning.\n",
      "Lossy conversion from float32 to uint8. Range [0.0, 2.0]. Convert image to uint8 prior to saving to suppress this warning.\n",
      "Lossy conversion from float64 to uint8. Range [0, 1]. Convert image to uint8 prior to saving to suppress this warning.\n",
      "Clipping input data to the valid range for imshow with RGB data ([0..1] for floats or [0..255] for integers).\n"
     ]
    },
    {
     "name": "stdout",
     "output_type": "stream",
     "text": [
      "[INFO] Epoch 14 loss tf.Tensor(7.541792, shape=(), dtype=float32) roomTypeLoss: tf.Tensor(2.9247088, shape=(), dtype=float32) roomBoundLosstf.Tensor(12.158875, shape=(), dtype=float32)\n"
     ]
    },
    {
     "name": "stderr",
     "output_type": "stream",
     "text": [
      "Lossy conversion from float32 to uint8. Range [0.0, 255.0]. Convert image to uint8 prior to saving to suppress this warning.\n",
      "/d2/studies/TF2DeepFloorplan/train.py:95: UserWarning: /d2/studies/TF2DeepFloorplan/./outJan11_TFR4/31850409_rooms.png is a low contrast image\n",
      "  imsave(os.path.join(os.getcwd(), outdir + '/' + str(pltiter) + '_rooms.png'), r)\n",
      "Lossy conversion from float32 to uint8. Range [0.0, 2.0]. Convert image to uint8 prior to saving to suppress this warning.\n",
      "/d2/studies/TF2DeepFloorplan/train.py:99: UserWarning: /d2/studies/TF2DeepFloorplan/./outJan11_TFR4/31850409_rooms_pred.png is a low contrast image\n",
      "  imsave(os.path.join(os.getcwd(), outdir + '/' + str(pltiter) + '_rooms_pred.png'), img_as_float(lr))\n",
      "Lossy conversion from float64 to uint8. Range [0, 1]. Convert image to uint8 prior to saving to suppress this warning.\n",
      "Clipping input data to the valid range for imshow with RGB data ([0..1] for floats or [0..255] for integers).\n",
      "Lossy conversion from float32 to uint8. Range [0.0, 255.0]. Convert image to uint8 prior to saving to suppress this warning.\n",
      "/d2/studies/TF2DeepFloorplan/train.py:95: UserWarning: /d2/studies/TF2DeepFloorplan/./outJan11_TFR4/30044076_rooms.png is a low contrast image\n",
      "  imsave(os.path.join(os.getcwd(), outdir + '/' + str(pltiter) + '_rooms.png'), r)\n",
      "Lossy conversion from float32 to uint8. Range [0.0, 2.0]. Convert image to uint8 prior to saving to suppress this warning.\n",
      "/d2/studies/TF2DeepFloorplan/train.py:99: UserWarning: /d2/studies/TF2DeepFloorplan/./outJan11_TFR4/30044076_rooms_pred.png is a low contrast image\n",
      "  imsave(os.path.join(os.getcwd(), outdir + '/' + str(pltiter) + '_rooms_pred.png'), img_as_float(lr))\n",
      "Lossy conversion from float64 to uint8. Range [0, 1]. Convert image to uint8 prior to saving to suppress this warning.\n",
      "Clipping input data to the valid range for imshow with RGB data ([0..1] for floats or [0..255] for integers).\n",
      "Lossy conversion from float32 to uint8. Range [0.0, 255.0]. Convert image to uint8 prior to saving to suppress this warning.\n",
      "/d2/studies/TF2DeepFloorplan/train.py:95: UserWarning: /d2/studies/TF2DeepFloorplan/./outJan11_TFR4/31834734_rooms.png is a low contrast image\n",
      "  imsave(os.path.join(os.getcwd(), outdir + '/' + str(pltiter) + '_rooms.png'), r)\n",
      "Lossy conversion from float32 to uint8. Range [0.0, 2.0]. Convert image to uint8 prior to saving to suppress this warning.\n",
      "/d2/studies/TF2DeepFloorplan/train.py:99: UserWarning: /d2/studies/TF2DeepFloorplan/./outJan11_TFR4/31834734_rooms_pred.png is a low contrast image\n",
      "  imsave(os.path.join(os.getcwd(), outdir + '/' + str(pltiter) + '_rooms_pred.png'), img_as_float(lr))\n",
      "Lossy conversion from float64 to uint8. Range [0, 1]. Convert image to uint8 prior to saving to suppress this warning.\n",
      "Clipping input data to the valid range for imshow with RGB data ([0..1] for floats or [0..255] for integers).\n",
      "Lossy conversion from float32 to uint8. Range [0.0, 255.0]. Convert image to uint8 prior to saving to suppress this warning.\n",
      "/d2/studies/TF2DeepFloorplan/train.py:95: UserWarning: /d2/studies/TF2DeepFloorplan/./outJan11_TFR4/45724399_rooms.png is a low contrast image\n",
      "  imsave(os.path.join(os.getcwd(), outdir + '/' + str(pltiter) + '_rooms.png'), r)\n",
      "Lossy conversion from float32 to uint8. Range [0.0, 2.0]. Convert image to uint8 prior to saving to suppress this warning.\n",
      "/d2/studies/TF2DeepFloorplan/train.py:99: UserWarning: /d2/studies/TF2DeepFloorplan/./outJan11_TFR4/45724399_rooms_pred.png is a low contrast image\n",
      "  imsave(os.path.join(os.getcwd(), outdir + '/' + str(pltiter) + '_rooms_pred.png'), img_as_float(lr))\n",
      "Lossy conversion from float64 to uint8. Range [0, 1]. Convert image to uint8 prior to saving to suppress this warning.\n",
      "Clipping input data to the valid range for imshow with RGB data ([0..1] for floats or [0..255] for integers).\n"
     ]
    },
    {
     "name": "stdout",
     "output_type": "stream",
     "text": [
      "[INFO] Epoch 15 loss tf.Tensor(7.4309263, shape=(), dtype=float32) roomTypeLoss: tf.Tensor(4.2762575, shape=(), dtype=float32) roomBoundLosstf.Tensor(10.585595, shape=(), dtype=float32)\n"
     ]
    },
    {
     "name": "stderr",
     "output_type": "stream",
     "text": [
      "Lossy conversion from float32 to uint8. Range [0.0, 255.0]. Convert image to uint8 prior to saving to suppress this warning.\n",
      "Lossy conversion from float32 to uint8. Range [0.0, 2.0]. Convert image to uint8 prior to saving to suppress this warning.\n",
      "Lossy conversion from float64 to uint8. Range [0, 1]. Convert image to uint8 prior to saving to suppress this warning.\n",
      "Clipping input data to the valid range for imshow with RGB data ([0..1] for floats or [0..255] for integers).\n",
      "Lossy conversion from float32 to uint8. Range [0.0, 105.0]. Convert image to uint8 prior to saving to suppress this warning.\n",
      "/d2/studies/TF2DeepFloorplan/train.py:95: UserWarning: /d2/studies/TF2DeepFloorplan/./outJan11_TFR4/47508827_rooms.png is a low contrast image\n",
      "  imsave(os.path.join(os.getcwd(), outdir + '/' + str(pltiter) + '_rooms.png'), r)\n",
      "Lossy conversion from float32 to uint8. Range [0.0, 2.0]. Convert image to uint8 prior to saving to suppress this warning.\n",
      "/d2/studies/TF2DeepFloorplan/train.py:99: UserWarning: /d2/studies/TF2DeepFloorplan/./outJan11_TFR4/47508827_rooms_pred.png is a low contrast image\n",
      "  imsave(os.path.join(os.getcwd(), outdir + '/' + str(pltiter) + '_rooms_pred.png'), img_as_float(lr))\n",
      "Lossy conversion from float64 to uint8. Range [0, 1]. Convert image to uint8 prior to saving to suppress this warning.\n",
      "Clipping input data to the valid range for imshow with RGB data ([0..1] for floats or [0..255] for integers).\n",
      "Lossy conversion from float32 to uint8. Range [0.0, 255.0]. Convert image to uint8 prior to saving to suppress this warning.\n",
      "/d2/studies/TF2DeepFloorplan/train.py:95: UserWarning: /d2/studies/TF2DeepFloorplan/./outJan11_TFR4/31573533_rooms.png is a low contrast image\n",
      "  imsave(os.path.join(os.getcwd(), outdir + '/' + str(pltiter) + '_rooms.png'), r)\n",
      "Lossy conversion from float32 to uint8. Range [0.0, 2.0]. Convert image to uint8 prior to saving to suppress this warning.\n",
      "/d2/studies/TF2DeepFloorplan/train.py:99: UserWarning: /d2/studies/TF2DeepFloorplan/./outJan11_TFR4/31573533_rooms_pred.png is a low contrast image\n",
      "  imsave(os.path.join(os.getcwd(), outdir + '/' + str(pltiter) + '_rooms_pred.png'), img_as_float(lr))\n",
      "Lossy conversion from float64 to uint8. Range [0, 1]. Convert image to uint8 prior to saving to suppress this warning.\n",
      "Clipping input data to the valid range for imshow with RGB data ([0..1] for floats or [0..255] for integers).\n"
     ]
    },
    {
     "name": "stdout",
     "output_type": "stream",
     "text": [
      "[INFO] Epoch 16 loss tf.Tensor(5.012553, shape=(), dtype=float32) roomTypeLoss: tf.Tensor(2.7038157, shape=(), dtype=float32) roomBoundLosstf.Tensor(7.321291, shape=(), dtype=float32)\n"
     ]
    },
    {
     "name": "stderr",
     "output_type": "stream",
     "text": [
      "Lossy conversion from float32 to uint8. Range [0.0, 255.0]. Convert image to uint8 prior to saving to suppress this warning.\n",
      "/d2/studies/TF2DeepFloorplan/train.py:95: UserWarning: /d2/studies/TF2DeepFloorplan/./outJan11_TFR4/31887483_rooms.png is a low contrast image\n",
      "  imsave(os.path.join(os.getcwd(), outdir + '/' + str(pltiter) + '_rooms.png'), r)\n",
      "Lossy conversion from float32 to uint8. Range [0.0, 2.0]. Convert image to uint8 prior to saving to suppress this warning.\n",
      "/d2/studies/TF2DeepFloorplan/train.py:99: UserWarning: /d2/studies/TF2DeepFloorplan/./outJan11_TFR4/31887483_rooms_pred.png is a low contrast image\n",
      "  imsave(os.path.join(os.getcwd(), outdir + '/' + str(pltiter) + '_rooms_pred.png'), img_as_float(lr))\n",
      "Lossy conversion from float64 to uint8. Range [0, 1]. Convert image to uint8 prior to saving to suppress this warning.\n",
      "Clipping input data to the valid range for imshow with RGB data ([0..1] for floats or [0..255] for integers).\n",
      "Lossy conversion from float32 to uint8. Range [0.0, 255.0]. Convert image to uint8 prior to saving to suppress this warning.\n",
      "/d2/studies/TF2DeepFloorplan/train.py:95: UserWarning: /d2/studies/TF2DeepFloorplan/./outJan11_TFR4/47499620_rooms.png is a low contrast image\n",
      "  imsave(os.path.join(os.getcwd(), outdir + '/' + str(pltiter) + '_rooms.png'), r)\n",
      "Lossy conversion from float32 to uint8. Range [0.0, 2.0]. Convert image to uint8 prior to saving to suppress this warning.\n",
      "/d2/studies/TF2DeepFloorplan/train.py:99: UserWarning: /d2/studies/TF2DeepFloorplan/./outJan11_TFR4/47499620_rooms_pred.png is a low contrast image\n",
      "  imsave(os.path.join(os.getcwd(), outdir + '/' + str(pltiter) + '_rooms_pred.png'), img_as_float(lr))\n",
      "Lossy conversion from float64 to uint8. Range [0, 1]. Convert image to uint8 prior to saving to suppress this warning.\n",
      "Clipping input data to the valid range for imshow with RGB data ([0..1] for floats or [0..255] for integers).\n",
      "Lossy conversion from float32 to uint8. Range [0.0, 255.0]. Convert image to uint8 prior to saving to suppress this warning.\n",
      "/d2/studies/TF2DeepFloorplan/train.py:95: UserWarning: /d2/studies/TF2DeepFloorplan/./outJan11_TFR4/45716029_rooms.png is a low contrast image\n",
      "  imsave(os.path.join(os.getcwd(), outdir + '/' + str(pltiter) + '_rooms.png'), r)\n",
      "Lossy conversion from float32 to uint8. Range [0.0, 2.0]. Convert image to uint8 prior to saving to suppress this warning.\n",
      "/d2/studies/TF2DeepFloorplan/train.py:99: UserWarning: /d2/studies/TF2DeepFloorplan/./outJan11_TFR4/45716029_rooms_pred.png is a low contrast image\n",
      "  imsave(os.path.join(os.getcwd(), outdir + '/' + str(pltiter) + '_rooms_pred.png'), img_as_float(lr))\n",
      "Lossy conversion from float64 to uint8. Range [0, 1]. Convert image to uint8 prior to saving to suppress this warning.\n",
      "Clipping input data to the valid range for imshow with RGB data ([0..1] for floats or [0..255] for integers).\n",
      "Lossy conversion from float32 to uint8. Range [0.0, 255.0]. Convert image to uint8 prior to saving to suppress this warning.\n",
      "Lossy conversion from float32 to uint8. Range [0.0, 2.0]. Convert image to uint8 prior to saving to suppress this warning.\n",
      "Lossy conversion from float64 to uint8. Range [0, 1]. Convert image to uint8 prior to saving to suppress this warning.\n",
      "Clipping input data to the valid range for imshow with RGB data ([0..1] for floats or [0..255] for integers).\n"
     ]
    },
    {
     "name": "stdout",
     "output_type": "stream",
     "text": [
      "[INFO] Epoch 17 loss tf.Tensor(6.3954906, shape=(), dtype=float32) roomTypeLoss: tf.Tensor(2.5685225, shape=(), dtype=float32) roomBoundLosstf.Tensor(10.222459, shape=(), dtype=float32)\n"
     ]
    },
    {
     "name": "stderr",
     "output_type": "stream",
     "text": [
      "Lossy conversion from float32 to uint8. Range [0.0, 255.0]. Convert image to uint8 prior to saving to suppress this warning.\n",
      "/d2/studies/TF2DeepFloorplan/train.py:95: UserWarning: /d2/studies/TF2DeepFloorplan/./outJan11_TFR4/45783466_rooms.png is a low contrast image\n",
      "  imsave(os.path.join(os.getcwd(), outdir + '/' + str(pltiter) + '_rooms.png'), r)\n",
      "Lossy conversion from float32 to uint8. Range [0.0, 2.0]. Convert image to uint8 prior to saving to suppress this warning.\n",
      "/d2/studies/TF2DeepFloorplan/train.py:99: UserWarning: /d2/studies/TF2DeepFloorplan/./outJan11_TFR4/45783466_rooms_pred.png is a low contrast image\n",
      "  imsave(os.path.join(os.getcwd(), outdir + '/' + str(pltiter) + '_rooms_pred.png'), img_as_float(lr))\n",
      "Lossy conversion from float64 to uint8. Range [0, 1]. Convert image to uint8 prior to saving to suppress this warning.\n",
      "Clipping input data to the valid range for imshow with RGB data ([0..1] for floats or [0..255] for integers).\n",
      "Lossy conversion from float32 to uint8. Range [0.0, 255.0]. Convert image to uint8 prior to saving to suppress this warning.\n",
      "/d2/studies/TF2DeepFloorplan/train.py:95: UserWarning: /d2/studies/TF2DeepFloorplan/./outJan11_TFR4/47489648_rooms.png is a low contrast image\n",
      "  imsave(os.path.join(os.getcwd(), outdir + '/' + str(pltiter) + '_rooms.png'), r)\n",
      "Lossy conversion from float32 to uint8. Range [0.0, 2.0]. Convert image to uint8 prior to saving to suppress this warning.\n",
      "/d2/studies/TF2DeepFloorplan/train.py:99: UserWarning: /d2/studies/TF2DeepFloorplan/./outJan11_TFR4/47489648_rooms_pred.png is a low contrast image\n",
      "  imsave(os.path.join(os.getcwd(), outdir + '/' + str(pltiter) + '_rooms_pred.png'), img_as_float(lr))\n",
      "Lossy conversion from float64 to uint8. Range [0, 1]. Convert image to uint8 prior to saving to suppress this warning.\n",
      "Clipping input data to the valid range for imshow with RGB data ([0..1] for floats or [0..255] for integers).\n",
      "Lossy conversion from float32 to uint8. Range [0.0, 255.0]. Convert image to uint8 prior to saving to suppress this warning.\n",
      "/d2/studies/TF2DeepFloorplan/train.py:95: UserWarning: /d2/studies/TF2DeepFloorplan/./outJan11_TFR4/46781618_rooms.png is a low contrast image\n",
      "  imsave(os.path.join(os.getcwd(), outdir + '/' + str(pltiter) + '_rooms.png'), r)\n",
      "Lossy conversion from float32 to uint8. Range [0.0, 2.0]. Convert image to uint8 prior to saving to suppress this warning.\n",
      "/d2/studies/TF2DeepFloorplan/train.py:99: UserWarning: /d2/studies/TF2DeepFloorplan/./outJan11_TFR4/46781618_rooms_pred.png is a low contrast image\n",
      "  imsave(os.path.join(os.getcwd(), outdir + '/' + str(pltiter) + '_rooms_pred.png'), img_as_float(lr))\n",
      "Lossy conversion from float64 to uint8. Range [0, 1]. Convert image to uint8 prior to saving to suppress this warning.\n",
      "Clipping input data to the valid range for imshow with RGB data ([0..1] for floats or [0..255] for integers).\n",
      "Lossy conversion from float32 to uint8. Range [0.0, 255.0]. Convert image to uint8 prior to saving to suppress this warning.\n",
      "/d2/studies/TF2DeepFloorplan/train.py:95: UserWarning: /d2/studies/TF2DeepFloorplan/./outJan11_TFR4/47503913_rooms.png is a low contrast image\n",
      "  imsave(os.path.join(os.getcwd(), outdir + '/' + str(pltiter) + '_rooms.png'), r)\n",
      "Lossy conversion from float32 to uint8. Range [0.0, 2.0]. Convert image to uint8 prior to saving to suppress this warning.\n",
      "/d2/studies/TF2DeepFloorplan/train.py:99: UserWarning: /d2/studies/TF2DeepFloorplan/./outJan11_TFR4/47503913_rooms_pred.png is a low contrast image\n",
      "  imsave(os.path.join(os.getcwd(), outdir + '/' + str(pltiter) + '_rooms_pred.png'), img_as_float(lr))\n",
      "Lossy conversion from float64 to uint8. Range [0, 1]. Convert image to uint8 prior to saving to suppress this warning.\n",
      "Clipping input data to the valid range for imshow with RGB data ([0..1] for floats or [0..255] for integers).\n"
     ]
    },
    {
     "name": "stdout",
     "output_type": "stream",
     "text": [
      "[INFO] Epoch 18 loss tf.Tensor(7.7519035, shape=(), dtype=float32) roomTypeLoss: tf.Tensor(4.4808416, shape=(), dtype=float32) roomBoundLosstf.Tensor(11.022965, shape=(), dtype=float32)\n"
     ]
    },
    {
     "name": "stderr",
     "output_type": "stream",
     "text": [
      "Lossy conversion from float32 to uint8. Range [0.0, 255.0]. Convert image to uint8 prior to saving to suppress this warning.\n",
      "/d2/studies/TF2DeepFloorplan/train.py:95: UserWarning: /d2/studies/TF2DeepFloorplan/./outJan11_TFR4/31272420_rooms.png is a low contrast image\n",
      "  imsave(os.path.join(os.getcwd(), outdir + '/' + str(pltiter) + '_rooms.png'), r)\n",
      "Lossy conversion from float32 to uint8. Range [0.0, 2.0]. Convert image to uint8 prior to saving to suppress this warning.\n",
      "/d2/studies/TF2DeepFloorplan/train.py:99: UserWarning: /d2/studies/TF2DeepFloorplan/./outJan11_TFR4/31272420_rooms_pred.png is a low contrast image\n",
      "  imsave(os.path.join(os.getcwd(), outdir + '/' + str(pltiter) + '_rooms_pred.png'), img_as_float(lr))\n",
      "Lossy conversion from float64 to uint8. Range [0, 1]. Convert image to uint8 prior to saving to suppress this warning.\n",
      "Clipping input data to the valid range for imshow with RGB data ([0..1] for floats or [0..255] for integers).\n",
      "Lossy conversion from float32 to uint8. Range [0.0, 255.0]. Convert image to uint8 prior to saving to suppress this warning.\n",
      "/d2/studies/TF2DeepFloorplan/train.py:95: UserWarning: /d2/studies/TF2DeepFloorplan/./outJan11_TFR4/45781483_rooms.png is a low contrast image\n",
      "  imsave(os.path.join(os.getcwd(), outdir + '/' + str(pltiter) + '_rooms.png'), r)\n",
      "Lossy conversion from float32 to uint8. Range [0.0, 2.0]. Convert image to uint8 prior to saving to suppress this warning.\n",
      "/d2/studies/TF2DeepFloorplan/train.py:99: UserWarning: /d2/studies/TF2DeepFloorplan/./outJan11_TFR4/45781483_rooms_pred.png is a low contrast image\n",
      "  imsave(os.path.join(os.getcwd(), outdir + '/' + str(pltiter) + '_rooms_pred.png'), img_as_float(lr))\n",
      "Lossy conversion from float64 to uint8. Range [0, 1]. Convert image to uint8 prior to saving to suppress this warning.\n",
      "Clipping input data to the valid range for imshow with RGB data ([0..1] for floats or [0..255] for integers).\n",
      "Lossy conversion from float32 to uint8. Range [0.0, 255.0]. Convert image to uint8 prior to saving to suppress this warning.\n",
      "/d2/studies/TF2DeepFloorplan/train.py:95: UserWarning: /d2/studies/TF2DeepFloorplan/./outJan11_TFR4/30615117_rooms.png is a low contrast image\n",
      "  imsave(os.path.join(os.getcwd(), outdir + '/' + str(pltiter) + '_rooms.png'), r)\n",
      "Lossy conversion from float32 to uint8. Range [0.0, 2.0]. Convert image to uint8 prior to saving to suppress this warning.\n",
      "/d2/studies/TF2DeepFloorplan/train.py:99: UserWarning: /d2/studies/TF2DeepFloorplan/./outJan11_TFR4/30615117_rooms_pred.png is a low contrast image\n",
      "  imsave(os.path.join(os.getcwd(), outdir + '/' + str(pltiter) + '_rooms_pred.png'), img_as_float(lr))\n",
      "Lossy conversion from float64 to uint8. Range [0, 1]. Convert image to uint8 prior to saving to suppress this warning.\n",
      "Clipping input data to the valid range for imshow with RGB data ([0..1] for floats or [0..255] for integers).\n"
     ]
    },
    {
     "name": "stdout",
     "output_type": "stream",
     "text": [
      "[INFO] Epoch 19 loss tf.Tensor(8.231462, shape=(), dtype=float32) roomTypeLoss: tf.Tensor(4.032096, shape=(), dtype=float32) roomBoundLosstf.Tensor(12.430827, shape=(), dtype=float32)\n"
     ]
    },
    {
     "name": "stderr",
     "output_type": "stream",
     "text": [
      "Lossy conversion from float32 to uint8. Range [27.0, 255.0]. Convert image to uint8 prior to saving to suppress this warning.\n",
      "/d2/studies/TF2DeepFloorplan/train.py:95: UserWarning: /d2/studies/TF2DeepFloorplan/./outJan11_TFR4/31036152_rooms.png is a low contrast image\n",
      "  imsave(os.path.join(os.getcwd(), outdir + '/' + str(pltiter) + '_rooms.png'), r)\n",
      "Lossy conversion from float32 to uint8. Range [0.0, 2.0]. Convert image to uint8 prior to saving to suppress this warning.\n",
      "/d2/studies/TF2DeepFloorplan/train.py:99: UserWarning: /d2/studies/TF2DeepFloorplan/./outJan11_TFR4/31036152_rooms_pred.png is a low contrast image\n",
      "  imsave(os.path.join(os.getcwd(), outdir + '/' + str(pltiter) + '_rooms_pred.png'), img_as_float(lr))\n",
      "Lossy conversion from float64 to uint8. Range [0, 1]. Convert image to uint8 prior to saving to suppress this warning.\n",
      "Clipping input data to the valid range for imshow with RGB data ([0..1] for floats or [0..255] for integers).\n",
      "Lossy conversion from float32 to uint8. Range [0.0, 255.0]. Convert image to uint8 prior to saving to suppress this warning.\n",
      "/d2/studies/TF2DeepFloorplan/train.py:95: UserWarning: /d2/studies/TF2DeepFloorplan/./outJan11_TFR4/45737995_rooms.png is a low contrast image\n",
      "  imsave(os.path.join(os.getcwd(), outdir + '/' + str(pltiter) + '_rooms.png'), r)\n",
      "Lossy conversion from float32 to uint8. Range [0.0, 2.0]. Convert image to uint8 prior to saving to suppress this warning.\n",
      "/d2/studies/TF2DeepFloorplan/train.py:99: UserWarning: /d2/studies/TF2DeepFloorplan/./outJan11_TFR4/45737995_rooms_pred.png is a low contrast image\n",
      "  imsave(os.path.join(os.getcwd(), outdir + '/' + str(pltiter) + '_rooms_pred.png'), img_as_float(lr))\n",
      "Lossy conversion from float64 to uint8. Range [0, 1]. Convert image to uint8 prior to saving to suppress this warning.\n",
      "Clipping input data to the valid range for imshow with RGB data ([0..1] for floats or [0..255] for integers).\n",
      "Lossy conversion from float32 to uint8. Range [0.0, 255.0]. Convert image to uint8 prior to saving to suppress this warning.\n",
      "/d2/studies/TF2DeepFloorplan/train.py:95: UserWarning: /d2/studies/TF2DeepFloorplan/./outJan11_TFR4/28906422_rooms.png is a low contrast image\n",
      "  imsave(os.path.join(os.getcwd(), outdir + '/' + str(pltiter) + '_rooms.png'), r)\n",
      "Lossy conversion from float32 to uint8. Range [0.0, 2.0]. Convert image to uint8 prior to saving to suppress this warning.\n",
      "/d2/studies/TF2DeepFloorplan/train.py:99: UserWarning: /d2/studies/TF2DeepFloorplan/./outJan11_TFR4/28906422_rooms_pred.png is a low contrast image\n",
      "  imsave(os.path.join(os.getcwd(), outdir + '/' + str(pltiter) + '_rooms_pred.png'), img_as_float(lr))\n",
      "Lossy conversion from float64 to uint8. Range [0, 1]. Convert image to uint8 prior to saving to suppress this warning.\n",
      "Clipping input data to the valid range for imshow with RGB data ([0..1] for floats or [0..255] for integers).\n",
      "Lossy conversion from float32 to uint8. Range [0.0, 255.0]. Convert image to uint8 prior to saving to suppress this warning.\n",
      "/d2/studies/TF2DeepFloorplan/train.py:95: UserWarning: /d2/studies/TF2DeepFloorplan/./outJan11_TFR4/41459443_rooms.png is a low contrast image\n",
      "  imsave(os.path.join(os.getcwd(), outdir + '/' + str(pltiter) + '_rooms.png'), r)\n",
      "Lossy conversion from float32 to uint8. Range [0.0, 2.0]. Convert image to uint8 prior to saving to suppress this warning.\n",
      "/d2/studies/TF2DeepFloorplan/train.py:99: UserWarning: /d2/studies/TF2DeepFloorplan/./outJan11_TFR4/41459443_rooms_pred.png is a low contrast image\n",
      "  imsave(os.path.join(os.getcwd(), outdir + '/' + str(pltiter) + '_rooms_pred.png'), img_as_float(lr))\n",
      "Lossy conversion from float64 to uint8. Range [0, 1]. Convert image to uint8 prior to saving to suppress this warning.\n",
      "Clipping input data to the valid range for imshow with RGB data ([0..1] for floats or [0..255] for integers).\n"
     ]
    },
    {
     "name": "stdout",
     "output_type": "stream",
     "text": [
      "[INFO] Epoch 20 loss tf.Tensor(7.987214, shape=(), dtype=float32) roomTypeLoss: tf.Tensor(3.8978167, shape=(), dtype=float32) roomBoundLosstf.Tensor(12.0766115, shape=(), dtype=float32)\n"
     ]
    },
    {
     "name": "stderr",
     "output_type": "stream",
     "text": [
      "Lossy conversion from float32 to uint8. Range [0.0, 255.0]. Convert image to uint8 prior to saving to suppress this warning.\n",
      "Lossy conversion from float32 to uint8. Range [0.0, 2.0]. Convert image to uint8 prior to saving to suppress this warning.\n",
      "Lossy conversion from float64 to uint8. Range [0, 1]. Convert image to uint8 prior to saving to suppress this warning.\n",
      "Clipping input data to the valid range for imshow with RGB data ([0..1] for floats or [0..255] for integers).\n",
      "Lossy conversion from float32 to uint8. Range [0.0, 255.0]. Convert image to uint8 prior to saving to suppress this warning.\n",
      "/d2/studies/TF2DeepFloorplan/train.py:95: UserWarning: /d2/studies/TF2DeepFloorplan/./outJan11_TFR4/47534687_rooms.png is a low contrast image\n",
      "  imsave(os.path.join(os.getcwd(), outdir + '/' + str(pltiter) + '_rooms.png'), r)\n",
      "Lossy conversion from float32 to uint8. Range [0.0, 2.0]. Convert image to uint8 prior to saving to suppress this warning.\n",
      "/d2/studies/TF2DeepFloorplan/train.py:99: UserWarning: /d2/studies/TF2DeepFloorplan/./outJan11_TFR4/47534687_rooms_pred.png is a low contrast image\n",
      "  imsave(os.path.join(os.getcwd(), outdir + '/' + str(pltiter) + '_rooms_pred.png'), img_as_float(lr))\n",
      "Lossy conversion from float64 to uint8. Range [0, 1]. Convert image to uint8 prior to saving to suppress this warning.\n",
      "Clipping input data to the valid range for imshow with RGB data ([0..1] for floats or [0..255] for integers).\n",
      "Lossy conversion from float32 to uint8. Range [0.0, 255.0]. Convert image to uint8 prior to saving to suppress this warning.\n",
      "/d2/studies/TF2DeepFloorplan/train.py:95: UserWarning: /d2/studies/TF2DeepFloorplan/./outJan11_TFR4/31883331_rooms.png is a low contrast image\n",
      "  imsave(os.path.join(os.getcwd(), outdir + '/' + str(pltiter) + '_rooms.png'), r)\n",
      "Lossy conversion from float32 to uint8. Range [0.0, 2.0]. Convert image to uint8 prior to saving to suppress this warning.\n",
      "/d2/studies/TF2DeepFloorplan/train.py:99: UserWarning: /d2/studies/TF2DeepFloorplan/./outJan11_TFR4/31883331_rooms_pred.png is a low contrast image\n",
      "  imsave(os.path.join(os.getcwd(), outdir + '/' + str(pltiter) + '_rooms_pred.png'), img_as_float(lr))\n",
      "Lossy conversion from float64 to uint8. Range [0, 1]. Convert image to uint8 prior to saving to suppress this warning.\n",
      "Clipping input data to the valid range for imshow with RGB data ([0..1] for floats or [0..255] for integers).\n"
     ]
    },
    {
     "name": "stdout",
     "output_type": "stream",
     "text": [
      "[INFO] Epoch 21 loss tf.Tensor(5.852606, shape=(), dtype=float32) roomTypeLoss: tf.Tensor(2.1448991, shape=(), dtype=float32) roomBoundLosstf.Tensor(9.560312, shape=(), dtype=float32)\n"
     ]
    },
    {
     "name": "stderr",
     "output_type": "stream",
     "text": [
      "Lossy conversion from float32 to uint8. Range [0.0, 240.0]. Convert image to uint8 prior to saving to suppress this warning.\n",
      "/d2/studies/TF2DeepFloorplan/train.py:95: UserWarning: /d2/studies/TF2DeepFloorplan/./outJan11_TFR4/31826949_rooms.png is a low contrast image\n",
      "  imsave(os.path.join(os.getcwd(), outdir + '/' + str(pltiter) + '_rooms.png'), r)\n",
      "Lossy conversion from float32 to uint8. Range [0.0, 2.0]. Convert image to uint8 prior to saving to suppress this warning.\n",
      "/d2/studies/TF2DeepFloorplan/train.py:99: UserWarning: /d2/studies/TF2DeepFloorplan/./outJan11_TFR4/31826949_rooms_pred.png is a low contrast image\n",
      "  imsave(os.path.join(os.getcwd(), outdir + '/' + str(pltiter) + '_rooms_pred.png'), img_as_float(lr))\n",
      "Lossy conversion from float64 to uint8. Range [0, 1]. Convert image to uint8 prior to saving to suppress this warning.\n",
      "Clipping input data to the valid range for imshow with RGB data ([0..1] for floats or [0..255] for integers).\n",
      "Lossy conversion from float32 to uint8. Range [0.0, 255.0]. Convert image to uint8 prior to saving to suppress this warning.\n",
      "/d2/studies/TF2DeepFloorplan/train.py:95: UserWarning: /d2/studies/TF2DeepFloorplan/./outJan11_TFR4/45728986_rooms.png is a low contrast image\n",
      "  imsave(os.path.join(os.getcwd(), outdir + '/' + str(pltiter) + '_rooms.png'), r)\n",
      "Lossy conversion from float32 to uint8. Range [0.0, 2.0]. Convert image to uint8 prior to saving to suppress this warning.\n",
      "/d2/studies/TF2DeepFloorplan/train.py:99: UserWarning: /d2/studies/TF2DeepFloorplan/./outJan11_TFR4/45728986_rooms_pred.png is a low contrast image\n",
      "  imsave(os.path.join(os.getcwd(), outdir + '/' + str(pltiter) + '_rooms_pred.png'), img_as_float(lr))\n",
      "Lossy conversion from float64 to uint8. Range [0, 1]. Convert image to uint8 prior to saving to suppress this warning.\n",
      "Clipping input data to the valid range for imshow with RGB data ([0..1] for floats or [0..255] for integers).\n",
      "Lossy conversion from float32 to uint8. Range [0.0, 255.0]. Convert image to uint8 prior to saving to suppress this warning.\n",
      "/d2/studies/TF2DeepFloorplan/train.py:95: UserWarning: /d2/studies/TF2DeepFloorplan/./outJan11_TFR4/31418847_rooms.png is a low contrast image\n",
      "  imsave(os.path.join(os.getcwd(), outdir + '/' + str(pltiter) + '_rooms.png'), r)\n",
      "Lossy conversion from float32 to uint8. Range [0.0, 2.0]. Convert image to uint8 prior to saving to suppress this warning.\n",
      "/d2/studies/TF2DeepFloorplan/train.py:99: UserWarning: /d2/studies/TF2DeepFloorplan/./outJan11_TFR4/31418847_rooms_pred.png is a low contrast image\n",
      "  imsave(os.path.join(os.getcwd(), outdir + '/' + str(pltiter) + '_rooms_pred.png'), img_as_float(lr))\n",
      "Lossy conversion from float64 to uint8. Range [0, 1]. Convert image to uint8 prior to saving to suppress this warning.\n",
      "Clipping input data to the valid range for imshow with RGB data ([0..1] for floats or [0..255] for integers).\n",
      "Lossy conversion from float32 to uint8. Range [0.0, 255.0]. Convert image to uint8 prior to saving to suppress this warning.\n",
      "Lossy conversion from float32 to uint8. Range [0.0, 2.0]. Convert image to uint8 prior to saving to suppress this warning.\n",
      "Lossy conversion from float64 to uint8. Range [0, 1]. Convert image to uint8 prior to saving to suppress this warning.\n",
      "Clipping input data to the valid range for imshow with RGB data ([0..1] for floats or [0..255] for integers).\n"
     ]
    },
    {
     "name": "stdout",
     "output_type": "stream",
     "text": [
      "[INFO] Epoch 22 loss tf.Tensor(6.7920003, shape=(), dtype=float32) roomTypeLoss: tf.Tensor(4.5687237, shape=(), dtype=float32) roomBoundLosstf.Tensor(9.015277, shape=(), dtype=float32)\n"
     ]
    },
    {
     "name": "stderr",
     "output_type": "stream",
     "text": [
      "Lossy conversion from float32 to uint8. Range [0.0, 255.0]. Convert image to uint8 prior to saving to suppress this warning.\n",
      "/d2/studies/TF2DeepFloorplan/train.py:95: UserWarning: /d2/studies/TF2DeepFloorplan/./outJan11_TFR4/31820961_rooms.png is a low contrast image\n",
      "  imsave(os.path.join(os.getcwd(), outdir + '/' + str(pltiter) + '_rooms.png'), r)\n",
      "Lossy conversion from float32 to uint8. Range [0.0, 2.0]. Convert image to uint8 prior to saving to suppress this warning.\n",
      "/d2/studies/TF2DeepFloorplan/train.py:99: UserWarning: /d2/studies/TF2DeepFloorplan/./outJan11_TFR4/31820961_rooms_pred.png is a low contrast image\n",
      "  imsave(os.path.join(os.getcwd(), outdir + '/' + str(pltiter) + '_rooms_pred.png'), img_as_float(lr))\n",
      "Lossy conversion from float64 to uint8. Range [0, 1]. Convert image to uint8 prior to saving to suppress this warning.\n",
      "Clipping input data to the valid range for imshow with RGB data ([0..1] for floats or [0..255] for integers).\n",
      "Lossy conversion from float32 to uint8. Range [0.0, 255.0]. Convert image to uint8 prior to saving to suppress this warning.\n",
      "Lossy conversion from float32 to uint8. Range [0.0, 2.0]. Convert image to uint8 prior to saving to suppress this warning.\n",
      "Lossy conversion from float64 to uint8. Range [0, 1]. Convert image to uint8 prior to saving to suppress this warning.\n",
      "Clipping input data to the valid range for imshow with RGB data ([0..1] for floats or [0..255] for integers).\n",
      "Lossy conversion from float32 to uint8. Range [0.0, 255.0]. Convert image to uint8 prior to saving to suppress this warning.\n",
      "/d2/studies/TF2DeepFloorplan/train.py:95: UserWarning: /d2/studies/TF2DeepFloorplan/./outJan11_TFR4/45321949_rooms.png is a low contrast image\n",
      "  imsave(os.path.join(os.getcwd(), outdir + '/' + str(pltiter) + '_rooms.png'), r)\n",
      "Lossy conversion from float32 to uint8. Range [0.0, 2.0]. Convert image to uint8 prior to saving to suppress this warning.\n",
      "/d2/studies/TF2DeepFloorplan/train.py:99: UserWarning: /d2/studies/TF2DeepFloorplan/./outJan11_TFR4/45321949_rooms_pred.png is a low contrast image\n",
      "  imsave(os.path.join(os.getcwd(), outdir + '/' + str(pltiter) + '_rooms_pred.png'), img_as_float(lr))\n",
      "Lossy conversion from float64 to uint8. Range [0, 1]. Convert image to uint8 prior to saving to suppress this warning.\n",
      "Clipping input data to the valid range for imshow with RGB data ([0..1] for floats or [0..255] for integers).\n"
     ]
    },
    {
     "name": "stdout",
     "output_type": "stream",
     "text": [
      "[INFO] Epoch 23 loss tf.Tensor(9.896107, shape=(), dtype=float32) roomTypeLoss: tf.Tensor(4.9848647, shape=(), dtype=float32) roomBoundLosstf.Tensor(14.807349, shape=(), dtype=float32)\n"
     ]
    },
    {
     "name": "stderr",
     "output_type": "stream",
     "text": [
      "Lossy conversion from float32 to uint8. Range [0.0, 255.0]. Convert image to uint8 prior to saving to suppress this warning.\n",
      "/d2/studies/TF2DeepFloorplan/train.py:95: UserWarning: /d2/studies/TF2DeepFloorplan/./outJan11_TFR4/45724327_rooms.png is a low contrast image\n",
      "  imsave(os.path.join(os.getcwd(), outdir + '/' + str(pltiter) + '_rooms.png'), r)\n",
      "Lossy conversion from float32 to uint8. Range [0.0, 2.0]. Convert image to uint8 prior to saving to suppress this warning.\n",
      "/d2/studies/TF2DeepFloorplan/train.py:99: UserWarning: /d2/studies/TF2DeepFloorplan/./outJan11_TFR4/45724327_rooms_pred.png is a low contrast image\n",
      "  imsave(os.path.join(os.getcwd(), outdir + '/' + str(pltiter) + '_rooms_pred.png'), img_as_float(lr))\n",
      "Lossy conversion from float64 to uint8. Range [0, 1]. Convert image to uint8 prior to saving to suppress this warning.\n",
      "Clipping input data to the valid range for imshow with RGB data ([0..1] for floats or [0..255] for integers).\n",
      "Lossy conversion from float32 to uint8. Range [0.0, 255.0]. Convert image to uint8 prior to saving to suppress this warning.\n",
      "Lossy conversion from float32 to uint8. Range [0.0, 2.0]. Convert image to uint8 prior to saving to suppress this warning.\n",
      "Lossy conversion from float64 to uint8. Range [0, 1]. Convert image to uint8 prior to saving to suppress this warning.\n",
      "Clipping input data to the valid range for imshow with RGB data ([0..1] for floats or [0..255] for integers).\n",
      "Lossy conversion from float32 to uint8. Range [0.0, 255.0]. Convert image to uint8 prior to saving to suppress this warning.\n",
      "/d2/studies/TF2DeepFloorplan/train.py:95: UserWarning: /d2/studies/TF2DeepFloorplan/./outJan11_TFR4/43661446_rooms.png is a low contrast image\n",
      "  imsave(os.path.join(os.getcwd(), outdir + '/' + str(pltiter) + '_rooms.png'), r)\n",
      "Lossy conversion from float32 to uint8. Range [0.0, 2.0]. Convert image to uint8 prior to saving to suppress this warning.\n",
      "/d2/studies/TF2DeepFloorplan/train.py:99: UserWarning: /d2/studies/TF2DeepFloorplan/./outJan11_TFR4/43661446_rooms_pred.png is a low contrast image\n",
      "  imsave(os.path.join(os.getcwd(), outdir + '/' + str(pltiter) + '_rooms_pred.png'), img_as_float(lr))\n",
      "Lossy conversion from float64 to uint8. Range [0, 1]. Convert image to uint8 prior to saving to suppress this warning.\n",
      "Clipping input data to the valid range for imshow with RGB data ([0..1] for floats or [0..255] for integers).\n",
      "Lossy conversion from float32 to uint8. Range [0.0, 255.0]. Convert image to uint8 prior to saving to suppress this warning.\n",
      "/d2/studies/TF2DeepFloorplan/train.py:95: UserWarning: /d2/studies/TF2DeepFloorplan/./outJan11_TFR4/45783298_rooms.png is a low contrast image\n",
      "  imsave(os.path.join(os.getcwd(), outdir + '/' + str(pltiter) + '_rooms.png'), r)\n",
      "Lossy conversion from float32 to uint8. Range [0.0, 2.0]. Convert image to uint8 prior to saving to suppress this warning.\n",
      "/d2/studies/TF2DeepFloorplan/train.py:99: UserWarning: /d2/studies/TF2DeepFloorplan/./outJan11_TFR4/45783298_rooms_pred.png is a low contrast image\n",
      "  imsave(os.path.join(os.getcwd(), outdir + '/' + str(pltiter) + '_rooms_pred.png'), img_as_float(lr))\n",
      "Lossy conversion from float64 to uint8. Range [0, 1]. Convert image to uint8 prior to saving to suppress this warning.\n",
      "Clipping input data to the valid range for imshow with RGB data ([0..1] for floats or [0..255] for integers).\n"
     ]
    },
    {
     "name": "stdout",
     "output_type": "stream",
     "text": [
      "[INFO] Epoch 24 loss tf.Tensor(4.9370856, shape=(), dtype=float32) roomTypeLoss: tf.Tensor(3.1604316, shape=(), dtype=float32) roomBoundLosstf.Tensor(6.71374, shape=(), dtype=float32)\n"
     ]
    },
    {
     "name": "stderr",
     "output_type": "stream",
     "text": [
      "Lossy conversion from float32 to uint8. Range [0.0, 255.0]. Convert image to uint8 prior to saving to suppress this warning.\n",
      "/d2/studies/TF2DeepFloorplan/train.py:95: UserWarning: /d2/studies/TF2DeepFloorplan/./outJan11_TFR4/44637031_rooms.png is a low contrast image\n",
      "  imsave(os.path.join(os.getcwd(), outdir + '/' + str(pltiter) + '_rooms.png'), r)\n",
      "Lossy conversion from float32 to uint8. Range [0.0, 2.0]. Convert image to uint8 prior to saving to suppress this warning.\n",
      "/d2/studies/TF2DeepFloorplan/train.py:99: UserWarning: /d2/studies/TF2DeepFloorplan/./outJan11_TFR4/44637031_rooms_pred.png is a low contrast image\n",
      "  imsave(os.path.join(os.getcwd(), outdir + '/' + str(pltiter) + '_rooms_pred.png'), img_as_float(lr))\n",
      "Lossy conversion from float64 to uint8. Range [0, 1]. Convert image to uint8 prior to saving to suppress this warning.\n",
      "Clipping input data to the valid range for imshow with RGB data ([0..1] for floats or [0..255] for integers).\n",
      "Lossy conversion from float32 to uint8. Range [0.0, 255.0]. Convert image to uint8 prior to saving to suppress this warning.\n",
      "/d2/studies/TF2DeepFloorplan/train.py:95: UserWarning: /d2/studies/TF2DeepFloorplan/./outJan11_TFR4/45780106_rooms.png is a low contrast image\n",
      "  imsave(os.path.join(os.getcwd(), outdir + '/' + str(pltiter) + '_rooms.png'), r)\n",
      "Lossy conversion from float32 to uint8. Range [0.0, 2.0]. Convert image to uint8 prior to saving to suppress this warning.\n",
      "/d2/studies/TF2DeepFloorplan/train.py:99: UserWarning: /d2/studies/TF2DeepFloorplan/./outJan11_TFR4/45780106_rooms_pred.png is a low contrast image\n",
      "  imsave(os.path.join(os.getcwd(), outdir + '/' + str(pltiter) + '_rooms_pred.png'), img_as_float(lr))\n",
      "Lossy conversion from float64 to uint8. Range [0, 1]. Convert image to uint8 prior to saving to suppress this warning.\n",
      "Clipping input data to the valid range for imshow with RGB data ([0..1] for floats or [0..255] for integers).\n",
      "Lossy conversion from float32 to uint8. Range [0.0, 255.0]. Convert image to uint8 prior to saving to suppress this warning.\n",
      "/d2/studies/TF2DeepFloorplan/train.py:95: UserWarning: /d2/studies/TF2DeepFloorplan/./outJan11_TFR4/31491612_rooms.png is a low contrast image\n",
      "  imsave(os.path.join(os.getcwd(), outdir + '/' + str(pltiter) + '_rooms.png'), r)\n",
      "Lossy conversion from float32 to uint8. Range [0.0, 2.0]. Convert image to uint8 prior to saving to suppress this warning.\n",
      "/d2/studies/TF2DeepFloorplan/train.py:99: UserWarning: /d2/studies/TF2DeepFloorplan/./outJan11_TFR4/31491612_rooms_pred.png is a low contrast image\n",
      "  imsave(os.path.join(os.getcwd(), outdir + '/' + str(pltiter) + '_rooms_pred.png'), img_as_float(lr))\n",
      "Lossy conversion from float64 to uint8. Range [0, 1]. Convert image to uint8 prior to saving to suppress this warning.\n",
      "Clipping input data to the valid range for imshow with RGB data ([0..1] for floats or [0..255] for integers).\n",
      "Lossy conversion from float32 to uint8. Range [0.0, 255.0]. Convert image to uint8 prior to saving to suppress this warning.\n",
      "/d2/studies/TF2DeepFloorplan/train.py:95: UserWarning: /d2/studies/TF2DeepFloorplan/./outJan11_TFR4/31847853_rooms.png is a low contrast image\n",
      "  imsave(os.path.join(os.getcwd(), outdir + '/' + str(pltiter) + '_rooms.png'), r)\n",
      "Lossy conversion from float32 to uint8. Range [0.0, 2.0]. Convert image to uint8 prior to saving to suppress this warning.\n",
      "/d2/studies/TF2DeepFloorplan/train.py:99: UserWarning: /d2/studies/TF2DeepFloorplan/./outJan11_TFR4/31847853_rooms_pred.png is a low contrast image\n",
      "  imsave(os.path.join(os.getcwd(), outdir + '/' + str(pltiter) + '_rooms_pred.png'), img_as_float(lr))\n",
      "Lossy conversion from float64 to uint8. Range [0, 1]. Convert image to uint8 prior to saving to suppress this warning.\n",
      "Clipping input data to the valid range for imshow with RGB data ([0..1] for floats or [0..255] for integers).\n"
     ]
    },
    {
     "name": "stdout",
     "output_type": "stream",
     "text": [
      "[INFO] Epoch 25 loss tf.Tensor(9.217564, shape=(), dtype=float32) roomTypeLoss: tf.Tensor(4.0207644, shape=(), dtype=float32) roomBoundLosstf.Tensor(14.414363, shape=(), dtype=float32)\n"
     ]
    },
    {
     "name": "stderr",
     "output_type": "stream",
     "text": [
      "Lossy conversion from float32 to uint8. Range [17.0, 255.0]. Convert image to uint8 prior to saving to suppress this warning.\n",
      "Lossy conversion from float32 to uint8. Range [0.0, 2.0]. Convert image to uint8 prior to saving to suppress this warning.\n",
      "Lossy conversion from float64 to uint8. Range [0, 1]. Convert image to uint8 prior to saving to suppress this warning.\n",
      "Clipping input data to the valid range for imshow with RGB data ([0..1] for floats or [0..255] for integers).\n",
      "Lossy conversion from float32 to uint8. Range [0.0, 255.0]. Convert image to uint8 prior to saving to suppress this warning.\n",
      "Lossy conversion from float32 to uint8. Range [0.0, 2.0]. Convert image to uint8 prior to saving to suppress this warning.\n",
      "Lossy conversion from float64 to uint8. Range [0, 1]. Convert image to uint8 prior to saving to suppress this warning.\n",
      "Clipping input data to the valid range for imshow with RGB data ([0..1] for floats or [0..255] for integers).\n",
      "Lossy conversion from float32 to uint8. Range [0.0, 255.0]. Convert image to uint8 prior to saving to suppress this warning.\n",
      "Lossy conversion from float32 to uint8. Range [0.0, 2.0]. Convert image to uint8 prior to saving to suppress this warning.\n",
      "Lossy conversion from float64 to uint8. Range [0, 1]. Convert image to uint8 prior to saving to suppress this warning.\n",
      "Clipping input data to the valid range for imshow with RGB data ([0..1] for floats or [0..255] for integers).\n"
     ]
    },
    {
     "name": "stdout",
     "output_type": "stream",
     "text": [
      "[INFO] Epoch 26 loss tf.Tensor(4.97902, shape=(), dtype=float32) roomTypeLoss: tf.Tensor(2.7038157, shape=(), dtype=float32) roomBoundLosstf.Tensor(7.254225, shape=(), dtype=float32)\n"
     ]
    },
    {
     "name": "stderr",
     "output_type": "stream",
     "text": [
      "Lossy conversion from float32 to uint8. Range [0.0, 255.0]. Convert image to uint8 prior to saving to suppress this warning.\n",
      "/d2/studies/TF2DeepFloorplan/train.py:95: UserWarning: /d2/studies/TF2DeepFloorplan/./outJan11_TFR4/47185109_rooms.png is a low contrast image\n",
      "  imsave(os.path.join(os.getcwd(), outdir + '/' + str(pltiter) + '_rooms.png'), r)\n",
      "Lossy conversion from float32 to uint8. Range [0.0, 2.0]. Convert image to uint8 prior to saving to suppress this warning.\n",
      "/d2/studies/TF2DeepFloorplan/train.py:99: UserWarning: /d2/studies/TF2DeepFloorplan/./outJan11_TFR4/47185109_rooms_pred.png is a low contrast image\n",
      "  imsave(os.path.join(os.getcwd(), outdir + '/' + str(pltiter) + '_rooms_pred.png'), img_as_float(lr))\n",
      "Lossy conversion from float64 to uint8. Range [0, 1]. Convert image to uint8 prior to saving to suppress this warning.\n",
      "Clipping input data to the valid range for imshow with RGB data ([0..1] for floats or [0..255] for integers).\n",
      "Lossy conversion from float32 to uint8. Range [0.0, 255.0]. Convert image to uint8 prior to saving to suppress this warning.\n",
      "Lossy conversion from float32 to uint8. Range [0.0, 2.0]. Convert image to uint8 prior to saving to suppress this warning.\n",
      "Lossy conversion from float64 to uint8. Range [0, 1]. Convert image to uint8 prior to saving to suppress this warning.\n",
      "Clipping input data to the valid range for imshow with RGB data ([0..1] for floats or [0..255] for integers).\n",
      "Lossy conversion from float32 to uint8. Range [0.0, 255.0]. Convert image to uint8 prior to saving to suppress this warning.\n",
      "/d2/studies/TF2DeepFloorplan/train.py:95: UserWarning: /d2/studies/TF2DeepFloorplan/./outJan11_TFR4/45724006_rooms.png is a low contrast image\n",
      "  imsave(os.path.join(os.getcwd(), outdir + '/' + str(pltiter) + '_rooms.png'), r)\n",
      "Lossy conversion from float32 to uint8. Range [0.0, 2.0]. Convert image to uint8 prior to saving to suppress this warning.\n",
      "/d2/studies/TF2DeepFloorplan/train.py:99: UserWarning: /d2/studies/TF2DeepFloorplan/./outJan11_TFR4/45724006_rooms_pred.png is a low contrast image\n",
      "  imsave(os.path.join(os.getcwd(), outdir + '/' + str(pltiter) + '_rooms_pred.png'), img_as_float(lr))\n",
      "Lossy conversion from float64 to uint8. Range [0, 1]. Convert image to uint8 prior to saving to suppress this warning.\n",
      "Clipping input data to the valid range for imshow with RGB data ([0..1] for floats or [0..255] for integers).\n",
      "Lossy conversion from float32 to uint8. Range [0.0, 255.0]. Convert image to uint8 prior to saving to suppress this warning.\n",
      "/d2/studies/TF2DeepFloorplan/train.py:95: UserWarning: /d2/studies/TF2DeepFloorplan/./outJan11_TFR4/45608287_rooms.png is a low contrast image\n",
      "  imsave(os.path.join(os.getcwd(), outdir + '/' + str(pltiter) + '_rooms.png'), r)\n",
      "Lossy conversion from float32 to uint8. Range [0.0, 2.0]. Convert image to uint8 prior to saving to suppress this warning.\n",
      "/d2/studies/TF2DeepFloorplan/train.py:99: UserWarning: /d2/studies/TF2DeepFloorplan/./outJan11_TFR4/45608287_rooms_pred.png is a low contrast image\n",
      "  imsave(os.path.join(os.getcwd(), outdir + '/' + str(pltiter) + '_rooms_pred.png'), img_as_float(lr))\n",
      "Lossy conversion from float64 to uint8. Range [0, 1]. Convert image to uint8 prior to saving to suppress this warning.\n",
      "Clipping input data to the valid range for imshow with RGB data ([0..1] for floats or [0..255] for integers).\n"
     ]
    },
    {
     "name": "stdout",
     "output_type": "stream",
     "text": [
      "[INFO] Epoch 27 loss tf.Tensor(10.289031, shape=(), dtype=float32) roomTypeLoss: tf.Tensor(3.9139001, shape=(), dtype=float32) roomBoundLosstf.Tensor(16.664162, shape=(), dtype=float32)\n"
     ]
    },
    {
     "name": "stderr",
     "output_type": "stream",
     "text": [
      "Lossy conversion from float32 to uint8. Range [0.0, 255.0]. Convert image to uint8 prior to saving to suppress this warning.\n",
      "/d2/studies/TF2DeepFloorplan/train.py:95: UserWarning: /d2/studies/TF2DeepFloorplan/./outJan11_TFR4/45724129_rooms.png is a low contrast image\n",
      "  imsave(os.path.join(os.getcwd(), outdir + '/' + str(pltiter) + '_rooms.png'), r)\n",
      "Lossy conversion from float32 to uint8. Range [0.0, 2.0]. Convert image to uint8 prior to saving to suppress this warning.\n",
      "/d2/studies/TF2DeepFloorplan/train.py:99: UserWarning: /d2/studies/TF2DeepFloorplan/./outJan11_TFR4/45724129_rooms_pred.png is a low contrast image\n",
      "  imsave(os.path.join(os.getcwd(), outdir + '/' + str(pltiter) + '_rooms_pred.png'), img_as_float(lr))\n",
      "Lossy conversion from float64 to uint8. Range [0, 1]. Convert image to uint8 prior to saving to suppress this warning.\n",
      "Clipping input data to the valid range for imshow with RGB data ([0..1] for floats or [0..255] for integers).\n",
      "Lossy conversion from float32 to uint8. Range [0.0, 255.0]. Convert image to uint8 prior to saving to suppress this warning.\n",
      "Lossy conversion from float32 to uint8. Range [0.0, 2.0]. Convert image to uint8 prior to saving to suppress this warning.\n",
      "Lossy conversion from float64 to uint8. Range [0, 1]. Convert image to uint8 prior to saving to suppress this warning.\n",
      "Clipping input data to the valid range for imshow with RGB data ([0..1] for floats or [0..255] for integers).\n",
      "Lossy conversion from float32 to uint8. Range [0.0, 255.0]. Convert image to uint8 prior to saving to suppress this warning.\n",
      "/d2/studies/TF2DeepFloorplan/train.py:95: UserWarning: /d2/studies/TF2DeepFloorplan/./outJan11_TFR4/31234182_rooms.png is a low contrast image\n",
      "  imsave(os.path.join(os.getcwd(), outdir + '/' + str(pltiter) + '_rooms.png'), r)\n",
      "Lossy conversion from float32 to uint8. Range [0.0, 2.0]. Convert image to uint8 prior to saving to suppress this warning.\n",
      "/d2/studies/TF2DeepFloorplan/train.py:99: UserWarning: /d2/studies/TF2DeepFloorplan/./outJan11_TFR4/31234182_rooms_pred.png is a low contrast image\n",
      "  imsave(os.path.join(os.getcwd(), outdir + '/' + str(pltiter) + '_rooms_pred.png'), img_as_float(lr))\n",
      "Lossy conversion from float64 to uint8. Range [0, 1]. Convert image to uint8 prior to saving to suppress this warning.\n",
      "Clipping input data to the valid range for imshow with RGB data ([0..1] for floats or [0..255] for integers).\n"
     ]
    },
    {
     "name": "stdout",
     "output_type": "stream",
     "text": [
      "[INFO] Epoch 28 loss tf.Tensor(10.204292, shape=(), dtype=float32) roomTypeLoss: tf.Tensor(4.612005, shape=(), dtype=float32) roomBoundLosstf.Tensor(15.79658, shape=(), dtype=float32)\n"
     ]
    },
    {
     "name": "stderr",
     "output_type": "stream",
     "text": [
      "Lossy conversion from float32 to uint8. Range [0.0, 255.0]. Convert image to uint8 prior to saving to suppress this warning.\n",
      "Lossy conversion from float32 to uint8. Range [0.0, 2.0]. Convert image to uint8 prior to saving to suppress this warning.\n",
      "Lossy conversion from float64 to uint8. Range [0, 1]. Convert image to uint8 prior to saving to suppress this warning.\n",
      "Clipping input data to the valid range for imshow with RGB data ([0..1] for floats or [0..255] for integers).\n",
      "Lossy conversion from float32 to uint8. Range [0.0, 255.0]. Convert image to uint8 prior to saving to suppress this warning.\n",
      "Lossy conversion from float32 to uint8. Range [0.0, 2.0]. Convert image to uint8 prior to saving to suppress this warning.\n",
      "Lossy conversion from float64 to uint8. Range [0, 1]. Convert image to uint8 prior to saving to suppress this warning.\n",
      "Clipping input data to the valid range for imshow with RGB data ([0..1] for floats or [0..255] for integers).\n",
      "Lossy conversion from float32 to uint8. Range [0.0, 255.0]. Convert image to uint8 prior to saving to suppress this warning.\n",
      "/d2/studies/TF2DeepFloorplan/train.py:95: UserWarning: /d2/studies/TF2DeepFloorplan/./outJan11_TFR4/45591070_rooms.png is a low contrast image\n",
      "  imsave(os.path.join(os.getcwd(), outdir + '/' + str(pltiter) + '_rooms.png'), r)\n",
      "Lossy conversion from float32 to uint8. Range [0.0, 2.0]. Convert image to uint8 prior to saving to suppress this warning.\n",
      "/d2/studies/TF2DeepFloorplan/train.py:99: UserWarning: /d2/studies/TF2DeepFloorplan/./outJan11_TFR4/45591070_rooms_pred.png is a low contrast image\n",
      "  imsave(os.path.join(os.getcwd(), outdir + '/' + str(pltiter) + '_rooms_pred.png'), img_as_float(lr))\n",
      "Lossy conversion from float64 to uint8. Range [0, 1]. Convert image to uint8 prior to saving to suppress this warning.\n",
      "Clipping input data to the valid range for imshow with RGB data ([0..1] for floats or [0..255] for integers).\n",
      "Lossy conversion from float32 to uint8. Range [0.0, 255.0]. Convert image to uint8 prior to saving to suppress this warning.\n",
      "Lossy conversion from float32 to uint8. Range [0.0, 2.0]. Convert image to uint8 prior to saving to suppress this warning.\n",
      "Lossy conversion from float64 to uint8. Range [0, 1]. Convert image to uint8 prior to saving to suppress this warning.\n",
      "Clipping input data to the valid range for imshow with RGB data ([0..1] for floats or [0..255] for integers).\n"
     ]
    },
    {
     "name": "stdout",
     "output_type": "stream",
     "text": [
      "[INFO] Epoch 29 loss tf.Tensor(7.7841167, shape=(), dtype=float32) roomTypeLoss: tf.Tensor(3.408841, shape=(), dtype=float32) roomBoundLosstf.Tensor(12.159392, shape=(), dtype=float32)\n"
     ]
    },
    {
     "name": "stderr",
     "output_type": "stream",
     "text": [
      "Lossy conversion from float32 to uint8. Range [0.0, 255.0]. Convert image to uint8 prior to saving to suppress this warning.\n",
      "/d2/studies/TF2DeepFloorplan/train.py:95: UserWarning: /d2/studies/TF2DeepFloorplan/./outJan11_TFR4/31834719_rooms.png is a low contrast image\n",
      "  imsave(os.path.join(os.getcwd(), outdir + '/' + str(pltiter) + '_rooms.png'), r)\n",
      "Lossy conversion from float32 to uint8. Range [0.0, 2.0]. Convert image to uint8 prior to saving to suppress this warning.\n",
      "/d2/studies/TF2DeepFloorplan/train.py:99: UserWarning: /d2/studies/TF2DeepFloorplan/./outJan11_TFR4/31834719_rooms_pred.png is a low contrast image\n",
      "  imsave(os.path.join(os.getcwd(), outdir + '/' + str(pltiter) + '_rooms_pred.png'), img_as_float(lr))\n",
      "Lossy conversion from float64 to uint8. Range [0, 1]. Convert image to uint8 prior to saving to suppress this warning.\n",
      "Clipping input data to the valid range for imshow with RGB data ([0..1] for floats or [0..255] for integers).\n",
      "Lossy conversion from float32 to uint8. Range [6.0, 255.0]. Convert image to uint8 prior to saving to suppress this warning.\n",
      "Lossy conversion from float32 to uint8. Range [0.0, 2.0]. Convert image to uint8 prior to saving to suppress this warning.\n",
      "Lossy conversion from float64 to uint8. Range [0, 1]. Convert image to uint8 prior to saving to suppress this warning.\n",
      "Clipping input data to the valid range for imshow with RGB data ([0..1] for floats or [0..255] for integers).\n",
      "Lossy conversion from float32 to uint8. Range [0.0, 255.0]. Convert image to uint8 prior to saving to suppress this warning.\n",
      "Lossy conversion from float32 to uint8. Range [0.0, 2.0]. Convert image to uint8 prior to saving to suppress this warning.\n",
      "Lossy conversion from float64 to uint8. Range [0, 1]. Convert image to uint8 prior to saving to suppress this warning.\n",
      "Clipping input data to the valid range for imshow with RGB data ([0..1] for floats or [0..255] for integers).\n"
     ]
    },
    {
     "name": "stdout",
     "output_type": "stream",
     "text": [
      "[INFO] Epoch 30 loss tf.Tensor(7.778647, shape=(), dtype=float32) roomTypeLoss: tf.Tensor(3.408841, shape=(), dtype=float32) roomBoundLosstf.Tensor(12.148453, shape=(), dtype=float32)\n"
     ]
    },
    {
     "name": "stderr",
     "output_type": "stream",
     "text": [
      "Lossy conversion from float32 to uint8. Range [0.0, 253.0]. Convert image to uint8 prior to saving to suppress this warning.\n",
      "/d2/studies/TF2DeepFloorplan/train.py:95: UserWarning: /d2/studies/TF2DeepFloorplan/./outJan11_TFR4/45_rooms.png is a low contrast image\n",
      "  imsave(os.path.join(os.getcwd(), outdir + '/' + str(pltiter) + '_rooms.png'), r)\n",
      "Lossy conversion from float32 to uint8. Range [0.0, 2.0]. Convert image to uint8 prior to saving to suppress this warning.\n",
      "/d2/studies/TF2DeepFloorplan/train.py:99: UserWarning: /d2/studies/TF2DeepFloorplan/./outJan11_TFR4/45_rooms_pred.png is a low contrast image\n",
      "  imsave(os.path.join(os.getcwd(), outdir + '/' + str(pltiter) + '_rooms_pred.png'), img_as_float(lr))\n",
      "Lossy conversion from float64 to uint8. Range [0, 1]. Convert image to uint8 prior to saving to suppress this warning.\n",
      "Clipping input data to the valid range for imshow with RGB data ([0..1] for floats or [0..255] for integers).\n",
      "Lossy conversion from float32 to uint8. Range [27.0, 255.0]. Convert image to uint8 prior to saving to suppress this warning.\n",
      "Lossy conversion from float32 to uint8. Range [0.0, 2.0]. Convert image to uint8 prior to saving to suppress this warning.\n",
      "Lossy conversion from float64 to uint8. Range [0, 1]. Convert image to uint8 prior to saving to suppress this warning.\n",
      "Clipping input data to the valid range for imshow with RGB data ([0..1] for floats or [0..255] for integers).\n",
      "Lossy conversion from float32 to uint8. Range [0.0, 255.0]. Convert image to uint8 prior to saving to suppress this warning.\n",
      "/d2/studies/TF2DeepFloorplan/train.py:95: UserWarning: /d2/studies/TF2DeepFloorplan/./outJan11_TFR4/31850325_rooms.png is a low contrast image\n",
      "  imsave(os.path.join(os.getcwd(), outdir + '/' + str(pltiter) + '_rooms.png'), r)\n",
      "Lossy conversion from float32 to uint8. Range [0.0, 2.0]. Convert image to uint8 prior to saving to suppress this warning.\n",
      "/d2/studies/TF2DeepFloorplan/train.py:99: UserWarning: /d2/studies/TF2DeepFloorplan/./outJan11_TFR4/31850325_rooms_pred.png is a low contrast image\n",
      "  imsave(os.path.join(os.getcwd(), outdir + '/' + str(pltiter) + '_rooms_pred.png'), img_as_float(lr))\n",
      "Lossy conversion from float64 to uint8. Range [0, 1]. Convert image to uint8 prior to saving to suppress this warning.\n",
      "Clipping input data to the valid range for imshow with RGB data ([0..1] for floats or [0..255] for integers).\n",
      "Lossy conversion from float32 to uint8. Range [0.0, 255.0]. Convert image to uint8 prior to saving to suppress this warning.\n",
      "Lossy conversion from float32 to uint8. Range [0.0, 2.0]. Convert image to uint8 prior to saving to suppress this warning.\n",
      "Lossy conversion from float64 to uint8. Range [0, 1]. Convert image to uint8 prior to saving to suppress this warning.\n",
      "Clipping input data to the valid range for imshow with RGB data ([0..1] for floats or [0..255] for integers).\n"
     ]
    },
    {
     "name": "stdout",
     "output_type": "stream",
     "text": [
      "[INFO] Epoch 31 loss tf.Tensor(8.403356, shape=(), dtype=float32) roomTypeLoss: tf.Tensor(4.926825, shape=(), dtype=float32) roomBoundLosstf.Tensor(11.879887, shape=(), dtype=float32)\n"
     ]
    },
    {
     "name": "stderr",
     "output_type": "stream",
     "text": [
      "Lossy conversion from float32 to uint8. Range [0.0, 255.0]. Convert image to uint8 prior to saving to suppress this warning.\n",
      "Lossy conversion from float32 to uint8. Range [0.0, 2.0]. Convert image to uint8 prior to saving to suppress this warning.\n",
      "Lossy conversion from float64 to uint8. Range [0, 1]. Convert image to uint8 prior to saving to suppress this warning.\n",
      "Clipping input data to the valid range for imshow with RGB data ([0..1] for floats or [0..255] for integers).\n",
      "Lossy conversion from float32 to uint8. Range [0.0, 255.0]. Convert image to uint8 prior to saving to suppress this warning.\n",
      "/d2/studies/TF2DeepFloorplan/train.py:95: UserWarning: /d2/studies/TF2DeepFloorplan/./outJan11_TFR4/31882362_rooms.png is a low contrast image\n",
      "  imsave(os.path.join(os.getcwd(), outdir + '/' + str(pltiter) + '_rooms.png'), r)\n",
      "Lossy conversion from float32 to uint8. Range [0.0, 2.0]. Convert image to uint8 prior to saving to suppress this warning.\n",
      "/d2/studies/TF2DeepFloorplan/train.py:99: UserWarning: /d2/studies/TF2DeepFloorplan/./outJan11_TFR4/31882362_rooms_pred.png is a low contrast image\n",
      "  imsave(os.path.join(os.getcwd(), outdir + '/' + str(pltiter) + '_rooms_pred.png'), img_as_float(lr))\n",
      "Lossy conversion from float64 to uint8. Range [0, 1]. Convert image to uint8 prior to saving to suppress this warning.\n",
      "Clipping input data to the valid range for imshow with RGB data ([0..1] for floats or [0..255] for integers).\n",
      "Lossy conversion from float32 to uint8. Range [0.0, 255.0]. Convert image to uint8 prior to saving to suppress this warning.\n",
      "/d2/studies/TF2DeepFloorplan/train.py:95: UserWarning: /d2/studies/TF2DeepFloorplan/./outJan11_TFR4/45743284_rooms.png is a low contrast image\n",
      "  imsave(os.path.join(os.getcwd(), outdir + '/' + str(pltiter) + '_rooms.png'), r)\n",
      "Lossy conversion from float32 to uint8. Range [0.0, 2.0]. Convert image to uint8 prior to saving to suppress this warning.\n",
      "/d2/studies/TF2DeepFloorplan/train.py:99: UserWarning: /d2/studies/TF2DeepFloorplan/./outJan11_TFR4/45743284_rooms_pred.png is a low contrast image\n",
      "  imsave(os.path.join(os.getcwd(), outdir + '/' + str(pltiter) + '_rooms_pred.png'), img_as_float(lr))\n",
      "Lossy conversion from float64 to uint8. Range [0, 1]. Convert image to uint8 prior to saving to suppress this warning.\n",
      "Clipping input data to the valid range for imshow with RGB data ([0..1] for floats or [0..255] for integers).\n",
      "Lossy conversion from float32 to uint8. Range [0.0, 255.0]. Convert image to uint8 prior to saving to suppress this warning.\n",
      "Lossy conversion from float32 to uint8. Range [0.0, 2.0]. Convert image to uint8 prior to saving to suppress this warning.\n",
      "Lossy conversion from float64 to uint8. Range [0, 1]. Convert image to uint8 prior to saving to suppress this warning.\n",
      "Clipping input data to the valid range for imshow with RGB data ([0..1] for floats or [0..255] for integers).\n"
     ]
    },
    {
     "name": "stdout",
     "output_type": "stream",
     "text": [
      "[INFO] Epoch 32 loss tf.Tensor(7.8644295, shape=(), dtype=float32) roomTypeLoss: tf.Tensor(3.896484, shape=(), dtype=float32) roomBoundLosstf.Tensor(11.832375, shape=(), dtype=float32)\n"
     ]
    },
    {
     "name": "stderr",
     "output_type": "stream",
     "text": [
      "Lossy conversion from float32 to uint8. Range [0.0, 255.0]. Convert image to uint8 prior to saving to suppress this warning.\n",
      "/d2/studies/TF2DeepFloorplan/train.py:95: UserWarning: /d2/studies/TF2DeepFloorplan/./outJan11_TFR4/31872336_rooms.png is a low contrast image\n",
      "  imsave(os.path.join(os.getcwd(), outdir + '/' + str(pltiter) + '_rooms.png'), r)\n",
      "Lossy conversion from float32 to uint8. Range [0.0, 2.0]. Convert image to uint8 prior to saving to suppress this warning.\n",
      "/d2/studies/TF2DeepFloorplan/train.py:99: UserWarning: /d2/studies/TF2DeepFloorplan/./outJan11_TFR4/31872336_rooms_pred.png is a low contrast image\n",
      "  imsave(os.path.join(os.getcwd(), outdir + '/' + str(pltiter) + '_rooms_pred.png'), img_as_float(lr))\n",
      "Lossy conversion from float64 to uint8. Range [0, 1]. Convert image to uint8 prior to saving to suppress this warning.\n",
      "Clipping input data to the valid range for imshow with RGB data ([0..1] for floats or [0..255] for integers).\n",
      "Lossy conversion from float32 to uint8. Range [0.0, 240.0]. Convert image to uint8 prior to saving to suppress this warning.\n",
      "Lossy conversion from float32 to uint8. Range [0.0, 2.0]. Convert image to uint8 prior to saving to suppress this warning.\n",
      "Lossy conversion from float64 to uint8. Range [0, 1]. Convert image to uint8 prior to saving to suppress this warning.\n",
      "Clipping input data to the valid range for imshow with RGB data ([0..1] for floats or [0..255] for integers).\n",
      "Lossy conversion from float32 to uint8. Range [0.0, 255.0]. Convert image to uint8 prior to saving to suppress this warning.\n",
      "/d2/studies/TF2DeepFloorplan/train.py:95: UserWarning: /d2/studies/TF2DeepFloorplan/./outJan11_TFR4/45777694_rooms.png is a low contrast image\n",
      "  imsave(os.path.join(os.getcwd(), outdir + '/' + str(pltiter) + '_rooms.png'), r)\n",
      "Lossy conversion from float32 to uint8. Range [0.0, 2.0]. Convert image to uint8 prior to saving to suppress this warning.\n",
      "/d2/studies/TF2DeepFloorplan/train.py:99: UserWarning: /d2/studies/TF2DeepFloorplan/./outJan11_TFR4/45777694_rooms_pred.png is a low contrast image\n",
      "  imsave(os.path.join(os.getcwd(), outdir + '/' + str(pltiter) + '_rooms_pred.png'), img_as_float(lr))\n",
      "Lossy conversion from float64 to uint8. Range [0, 1]. Convert image to uint8 prior to saving to suppress this warning.\n",
      "Clipping input data to the valid range for imshow with RGB data ([0..1] for floats or [0..255] for integers).\n"
     ]
    },
    {
     "name": "stdout",
     "output_type": "stream",
     "text": [
      "[INFO] Epoch 33 loss tf.Tensor(8.740794, shape=(), dtype=float32) roomTypeLoss: tf.Tensor(3.8860774, shape=(), dtype=float32) roomBoundLosstf.Tensor(13.595511, shape=(), dtype=float32)\n"
     ]
    },
    {
     "name": "stderr",
     "output_type": "stream",
     "text": [
      "Lossy conversion from float32 to uint8. Range [0.0, 255.0]. Convert image to uint8 prior to saving to suppress this warning.\n",
      "Lossy conversion from float32 to uint8. Range [0.0, 2.0]. Convert image to uint8 prior to saving to suppress this warning.\n",
      "Lossy conversion from float64 to uint8. Range [0, 1]. Convert image to uint8 prior to saving to suppress this warning.\n",
      "Clipping input data to the valid range for imshow with RGB data ([0..1] for floats or [0..255] for integers).\n",
      "Lossy conversion from float32 to uint8. Range [0.0, 255.0]. Convert image to uint8 prior to saving to suppress this warning.\n",
      "Lossy conversion from float32 to uint8. Range [0.0, 2.0]. Convert image to uint8 prior to saving to suppress this warning.\n",
      "Lossy conversion from float64 to uint8. Range [0, 1]. Convert image to uint8 prior to saving to suppress this warning.\n",
      "Clipping input data to the valid range for imshow with RGB data ([0..1] for floats or [0..255] for integers).\n",
      "Lossy conversion from float32 to uint8. Range [0.0, 255.0]. Convert image to uint8 prior to saving to suppress this warning.\n",
      "Lossy conversion from float32 to uint8. Range [0.0, 2.0]. Convert image to uint8 prior to saving to suppress this warning.\n",
      "Lossy conversion from float64 to uint8. Range [0, 1]. Convert image to uint8 prior to saving to suppress this warning.\n",
      "Clipping input data to the valid range for imshow with RGB data ([0..1] for floats or [0..255] for integers).\n",
      "Lossy conversion from float32 to uint8. Range [0.0, 255.0]. Convert image to uint8 prior to saving to suppress this warning.\n",
      "Lossy conversion from float32 to uint8. Range [0.0, 2.0]. Convert image to uint8 prior to saving to suppress this warning.\n",
      "Lossy conversion from float64 to uint8. Range [0, 1]. Convert image to uint8 prior to saving to suppress this warning.\n",
      "Clipping input data to the valid range for imshow with RGB data ([0..1] for floats or [0..255] for integers).\n"
     ]
    },
    {
     "name": "stdout",
     "output_type": "stream",
     "text": [
      "[INFO] Epoch 34 loss tf.Tensor(7.7050743, shape=(), dtype=float32) roomTypeLoss: tf.Tensor(3.9235508, shape=(), dtype=float32) roomBoundLosstf.Tensor(11.486598, shape=(), dtype=float32)\n"
     ]
    },
    {
     "name": "stderr",
     "output_type": "stream",
     "text": [
      "Lossy conversion from float32 to uint8. Range [0.0, 255.0]. Convert image to uint8 prior to saving to suppress this warning.\n",
      "Lossy conversion from float32 to uint8. Range [0.0, 2.0]. Convert image to uint8 prior to saving to suppress this warning.\n",
      "Lossy conversion from float64 to uint8. Range [0, 1]. Convert image to uint8 prior to saving to suppress this warning.\n",
      "Clipping input data to the valid range for imshow with RGB data ([0..1] for floats or [0..255] for integers).\n",
      "Lossy conversion from float32 to uint8. Range [0.0, 255.0]. Convert image to uint8 prior to saving to suppress this warning.\n",
      "/d2/studies/TF2DeepFloorplan/train.py:95: UserWarning: /d2/studies/TF2DeepFloorplan/./outJan11_TFR4/45720007_rooms.png is a low contrast image\n",
      "  imsave(os.path.join(os.getcwd(), outdir + '/' + str(pltiter) + '_rooms.png'), r)\n",
      "Lossy conversion from float32 to uint8. Range [0.0, 2.0]. Convert image to uint8 prior to saving to suppress this warning.\n",
      "/d2/studies/TF2DeepFloorplan/train.py:99: UserWarning: /d2/studies/TF2DeepFloorplan/./outJan11_TFR4/45720007_rooms_pred.png is a low contrast image\n",
      "  imsave(os.path.join(os.getcwd(), outdir + '/' + str(pltiter) + '_rooms_pred.png'), img_as_float(lr))\n",
      "Lossy conversion from float64 to uint8. Range [0, 1]. Convert image to uint8 prior to saving to suppress this warning.\n",
      "Clipping input data to the valid range for imshow with RGB data ([0..1] for floats or [0..255] for integers).\n",
      "Lossy conversion from float32 to uint8. Range [0.0, 255.0]. Convert image to uint8 prior to saving to suppress this warning.\n",
      "/d2/studies/TF2DeepFloorplan/train.py:95: UserWarning: /d2/studies/TF2DeepFloorplan/./outJan11_TFR4/45756454_rooms.png is a low contrast image\n",
      "  imsave(os.path.join(os.getcwd(), outdir + '/' + str(pltiter) + '_rooms.png'), r)\n",
      "Lossy conversion from float32 to uint8. Range [0.0, 2.0]. Convert image to uint8 prior to saving to suppress this warning.\n",
      "/d2/studies/TF2DeepFloorplan/train.py:99: UserWarning: /d2/studies/TF2DeepFloorplan/./outJan11_TFR4/45756454_rooms_pred.png is a low contrast image\n",
      "  imsave(os.path.join(os.getcwd(), outdir + '/' + str(pltiter) + '_rooms_pred.png'), img_as_float(lr))\n",
      "Lossy conversion from float64 to uint8. Range [0, 1]. Convert image to uint8 prior to saving to suppress this warning.\n",
      "Clipping input data to the valid range for imshow with RGB data ([0..1] for floats or [0..255] for integers).\n"
     ]
    },
    {
     "name": "stdout",
     "output_type": "stream",
     "text": [
      "[INFO] Epoch 35 loss tf.Tensor(8.213336, shape=(), dtype=float32) roomTypeLoss: tf.Tensor(3.761243, shape=(), dtype=float32) roomBoundLosstf.Tensor(12.665429, shape=(), dtype=float32)\n"
     ]
    },
    {
     "name": "stderr",
     "output_type": "stream",
     "text": [
      "Lossy conversion from float32 to uint8. Range [0.0, 255.0]. Convert image to uint8 prior to saving to suppress this warning.\n",
      "Lossy conversion from float32 to uint8. Range [0.0, 2.0]. Convert image to uint8 prior to saving to suppress this warning.\n",
      "Lossy conversion from float64 to uint8. Range [0, 1]. Convert image to uint8 prior to saving to suppress this warning.\n",
      "Clipping input data to the valid range for imshow with RGB data ([0..1] for floats or [0..255] for integers).\n",
      "Lossy conversion from float32 to uint8. Range [0.0, 255.0]. Convert image to uint8 prior to saving to suppress this warning.\n",
      "Lossy conversion from float32 to uint8. Range [0.0, 2.0]. Convert image to uint8 prior to saving to suppress this warning.\n",
      "Lossy conversion from float64 to uint8. Range [0, 1]. Convert image to uint8 prior to saving to suppress this warning.\n",
      "Clipping input data to the valid range for imshow with RGB data ([0..1] for floats or [0..255] for integers).\n",
      "Lossy conversion from float32 to uint8. Range [0.0, 255.0]. Convert image to uint8 prior to saving to suppress this warning.\n",
      "Lossy conversion from float32 to uint8. Range [0.0, 2.0]. Convert image to uint8 prior to saving to suppress this warning.\n",
      "Lossy conversion from float64 to uint8. Range [0, 1]. Convert image to uint8 prior to saving to suppress this warning.\n",
      "Clipping input data to the valid range for imshow with RGB data ([0..1] for floats or [0..255] for integers).\n",
      "Lossy conversion from float32 to uint8. Range [0.0, 255.0]. Convert image to uint8 prior to saving to suppress this warning.\n",
      "Lossy conversion from float32 to uint8. Range [0.0, 2.0]. Convert image to uint8 prior to saving to suppress this warning.\n",
      "Lossy conversion from float64 to uint8. Range [0, 1]. Convert image to uint8 prior to saving to suppress this warning.\n",
      "Clipping input data to the valid range for imshow with RGB data ([0..1] for floats or [0..255] for integers).\n"
     ]
    },
    {
     "name": "stdout",
     "output_type": "stream",
     "text": [
      "INFO:tensorflow:Assets written to: ./log/Jan11_TFR4/save/assets\n",
      "[INFO] Saving Model\n",
      "[INFO] Epoch 36 loss tf.Tensor(4.1854773, shape=(), dtype=float32) roomTypeLoss: tf.Tensor(2.8961868, shape=(), dtype=float32) roomBoundLosstf.Tensor(5.4747677, shape=(), dtype=float32)\n"
     ]
    },
    {
     "name": "stderr",
     "output_type": "stream",
     "text": [
      "Lossy conversion from float32 to uint8. Range [0.0, 255.0]. Convert image to uint8 prior to saving to suppress this warning.\n",
      "Lossy conversion from float32 to uint8. Range [0.0, 2.0]. Convert image to uint8 prior to saving to suppress this warning.\n",
      "Lossy conversion from float64 to uint8. Range [0, 1]. Convert image to uint8 prior to saving to suppress this warning.\n",
      "Clipping input data to the valid range for imshow with RGB data ([0..1] for floats or [0..255] for integers).\n",
      "Lossy conversion from float32 to uint8. Range [0.0, 255.0]. Convert image to uint8 prior to saving to suppress this warning.\n",
      "Lossy conversion from float32 to uint8. Range [0.0, 2.0]. Convert image to uint8 prior to saving to suppress this warning.\n",
      "Lossy conversion from float64 to uint8. Range [0, 1]. Convert image to uint8 prior to saving to suppress this warning.\n",
      "Clipping input data to the valid range for imshow with RGB data ([0..1] for floats or [0..255] for integers).\n",
      "Lossy conversion from float32 to uint8. Range [0.0, 255.0]. Convert image to uint8 prior to saving to suppress this warning.\n",
      "/d2/studies/TF2DeepFloorplan/train.py:95: UserWarning: /d2/studies/TF2DeepFloorplan/./outJan11_TFR4/45740968_rooms.png is a low contrast image\n",
      "  imsave(os.path.join(os.getcwd(), outdir + '/' + str(pltiter) + '_rooms.png'), r)\n",
      "Lossy conversion from float32 to uint8. Range [0.0, 2.0]. Convert image to uint8 prior to saving to suppress this warning.\n",
      "/d2/studies/TF2DeepFloorplan/train.py:99: UserWarning: /d2/studies/TF2DeepFloorplan/./outJan11_TFR4/45740968_rooms_pred.png is a low contrast image\n",
      "  imsave(os.path.join(os.getcwd(), outdir + '/' + str(pltiter) + '_rooms_pred.png'), img_as_float(lr))\n",
      "Lossy conversion from float64 to uint8. Range [0, 1]. Convert image to uint8 prior to saving to suppress this warning.\n",
      "Clipping input data to the valid range for imshow with RGB data ([0..1] for floats or [0..255] for integers).\n",
      "Lossy conversion from float32 to uint8. Range [0.0, 255.0]. Convert image to uint8 prior to saving to suppress this warning.\n",
      "Lossy conversion from float32 to uint8. Range [0.0, 2.0]. Convert image to uint8 prior to saving to suppress this warning.\n",
      "Lossy conversion from float64 to uint8. Range [0, 1]. Convert image to uint8 prior to saving to suppress this warning.\n",
      "Clipping input data to the valid range for imshow with RGB data ([0..1] for floats or [0..255] for integers).\n"
     ]
    },
    {
     "name": "stdout",
     "output_type": "stream",
     "text": [
      "[INFO] Epoch 37 loss tf.Tensor(9.825096, shape=(), dtype=float32) roomTypeLoss: tf.Tensor(4.665118, shape=(), dtype=float32) roomBoundLosstf.Tensor(14.985074, shape=(), dtype=float32)\n"
     ]
    },
    {
     "name": "stderr",
     "output_type": "stream",
     "text": [
      "Lossy conversion from float32 to uint8. Range [0.0, 253.0]. Convert image to uint8 prior to saving to suppress this warning.\n",
      "/d2/studies/TF2DeepFloorplan/train.py:95: UserWarning: /d2/studies/TF2DeepFloorplan/./outJan11_TFR4/39_rooms.png is a low contrast image\n",
      "  imsave(os.path.join(os.getcwd(), outdir + '/' + str(pltiter) + '_rooms.png'), r)\n",
      "Lossy conversion from float32 to uint8. Range [0.0, 2.0]. Convert image to uint8 prior to saving to suppress this warning.\n",
      "/d2/studies/TF2DeepFloorplan/train.py:99: UserWarning: /d2/studies/TF2DeepFloorplan/./outJan11_TFR4/39_rooms_pred.png is a low contrast image\n",
      "  imsave(os.path.join(os.getcwd(), outdir + '/' + str(pltiter) + '_rooms_pred.png'), img_as_float(lr))\n",
      "Lossy conversion from float64 to uint8. Range [0, 1]. Convert image to uint8 prior to saving to suppress this warning.\n",
      "Clipping input data to the valid range for imshow with RGB data ([0..1] for floats or [0..255] for integers).\n",
      "Lossy conversion from float32 to uint8. Range [0.0, 255.0]. Convert image to uint8 prior to saving to suppress this warning.\n",
      "Lossy conversion from float32 to uint8. Range [0.0, 2.0]. Convert image to uint8 prior to saving to suppress this warning.\n",
      "Lossy conversion from float64 to uint8. Range [0, 1]. Convert image to uint8 prior to saving to suppress this warning.\n",
      "Clipping input data to the valid range for imshow with RGB data ([0..1] for floats or [0..255] for integers).\n",
      "Lossy conversion from float32 to uint8. Range [0.0, 255.0]. Convert image to uint8 prior to saving to suppress this warning.\n",
      "/d2/studies/TF2DeepFloorplan/train.py:95: UserWarning: /d2/studies/TF2DeepFloorplan/./outJan11_TFR4/31450071_rooms.png is a low contrast image\n",
      "  imsave(os.path.join(os.getcwd(), outdir + '/' + str(pltiter) + '_rooms.png'), r)\n",
      "Lossy conversion from float32 to uint8. Range [0.0, 2.0]. Convert image to uint8 prior to saving to suppress this warning.\n",
      "/d2/studies/TF2DeepFloorplan/train.py:99: UserWarning: /d2/studies/TF2DeepFloorplan/./outJan11_TFR4/31450071_rooms_pred.png is a low contrast image\n",
      "  imsave(os.path.join(os.getcwd(), outdir + '/' + str(pltiter) + '_rooms_pred.png'), img_as_float(lr))\n",
      "Lossy conversion from float64 to uint8. Range [0, 1]. Convert image to uint8 prior to saving to suppress this warning.\n",
      "Clipping input data to the valid range for imshow with RGB data ([0..1] for floats or [0..255] for integers).\n"
     ]
    },
    {
     "name": "stdout",
     "output_type": "stream",
     "text": [
      "[INFO] Epoch 38 loss tf.Tensor(4.9082737, shape=(), dtype=float32) roomTypeLoss: tf.Tensor(1.7825923, shape=(), dtype=float32) roomBoundLosstf.Tensor(8.033955, shape=(), dtype=float32)\n"
     ]
    },
    {
     "name": "stderr",
     "output_type": "stream",
     "text": [
      "Lossy conversion from float32 to uint8. Range [0.0, 255.0]. Convert image to uint8 prior to saving to suppress this warning.\n",
      "Lossy conversion from float32 to uint8. Range [0.0, 2.0]. Convert image to uint8 prior to saving to suppress this warning.\n",
      "Lossy conversion from float64 to uint8. Range [0, 1]. Convert image to uint8 prior to saving to suppress this warning.\n",
      "Clipping input data to the valid range for imshow with RGB data ([0..1] for floats or [0..255] for integers).\n",
      "Lossy conversion from float32 to uint8. Range [0.0, 255.0]. Convert image to uint8 prior to saving to suppress this warning.\n",
      "/d2/studies/TF2DeepFloorplan/train.py:95: UserWarning: /d2/studies/TF2DeepFloorplan/./outJan11_TFR4/31852926_rooms.png is a low contrast image\n",
      "  imsave(os.path.join(os.getcwd(), outdir + '/' + str(pltiter) + '_rooms.png'), r)\n",
      "Lossy conversion from float32 to uint8. Range [0.0, 2.0]. Convert image to uint8 prior to saving to suppress this warning.\n",
      "/d2/studies/TF2DeepFloorplan/train.py:99: UserWarning: /d2/studies/TF2DeepFloorplan/./outJan11_TFR4/31852926_rooms_pred.png is a low contrast image\n",
      "  imsave(os.path.join(os.getcwd(), outdir + '/' + str(pltiter) + '_rooms_pred.png'), img_as_float(lr))\n",
      "Lossy conversion from float64 to uint8. Range [0, 1]. Convert image to uint8 prior to saving to suppress this warning.\n",
      "Clipping input data to the valid range for imshow with RGB data ([0..1] for floats or [0..255] for integers).\n",
      "Lossy conversion from float32 to uint8. Range [0.0, 255.0]. Convert image to uint8 prior to saving to suppress this warning.\n",
      "Lossy conversion from float32 to uint8. Range [0.0, 2.0]. Convert image to uint8 prior to saving to suppress this warning.\n",
      "Lossy conversion from float64 to uint8. Range [0, 1]. Convert image to uint8 prior to saving to suppress this warning.\n",
      "Clipping input data to the valid range for imshow with RGB data ([0..1] for floats or [0..255] for integers).\n",
      "Lossy conversion from float32 to uint8. Range [0.0, 255.0]. Convert image to uint8 prior to saving to suppress this warning.\n",
      "/d2/studies/TF2DeepFloorplan/train.py:95: UserWarning: /d2/studies/TF2DeepFloorplan/./outJan11_TFR4/45724468_rooms.png is a low contrast image\n",
      "  imsave(os.path.join(os.getcwd(), outdir + '/' + str(pltiter) + '_rooms.png'), r)\n",
      "Lossy conversion from float32 to uint8. Range [0.0, 2.0]. Convert image to uint8 prior to saving to suppress this warning.\n",
      "/d2/studies/TF2DeepFloorplan/train.py:99: UserWarning: /d2/studies/TF2DeepFloorplan/./outJan11_TFR4/45724468_rooms_pred.png is a low contrast image\n",
      "  imsave(os.path.join(os.getcwd(), outdir + '/' + str(pltiter) + '_rooms_pred.png'), img_as_float(lr))\n",
      "Lossy conversion from float64 to uint8. Range [0, 1]. Convert image to uint8 prior to saving to suppress this warning.\n",
      "Clipping input data to the valid range for imshow with RGB data ([0..1] for floats or [0..255] for integers).\n"
     ]
    },
    {
     "name": "stdout",
     "output_type": "stream",
     "text": [
      "[INFO] Epoch 39 loss tf.Tensor(7.631119, shape=(), dtype=float32) roomTypeLoss: tf.Tensor(3.408841, shape=(), dtype=float32) roomBoundLosstf.Tensor(11.853396, shape=(), dtype=float32)\n"
     ]
    },
    {
     "name": "stderr",
     "output_type": "stream",
     "text": [
      "Lossy conversion from float32 to uint8. Range [0.0, 255.0]. Convert image to uint8 prior to saving to suppress this warning.\n",
      "/d2/studies/TF2DeepFloorplan/train.py:95: UserWarning: /d2/studies/TF2DeepFloorplan/./outJan11_TFR4/45725026_rooms.png is a low contrast image\n",
      "  imsave(os.path.join(os.getcwd(), outdir + '/' + str(pltiter) + '_rooms.png'), r)\n",
      "Lossy conversion from float32 to uint8. Range [0.0, 2.0]. Convert image to uint8 prior to saving to suppress this warning.\n",
      "/d2/studies/TF2DeepFloorplan/train.py:99: UserWarning: /d2/studies/TF2DeepFloorplan/./outJan11_TFR4/45725026_rooms_pred.png is a low contrast image\n",
      "  imsave(os.path.join(os.getcwd(), outdir + '/' + str(pltiter) + '_rooms_pred.png'), img_as_float(lr))\n",
      "Lossy conversion from float64 to uint8. Range [0, 1]. Convert image to uint8 prior to saving to suppress this warning.\n",
      "Clipping input data to the valid range for imshow with RGB data ([0..1] for floats or [0..255] for integers).\n",
      "Lossy conversion from float32 to uint8. Range [0.0, 255.0]. Convert image to uint8 prior to saving to suppress this warning.\n",
      "Lossy conversion from float32 to uint8. Range [0.0, 2.0]. Convert image to uint8 prior to saving to suppress this warning.\n",
      "Lossy conversion from float64 to uint8. Range [0, 1]. Convert image to uint8 prior to saving to suppress this warning.\n",
      "Clipping input data to the valid range for imshow with RGB data ([0..1] for floats or [0..255] for integers).\n",
      "Lossy conversion from float32 to uint8. Range [0.0, 255.0]. Convert image to uint8 prior to saving to suppress this warning.\n",
      "/d2/studies/TF2DeepFloorplan/train.py:95: UserWarning: /d2/studies/TF2DeepFloorplan/./outJan11_TFR4/31857804_rooms.png is a low contrast image\n",
      "  imsave(os.path.join(os.getcwd(), outdir + '/' + str(pltiter) + '_rooms.png'), r)\n",
      "Lossy conversion from float32 to uint8. Range [0.0, 2.0]. Convert image to uint8 prior to saving to suppress this warning.\n",
      "/d2/studies/TF2DeepFloorplan/train.py:99: UserWarning: /d2/studies/TF2DeepFloorplan/./outJan11_TFR4/31857804_rooms_pred.png is a low contrast image\n",
      "  imsave(os.path.join(os.getcwd(), outdir + '/' + str(pltiter) + '_rooms_pred.png'), img_as_float(lr))\n",
      "Lossy conversion from float64 to uint8. Range [0, 1]. Convert image to uint8 prior to saving to suppress this warning.\n",
      "Clipping input data to the valid range for imshow with RGB data ([0..1] for floats or [0..255] for integers).\n"
     ]
    },
    {
     "name": "stdout",
     "output_type": "stream",
     "text": [
      "[INFO] Epoch 40 loss tf.Tensor(8.069447, shape=(), dtype=float32) roomTypeLoss: tf.Tensor(4.200677, shape=(), dtype=float32) roomBoundLosstf.Tensor(11.938216, shape=(), dtype=float32)\n"
     ]
    },
    {
     "name": "stderr",
     "output_type": "stream",
     "text": [
      "Lossy conversion from float32 to uint8. Range [0.0, 255.0]. Convert image to uint8 prior to saving to suppress this warning.\n",
      "Lossy conversion from float32 to uint8. Range [0.0, 2.0]. Convert image to uint8 prior to saving to suppress this warning.\n",
      "Lossy conversion from float64 to uint8. Range [0, 1]. Convert image to uint8 prior to saving to suppress this warning.\n",
      "Clipping input data to the valid range for imshow with RGB data ([0..1] for floats or [0..255] for integers).\n",
      "Lossy conversion from float32 to uint8. Range [3.0, 255.0]. Convert image to uint8 prior to saving to suppress this warning.\n",
      "/d2/studies/TF2DeepFloorplan/train.py:95: UserWarning: /d2/studies/TF2DeepFloorplan/./outJan11_TFR4/45764830_rooms.png is a low contrast image\n",
      "  imsave(os.path.join(os.getcwd(), outdir + '/' + str(pltiter) + '_rooms.png'), r)\n",
      "Lossy conversion from float32 to uint8. Range [0.0, 2.0]. Convert image to uint8 prior to saving to suppress this warning.\n",
      "/d2/studies/TF2DeepFloorplan/train.py:99: UserWarning: /d2/studies/TF2DeepFloorplan/./outJan11_TFR4/45764830_rooms_pred.png is a low contrast image\n",
      "  imsave(os.path.join(os.getcwd(), outdir + '/' + str(pltiter) + '_rooms_pred.png'), img_as_float(lr))\n",
      "Lossy conversion from float64 to uint8. Range [0, 1]. Convert image to uint8 prior to saving to suppress this warning.\n",
      "Clipping input data to the valid range for imshow with RGB data ([0..1] for floats or [0..255] for integers).\n",
      "Lossy conversion from float32 to uint8. Range [0.0, 255.0]. Convert image to uint8 prior to saving to suppress this warning.\n",
      "/d2/studies/TF2DeepFloorplan/train.py:95: UserWarning: /d2/studies/TF2DeepFloorplan/./outJan11_TFR4/44356523_rooms.png is a low contrast image\n",
      "  imsave(os.path.join(os.getcwd(), outdir + '/' + str(pltiter) + '_rooms.png'), r)\n",
      "Lossy conversion from float32 to uint8. Range [0.0, 2.0]. Convert image to uint8 prior to saving to suppress this warning.\n",
      "/d2/studies/TF2DeepFloorplan/train.py:99: UserWarning: /d2/studies/TF2DeepFloorplan/./outJan11_TFR4/44356523_rooms_pred.png is a low contrast image\n",
      "  imsave(os.path.join(os.getcwd(), outdir + '/' + str(pltiter) + '_rooms_pred.png'), img_as_float(lr))\n",
      "Lossy conversion from float64 to uint8. Range [0, 1]. Convert image to uint8 prior to saving to suppress this warning.\n",
      "Clipping input data to the valid range for imshow with RGB data ([0..1] for floats or [0..255] for integers).\n",
      "Lossy conversion from float32 to uint8. Range [0.0, 255.0]. Convert image to uint8 prior to saving to suppress this warning.\n",
      "Lossy conversion from float32 to uint8. Range [0.0, 2.0]. Convert image to uint8 prior to saving to suppress this warning.\n",
      "Lossy conversion from float64 to uint8. Range [0, 1]. Convert image to uint8 prior to saving to suppress this warning.\n",
      "Clipping input data to the valid range for imshow with RGB data ([0..1] for floats or [0..255] for integers).\n"
     ]
    },
    {
     "name": "stdout",
     "output_type": "stream",
     "text": [
      "[INFO] Epoch 41 loss tf.Tensor(6.7503343, shape=(), dtype=float32) roomTypeLoss: tf.Tensor(3.9997416, shape=(), dtype=float32) roomBoundLosstf.Tensor(9.500927, shape=(), dtype=float32)\n"
     ]
    },
    {
     "name": "stderr",
     "output_type": "stream",
     "text": [
      "Lossy conversion from float32 to uint8. Range [0.0, 255.0]. Convert image to uint8 prior to saving to suppress this warning.\n",
      "Lossy conversion from float32 to uint8. Range [0.0, 2.0]. Convert image to uint8 prior to saving to suppress this warning.\n",
      "Lossy conversion from float64 to uint8. Range [0, 1]. Convert image to uint8 prior to saving to suppress this warning.\n",
      "Clipping input data to the valid range for imshow with RGB data ([0..1] for floats or [0..255] for integers).\n",
      "Lossy conversion from float32 to uint8. Range [0.0, 255.0]. Convert image to uint8 prior to saving to suppress this warning.\n",
      "/d2/studies/TF2DeepFloorplan/train.py:95: UserWarning: /d2/studies/TF2DeepFloorplan/./outJan11_TFR4/47325578_rooms.png is a low contrast image\n",
      "  imsave(os.path.join(os.getcwd(), outdir + '/' + str(pltiter) + '_rooms.png'), r)\n",
      "Lossy conversion from float32 to uint8. Range [0.0, 2.0]. Convert image to uint8 prior to saving to suppress this warning.\n",
      "/d2/studies/TF2DeepFloorplan/train.py:99: UserWarning: /d2/studies/TF2DeepFloorplan/./outJan11_TFR4/47325578_rooms_pred.png is a low contrast image\n",
      "  imsave(os.path.join(os.getcwd(), outdir + '/' + str(pltiter) + '_rooms_pred.png'), img_as_float(lr))\n",
      "Lossy conversion from float64 to uint8. Range [0, 1]. Convert image to uint8 prior to saving to suppress this warning.\n",
      "Clipping input data to the valid range for imshow with RGB data ([0..1] for floats or [0..255] for integers).\n",
      "Lossy conversion from float32 to uint8. Range [0.0, 255.0]. Convert image to uint8 prior to saving to suppress this warning.\n",
      "Lossy conversion from float32 to uint8. Range [0.0, 2.0]. Convert image to uint8 prior to saving to suppress this warning.\n",
      "Lossy conversion from float64 to uint8. Range [0, 1]. Convert image to uint8 prior to saving to suppress this warning.\n",
      "Clipping input data to the valid range for imshow with RGB data ([0..1] for floats or [0..255] for integers).\n"
     ]
    },
    {
     "name": "stdout",
     "output_type": "stream",
     "text": [
      "[INFO] Epoch 42 loss tf.Tensor(4.562921, shape=(), dtype=float32) roomTypeLoss: tf.Tensor(2.237224, shape=(), dtype=float32) roomBoundLosstf.Tensor(6.888618, shape=(), dtype=float32)\n"
     ]
    },
    {
     "name": "stderr",
     "output_type": "stream",
     "text": [
      "Lossy conversion from float32 to uint8. Range [0.0, 255.0]. Convert image to uint8 prior to saving to suppress this warning.\n",
      "Lossy conversion from float32 to uint8. Range [0.0, 2.0]. Convert image to uint8 prior to saving to suppress this warning.\n",
      "Lossy conversion from float64 to uint8. Range [0, 1]. Convert image to uint8 prior to saving to suppress this warning.\n",
      "Clipping input data to the valid range for imshow with RGB data ([0..1] for floats or [0..255] for integers).\n",
      "Lossy conversion from float32 to uint8. Range [0.0, 255.0]. Convert image to uint8 prior to saving to suppress this warning.\n",
      "Lossy conversion from float32 to uint8. Range [0.0, 2.0]. Convert image to uint8 prior to saving to suppress this warning.\n",
      "Lossy conversion from float64 to uint8. Range [0, 1]. Convert image to uint8 prior to saving to suppress this warning.\n",
      "Clipping input data to the valid range for imshow with RGB data ([0..1] for floats or [0..255] for integers).\n",
      "Lossy conversion from float32 to uint8. Range [13.0, 255.0]. Convert image to uint8 prior to saving to suppress this warning.\n",
      "Lossy conversion from float32 to uint8. Range [0.0, 2.0]. Convert image to uint8 prior to saving to suppress this warning.\n",
      "Lossy conversion from float64 to uint8. Range [0, 1]. Convert image to uint8 prior to saving to suppress this warning.\n",
      "Clipping input data to the valid range for imshow with RGB data ([0..1] for floats or [0..255] for integers).\n",
      "Lossy conversion from float32 to uint8. Range [0.0, 255.0]. Convert image to uint8 prior to saving to suppress this warning.\n",
      "Lossy conversion from float32 to uint8. Range [0.0, 2.0]. Convert image to uint8 prior to saving to suppress this warning.\n",
      "Lossy conversion from float64 to uint8. Range [0, 1]. Convert image to uint8 prior to saving to suppress this warning.\n",
      "Clipping input data to the valid range for imshow with RGB data ([0..1] for floats or [0..255] for integers).\n"
     ]
    },
    {
     "name": "stdout",
     "output_type": "stream",
     "text": [
      "[INFO] Epoch 43 loss tf.Tensor(6.0255585, shape=(), dtype=float32) roomTypeLoss: tf.Tensor(3.0618014, shape=(), dtype=float32) roomBoundLosstf.Tensor(8.989315, shape=(), dtype=float32)\n"
     ]
    },
    {
     "name": "stderr",
     "output_type": "stream",
     "text": [
      "Lossy conversion from float32 to uint8. Range [0.0, 255.0]. Convert image to uint8 prior to saving to suppress this warning.\n",
      "/d2/studies/TF2DeepFloorplan/train.py:95: UserWarning: /d2/studies/TF2DeepFloorplan/./outJan11_TFR4/31830006_rooms.png is a low contrast image\n",
      "  imsave(os.path.join(os.getcwd(), outdir + '/' + str(pltiter) + '_rooms.png'), r)\n",
      "Lossy conversion from float32 to uint8. Range [0.0, 2.0]. Convert image to uint8 prior to saving to suppress this warning.\n",
      "/d2/studies/TF2DeepFloorplan/train.py:99: UserWarning: /d2/studies/TF2DeepFloorplan/./outJan11_TFR4/31830006_rooms_pred.png is a low contrast image\n",
      "  imsave(os.path.join(os.getcwd(), outdir + '/' + str(pltiter) + '_rooms_pred.png'), img_as_float(lr))\n",
      "Lossy conversion from float64 to uint8. Range [0, 1]. Convert image to uint8 prior to saving to suppress this warning.\n",
      "Clipping input data to the valid range for imshow with RGB data ([0..1] for floats or [0..255] for integers).\n",
      "Lossy conversion from float32 to uint8. Range [0.0, 255.0]. Convert image to uint8 prior to saving to suppress this warning.\n",
      "Lossy conversion from float32 to uint8. Range [0.0, 2.0]. Convert image to uint8 prior to saving to suppress this warning.\n",
      "Lossy conversion from float64 to uint8. Range [0, 1]. Convert image to uint8 prior to saving to suppress this warning.\n",
      "Clipping input data to the valid range for imshow with RGB data ([0..1] for floats or [0..255] for integers).\n",
      "Lossy conversion from float32 to uint8. Range [0.0, 255.0]. Convert image to uint8 prior to saving to suppress this warning.\n",
      "/d2/studies/TF2DeepFloorplan/train.py:95: UserWarning: /d2/studies/TF2DeepFloorplan/./outJan11_TFR4/45352198_rooms.png is a low contrast image\n",
      "  imsave(os.path.join(os.getcwd(), outdir + '/' + str(pltiter) + '_rooms.png'), r)\n",
      "Lossy conversion from float32 to uint8. Range [0.0, 2.0]. Convert image to uint8 prior to saving to suppress this warning.\n",
      "/d2/studies/TF2DeepFloorplan/train.py:99: UserWarning: /d2/studies/TF2DeepFloorplan/./outJan11_TFR4/45352198_rooms_pred.png is a low contrast image\n",
      "  imsave(os.path.join(os.getcwd(), outdir + '/' + str(pltiter) + '_rooms_pred.png'), img_as_float(lr))\n",
      "Lossy conversion from float64 to uint8. Range [0, 1]. Convert image to uint8 prior to saving to suppress this warning.\n",
      "Clipping input data to the valid range for imshow with RGB data ([0..1] for floats or [0..255] for integers).\n",
      "Lossy conversion from float32 to uint8. Range [0.0, 255.0]. Convert image to uint8 prior to saving to suppress this warning.\n",
      "/d2/studies/TF2DeepFloorplan/train.py:95: UserWarning: /d2/studies/TF2DeepFloorplan/./outJan11_TFR4/45775225_rooms.png is a low contrast image\n",
      "  imsave(os.path.join(os.getcwd(), outdir + '/' + str(pltiter) + '_rooms.png'), r)\n",
      "Lossy conversion from float32 to uint8. Range [0.0, 2.0]. Convert image to uint8 prior to saving to suppress this warning.\n",
      "/d2/studies/TF2DeepFloorplan/train.py:99: UserWarning: /d2/studies/TF2DeepFloorplan/./outJan11_TFR4/45775225_rooms_pred.png is a low contrast image\n",
      "  imsave(os.path.join(os.getcwd(), outdir + '/' + str(pltiter) + '_rooms_pred.png'), img_as_float(lr))\n",
      "Lossy conversion from float64 to uint8. Range [0, 1]. Convert image to uint8 prior to saving to suppress this warning.\n",
      "Clipping input data to the valid range for imshow with RGB data ([0..1] for floats or [0..255] for integers).\n"
     ]
    },
    {
     "name": "stdout",
     "output_type": "stream",
     "text": [
      "[INFO] Epoch 44 loss tf.Tensor(5.1513085, shape=(), dtype=float32) roomTypeLoss: tf.Tensor(2.0619192, shape=(), dtype=float32) roomBoundLosstf.Tensor(8.240698, shape=(), dtype=float32)\n"
     ]
    },
    {
     "name": "stderr",
     "output_type": "stream",
     "text": [
      "Lossy conversion from float32 to uint8. Range [0.0, 255.0]. Convert image to uint8 prior to saving to suppress this warning.\n",
      "Lossy conversion from float32 to uint8. Range [0.0, 2.0]. Convert image to uint8 prior to saving to suppress this warning.\n",
      "Lossy conversion from float64 to uint8. Range [0, 1]. Convert image to uint8 prior to saving to suppress this warning.\n",
      "Clipping input data to the valid range for imshow with RGB data ([0..1] for floats or [0..255] for integers).\n",
      "Lossy conversion from float32 to uint8. Range [0.0, 255.0]. Convert image to uint8 prior to saving to suppress this warning.\n",
      "/d2/studies/TF2DeepFloorplan/train.py:95: UserWarning: /d2/studies/TF2DeepFloorplan/./outJan11_TFR4/47464136_rooms.png is a low contrast image\n",
      "  imsave(os.path.join(os.getcwd(), outdir + '/' + str(pltiter) + '_rooms.png'), r)\n",
      "Lossy conversion from float32 to uint8. Range [0.0, 2.0]. Convert image to uint8 prior to saving to suppress this warning.\n",
      "/d2/studies/TF2DeepFloorplan/train.py:99: UserWarning: /d2/studies/TF2DeepFloorplan/./outJan11_TFR4/47464136_rooms_pred.png is a low contrast image\n",
      "  imsave(os.path.join(os.getcwd(), outdir + '/' + str(pltiter) + '_rooms_pred.png'), img_as_float(lr))\n",
      "Lossy conversion from float64 to uint8. Range [0, 1]. Convert image to uint8 prior to saving to suppress this warning.\n",
      "Clipping input data to the valid range for imshow with RGB data ([0..1] for floats or [0..255] for integers).\n",
      "Lossy conversion from float32 to uint8. Range [0.0, 255.0]. Convert image to uint8 prior to saving to suppress this warning.\n",
      "/d2/studies/TF2DeepFloorplan/train.py:95: UserWarning: /d2/studies/TF2DeepFloorplan/./outJan11_TFR4/45714223_rooms.png is a low contrast image\n",
      "  imsave(os.path.join(os.getcwd(), outdir + '/' + str(pltiter) + '_rooms.png'), r)\n",
      "Lossy conversion from float32 to uint8. Range [0.0, 2.0]. Convert image to uint8 prior to saving to suppress this warning.\n",
      "/d2/studies/TF2DeepFloorplan/train.py:99: UserWarning: /d2/studies/TF2DeepFloorplan/./outJan11_TFR4/45714223_rooms_pred.png is a low contrast image\n",
      "  imsave(os.path.join(os.getcwd(), outdir + '/' + str(pltiter) + '_rooms_pred.png'), img_as_float(lr))\n",
      "Lossy conversion from float64 to uint8. Range [0, 1]. Convert image to uint8 prior to saving to suppress this warning.\n",
      "Clipping input data to the valid range for imshow with RGB data ([0..1] for floats or [0..255] for integers).\n"
     ]
    },
    {
     "name": "stdout",
     "output_type": "stream",
     "text": [
      "[INFO] Epoch 45 loss tf.Tensor(8.323625, shape=(), dtype=float32) roomTypeLoss: tf.Tensor(4.711577, shape=(), dtype=float32) roomBoundLosstf.Tensor(11.935672, shape=(), dtype=float32)\n"
     ]
    },
    {
     "name": "stderr",
     "output_type": "stream",
     "text": [
      "Lossy conversion from float32 to uint8. Range [0.0, 255.0]. Convert image to uint8 prior to saving to suppress this warning.\n",
      "Lossy conversion from float32 to uint8. Range [0.0, 2.0]. Convert image to uint8 prior to saving to suppress this warning.\n",
      "Lossy conversion from float64 to uint8. Range [0, 1]. Convert image to uint8 prior to saving to suppress this warning.\n",
      "Clipping input data to the valid range for imshow with RGB data ([0..1] for floats or [0..255] for integers).\n",
      "Lossy conversion from float32 to uint8. Range [0.0, 255.0]. Convert image to uint8 prior to saving to suppress this warning.\n",
      "/d2/studies/TF2DeepFloorplan/train.py:95: UserWarning: /d2/studies/TF2DeepFloorplan/./outJan11_TFR4/45731434_rooms.png is a low contrast image\n",
      "  imsave(os.path.join(os.getcwd(), outdir + '/' + str(pltiter) + '_rooms.png'), r)\n",
      "Lossy conversion from float32 to uint8. Range [0.0, 2.0]. Convert image to uint8 prior to saving to suppress this warning.\n",
      "/d2/studies/TF2DeepFloorplan/train.py:99: UserWarning: /d2/studies/TF2DeepFloorplan/./outJan11_TFR4/45731434_rooms_pred.png is a low contrast image\n",
      "  imsave(os.path.join(os.getcwd(), outdir + '/' + str(pltiter) + '_rooms_pred.png'), img_as_float(lr))\n",
      "Lossy conversion from float64 to uint8. Range [0, 1]. Convert image to uint8 prior to saving to suppress this warning.\n",
      "Clipping input data to the valid range for imshow with RGB data ([0..1] for floats or [0..255] for integers).\n",
      "Lossy conversion from float32 to uint8. Range [0.0, 255.0]. Convert image to uint8 prior to saving to suppress this warning.\n",
      "Lossy conversion from float32 to uint8. Range [0.0, 2.0]. Convert image to uint8 prior to saving to suppress this warning.\n",
      "Lossy conversion from float64 to uint8. Range [0, 1]. Convert image to uint8 prior to saving to suppress this warning.\n",
      "Clipping input data to the valid range for imshow with RGB data ([0..1] for floats or [0..255] for integers).\n",
      "Lossy conversion from float32 to uint8. Range [0.0, 255.0]. Convert image to uint8 prior to saving to suppress this warning.\n",
      "Lossy conversion from float32 to uint8. Range [0.0, 2.0]. Convert image to uint8 prior to saving to suppress this warning.\n",
      "Lossy conversion from float64 to uint8. Range [0, 1]. Convert image to uint8 prior to saving to suppress this warning.\n",
      "Clipping input data to the valid range for imshow with RGB data ([0..1] for floats or [0..255] for integers).\n"
     ]
    },
    {
     "name": "stdout",
     "output_type": "stream",
     "text": [
      "[INFO] Epoch 46 loss tf.Tensor(7.0542917, shape=(), dtype=float32) roomTypeLoss: tf.Tensor(4.9451003, shape=(), dtype=float32) roomBoundLosstf.Tensor(9.163484, shape=(), dtype=float32)\n"
     ]
    },
    {
     "name": "stderr",
     "output_type": "stream",
     "text": [
      "Lossy conversion from float32 to uint8. Range [0.0, 255.0]. Convert image to uint8 prior to saving to suppress this warning.\n",
      "Lossy conversion from float32 to uint8. Range [0.0, 2.0]. Convert image to uint8 prior to saving to suppress this warning.\n",
      "Lossy conversion from float64 to uint8. Range [0, 1]. Convert image to uint8 prior to saving to suppress this warning.\n",
      "Clipping input data to the valid range for imshow with RGB data ([0..1] for floats or [0..255] for integers).\n",
      "Lossy conversion from float32 to uint8. Range [0.0, 255.0]. Convert image to uint8 prior to saving to suppress this warning.\n",
      "/d2/studies/TF2DeepFloorplan/train.py:95: UserWarning: /d2/studies/TF2DeepFloorplan/./outJan11_TFR4/45740521_rooms.png is a low contrast image\n",
      "  imsave(os.path.join(os.getcwd(), outdir + '/' + str(pltiter) + '_rooms.png'), r)\n",
      "Lossy conversion from float32 to uint8. Range [0.0, 2.0]. Convert image to uint8 prior to saving to suppress this warning.\n",
      "/d2/studies/TF2DeepFloorplan/train.py:99: UserWarning: /d2/studies/TF2DeepFloorplan/./outJan11_TFR4/45740521_rooms_pred.png is a low contrast image\n",
      "  imsave(os.path.join(os.getcwd(), outdir + '/' + str(pltiter) + '_rooms_pred.png'), img_as_float(lr))\n",
      "Lossy conversion from float64 to uint8. Range [0, 1]. Convert image to uint8 prior to saving to suppress this warning.\n",
      "Clipping input data to the valid range for imshow with RGB data ([0..1] for floats or [0..255] for integers).\n",
      "Lossy conversion from float32 to uint8. Range [0.0, 255.0]. Convert image to uint8 prior to saving to suppress this warning.\n",
      "Lossy conversion from float32 to uint8. Range [0.0, 2.0]. Convert image to uint8 prior to saving to suppress this warning.\n",
      "Lossy conversion from float64 to uint8. Range [0, 1]. Convert image to uint8 prior to saving to suppress this warning.\n",
      "Clipping input data to the valid range for imshow with RGB data ([0..1] for floats or [0..255] for integers).\n"
     ]
    },
    {
     "name": "stdout",
     "output_type": "stream",
     "text": [
      "[INFO] Epoch 47 loss tf.Tensor(6.855406, shape=(), dtype=float32) roomTypeLoss: tf.Tensor(3.1156774, shape=(), dtype=float32) roomBoundLosstf.Tensor(10.595134, shape=(), dtype=float32)\n"
     ]
    },
    {
     "name": "stderr",
     "output_type": "stream",
     "text": [
      "Lossy conversion from float32 to uint8. Range [0.0, 255.0]. Convert image to uint8 prior to saving to suppress this warning.\n",
      "Lossy conversion from float32 to uint8. Range [0.0, 2.0]. Convert image to uint8 prior to saving to suppress this warning.\n",
      "Lossy conversion from float64 to uint8. Range [0, 1]. Convert image to uint8 prior to saving to suppress this warning.\n",
      "Clipping input data to the valid range for imshow with RGB data ([0..1] for floats or [0..255] for integers).\n",
      "Lossy conversion from float32 to uint8. Range [0.0, 255.0]. Convert image to uint8 prior to saving to suppress this warning.\n",
      "Lossy conversion from float32 to uint8. Range [0.0, 2.0]. Convert image to uint8 prior to saving to suppress this warning.\n",
      "Lossy conversion from float64 to uint8. Range [0, 1]. Convert image to uint8 prior to saving to suppress this warning.\n",
      "Clipping input data to the valid range for imshow with RGB data ([0..1] for floats or [0..255] for integers).\n",
      "Lossy conversion from float32 to uint8. Range [0.0, 255.0]. Convert image to uint8 prior to saving to suppress this warning.\n",
      "/d2/studies/TF2DeepFloorplan/train.py:95: UserWarning: /d2/studies/TF2DeepFloorplan/./outJan11_TFR4/45720001_rooms.png is a low contrast image\n",
      "  imsave(os.path.join(os.getcwd(), outdir + '/' + str(pltiter) + '_rooms.png'), r)\n",
      "Lossy conversion from float32 to uint8. Range [0.0, 2.0]. Convert image to uint8 prior to saving to suppress this warning.\n",
      "/d2/studies/TF2DeepFloorplan/train.py:99: UserWarning: /d2/studies/TF2DeepFloorplan/./outJan11_TFR4/45720001_rooms_pred.png is a low contrast image\n",
      "  imsave(os.path.join(os.getcwd(), outdir + '/' + str(pltiter) + '_rooms_pred.png'), img_as_float(lr))\n",
      "Lossy conversion from float64 to uint8. Range [0, 1]. Convert image to uint8 prior to saving to suppress this warning.\n",
      "Clipping input data to the valid range for imshow with RGB data ([0..1] for floats or [0..255] for integers).\n",
      "Lossy conversion from float32 to uint8. Range [0.0, 255.0]. Convert image to uint8 prior to saving to suppress this warning.\n",
      "/d2/studies/TF2DeepFloorplan/train.py:95: UserWarning: /d2/studies/TF2DeepFloorplan/./outJan11_TFR4/45633769_rooms.png is a low contrast image\n",
      "  imsave(os.path.join(os.getcwd(), outdir + '/' + str(pltiter) + '_rooms.png'), r)\n",
      "Lossy conversion from float32 to uint8. Range [0.0, 2.0]. Convert image to uint8 prior to saving to suppress this warning.\n",
      "/d2/studies/TF2DeepFloorplan/train.py:99: UserWarning: /d2/studies/TF2DeepFloorplan/./outJan11_TFR4/45633769_rooms_pred.png is a low contrast image\n",
      "  imsave(os.path.join(os.getcwd(), outdir + '/' + str(pltiter) + '_rooms_pred.png'), img_as_float(lr))\n",
      "Lossy conversion from float64 to uint8. Range [0, 1]. Convert image to uint8 prior to saving to suppress this warning.\n",
      "Clipping input data to the valid range for imshow with RGB data ([0..1] for floats or [0..255] for integers).\n"
     ]
    },
    {
     "name": "stdout",
     "output_type": "stream",
     "text": [
      "[INFO] Epoch 48 loss tf.Tensor(6.637206, shape=(), dtype=float32) roomTypeLoss: tf.Tensor(4.35715, shape=(), dtype=float32) roomBoundLosstf.Tensor(8.917262, shape=(), dtype=float32)\n"
     ]
    },
    {
     "name": "stderr",
     "output_type": "stream",
     "text": [
      "Lossy conversion from float32 to uint8. Range [0.0, 255.0]. Convert image to uint8 prior to saving to suppress this warning.\n",
      "/d2/studies/TF2DeepFloorplan/train.py:95: UserWarning: /d2/studies/TF2DeepFloorplan/./outJan11_TFR4/31878870_rooms.png is a low contrast image\n",
      "  imsave(os.path.join(os.getcwd(), outdir + '/' + str(pltiter) + '_rooms.png'), r)\n",
      "Lossy conversion from float32 to uint8. Range [0.0, 2.0]. Convert image to uint8 prior to saving to suppress this warning.\n",
      "/d2/studies/TF2DeepFloorplan/train.py:99: UserWarning: /d2/studies/TF2DeepFloorplan/./outJan11_TFR4/31878870_rooms_pred.png is a low contrast image\n",
      "  imsave(os.path.join(os.getcwd(), outdir + '/' + str(pltiter) + '_rooms_pred.png'), img_as_float(lr))\n",
      "Lossy conversion from float64 to uint8. Range [0, 1]. Convert image to uint8 prior to saving to suppress this warning.\n",
      "Clipping input data to the valid range for imshow with RGB data ([0..1] for floats or [0..255] for integers).\n",
      "Lossy conversion from float32 to uint8. Range [65.0, 255.0]. Convert image to uint8 prior to saving to suppress this warning.\n",
      "Lossy conversion from float32 to uint8. Range [0.0, 2.0]. Convert image to uint8 prior to saving to suppress this warning.\n",
      "Lossy conversion from float64 to uint8. Range [0, 1]. Convert image to uint8 prior to saving to suppress this warning.\n",
      "Clipping input data to the valid range for imshow with RGB data ([0..1] for floats or [0..255] for integers).\n",
      "Lossy conversion from float32 to uint8. Range [0.0, 255.0]. Convert image to uint8 prior to saving to suppress this warning.\n",
      "/d2/studies/TF2DeepFloorplan/train.py:95: UserWarning: /d2/studies/TF2DeepFloorplan/./outJan11_TFR4/45098284_rooms.png is a low contrast image\n",
      "  imsave(os.path.join(os.getcwd(), outdir + '/' + str(pltiter) + '_rooms.png'), r)\n",
      "Lossy conversion from float32 to uint8. Range [0.0, 2.0]. Convert image to uint8 prior to saving to suppress this warning.\n",
      "/d2/studies/TF2DeepFloorplan/train.py:99: UserWarning: /d2/studies/TF2DeepFloorplan/./outJan11_TFR4/45098284_rooms_pred.png is a low contrast image\n",
      "  imsave(os.path.join(os.getcwd(), outdir + '/' + str(pltiter) + '_rooms_pred.png'), img_as_float(lr))\n",
      "Lossy conversion from float64 to uint8. Range [0, 1]. Convert image to uint8 prior to saving to suppress this warning.\n",
      "Clipping input data to the valid range for imshow with RGB data ([0..1] for floats or [0..255] for integers).\n"
     ]
    },
    {
     "name": "stdout",
     "output_type": "stream",
     "text": [
      "[INFO] Epoch 49 loss tf.Tensor(8.168068, shape=(), dtype=float32) roomTypeLoss: tf.Tensor(3.427639, shape=(), dtype=float32) roomBoundLosstf.Tensor(12.908498, shape=(), dtype=float32)\n"
     ]
    },
    {
     "name": "stderr",
     "output_type": "stream",
     "text": [
      "Lossy conversion from float32 to uint8. Range [0.0, 255.0]. Convert image to uint8 prior to saving to suppress this warning.\n",
      "/d2/studies/TF2DeepFloorplan/train.py:95: UserWarning: /d2/studies/TF2DeepFloorplan/./outJan11_TFR4/45562633_rooms.png is a low contrast image\n",
      "  imsave(os.path.join(os.getcwd(), outdir + '/' + str(pltiter) + '_rooms.png'), r)\n",
      "Lossy conversion from float32 to uint8. Range [0.0, 2.0]. Convert image to uint8 prior to saving to suppress this warning.\n",
      "/d2/studies/TF2DeepFloorplan/train.py:99: UserWarning: /d2/studies/TF2DeepFloorplan/./outJan11_TFR4/45562633_rooms_pred.png is a low contrast image\n",
      "  imsave(os.path.join(os.getcwd(), outdir + '/' + str(pltiter) + '_rooms_pred.png'), img_as_float(lr))\n",
      "Lossy conversion from float64 to uint8. Range [0, 1]. Convert image to uint8 prior to saving to suppress this warning.\n",
      "Clipping input data to the valid range for imshow with RGB data ([0..1] for floats or [0..255] for integers).\n",
      "Lossy conversion from float32 to uint8. Range [0.0, 255.0]. Convert image to uint8 prior to saving to suppress this warning.\n",
      "Lossy conversion from float32 to uint8. Range [0.0, 2.0]. Convert image to uint8 prior to saving to suppress this warning.\n",
      "Lossy conversion from float64 to uint8. Range [0, 1]. Convert image to uint8 prior to saving to suppress this warning.\n",
      "Clipping input data to the valid range for imshow with RGB data ([0..1] for floats or [0..255] for integers).\n",
      "Lossy conversion from float32 to uint8. Range [0.0, 255.0]. Convert image to uint8 prior to saving to suppress this warning.\n",
      "Lossy conversion from float32 to uint8. Range [0.0, 2.0]. Convert image to uint8 prior to saving to suppress this warning.\n",
      "Lossy conversion from float64 to uint8. Range [0, 1]. Convert image to uint8 prior to saving to suppress this warning.\n",
      "Clipping input data to the valid range for imshow with RGB data ([0..1] for floats or [0..255] for integers).\n",
      "Lossy conversion from float32 to uint8. Range [0.0, 255.0]. Convert image to uint8 prior to saving to suppress this warning.\n",
      "/d2/studies/TF2DeepFloorplan/train.py:95: UserWarning: /d2/studies/TF2DeepFloorplan/./outJan11_TFR4/31835886_rooms.png is a low contrast image\n",
      "  imsave(os.path.join(os.getcwd(), outdir + '/' + str(pltiter) + '_rooms.png'), r)\n",
      "Lossy conversion from float32 to uint8. Range [0.0, 2.0]. Convert image to uint8 prior to saving to suppress this warning.\n",
      "/d2/studies/TF2DeepFloorplan/train.py:99: UserWarning: /d2/studies/TF2DeepFloorplan/./outJan11_TFR4/31835886_rooms_pred.png is a low contrast image\n",
      "  imsave(os.path.join(os.getcwd(), outdir + '/' + str(pltiter) + '_rooms_pred.png'), img_as_float(lr))\n",
      "Lossy conversion from float64 to uint8. Range [0, 1]. Convert image to uint8 prior to saving to suppress this warning.\n",
      "Clipping input data to the valid range for imshow with RGB data ([0..1] for floats or [0..255] for integers).\n"
     ]
    },
    {
     "name": "stdout",
     "output_type": "stream",
     "text": [
      "[INFO] Epoch 50 loss tf.Tensor(11.437887, shape=(), dtype=float32) roomTypeLoss: tf.Tensor(5.598982, shape=(), dtype=float32) roomBoundLosstf.Tensor(17.276793, shape=(), dtype=float32)\n"
     ]
    },
    {
     "name": "stderr",
     "output_type": "stream",
     "text": [
      "Lossy conversion from float32 to uint8. Range [0.0, 255.0]. Convert image to uint8 prior to saving to suppress this warning.\n",
      "Lossy conversion from float32 to uint8. Range [0.0, 2.0]. Convert image to uint8 prior to saving to suppress this warning.\n",
      "Lossy conversion from float64 to uint8. Range [0, 1]. Convert image to uint8 prior to saving to suppress this warning.\n",
      "Clipping input data to the valid range for imshow with RGB data ([0..1] for floats or [0..255] for integers).\n",
      "Lossy conversion from float32 to uint8. Range [0.0, 255.0]. Convert image to uint8 prior to saving to suppress this warning.\n",
      "Lossy conversion from float32 to uint8. Range [0.0, 2.0]. Convert image to uint8 prior to saving to suppress this warning.\n",
      "Lossy conversion from float64 to uint8. Range [0, 1]. Convert image to uint8 prior to saving to suppress this warning.\n",
      "Clipping input data to the valid range for imshow with RGB data ([0..1] for floats or [0..255] for integers).\n",
      "Lossy conversion from float32 to uint8. Range [0.0, 255.0]. Convert image to uint8 prior to saving to suppress this warning.\n",
      "Lossy conversion from float32 to uint8. Range [0.0, 2.0]. Convert image to uint8 prior to saving to suppress this warning.\n",
      "Lossy conversion from float64 to uint8. Range [0, 1]. Convert image to uint8 prior to saving to suppress this warning.\n",
      "Clipping input data to the valid range for imshow with RGB data ([0..1] for floats or [0..255] for integers).\n",
      "Lossy conversion from float32 to uint8. Range [0.0, 255.0]. Convert image to uint8 prior to saving to suppress this warning.\n",
      "/d2/studies/TF2DeepFloorplan/train.py:95: UserWarning: /d2/studies/TF2DeepFloorplan/./outJan11_TFR4/31852932_rooms.png is a low contrast image\n",
      "  imsave(os.path.join(os.getcwd(), outdir + '/' + str(pltiter) + '_rooms.png'), r)\n",
      "Lossy conversion from float32 to uint8. Range [0.0, 2.0]. Convert image to uint8 prior to saving to suppress this warning.\n",
      "/d2/studies/TF2DeepFloorplan/train.py:99: UserWarning: /d2/studies/TF2DeepFloorplan/./outJan11_TFR4/31852932_rooms_pred.png is a low contrast image\n",
      "  imsave(os.path.join(os.getcwd(), outdir + '/' + str(pltiter) + '_rooms_pred.png'), img_as_float(lr))\n",
      "Lossy conversion from float64 to uint8. Range [0, 1]. Convert image to uint8 prior to saving to suppress this warning.\n",
      "Clipping input data to the valid range for imshow with RGB data ([0..1] for floats or [0..255] for integers).\n"
     ]
    },
    {
     "name": "stdout",
     "output_type": "stream",
     "text": [
      "[INFO] Epoch 51 loss tf.Tensor(6.943281, shape=(), dtype=float32) roomTypeLoss: tf.Tensor(3.2703788, shape=(), dtype=float32) roomBoundLosstf.Tensor(10.616183, shape=(), dtype=float32)\n"
     ]
    },
    {
     "name": "stderr",
     "output_type": "stream",
     "text": [
      "Lossy conversion from float32 to uint8. Range [13.0, 255.0]. Convert image to uint8 prior to saving to suppress this warning.\n",
      "Lossy conversion from float32 to uint8. Range [0.0, 2.0]. Convert image to uint8 prior to saving to suppress this warning.\n",
      "Lossy conversion from float64 to uint8. Range [0, 1]. Convert image to uint8 prior to saving to suppress this warning.\n",
      "Clipping input data to the valid range for imshow with RGB data ([0..1] for floats or [0..255] for integers).\n",
      "Lossy conversion from float32 to uint8. Range [0.0, 255.0]. Convert image to uint8 prior to saving to suppress this warning.\n",
      "Lossy conversion from float32 to uint8. Range [0.0, 2.0]. Convert image to uint8 prior to saving to suppress this warning.\n",
      "Lossy conversion from float64 to uint8. Range [0, 1]. Convert image to uint8 prior to saving to suppress this warning.\n",
      "Clipping input data to the valid range for imshow with RGB data ([0..1] for floats or [0..255] for integers).\n",
      "Lossy conversion from float32 to uint8. Range [0.0, 255.0]. Convert image to uint8 prior to saving to suppress this warning.\n",
      "/d2/studies/TF2DeepFloorplan/train.py:95: UserWarning: /d2/studies/TF2DeepFloorplan/./outJan11_TFR4/30939153_rooms.png is a low contrast image\n",
      "  imsave(os.path.join(os.getcwd(), outdir + '/' + str(pltiter) + '_rooms.png'), r)\n",
      "Lossy conversion from float32 to uint8. Range [0.0, 2.0]. Convert image to uint8 prior to saving to suppress this warning.\n",
      "/d2/studies/TF2DeepFloorplan/train.py:99: UserWarning: /d2/studies/TF2DeepFloorplan/./outJan11_TFR4/30939153_rooms_pred.png is a low contrast image\n",
      "  imsave(os.path.join(os.getcwd(), outdir + '/' + str(pltiter) + '_rooms_pred.png'), img_as_float(lr))\n",
      "Lossy conversion from float64 to uint8. Range [0, 1]. Convert image to uint8 prior to saving to suppress this warning.\n",
      "Clipping input data to the valid range for imshow with RGB data ([0..1] for floats or [0..255] for integers).\n"
     ]
    },
    {
     "name": "stdout",
     "output_type": "stream",
     "text": [
      "[INFO] Epoch 52 loss tf.Tensor(10.352737, shape=(), dtype=float32) roomTypeLoss: tf.Tensor(4.256907, shape=(), dtype=float32) roomBoundLosstf.Tensor(16.448568, shape=(), dtype=float32)\n"
     ]
    },
    {
     "name": "stderr",
     "output_type": "stream",
     "text": [
      "Lossy conversion from float32 to uint8. Range [13.0, 255.0]. Convert image to uint8 prior to saving to suppress this warning.\n",
      "/d2/studies/TF2DeepFloorplan/train.py:95: UserWarning: /d2/studies/TF2DeepFloorplan/./outJan11_TFR4/4_rooms.png is a low contrast image\n",
      "  imsave(os.path.join(os.getcwd(), outdir + '/' + str(pltiter) + '_rooms.png'), r)\n",
      "Lossy conversion from float32 to uint8. Range [0.0, 2.0]. Convert image to uint8 prior to saving to suppress this warning.\n",
      "/d2/studies/TF2DeepFloorplan/train.py:99: UserWarning: /d2/studies/TF2DeepFloorplan/./outJan11_TFR4/4_rooms_pred.png is a low contrast image\n",
      "  imsave(os.path.join(os.getcwd(), outdir + '/' + str(pltiter) + '_rooms_pred.png'), img_as_float(lr))\n",
      "Lossy conversion from float64 to uint8. Range [0, 1]. Convert image to uint8 prior to saving to suppress this warning.\n",
      "Clipping input data to the valid range for imshow with RGB data ([0..1] for floats or [0..255] for integers).\n",
      "Lossy conversion from float32 to uint8. Range [0.0, 255.0]. Convert image to uint8 prior to saving to suppress this warning.\n",
      "Lossy conversion from float32 to uint8. Range [0.0, 2.0]. Convert image to uint8 prior to saving to suppress this warning.\n",
      "Lossy conversion from float64 to uint8. Range [0, 1]. Convert image to uint8 prior to saving to suppress this warning.\n",
      "Clipping input data to the valid range for imshow with RGB data ([0..1] for floats or [0..255] for integers).\n",
      "Lossy conversion from float32 to uint8. Range [0.0, 255.0]. Convert image to uint8 prior to saving to suppress this warning.\n",
      "/d2/studies/TF2DeepFloorplan/train.py:95: UserWarning: /d2/studies/TF2DeepFloorplan/./outJan11_TFR4/45057754_rooms.png is a low contrast image\n",
      "  imsave(os.path.join(os.getcwd(), outdir + '/' + str(pltiter) + '_rooms.png'), r)\n",
      "Lossy conversion from float32 to uint8. Range [0.0, 2.0]. Convert image to uint8 prior to saving to suppress this warning.\n",
      "/d2/studies/TF2DeepFloorplan/train.py:99: UserWarning: /d2/studies/TF2DeepFloorplan/./outJan11_TFR4/45057754_rooms_pred.png is a low contrast image\n",
      "  imsave(os.path.join(os.getcwd(), outdir + '/' + str(pltiter) + '_rooms_pred.png'), img_as_float(lr))\n",
      "Lossy conversion from float64 to uint8. Range [0, 1]. Convert image to uint8 prior to saving to suppress this warning.\n",
      "Clipping input data to the valid range for imshow with RGB data ([0..1] for floats or [0..255] for integers).\n",
      "Lossy conversion from float32 to uint8. Range [0.0, 255.0]. Convert image to uint8 prior to saving to suppress this warning.\n",
      "Lossy conversion from float32 to uint8. Range [0.0, 2.0]. Convert image to uint8 prior to saving to suppress this warning.\n",
      "Lossy conversion from float64 to uint8. Range [0, 1]. Convert image to uint8 prior to saving to suppress this warning.\n",
      "Clipping input data to the valid range for imshow with RGB data ([0..1] for floats or [0..255] for integers).\n"
     ]
    },
    {
     "name": "stdout",
     "output_type": "stream",
     "text": [
      "INFO:tensorflow:Assets written to: ./log/Jan11_TFR4/save/assets\n",
      "[INFO] Saving Model\n",
      "[INFO] Epoch 53 loss tf.Tensor(3.474791, shape=(), dtype=float32) roomTypeLoss: tf.Tensor(1.8998553, shape=(), dtype=float32) roomBoundLosstf.Tensor(5.049727, shape=(), dtype=float32)\n"
     ]
    },
    {
     "name": "stderr",
     "output_type": "stream",
     "text": [
      "Lossy conversion from float32 to uint8. Range [0.0, 255.0]. Convert image to uint8 prior to saving to suppress this warning.\n",
      "Lossy conversion from float32 to uint8. Range [0.0, 2.0]. Convert image to uint8 prior to saving to suppress this warning.\n",
      "Lossy conversion from float64 to uint8. Range [0, 1]. Convert image to uint8 prior to saving to suppress this warning.\n",
      "Clipping input data to the valid range for imshow with RGB data ([0..1] for floats or [0..255] for integers).\n",
      "Lossy conversion from float32 to uint8. Range [0.0, 255.0]. Convert image to uint8 prior to saving to suppress this warning.\n",
      "/d2/studies/TF2DeepFloorplan/train.py:95: UserWarning: /d2/studies/TF2DeepFloorplan/./outJan11_TFR4/31889847_rooms.png is a low contrast image\n",
      "  imsave(os.path.join(os.getcwd(), outdir + '/' + str(pltiter) + '_rooms.png'), r)\n",
      "Lossy conversion from float32 to uint8. Range [0.0, 2.0]. Convert image to uint8 prior to saving to suppress this warning.\n",
      "/d2/studies/TF2DeepFloorplan/train.py:99: UserWarning: /d2/studies/TF2DeepFloorplan/./outJan11_TFR4/31889847_rooms_pred.png is a low contrast image\n",
      "  imsave(os.path.join(os.getcwd(), outdir + '/' + str(pltiter) + '_rooms_pred.png'), img_as_float(lr))\n",
      "Lossy conversion from float64 to uint8. Range [0, 1]. Convert image to uint8 prior to saving to suppress this warning.\n",
      "Clipping input data to the valid range for imshow with RGB data ([0..1] for floats or [0..255] for integers).\n",
      "Lossy conversion from float32 to uint8. Range [0.0, 255.0]. Convert image to uint8 prior to saving to suppress this warning.\n",
      "Lossy conversion from float32 to uint8. Range [0.0, 2.0]. Convert image to uint8 prior to saving to suppress this warning.\n",
      "Lossy conversion from float64 to uint8. Range [0, 1]. Convert image to uint8 prior to saving to suppress this warning.\n",
      "Clipping input data to the valid range for imshow with RGB data ([0..1] for floats or [0..255] for integers).\n"
     ]
    },
    {
     "name": "stdout",
     "output_type": "stream",
     "text": [
      "[INFO] Epoch 54 loss tf.Tensor(4.8350472, shape=(), dtype=float32) roomTypeLoss: tf.Tensor(1.7785945, shape=(), dtype=float32) roomBoundLosstf.Tensor(7.8915, shape=(), dtype=float32)\n"
     ]
    },
    {
     "name": "stderr",
     "output_type": "stream",
     "text": [
      "Lossy conversion from float32 to uint8. Range [0.0, 255.0]. Convert image to uint8 prior to saving to suppress this warning.\n",
      "Lossy conversion from float32 to uint8. Range [0.0, 2.0]. Convert image to uint8 prior to saving to suppress this warning.\n",
      "Lossy conversion from float64 to uint8. Range [0, 1]. Convert image to uint8 prior to saving to suppress this warning.\n",
      "Clipping input data to the valid range for imshow with RGB data ([0..1] for floats or [0..255] for integers).\n",
      "Lossy conversion from float32 to uint8. Range [0.0, 255.0]. Convert image to uint8 prior to saving to suppress this warning.\n",
      "Lossy conversion from float32 to uint8. Range [0.0, 2.0]. Convert image to uint8 prior to saving to suppress this warning.\n",
      "Lossy conversion from float64 to uint8. Range [0, 1]. Convert image to uint8 prior to saving to suppress this warning.\n",
      "Clipping input data to the valid range for imshow with RGB data ([0..1] for floats or [0..255] for integers).\n",
      "Lossy conversion from float32 to uint8. Range [0.0, 255.0]. Convert image to uint8 prior to saving to suppress this warning.\n",
      "Lossy conversion from float32 to uint8. Range [0.0, 2.0]. Convert image to uint8 prior to saving to suppress this warning.\n",
      "Lossy conversion from float64 to uint8. Range [0, 1]. Convert image to uint8 prior to saving to suppress this warning.\n",
      "Clipping input data to the valid range for imshow with RGB data ([0..1] for floats or [0..255] for integers).\n",
      "Lossy conversion from float32 to uint8. Range [0.0, 255.0]. Convert image to uint8 prior to saving to suppress this warning.\n",
      "Lossy conversion from float32 to uint8. Range [0.0, 2.0]. Convert image to uint8 prior to saving to suppress this warning.\n",
      "Lossy conversion from float64 to uint8. Range [0, 1]. Convert image to uint8 prior to saving to suppress this warning.\n",
      "Clipping input data to the valid range for imshow with RGB data ([0..1] for floats or [0..255] for integers).\n"
     ]
    },
    {
     "name": "stdout",
     "output_type": "stream",
     "text": [
      "[INFO] Epoch 55 loss tf.Tensor(6.4597983, shape=(), dtype=float32) roomTypeLoss: tf.Tensor(3.99138, shape=(), dtype=float32) roomBoundLosstf.Tensor(8.928217, shape=(), dtype=float32)\n"
     ]
    },
    {
     "name": "stderr",
     "output_type": "stream",
     "text": [
      "Lossy conversion from float32 to uint8. Range [0.0, 255.0]. Convert image to uint8 prior to saving to suppress this warning.\n",
      "Lossy conversion from float32 to uint8. Range [0.0, 2.0]. Convert image to uint8 prior to saving to suppress this warning.\n",
      "Lossy conversion from float64 to uint8. Range [0, 1]. Convert image to uint8 prior to saving to suppress this warning.\n",
      "Clipping input data to the valid range for imshow with RGB data ([0..1] for floats or [0..255] for integers).\n",
      "Lossy conversion from float32 to uint8. Range [0.0, 255.0]. Convert image to uint8 prior to saving to suppress this warning.\n",
      "/d2/studies/TF2DeepFloorplan/train.py:95: UserWarning: /d2/studies/TF2DeepFloorplan/./outJan11_TFR4/31833933_rooms.png is a low contrast image\n",
      "  imsave(os.path.join(os.getcwd(), outdir + '/' + str(pltiter) + '_rooms.png'), r)\n",
      "Lossy conversion from float32 to uint8. Range [0.0, 2.0]. Convert image to uint8 prior to saving to suppress this warning.\n",
      "/d2/studies/TF2DeepFloorplan/train.py:99: UserWarning: /d2/studies/TF2DeepFloorplan/./outJan11_TFR4/31833933_rooms_pred.png is a low contrast image\n",
      "  imsave(os.path.join(os.getcwd(), outdir + '/' + str(pltiter) + '_rooms_pred.png'), img_as_float(lr))\n",
      "Lossy conversion from float64 to uint8. Range [0, 1]. Convert image to uint8 prior to saving to suppress this warning.\n",
      "Clipping input data to the valid range for imshow with RGB data ([0..1] for floats or [0..255] for integers).\n",
      "Lossy conversion from float32 to uint8. Range [0.0, 255.0]. Convert image to uint8 prior to saving to suppress this warning.\n",
      "Lossy conversion from float32 to uint8. Range [0.0, 2.0]. Convert image to uint8 prior to saving to suppress this warning.\n",
      "Lossy conversion from float64 to uint8. Range [0, 1]. Convert image to uint8 prior to saving to suppress this warning.\n",
      "Clipping input data to the valid range for imshow with RGB data ([0..1] for floats or [0..255] for integers).\n",
      "Lossy conversion from float32 to uint8. Range [0.0, 255.0]. Convert image to uint8 prior to saving to suppress this warning.\n",
      "Lossy conversion from float32 to uint8. Range [0.0, 2.0]. Convert image to uint8 prior to saving to suppress this warning.\n",
      "Lossy conversion from float64 to uint8. Range [0, 1]. Convert image to uint8 prior to saving to suppress this warning.\n",
      "Clipping input data to the valid range for imshow with RGB data ([0..1] for floats or [0..255] for integers).\n"
     ]
    },
    {
     "name": "stdout",
     "output_type": "stream",
     "text": [
      "[INFO] Epoch 56 loss tf.Tensor(3.8551588, shape=(), dtype=float32) roomTypeLoss: tf.Tensor(2.5340476, shape=(), dtype=float32) roomBoundLosstf.Tensor(5.17627, shape=(), dtype=float32)\n"
     ]
    },
    {
     "name": "stderr",
     "output_type": "stream",
     "text": [
      "Lossy conversion from float32 to uint8. Range [0.0, 255.0]. Convert image to uint8 prior to saving to suppress this warning.\n",
      "Lossy conversion from float32 to uint8. Range [0.0, 2.0]. Convert image to uint8 prior to saving to suppress this warning.\n",
      "Lossy conversion from float64 to uint8. Range [0, 1]. Convert image to uint8 prior to saving to suppress this warning.\n",
      "Clipping input data to the valid range for imshow with RGB data ([0..1] for floats or [0..255] for integers).\n",
      "Lossy conversion from float32 to uint8. Range [0.0, 255.0]. Convert image to uint8 prior to saving to suppress this warning.\n",
      "Lossy conversion from float32 to uint8. Range [0.0, 2.0]. Convert image to uint8 prior to saving to suppress this warning.\n",
      "Lossy conversion from float64 to uint8. Range [0, 1]. Convert image to uint8 prior to saving to suppress this warning.\n",
      "Clipping input data to the valid range for imshow with RGB data ([0..1] for floats or [0..255] for integers).\n",
      "Lossy conversion from float32 to uint8. Range [0.0, 255.0]. Convert image to uint8 prior to saving to suppress this warning.\n",
      "Lossy conversion from float32 to uint8. Range [0.0, 2.0]. Convert image to uint8 prior to saving to suppress this warning.\n",
      "Lossy conversion from float64 to uint8. Range [0, 1]. Convert image to uint8 prior to saving to suppress this warning.\n",
      "Clipping input data to the valid range for imshow with RGB data ([0..1] for floats or [0..255] for integers).\n"
     ]
    },
    {
     "name": "stdout",
     "output_type": "stream",
     "text": [
      "INFO:tensorflow:Assets written to: ./log/Jan11_TFR4/save/assets\n",
      "[INFO] Saving Model\n",
      "[INFO] Epoch 57 loss tf.Tensor(3.2497482, shape=(), dtype=float32) roomTypeLoss: tf.Tensor(1.8886187, shape=(), dtype=float32) roomBoundLosstf.Tensor(4.6108775, shape=(), dtype=float32)\n"
     ]
    },
    {
     "name": "stderr",
     "output_type": "stream",
     "text": [
      "Lossy conversion from float32 to uint8. Range [0.0, 255.0]. Convert image to uint8 prior to saving to suppress this warning.\n",
      "/d2/studies/TF2DeepFloorplan/train.py:95: UserWarning: /d2/studies/TF2DeepFloorplan/./outJan11_TFR4/45775504_rooms.png is a low contrast image\n",
      "  imsave(os.path.join(os.getcwd(), outdir + '/' + str(pltiter) + '_rooms.png'), r)\n",
      "Lossy conversion from float32 to uint8. Range [0.0, 2.0]. Convert image to uint8 prior to saving to suppress this warning.\n",
      "/d2/studies/TF2DeepFloorplan/train.py:99: UserWarning: /d2/studies/TF2DeepFloorplan/./outJan11_TFR4/45775504_rooms_pred.png is a low contrast image\n",
      "  imsave(os.path.join(os.getcwd(), outdir + '/' + str(pltiter) + '_rooms_pred.png'), img_as_float(lr))\n",
      "Lossy conversion from float64 to uint8. Range [0, 1]. Convert image to uint8 prior to saving to suppress this warning.\n",
      "Clipping input data to the valid range for imshow with RGB data ([0..1] for floats or [0..255] for integers).\n",
      "Lossy conversion from float32 to uint8. Range [0.0, 255.0]. Convert image to uint8 prior to saving to suppress this warning.\n",
      "Lossy conversion from float32 to uint8. Range [0.0, 2.0]. Convert image to uint8 prior to saving to suppress this warning.\n",
      "Lossy conversion from float64 to uint8. Range [0, 1]. Convert image to uint8 prior to saving to suppress this warning.\n",
      "Clipping input data to the valid range for imshow with RGB data ([0..1] for floats or [0..255] for integers).\n",
      "Lossy conversion from float32 to uint8. Range [0.0, 255.0]. Convert image to uint8 prior to saving to suppress this warning.\n",
      "Lossy conversion from float32 to uint8. Range [0.0, 2.0]. Convert image to uint8 prior to saving to suppress this warning.\n",
      "Lossy conversion from float64 to uint8. Range [0, 1]. Convert image to uint8 prior to saving to suppress this warning.\n",
      "Clipping input data to the valid range for imshow with RGB data ([0..1] for floats or [0..255] for integers).\n",
      "Lossy conversion from float32 to uint8. Range [0.0, 255.0]. Convert image to uint8 prior to saving to suppress this warning.\n",
      "Lossy conversion from float32 to uint8. Range [0.0, 2.0]. Convert image to uint8 prior to saving to suppress this warning.\n",
      "Lossy conversion from float64 to uint8. Range [0, 1]. Convert image to uint8 prior to saving to suppress this warning.\n",
      "Clipping input data to the valid range for imshow with RGB data ([0..1] for floats or [0..255] for integers).\n"
     ]
    },
    {
     "name": "stdout",
     "output_type": "stream",
     "text": [
      "[INFO] Epoch 58 loss tf.Tensor(8.861768, shape=(), dtype=float32) roomTypeLoss: tf.Tensor(3.6989942, shape=(), dtype=float32) roomBoundLosstf.Tensor(14.024541, shape=(), dtype=float32)\n"
     ]
    },
    {
     "name": "stderr",
     "output_type": "stream",
     "text": [
      "Lossy conversion from float32 to uint8. Range [0.0, 255.0]. Convert image to uint8 prior to saving to suppress this warning.\n",
      "Lossy conversion from float32 to uint8. Range [0.0, 2.0]. Convert image to uint8 prior to saving to suppress this warning.\n",
      "Lossy conversion from float64 to uint8. Range [0, 1]. Convert image to uint8 prior to saving to suppress this warning.\n",
      "Clipping input data to the valid range for imshow with RGB data ([0..1] for floats or [0..255] for integers).\n",
      "Lossy conversion from float32 to uint8. Range [0.0, 255.0]. Convert image to uint8 prior to saving to suppress this warning.\n",
      "Lossy conversion from float32 to uint8. Range [0.0, 2.0]. Convert image to uint8 prior to saving to suppress this warning.\n",
      "Lossy conversion from float64 to uint8. Range [0, 1]. Convert image to uint8 prior to saving to suppress this warning.\n",
      "Clipping input data to the valid range for imshow with RGB data ([0..1] for floats or [0..255] for integers).\n",
      "Lossy conversion from float32 to uint8. Range [0.0, 255.0]. Convert image to uint8 prior to saving to suppress this warning.\n",
      "Lossy conversion from float32 to uint8. Range [0.0, 2.0]. Convert image to uint8 prior to saving to suppress this warning.\n",
      "Lossy conversion from float64 to uint8. Range [0, 1]. Convert image to uint8 prior to saving to suppress this warning.\n",
      "Clipping input data to the valid range for imshow with RGB data ([0..1] for floats or [0..255] for integers).\n"
     ]
    },
    {
     "name": "stdout",
     "output_type": "stream",
     "text": [
      "[INFO] Epoch 59 loss tf.Tensor(5.944461, shape=(), dtype=float32) roomTypeLoss: tf.Tensor(3.0618014, shape=(), dtype=float32) roomBoundLosstf.Tensor(8.827121, shape=(), dtype=float32)\n"
     ]
    },
    {
     "name": "stderr",
     "output_type": "stream",
     "text": [
      "Lossy conversion from float32 to uint8. Range [0.0, 255.0]. Convert image to uint8 prior to saving to suppress this warning.\n",
      "Lossy conversion from float32 to uint8. Range [0.0, 2.0]. Convert image to uint8 prior to saving to suppress this warning.\n",
      "Lossy conversion from float64 to uint8. Range [0, 1]. Convert image to uint8 prior to saving to suppress this warning.\n",
      "Clipping input data to the valid range for imshow with RGB data ([0..1] for floats or [0..255] for integers).\n",
      "Lossy conversion from float32 to uint8. Range [0.0, 255.0]. Convert image to uint8 prior to saving to suppress this warning.\n",
      "Lossy conversion from float32 to uint8. Range [0.0, 2.0]. Convert image to uint8 prior to saving to suppress this warning.\n",
      "Lossy conversion from float64 to uint8. Range [0, 1]. Convert image to uint8 prior to saving to suppress this warning.\n",
      "Clipping input data to the valid range for imshow with RGB data ([0..1] for floats or [0..255] for integers).\n",
      "Lossy conversion from float32 to uint8. Range [0.0, 255.0]. Convert image to uint8 prior to saving to suppress this warning.\n",
      "/d2/studies/TF2DeepFloorplan/train.py:95: UserWarning: /d2/studies/TF2DeepFloorplan/./outJan11_TFR4/45175987_rooms.png is a low contrast image\n",
      "  imsave(os.path.join(os.getcwd(), outdir + '/' + str(pltiter) + '_rooms.png'), r)\n",
      "Lossy conversion from float32 to uint8. Range [0.0, 2.0]. Convert image to uint8 prior to saving to suppress this warning.\n",
      "/d2/studies/TF2DeepFloorplan/train.py:99: UserWarning: /d2/studies/TF2DeepFloorplan/./outJan11_TFR4/45175987_rooms_pred.png is a low contrast image\n",
      "  imsave(os.path.join(os.getcwd(), outdir + '/' + str(pltiter) + '_rooms_pred.png'), img_as_float(lr))\n",
      "Lossy conversion from float64 to uint8. Range [0, 1]. Convert image to uint8 prior to saving to suppress this warning.\n",
      "Clipping input data to the valid range for imshow with RGB data ([0..1] for floats or [0..255] for integers).\n",
      "Lossy conversion from float32 to uint8. Range [4.0, 255.0]. Convert image to uint8 prior to saving to suppress this warning.\n",
      "Lossy conversion from float32 to uint8. Range [0.0, 2.0]. Convert image to uint8 prior to saving to suppress this warning.\n",
      "Lossy conversion from float64 to uint8. Range [0, 1]. Convert image to uint8 prior to saving to suppress this warning.\n",
      "Clipping input data to the valid range for imshow with RGB data ([0..1] for floats or [0..255] for integers).\n"
     ]
    },
    {
     "name": "stdout",
     "output_type": "stream",
     "text": [
      "[INFO] Epoch 60 loss tf.Tensor(9.766287, shape=(), dtype=float32) roomTypeLoss: tf.Tensor(4.357894, shape=(), dtype=float32) roomBoundLosstf.Tensor(15.17468, shape=(), dtype=float32)\n"
     ]
    },
    {
     "name": "stderr",
     "output_type": "stream",
     "text": [
      "Lossy conversion from float32 to uint8. Range [0.0, 255.0]. Convert image to uint8 prior to saving to suppress this warning.\n",
      "Lossy conversion from float32 to uint8. Range [0.0, 2.0]. Convert image to uint8 prior to saving to suppress this warning.\n",
      "Lossy conversion from float64 to uint8. Range [0, 1]. Convert image to uint8 prior to saving to suppress this warning.\n",
      "Clipping input data to the valid range for imshow with RGB data ([0..1] for floats or [0..255] for integers).\n",
      "Lossy conversion from float32 to uint8. Range [0.0, 255.0]. Convert image to uint8 prior to saving to suppress this warning.\n",
      "Lossy conversion from float32 to uint8. Range [0.0, 2.0]. Convert image to uint8 prior to saving to suppress this warning.\n",
      "Lossy conversion from float64 to uint8. Range [0, 1]. Convert image to uint8 prior to saving to suppress this warning.\n",
      "Clipping input data to the valid range for imshow with RGB data ([0..1] for floats or [0..255] for integers).\n",
      "Lossy conversion from float32 to uint8. Range [0.0, 253.0]. Convert image to uint8 prior to saving to suppress this warning.\n",
      "Lossy conversion from float32 to uint8. Range [0.0, 2.0]. Convert image to uint8 prior to saving to suppress this warning.\n",
      "Lossy conversion from float64 to uint8. Range [0, 1]. Convert image to uint8 prior to saving to suppress this warning.\n",
      "Clipping input data to the valid range for imshow with RGB data ([0..1] for floats or [0..255] for integers).\n"
     ]
    },
    {
     "name": "stdout",
     "output_type": "stream",
     "text": [
      "[INFO] Epoch 61 loss tf.Tensor(6.4356995, shape=(), dtype=float32) roomTypeLoss: tf.Tensor(3.3143783, shape=(), dtype=float32) roomBoundLosstf.Tensor(9.557021, shape=(), dtype=float32)\n"
     ]
    },
    {
     "name": "stderr",
     "output_type": "stream",
     "text": [
      "Lossy conversion from float32 to uint8. Range [0.0, 255.0]. Convert image to uint8 prior to saving to suppress this warning.\n",
      "/d2/studies/TF2DeepFloorplan/train.py:95: UserWarning: /d2/studies/TF2DeepFloorplan/./outJan11_TFR4/31887492_rooms.png is a low contrast image\n",
      "  imsave(os.path.join(os.getcwd(), outdir + '/' + str(pltiter) + '_rooms.png'), r)\n",
      "Lossy conversion from float32 to uint8. Range [0.0, 2.0]. Convert image to uint8 prior to saving to suppress this warning.\n",
      "/d2/studies/TF2DeepFloorplan/train.py:99: UserWarning: /d2/studies/TF2DeepFloorplan/./outJan11_TFR4/31887492_rooms_pred.png is a low contrast image\n",
      "  imsave(os.path.join(os.getcwd(), outdir + '/' + str(pltiter) + '_rooms_pred.png'), img_as_float(lr))\n",
      "Lossy conversion from float64 to uint8. Range [0, 1]. Convert image to uint8 prior to saving to suppress this warning.\n",
      "Clipping input data to the valid range for imshow with RGB data ([0..1] for floats or [0..255] for integers).\n",
      "Lossy conversion from float32 to uint8. Range [0.0, 255.0]. Convert image to uint8 prior to saving to suppress this warning.\n",
      "Lossy conversion from float32 to uint8. Range [0.0, 2.0]. Convert image to uint8 prior to saving to suppress this warning.\n",
      "Lossy conversion from float64 to uint8. Range [0, 1]. Convert image to uint8 prior to saving to suppress this warning.\n",
      "Clipping input data to the valid range for imshow with RGB data ([0..1] for floats or [0..255] for integers).\n",
      "Lossy conversion from float32 to uint8. Range [0.0, 255.0]. Convert image to uint8 prior to saving to suppress this warning.\n",
      "Lossy conversion from float32 to uint8. Range [0.0, 2.0]. Convert image to uint8 prior to saving to suppress this warning.\n",
      "Lossy conversion from float64 to uint8. Range [0, 1]. Convert image to uint8 prior to saving to suppress this warning.\n",
      "Clipping input data to the valid range for imshow with RGB data ([0..1] for floats or [0..255] for integers).\n",
      "Lossy conversion from float32 to uint8. Range [0.0, 255.0]. Convert image to uint8 prior to saving to suppress this warning.\n",
      "Lossy conversion from float32 to uint8. Range [0.0, 2.0]. Convert image to uint8 prior to saving to suppress this warning.\n",
      "Lossy conversion from float64 to uint8. Range [0, 1]. Convert image to uint8 prior to saving to suppress this warning.\n",
      "Clipping input data to the valid range for imshow with RGB data ([0..1] for floats or [0..255] for integers).\n"
     ]
    },
    {
     "name": "stdout",
     "output_type": "stream",
     "text": [
      "[INFO] Epoch 62 loss tf.Tensor(5.6700454, shape=(), dtype=float32) roomTypeLoss: tf.Tensor(3.014103, shape=(), dtype=float32) roomBoundLosstf.Tensor(8.325988, shape=(), dtype=float32)\n"
     ]
    },
    {
     "name": "stderr",
     "output_type": "stream",
     "text": [
      "Lossy conversion from float32 to uint8. Range [0.0, 255.0]. Convert image to uint8 prior to saving to suppress this warning.\n",
      "Lossy conversion from float32 to uint8. Range [0.0, 2.0]. Convert image to uint8 prior to saving to suppress this warning.\n",
      "Lossy conversion from float64 to uint8. Range [0, 1]. Convert image to uint8 prior to saving to suppress this warning.\n",
      "Clipping input data to the valid range for imshow with RGB data ([0..1] for floats or [0..255] for integers).\n",
      "Lossy conversion from float32 to uint8. Range [0.0, 255.0]. Convert image to uint8 prior to saving to suppress this warning.\n",
      "Lossy conversion from float32 to uint8. Range [0.0, 2.0]. Convert image to uint8 prior to saving to suppress this warning.\n",
      "Lossy conversion from float64 to uint8. Range [0, 1]. Convert image to uint8 prior to saving to suppress this warning.\n",
      "Clipping input data to the valid range for imshow with RGB data ([0..1] for floats or [0..255] for integers).\n",
      "Lossy conversion from float32 to uint8. Range [0.0, 255.0]. Convert image to uint8 prior to saving to suppress this warning.\n",
      "Lossy conversion from float32 to uint8. Range [0.0, 2.0]. Convert image to uint8 prior to saving to suppress this warning.\n",
      "Lossy conversion from float64 to uint8. Range [0, 1]. Convert image to uint8 prior to saving to suppress this warning.\n",
      "Clipping input data to the valid range for imshow with RGB data ([0..1] for floats or [0..255] for integers).\n",
      "Lossy conversion from float32 to uint8. Range [0.0, 255.0]. Convert image to uint8 prior to saving to suppress this warning.\n",
      "Lossy conversion from float32 to uint8. Range [0.0, 2.0]. Convert image to uint8 prior to saving to suppress this warning.\n",
      "Lossy conversion from float64 to uint8. Range [0, 1]. Convert image to uint8 prior to saving to suppress this warning.\n",
      "Clipping input data to the valid range for imshow with RGB data ([0..1] for floats or [0..255] for integers).\n"
     ]
    },
    {
     "name": "stdout",
     "output_type": "stream",
     "text": [
      "[INFO] Epoch 63 loss tf.Tensor(9.14357, shape=(), dtype=float32) roomTypeLoss: tf.Tensor(4.0207644, shape=(), dtype=float32) roomBoundLosstf.Tensor(14.266376, shape=(), dtype=float32)\n"
     ]
    },
    {
     "name": "stderr",
     "output_type": "stream",
     "text": [
      "Lossy conversion from float32 to uint8. Range [0.0, 255.0]. Convert image to uint8 prior to saving to suppress this warning.\n",
      "Lossy conversion from float32 to uint8. Range [0.0, 2.0]. Convert image to uint8 prior to saving to suppress this warning.\n",
      "Lossy conversion from float64 to uint8. Range [0, 1]. Convert image to uint8 prior to saving to suppress this warning.\n",
      "Clipping input data to the valid range for imshow with RGB data ([0..1] for floats or [0..255] for integers).\n",
      "Lossy conversion from float32 to uint8. Range [0.0, 255.0]. Convert image to uint8 prior to saving to suppress this warning.\n",
      "Lossy conversion from float32 to uint8. Range [0.0, 2.0]. Convert image to uint8 prior to saving to suppress this warning.\n",
      "Lossy conversion from float64 to uint8. Range [0, 1]. Convert image to uint8 prior to saving to suppress this warning.\n",
      "Clipping input data to the valid range for imshow with RGB data ([0..1] for floats or [0..255] for integers).\n",
      "Lossy conversion from float32 to uint8. Range [0.0, 255.0]. Convert image to uint8 prior to saving to suppress this warning.\n",
      "Lossy conversion from float32 to uint8. Range [0.0, 2.0]. Convert image to uint8 prior to saving to suppress this warning.\n",
      "Lossy conversion from float64 to uint8. Range [0, 1]. Convert image to uint8 prior to saving to suppress this warning.\n",
      "Clipping input data to the valid range for imshow with RGB data ([0..1] for floats or [0..255] for integers).\n"
     ]
    },
    {
     "name": "stdout",
     "output_type": "stream",
     "text": [
      "[INFO] Epoch 64 loss tf.Tensor(8.460947, shape=(), dtype=float32) roomTypeLoss: tf.Tensor(3.7532475, shape=(), dtype=float32) roomBoundLosstf.Tensor(13.168647, shape=(), dtype=float32)\n"
     ]
    },
    {
     "name": "stderr",
     "output_type": "stream",
     "text": [
      "Lossy conversion from float32 to uint8. Range [0.0, 255.0]. Convert image to uint8 prior to saving to suppress this warning.\n",
      "Lossy conversion from float32 to uint8. Range [0.0, 2.0]. Convert image to uint8 prior to saving to suppress this warning.\n",
      "Lossy conversion from float64 to uint8. Range [0, 1]. Convert image to uint8 prior to saving to suppress this warning.\n",
      "Clipping input data to the valid range for imshow with RGB data ([0..1] for floats or [0..255] for integers).\n",
      "Lossy conversion from float32 to uint8. Range [0.0, 255.0]. Convert image to uint8 prior to saving to suppress this warning.\n",
      "Lossy conversion from float32 to uint8. Range [0.0, 2.0]. Convert image to uint8 prior to saving to suppress this warning.\n",
      "Lossy conversion from float64 to uint8. Range [0, 1]. Convert image to uint8 prior to saving to suppress this warning.\n",
      "Clipping input data to the valid range for imshow with RGB data ([0..1] for floats or [0..255] for integers).\n",
      "Lossy conversion from float32 to uint8. Range [0.0, 255.0]. Convert image to uint8 prior to saving to suppress this warning.\n",
      "Lossy conversion from float32 to uint8. Range [0.0, 2.0]. Convert image to uint8 prior to saving to suppress this warning.\n",
      "Lossy conversion from float64 to uint8. Range [0, 1]. Convert image to uint8 prior to saving to suppress this warning.\n",
      "Clipping input data to the valid range for imshow with RGB data ([0..1] for floats or [0..255] for integers).\n",
      "Lossy conversion from float32 to uint8. Range [0.0, 255.0]. Convert image to uint8 prior to saving to suppress this warning.\n",
      "Lossy conversion from float32 to uint8. Range [0.0, 2.0]. Convert image to uint8 prior to saving to suppress this warning.\n",
      "Lossy conversion from float64 to uint8. Range [0, 1]. Convert image to uint8 prior to saving to suppress this warning.\n",
      "Clipping input data to the valid range for imshow with RGB data ([0..1] for floats or [0..255] for integers).\n"
     ]
    },
    {
     "name": "stdout",
     "output_type": "stream",
     "text": [
      "[INFO] Epoch 65 loss tf.Tensor(6.3988695, shape=(), dtype=float32) roomTypeLoss: tf.Tensor(3.491901, shape=(), dtype=float32) roomBoundLosstf.Tensor(9.305839, shape=(), dtype=float32)\n"
     ]
    },
    {
     "name": "stderr",
     "output_type": "stream",
     "text": [
      "Lossy conversion from float32 to uint8. Range [0.0, 255.0]. Convert image to uint8 prior to saving to suppress this warning.\n",
      "Lossy conversion from float32 to uint8. Range [0.0, 2.0]. Convert image to uint8 prior to saving to suppress this warning.\n",
      "Lossy conversion from float64 to uint8. Range [0, 1]. Convert image to uint8 prior to saving to suppress this warning.\n",
      "Clipping input data to the valid range for imshow with RGB data ([0..1] for floats or [0..255] for integers).\n",
      "Lossy conversion from float32 to uint8. Range [0.0, 255.0]. Convert image to uint8 prior to saving to suppress this warning.\n",
      "Lossy conversion from float32 to uint8. Range [0.0, 2.0]. Convert image to uint8 prior to saving to suppress this warning.\n",
      "Lossy conversion from float64 to uint8. Range [0, 1]. Convert image to uint8 prior to saving to suppress this warning.\n",
      "Clipping input data to the valid range for imshow with RGB data ([0..1] for floats or [0..255] for integers).\n",
      "Lossy conversion from float32 to uint8. Range [0.0, 255.0]. Convert image to uint8 prior to saving to suppress this warning.\n",
      "Lossy conversion from float32 to uint8. Range [0.0, 2.0]. Convert image to uint8 prior to saving to suppress this warning.\n",
      "Lossy conversion from float64 to uint8. Range [0, 1]. Convert image to uint8 prior to saving to suppress this warning.\n",
      "Clipping input data to the valid range for imshow with RGB data ([0..1] for floats or [0..255] for integers).\n"
     ]
    },
    {
     "name": "stdout",
     "output_type": "stream",
     "text": [
      "[INFO] Epoch 66 loss tf.Tensor(3.2797756, shape=(), dtype=float32) roomTypeLoss: tf.Tensor(1.266534, shape=(), dtype=float32) roomBoundLosstf.Tensor(5.2930174, shape=(), dtype=float32)\n"
     ]
    },
    {
     "name": "stderr",
     "output_type": "stream",
     "text": [
      "Lossy conversion from float32 to uint8. Range [0.0, 255.0]. Convert image to uint8 prior to saving to suppress this warning.\n",
      "Lossy conversion from float32 to uint8. Range [0.0, 2.0]. Convert image to uint8 prior to saving to suppress this warning.\n",
      "Lossy conversion from float64 to uint8. Range [0, 1]. Convert image to uint8 prior to saving to suppress this warning.\n",
      "Clipping input data to the valid range for imshow with RGB data ([0..1] for floats or [0..255] for integers).\n",
      "Lossy conversion from float32 to uint8. Range [0.0, 255.0]. Convert image to uint8 prior to saving to suppress this warning.\n",
      "Lossy conversion from float32 to uint8. Range [0.0, 2.0]. Convert image to uint8 prior to saving to suppress this warning.\n",
      "Lossy conversion from float64 to uint8. Range [0, 1]. Convert image to uint8 prior to saving to suppress this warning.\n",
      "Clipping input data to the valid range for imshow with RGB data ([0..1] for floats or [0..255] for integers).\n",
      "Lossy conversion from float32 to uint8. Range [0.0, 255.0]. Convert image to uint8 prior to saving to suppress this warning.\n",
      "Lossy conversion from float32 to uint8. Range [0.0, 2.0]. Convert image to uint8 prior to saving to suppress this warning.\n",
      "Lossy conversion from float64 to uint8. Range [0, 1]. Convert image to uint8 prior to saving to suppress this warning.\n",
      "Clipping input data to the valid range for imshow with RGB data ([0..1] for floats or [0..255] for integers).\n",
      "Lossy conversion from float32 to uint8. Range [0.0, 255.0]. Convert image to uint8 prior to saving to suppress this warning.\n",
      "Lossy conversion from float32 to uint8. Range [0.0, 2.0]. Convert image to uint8 prior to saving to suppress this warning.\n",
      "Lossy conversion from float64 to uint8. Range [0, 1]. Convert image to uint8 prior to saving to suppress this warning.\n",
      "Clipping input data to the valid range for imshow with RGB data ([0..1] for floats or [0..255] for integers).\n"
     ]
    },
    {
     "name": "stdout",
     "output_type": "stream",
     "text": [
      "[INFO] Epoch 67 loss tf.Tensor(7.6015463, shape=(), dtype=float32) roomTypeLoss: tf.Tensor(3.969691, shape=(), dtype=float32) roomBoundLosstf.Tensor(11.233401, shape=(), dtype=float32)\n"
     ]
    },
    {
     "name": "stderr",
     "output_type": "stream",
     "text": [
      "Lossy conversion from float32 to uint8. Range [0.0, 105.0]. Convert image to uint8 prior to saving to suppress this warning.\n",
      "Lossy conversion from float32 to uint8. Range [0.0, 2.0]. Convert image to uint8 prior to saving to suppress this warning.\n",
      "Lossy conversion from float64 to uint8. Range [0, 1]. Convert image to uint8 prior to saving to suppress this warning.\n",
      "Clipping input data to the valid range for imshow with RGB data ([0..1] for floats or [0..255] for integers).\n",
      "Lossy conversion from float32 to uint8. Range [0.0, 255.0]. Convert image to uint8 prior to saving to suppress this warning.\n",
      "Lossy conversion from float32 to uint8. Range [0.0, 2.0]. Convert image to uint8 prior to saving to suppress this warning.\n",
      "Lossy conversion from float64 to uint8. Range [0, 1]. Convert image to uint8 prior to saving to suppress this warning.\n",
      "Clipping input data to the valid range for imshow with RGB data ([0..1] for floats or [0..255] for integers).\n",
      "Lossy conversion from float32 to uint8. Range [0.0, 255.0]. Convert image to uint8 prior to saving to suppress this warning.\n",
      "Lossy conversion from float32 to uint8. Range [0.0, 2.0]. Convert image to uint8 prior to saving to suppress this warning.\n",
      "Lossy conversion from float64 to uint8. Range [0, 1]. Convert image to uint8 prior to saving to suppress this warning.\n",
      "Clipping input data to the valid range for imshow with RGB data ([0..1] for floats or [0..255] for integers).\n",
      "Lossy conversion from float32 to uint8. Range [0.0, 255.0]. Convert image to uint8 prior to saving to suppress this warning.\n",
      "Lossy conversion from float32 to uint8. Range [0.0, 2.0]. Convert image to uint8 prior to saving to suppress this warning.\n",
      "Lossy conversion from float64 to uint8. Range [0, 1]. Convert image to uint8 prior to saving to suppress this warning.\n",
      "Clipping input data to the valid range for imshow with RGB data ([0..1] for floats or [0..255] for integers).\n"
     ]
    },
    {
     "name": "stdout",
     "output_type": "stream",
     "text": [
      "[INFO] Epoch 68 loss tf.Tensor(5.913826, shape=(), dtype=float32) roomTypeLoss: tf.Tensor(3.4741602, shape=(), dtype=float32) roomBoundLosstf.Tensor(8.353492, shape=(), dtype=float32)\n"
     ]
    },
    {
     "name": "stderr",
     "output_type": "stream",
     "text": [
      "Lossy conversion from float32 to uint8. Range [0.0, 255.0]. Convert image to uint8 prior to saving to suppress this warning.\n",
      "Lossy conversion from float32 to uint8. Range [0.0, 2.0]. Convert image to uint8 prior to saving to suppress this warning.\n",
      "Lossy conversion from float64 to uint8. Range [0, 1]. Convert image to uint8 prior to saving to suppress this warning.\n",
      "Clipping input data to the valid range for imshow with RGB data ([0..1] for floats or [0..255] for integers).\n",
      "Lossy conversion from float32 to uint8. Range [0.0, 255.0]. Convert image to uint8 prior to saving to suppress this warning.\n",
      "Lossy conversion from float32 to uint8. Range [0.0, 2.0]. Convert image to uint8 prior to saving to suppress this warning.\n",
      "Lossy conversion from float64 to uint8. Range [0, 1]. Convert image to uint8 prior to saving to suppress this warning.\n",
      "Clipping input data to the valid range for imshow with RGB data ([0..1] for floats or [0..255] for integers).\n",
      "Lossy conversion from float32 to uint8. Range [0.0, 255.0]. Convert image to uint8 prior to saving to suppress this warning.\n",
      "Lossy conversion from float32 to uint8. Range [0.0, 2.0]. Convert image to uint8 prior to saving to suppress this warning.\n",
      "Lossy conversion from float64 to uint8. Range [0, 1]. Convert image to uint8 prior to saving to suppress this warning.\n",
      "Clipping input data to the valid range for imshow with RGB data ([0..1] for floats or [0..255] for integers).\n"
     ]
    },
    {
     "name": "stdout",
     "output_type": "stream",
     "text": [
      "[INFO] Epoch 69 loss tf.Tensor(4.917766, shape=(), dtype=float32) roomTypeLoss: tf.Tensor(2.4196322, shape=(), dtype=float32) roomBoundLosstf.Tensor(7.4158998, shape=(), dtype=float32)\n"
     ]
    },
    {
     "name": "stderr",
     "output_type": "stream",
     "text": [
      "Lossy conversion from float32 to uint8. Range [0.0, 255.0]. Convert image to uint8 prior to saving to suppress this warning.\n",
      "Lossy conversion from float32 to uint8. Range [0.0, 2.0]. Convert image to uint8 prior to saving to suppress this warning.\n",
      "Lossy conversion from float64 to uint8. Range [0, 1]. Convert image to uint8 prior to saving to suppress this warning.\n",
      "Clipping input data to the valid range for imshow with RGB data ([0..1] for floats or [0..255] for integers).\n",
      "Lossy conversion from float32 to uint8. Range [0.0, 255.0]. Convert image to uint8 prior to saving to suppress this warning.\n",
      "/d2/studies/TF2DeepFloorplan/train.py:95: UserWarning: /d2/studies/TF2DeepFloorplan/./outJan11_TFR4/45777601_rooms.png is a low contrast image\n",
      "  imsave(os.path.join(os.getcwd(), outdir + '/' + str(pltiter) + '_rooms.png'), r)\n",
      "Lossy conversion from float32 to uint8. Range [0.0, 2.0]. Convert image to uint8 prior to saving to suppress this warning.\n",
      "/d2/studies/TF2DeepFloorplan/train.py:99: UserWarning: /d2/studies/TF2DeepFloorplan/./outJan11_TFR4/45777601_rooms_pred.png is a low contrast image\n",
      "  imsave(os.path.join(os.getcwd(), outdir + '/' + str(pltiter) + '_rooms_pred.png'), img_as_float(lr))\n",
      "Lossy conversion from float64 to uint8. Range [0, 1]. Convert image to uint8 prior to saving to suppress this warning.\n",
      "Clipping input data to the valid range for imshow with RGB data ([0..1] for floats or [0..255] for integers).\n",
      "Lossy conversion from float32 to uint8. Range [0.0, 255.0]. Convert image to uint8 prior to saving to suppress this warning.\n",
      "Lossy conversion from float32 to uint8. Range [0.0, 2.0]. Convert image to uint8 prior to saving to suppress this warning.\n",
      "Lossy conversion from float64 to uint8. Range [0, 1]. Convert image to uint8 prior to saving to suppress this warning.\n",
      "Clipping input data to the valid range for imshow with RGB data ([0..1] for floats or [0..255] for integers).\n",
      "Lossy conversion from float32 to uint8. Range [0.0, 255.0]. Convert image to uint8 prior to saving to suppress this warning.\n",
      "Lossy conversion from float32 to uint8. Range [0.0, 2.0]. Convert image to uint8 prior to saving to suppress this warning.\n",
      "Lossy conversion from float64 to uint8. Range [0, 1]. Convert image to uint8 prior to saving to suppress this warning.\n",
      "Clipping input data to the valid range for imshow with RGB data ([0..1] for floats or [0..255] for integers).\n"
     ]
    },
    {
     "name": "stdout",
     "output_type": "stream",
     "text": [
      "[INFO] Epoch 70 loss tf.Tensor(4.8546762, shape=(), dtype=float32) roomTypeLoss: tf.Tensor(2.4924703, shape=(), dtype=float32) roomBoundLosstf.Tensor(7.216882, shape=(), dtype=float32)\n"
     ]
    },
    {
     "name": "stderr",
     "output_type": "stream",
     "text": [
      "Lossy conversion from float32 to uint8. Range [17.0, 255.0]. Convert image to uint8 prior to saving to suppress this warning.\n",
      "Lossy conversion from float32 to uint8. Range [0.0, 2.0]. Convert image to uint8 prior to saving to suppress this warning.\n",
      "Lossy conversion from float64 to uint8. Range [0, 1]. Convert image to uint8 prior to saving to suppress this warning.\n",
      "Clipping input data to the valid range for imshow with RGB data ([0..1] for floats or [0..255] for integers).\n",
      "Lossy conversion from float32 to uint8. Range [0.0, 255.0]. Convert image to uint8 prior to saving to suppress this warning.\n",
      "Lossy conversion from float32 to uint8. Range [0.0, 2.0]. Convert image to uint8 prior to saving to suppress this warning.\n",
      "Lossy conversion from float64 to uint8. Range [0, 1]. Convert image to uint8 prior to saving to suppress this warning.\n",
      "Clipping input data to the valid range for imshow with RGB data ([0..1] for floats or [0..255] for integers).\n",
      "Lossy conversion from float32 to uint8. Range [0.0, 255.0]. Convert image to uint8 prior to saving to suppress this warning.\n",
      "/d2/studies/TF2DeepFloorplan/train.py:95: UserWarning: /d2/studies/TF2DeepFloorplan/./outJan11_TFR4/31830138_rooms.png is a low contrast image\n",
      "  imsave(os.path.join(os.getcwd(), outdir + '/' + str(pltiter) + '_rooms.png'), r)\n",
      "Lossy conversion from float32 to uint8. Range [0.0, 2.0]. Convert image to uint8 prior to saving to suppress this warning.\n",
      "/d2/studies/TF2DeepFloorplan/train.py:99: UserWarning: /d2/studies/TF2DeepFloorplan/./outJan11_TFR4/31830138_rooms_pred.png is a low contrast image\n",
      "  imsave(os.path.join(os.getcwd(), outdir + '/' + str(pltiter) + '_rooms_pred.png'), img_as_float(lr))\n",
      "Lossy conversion from float64 to uint8. Range [0, 1]. Convert image to uint8 prior to saving to suppress this warning.\n",
      "Clipping input data to the valid range for imshow with RGB data ([0..1] for floats or [0..255] for integers).\n"
     ]
    },
    {
     "name": "stdout",
     "output_type": "stream",
     "text": [
      "[INFO] Epoch 71 loss tf.Tensor(10.500664, shape=(), dtype=float32) roomTypeLoss: tf.Tensor(5.0426383, shape=(), dtype=float32) roomBoundLosstf.Tensor(15.95869, shape=(), dtype=float32)\n"
     ]
    },
    {
     "name": "stderr",
     "output_type": "stream",
     "text": [
      "Lossy conversion from float32 to uint8. Range [0.0, 255.0]. Convert image to uint8 prior to saving to suppress this warning.\n",
      "/d2/studies/TF2DeepFloorplan/train.py:95: UserWarning: /d2/studies/TF2DeepFloorplan/./outJan11_TFR4/45725035_rooms.png is a low contrast image\n",
      "  imsave(os.path.join(os.getcwd(), outdir + '/' + str(pltiter) + '_rooms.png'), r)\n",
      "Lossy conversion from float32 to uint8. Range [0.0, 2.0]. Convert image to uint8 prior to saving to suppress this warning.\n",
      "/d2/studies/TF2DeepFloorplan/train.py:99: UserWarning: /d2/studies/TF2DeepFloorplan/./outJan11_TFR4/45725035_rooms_pred.png is a low contrast image\n",
      "  imsave(os.path.join(os.getcwd(), outdir + '/' + str(pltiter) + '_rooms_pred.png'), img_as_float(lr))\n",
      "Lossy conversion from float64 to uint8. Range [0, 1]. Convert image to uint8 prior to saving to suppress this warning.\n",
      "Clipping input data to the valid range for imshow with RGB data ([0..1] for floats or [0..255] for integers).\n",
      "Lossy conversion from float32 to uint8. Range [0.0, 255.0]. Convert image to uint8 prior to saving to suppress this warning.\n",
      "Lossy conversion from float32 to uint8. Range [0.0, 2.0]. Convert image to uint8 prior to saving to suppress this warning.\n",
      "Lossy conversion from float64 to uint8. Range [0, 1]. Convert image to uint8 prior to saving to suppress this warning.\n",
      "Clipping input data to the valid range for imshow with RGB data ([0..1] for floats or [0..255] for integers).\n",
      "Lossy conversion from float32 to uint8. Range [0.0, 255.0]. Convert image to uint8 prior to saving to suppress this warning.\n",
      "Lossy conversion from float32 to uint8. Range [0.0, 2.0]. Convert image to uint8 prior to saving to suppress this warning.\n",
      "Lossy conversion from float64 to uint8. Range [0, 1]. Convert image to uint8 prior to saving to suppress this warning.\n",
      "Clipping input data to the valid range for imshow with RGB data ([0..1] for floats or [0..255] for integers).\n",
      "Lossy conversion from float32 to uint8. Range [0.0, 105.0]. Convert image to uint8 prior to saving to suppress this warning.\n",
      "Lossy conversion from float32 to uint8. Range [0.0, 2.0]. Convert image to uint8 prior to saving to suppress this warning.\n",
      "Lossy conversion from float64 to uint8. Range [0, 1]. Convert image to uint8 prior to saving to suppress this warning.\n",
      "Clipping input data to the valid range for imshow with RGB data ([0..1] for floats or [0..255] for integers).\n"
     ]
    },
    {
     "name": "stdout",
     "output_type": "stream",
     "text": [
      "[INFO] Epoch 72 loss tf.Tensor(5.358784, shape=(), dtype=float32) roomTypeLoss: tf.Tensor(3.2267005, shape=(), dtype=float32) roomBoundLosstf.Tensor(7.490868, shape=(), dtype=float32)\n"
     ]
    },
    {
     "name": "stderr",
     "output_type": "stream",
     "text": [
      "Lossy conversion from float32 to uint8. Range [0.0, 255.0]. Convert image to uint8 prior to saving to suppress this warning.\n",
      "Lossy conversion from float32 to uint8. Range [0.0, 2.0]. Convert image to uint8 prior to saving to suppress this warning.\n",
      "Lossy conversion from float64 to uint8. Range [0, 1]. Convert image to uint8 prior to saving to suppress this warning.\n",
      "Clipping input data to the valid range for imshow with RGB data ([0..1] for floats or [0..255] for integers).\n",
      "Lossy conversion from float32 to uint8. Range [0.0, 255.0]. Convert image to uint8 prior to saving to suppress this warning.\n",
      "/d2/studies/TF2DeepFloorplan/train.py:95: UserWarning: /d2/studies/TF2DeepFloorplan/./outJan11_TFR4/45724345_rooms.png is a low contrast image\n",
      "  imsave(os.path.join(os.getcwd(), outdir + '/' + str(pltiter) + '_rooms.png'), r)\n",
      "Lossy conversion from float32 to uint8. Range [0.0, 2.0]. Convert image to uint8 prior to saving to suppress this warning.\n",
      "/d2/studies/TF2DeepFloorplan/train.py:99: UserWarning: /d2/studies/TF2DeepFloorplan/./outJan11_TFR4/45724345_rooms_pred.png is a low contrast image\n",
      "  imsave(os.path.join(os.getcwd(), outdir + '/' + str(pltiter) + '_rooms_pred.png'), img_as_float(lr))\n",
      "Lossy conversion from float64 to uint8. Range [0, 1]. Convert image to uint8 prior to saving to suppress this warning.\n",
      "Clipping input data to the valid range for imshow with RGB data ([0..1] for floats or [0..255] for integers).\n",
      "Lossy conversion from float32 to uint8. Range [0.0, 255.0]. Convert image to uint8 prior to saving to suppress this warning.\n",
      "Lossy conversion from float32 to uint8. Range [0.0, 2.0]. Convert image to uint8 prior to saving to suppress this warning.\n",
      "Lossy conversion from float64 to uint8. Range [0, 1]. Convert image to uint8 prior to saving to suppress this warning.\n",
      "Clipping input data to the valid range for imshow with RGB data ([0..1] for floats or [0..255] for integers).\n"
     ]
    },
    {
     "name": "stdout",
     "output_type": "stream",
     "text": [
      "[INFO] Epoch 73 loss tf.Tensor(6.96426, shape=(), dtype=float32) roomTypeLoss: tf.Tensor(2.774495, shape=(), dtype=float32) roomBoundLosstf.Tensor(11.154025, shape=(), dtype=float32)\n"
     ]
    },
    {
     "name": "stderr",
     "output_type": "stream",
     "text": [
      "Lossy conversion from float32 to uint8. Range [0.0, 255.0]. Convert image to uint8 prior to saving to suppress this warning.\n",
      "/d2/studies/TF2DeepFloorplan/train.py:95: UserWarning: /d2/studies/TF2DeepFloorplan/./outJan11_TFR4/31878567_rooms.png is a low contrast image\n",
      "  imsave(os.path.join(os.getcwd(), outdir + '/' + str(pltiter) + '_rooms.png'), r)\n",
      "Lossy conversion from float32 to uint8. Range [0.0, 2.0]. Convert image to uint8 prior to saving to suppress this warning.\n",
      "/d2/studies/TF2DeepFloorplan/train.py:99: UserWarning: /d2/studies/TF2DeepFloorplan/./outJan11_TFR4/31878567_rooms_pred.png is a low contrast image\n",
      "  imsave(os.path.join(os.getcwd(), outdir + '/' + str(pltiter) + '_rooms_pred.png'), img_as_float(lr))\n",
      "Lossy conversion from float64 to uint8. Range [0, 1]. Convert image to uint8 prior to saving to suppress this warning.\n",
      "Clipping input data to the valid range for imshow with RGB data ([0..1] for floats or [0..255] for integers).\n",
      "Lossy conversion from float32 to uint8. Range [0.0, 255.0]. Convert image to uint8 prior to saving to suppress this warning.\n",
      "/d2/studies/TF2DeepFloorplan/train.py:95: UserWarning: /d2/studies/TF2DeepFloorplan/./outJan11_TFR4/47514899_rooms.png is a low contrast image\n",
      "  imsave(os.path.join(os.getcwd(), outdir + '/' + str(pltiter) + '_rooms.png'), r)\n",
      "Lossy conversion from float32 to uint8. Range [0.0, 2.0]. Convert image to uint8 prior to saving to suppress this warning.\n",
      "/d2/studies/TF2DeepFloorplan/train.py:99: UserWarning: /d2/studies/TF2DeepFloorplan/./outJan11_TFR4/47514899_rooms_pred.png is a low contrast image\n",
      "  imsave(os.path.join(os.getcwd(), outdir + '/' + str(pltiter) + '_rooms_pred.png'), img_as_float(lr))\n",
      "Lossy conversion from float64 to uint8. Range [0, 1]. Convert image to uint8 prior to saving to suppress this warning.\n",
      "Clipping input data to the valid range for imshow with RGB data ([0..1] for floats or [0..255] for integers).\n",
      "Lossy conversion from float32 to uint8. Range [6.0, 255.0]. Convert image to uint8 prior to saving to suppress this warning.\n",
      "/d2/studies/TF2DeepFloorplan/train.py:95: UserWarning: /d2/studies/TF2DeepFloorplan/./outJan11_TFR4/31566489_rooms.png is a low contrast image\n",
      "  imsave(os.path.join(os.getcwd(), outdir + '/' + str(pltiter) + '_rooms.png'), r)\n",
      "Lossy conversion from float32 to uint8. Range [0.0, 2.0]. Convert image to uint8 prior to saving to suppress this warning.\n",
      "/d2/studies/TF2DeepFloorplan/train.py:99: UserWarning: /d2/studies/TF2DeepFloorplan/./outJan11_TFR4/31566489_rooms_pred.png is a low contrast image\n",
      "  imsave(os.path.join(os.getcwd(), outdir + '/' + str(pltiter) + '_rooms_pred.png'), img_as_float(lr))\n",
      "Lossy conversion from float64 to uint8. Range [0, 1]. Convert image to uint8 prior to saving to suppress this warning.\n",
      "Clipping input data to the valid range for imshow with RGB data ([0..1] for floats or [0..255] for integers).\n",
      "Lossy conversion from float32 to uint8. Range [0.0, 255.0]. Convert image to uint8 prior to saving to suppress this warning.\n",
      "Lossy conversion from float32 to uint8. Range [0.0, 2.0]. Convert image to uint8 prior to saving to suppress this warning.\n",
      "Lossy conversion from float64 to uint8. Range [0, 1]. Convert image to uint8 prior to saving to suppress this warning.\n",
      "Clipping input data to the valid range for imshow with RGB data ([0..1] for floats or [0..255] for integers).\n"
     ]
    },
    {
     "name": "stdout",
     "output_type": "stream",
     "text": [
      "[INFO] Epoch 74 loss tf.Tensor(9.177914, shape=(), dtype=float32) roomTypeLoss: tf.Tensor(4.0207644, shape=(), dtype=float32) roomBoundLosstf.Tensor(14.335064, shape=(), dtype=float32)\n"
     ]
    },
    {
     "name": "stderr",
     "output_type": "stream",
     "text": [
      "Lossy conversion from float32 to uint8. Range [0.0, 255.0]. Convert image to uint8 prior to saving to suppress this warning.\n",
      "Lossy conversion from float32 to uint8. Range [0.0, 2.0]. Convert image to uint8 prior to saving to suppress this warning.\n",
      "Lossy conversion from float64 to uint8. Range [0, 1]. Convert image to uint8 prior to saving to suppress this warning.\n",
      "Clipping input data to the valid range for imshow with RGB data ([0..1] for floats or [0..255] for integers).\n",
      "Lossy conversion from float32 to uint8. Range [13.0, 255.0]. Convert image to uint8 prior to saving to suppress this warning.\n",
      "Lossy conversion from float32 to uint8. Range [0.0, 2.0]. Convert image to uint8 prior to saving to suppress this warning.\n",
      "Lossy conversion from float64 to uint8. Range [0, 1]. Convert image to uint8 prior to saving to suppress this warning.\n",
      "Clipping input data to the valid range for imshow with RGB data ([0..1] for floats or [0..255] for integers).\n",
      "Lossy conversion from float32 to uint8. Range [0.0, 255.0]. Convert image to uint8 prior to saving to suppress this warning.\n",
      "Lossy conversion from float32 to uint8. Range [0.0, 2.0]. Convert image to uint8 prior to saving to suppress this warning.\n",
      "Lossy conversion from float64 to uint8. Range [0, 1]. Convert image to uint8 prior to saving to suppress this warning.\n",
      "Clipping input data to the valid range for imshow with RGB data ([0..1] for floats or [0..255] for integers).\n",
      "Lossy conversion from float32 to uint8. Range [0.0, 255.0]. Convert image to uint8 prior to saving to suppress this warning.\n",
      "Lossy conversion from float32 to uint8. Range [0.0, 2.0]. Convert image to uint8 prior to saving to suppress this warning.\n",
      "Lossy conversion from float64 to uint8. Range [0, 1]. Convert image to uint8 prior to saving to suppress this warning.\n",
      "Clipping input data to the valid range for imshow with RGB data ([0..1] for floats or [0..255] for integers).\n"
     ]
    },
    {
     "name": "stdout",
     "output_type": "stream",
     "text": [
      "[INFO] Epoch 75 loss tf.Tensor(6.411524, shape=(), dtype=float32) roomTypeLoss: tf.Tensor(3.6106644, shape=(), dtype=float32) roomBoundLosstf.Tensor(9.212383, shape=(), dtype=float32)\n"
     ]
    },
    {
     "name": "stderr",
     "output_type": "stream",
     "text": [
      "Lossy conversion from float32 to uint8. Range [0.0, 255.0]. Convert image to uint8 prior to saving to suppress this warning.\n",
      "/d2/studies/TF2DeepFloorplan/train.py:95: UserWarning: /d2/studies/TF2DeepFloorplan/./outJan11_TFR4/31873326_rooms.png is a low contrast image\n",
      "  imsave(os.path.join(os.getcwd(), outdir + '/' + str(pltiter) + '_rooms.png'), r)\n",
      "Lossy conversion from float32 to uint8. Range [0.0, 2.0]. Convert image to uint8 prior to saving to suppress this warning.\n",
      "/d2/studies/TF2DeepFloorplan/train.py:99: UserWarning: /d2/studies/TF2DeepFloorplan/./outJan11_TFR4/31873326_rooms_pred.png is a low contrast image\n",
      "  imsave(os.path.join(os.getcwd(), outdir + '/' + str(pltiter) + '_rooms_pred.png'), img_as_float(lr))\n",
      "Lossy conversion from float64 to uint8. Range [0, 1]. Convert image to uint8 prior to saving to suppress this warning.\n",
      "Clipping input data to the valid range for imshow with RGB data ([0..1] for floats or [0..255] for integers).\n",
      "Lossy conversion from float32 to uint8. Range [0.0, 255.0]. Convert image to uint8 prior to saving to suppress this warning.\n",
      "/d2/studies/TF2DeepFloorplan/train.py:95: UserWarning: /d2/studies/TF2DeepFloorplan/./outJan11_TFR4/31890228_rooms.png is a low contrast image\n",
      "  imsave(os.path.join(os.getcwd(), outdir + '/' + str(pltiter) + '_rooms.png'), r)\n",
      "Lossy conversion from float32 to uint8. Range [0.0, 2.0]. Convert image to uint8 prior to saving to suppress this warning.\n",
      "/d2/studies/TF2DeepFloorplan/train.py:99: UserWarning: /d2/studies/TF2DeepFloorplan/./outJan11_TFR4/31890228_rooms_pred.png is a low contrast image\n",
      "  imsave(os.path.join(os.getcwd(), outdir + '/' + str(pltiter) + '_rooms_pred.png'), img_as_float(lr))\n",
      "Lossy conversion from float64 to uint8. Range [0, 1]. Convert image to uint8 prior to saving to suppress this warning.\n",
      "Clipping input data to the valid range for imshow with RGB data ([0..1] for floats or [0..255] for integers).\n",
      "Lossy conversion from float32 to uint8. Range [0.0, 255.0]. Convert image to uint8 prior to saving to suppress this warning.\n",
      "Lossy conversion from float32 to uint8. Range [0.0, 2.0]. Convert image to uint8 prior to saving to suppress this warning.\n",
      "Lossy conversion from float64 to uint8. Range [0, 1]. Convert image to uint8 prior to saving to suppress this warning.\n",
      "Clipping input data to the valid range for imshow with RGB data ([0..1] for floats or [0..255] for integers).\n"
     ]
    },
    {
     "name": "stdout",
     "output_type": "stream",
     "text": [
      "[INFO] Epoch 76 loss tf.Tensor(5.6467314, shape=(), dtype=float32) roomTypeLoss: tf.Tensor(2.7427063, shape=(), dtype=float32) roomBoundLosstf.Tensor(8.550756, shape=(), dtype=float32)\n"
     ]
    },
    {
     "name": "stderr",
     "output_type": "stream",
     "text": [
      "Lossy conversion from float32 to uint8. Range [0.0, 255.0]. Convert image to uint8 prior to saving to suppress this warning.\n",
      "Lossy conversion from float32 to uint8. Range [0.0, 2.0]. Convert image to uint8 prior to saving to suppress this warning.\n",
      "Lossy conversion from float64 to uint8. Range [0, 1]. Convert image to uint8 prior to saving to suppress this warning.\n",
      "Clipping input data to the valid range for imshow with RGB data ([0..1] for floats or [0..255] for integers).\n",
      "Lossy conversion from float32 to uint8. Range [0.0, 255.0]. Convert image to uint8 prior to saving to suppress this warning.\n",
      "Lossy conversion from float32 to uint8. Range [0.0, 2.0]. Convert image to uint8 prior to saving to suppress this warning.\n",
      "Lossy conversion from float64 to uint8. Range [0, 1]. Convert image to uint8 prior to saving to suppress this warning.\n",
      "Clipping input data to the valid range for imshow with RGB data ([0..1] for floats or [0..255] for integers).\n",
      "Lossy conversion from float32 to uint8. Range [0.0, 255.0]. Convert image to uint8 prior to saving to suppress this warning.\n",
      "Lossy conversion from float32 to uint8. Range [0.0, 2.0]. Convert image to uint8 prior to saving to suppress this warning.\n",
      "Lossy conversion from float64 to uint8. Range [0, 1]. Convert image to uint8 prior to saving to suppress this warning.\n",
      "Clipping input data to the valid range for imshow with RGB data ([0..1] for floats or [0..255] for integers).\n",
      "Lossy conversion from float32 to uint8. Range [0.0, 255.0]. Convert image to uint8 prior to saving to suppress this warning.\n",
      "Lossy conversion from float32 to uint8. Range [0.0, 2.0]. Convert image to uint8 prior to saving to suppress this warning.\n",
      "Lossy conversion from float64 to uint8. Range [0, 1]. Convert image to uint8 prior to saving to suppress this warning.\n",
      "Clipping input data to the valid range for imshow with RGB data ([0..1] for floats or [0..255] for integers).\n"
     ]
    },
    {
     "name": "stdout",
     "output_type": "stream",
     "text": [
      "[INFO] Epoch 77 loss tf.Tensor(8.3040695, shape=(), dtype=float32) roomTypeLoss: tf.Tensor(3.8860774, shape=(), dtype=float32) roomBoundLosstf.Tensor(12.722062, shape=(), dtype=float32)\n"
     ]
    },
    {
     "name": "stderr",
     "output_type": "stream",
     "text": [
      "Lossy conversion from float32 to uint8. Range [0.0, 255.0]. Convert image to uint8 prior to saving to suppress this warning.\n",
      "Lossy conversion from float32 to uint8. Range [0.0, 2.0]. Convert image to uint8 prior to saving to suppress this warning.\n",
      "Lossy conversion from float64 to uint8. Range [0, 1]. Convert image to uint8 prior to saving to suppress this warning.\n",
      "Clipping input data to the valid range for imshow with RGB data ([0..1] for floats or [0..255] for integers).\n",
      "Lossy conversion from float32 to uint8. Range [0.0, 253.0]. Convert image to uint8 prior to saving to suppress this warning.\n",
      "Lossy conversion from float32 to uint8. Range [0.0, 2.0]. Convert image to uint8 prior to saving to suppress this warning.\n",
      "Lossy conversion from float64 to uint8. Range [0, 1]. Convert image to uint8 prior to saving to suppress this warning.\n",
      "Clipping input data to the valid range for imshow with RGB data ([0..1] for floats or [0..255] for integers).\n",
      "Lossy conversion from float32 to uint8. Range [0.0, 255.0]. Convert image to uint8 prior to saving to suppress this warning.\n",
      "Lossy conversion from float32 to uint8. Range [0.0, 2.0]. Convert image to uint8 prior to saving to suppress this warning.\n",
      "Lossy conversion from float64 to uint8. Range [0, 1]. Convert image to uint8 prior to saving to suppress this warning.\n",
      "Clipping input data to the valid range for imshow with RGB data ([0..1] for floats or [0..255] for integers).\n"
     ]
    },
    {
     "name": "stdout",
     "output_type": "stream",
     "text": [
      "[INFO] Epoch 78 loss tf.Tensor(6.6234117, shape=(), dtype=float32) roomTypeLoss: tf.Tensor(2.825552, shape=(), dtype=float32) roomBoundLosstf.Tensor(10.421271, shape=(), dtype=float32)\n"
     ]
    },
    {
     "name": "stderr",
     "output_type": "stream",
     "text": [
      "Lossy conversion from float32 to uint8. Range [0.0, 255.0]. Convert image to uint8 prior to saving to suppress this warning.\n",
      "Lossy conversion from float32 to uint8. Range [0.0, 2.0]. Convert image to uint8 prior to saving to suppress this warning.\n",
      "Lossy conversion from float64 to uint8. Range [0, 1]. Convert image to uint8 prior to saving to suppress this warning.\n",
      "Clipping input data to the valid range for imshow with RGB data ([0..1] for floats or [0..255] for integers).\n",
      "Lossy conversion from float32 to uint8. Range [0.0, 255.0]. Convert image to uint8 prior to saving to suppress this warning.\n",
      "Lossy conversion from float32 to uint8. Range [0.0, 2.0]. Convert image to uint8 prior to saving to suppress this warning.\n",
      "Lossy conversion from float64 to uint8. Range [0, 1]. Convert image to uint8 prior to saving to suppress this warning.\n",
      "Clipping input data to the valid range for imshow with RGB data ([0..1] for floats or [0..255] for integers).\n",
      "Lossy conversion from float32 to uint8. Range [0.0, 255.0]. Convert image to uint8 prior to saving to suppress this warning.\n",
      "Lossy conversion from float32 to uint8. Range [0.0, 2.0]. Convert image to uint8 prior to saving to suppress this warning.\n",
      "Lossy conversion from float64 to uint8. Range [0, 1]. Convert image to uint8 prior to saving to suppress this warning.\n",
      "Clipping input data to the valid range for imshow with RGB data ([0..1] for floats or [0..255] for integers).\n",
      "Lossy conversion from float32 to uint8. Range [0.0, 255.0]. Convert image to uint8 prior to saving to suppress this warning.\n",
      "Lossy conversion from float32 to uint8. Range [0.0, 2.0]. Convert image to uint8 prior to saving to suppress this warning.\n",
      "Lossy conversion from float64 to uint8. Range [0, 1]. Convert image to uint8 prior to saving to suppress this warning.\n",
      "Clipping input data to the valid range for imshow with RGB data ([0..1] for floats or [0..255] for integers).\n"
     ]
    },
    {
     "name": "stdout",
     "output_type": "stream",
     "text": [
      "[INFO] Epoch 79 loss tf.Tensor(8.456601, shape=(), dtype=float32) roomTypeLoss: tf.Tensor(3.5211499, shape=(), dtype=float32) roomBoundLosstf.Tensor(13.392052, shape=(), dtype=float32)\n"
     ]
    },
    {
     "name": "stderr",
     "output_type": "stream",
     "text": [
      "Lossy conversion from float32 to uint8. Range [6.0, 255.0]. Convert image to uint8 prior to saving to suppress this warning.\n",
      "Lossy conversion from float32 to uint8. Range [0.0, 2.0]. Convert image to uint8 prior to saving to suppress this warning.\n",
      "Lossy conversion from float64 to uint8. Range [0, 1]. Convert image to uint8 prior to saving to suppress this warning.\n",
      "Clipping input data to the valid range for imshow with RGB data ([0..1] for floats or [0..255] for integers).\n",
      "Lossy conversion from float32 to uint8. Range [6.0, 255.0]. Convert image to uint8 prior to saving to suppress this warning.\n",
      "Lossy conversion from float32 to uint8. Range [0.0, 2.0]. Convert image to uint8 prior to saving to suppress this warning.\n",
      "Lossy conversion from float64 to uint8. Range [0, 1]. Convert image to uint8 prior to saving to suppress this warning.\n",
      "Clipping input data to the valid range for imshow with RGB data ([0..1] for floats or [0..255] for integers).\n",
      "Lossy conversion from float32 to uint8. Range [0.0, 255.0]. Convert image to uint8 prior to saving to suppress this warning.\n",
      "Lossy conversion from float32 to uint8. Range [0.0, 2.0]. Convert image to uint8 prior to saving to suppress this warning.\n",
      "Lossy conversion from float64 to uint8. Range [0, 1]. Convert image to uint8 prior to saving to suppress this warning.\n",
      "Clipping input data to the valid range for imshow with RGB data ([0..1] for floats or [0..255] for integers).\n"
     ]
    },
    {
     "name": "stdout",
     "output_type": "stream",
     "text": [
      "[INFO] Epoch 80 loss tf.Tensor(7.958591, shape=(), dtype=float32) roomTypeLoss: tf.Tensor(3.816435, shape=(), dtype=float32) roomBoundLosstf.Tensor(12.100747, shape=(), dtype=float32)\n"
     ]
    },
    {
     "name": "stderr",
     "output_type": "stream",
     "text": [
      "Lossy conversion from float32 to uint8. Range [0.0, 255.0]. Convert image to uint8 prior to saving to suppress this warning.\n",
      "Lossy conversion from float32 to uint8. Range [0.0, 2.0]. Convert image to uint8 prior to saving to suppress this warning.\n",
      "Lossy conversion from float64 to uint8. Range [0, 1]. Convert image to uint8 prior to saving to suppress this warning.\n",
      "Clipping input data to the valid range for imshow with RGB data ([0..1] for floats or [0..255] for integers).\n",
      "Lossy conversion from float32 to uint8. Range [0.0, 255.0]. Convert image to uint8 prior to saving to suppress this warning.\n",
      "Lossy conversion from float32 to uint8. Range [0.0, 2.0]. Convert image to uint8 prior to saving to suppress this warning.\n",
      "Lossy conversion from float64 to uint8. Range [0, 1]. Convert image to uint8 prior to saving to suppress this warning.\n",
      "Clipping input data to the valid range for imshow with RGB data ([0..1] for floats or [0..255] for integers).\n",
      "Lossy conversion from float32 to uint8. Range [0.0, 255.0]. Convert image to uint8 prior to saving to suppress this warning.\n",
      "Lossy conversion from float32 to uint8. Range [0.0, 2.0]. Convert image to uint8 prior to saving to suppress this warning.\n",
      "Lossy conversion from float64 to uint8. Range [0, 1]. Convert image to uint8 prior to saving to suppress this warning.\n",
      "Clipping input data to the valid range for imshow with RGB data ([0..1] for floats or [0..255] for integers).\n",
      "Lossy conversion from float32 to uint8. Range [0.0, 255.0]. Convert image to uint8 prior to saving to suppress this warning.\n",
      "/d2/studies/TF2DeepFloorplan/train.py:95: UserWarning: /d2/studies/TF2DeepFloorplan/./outJan11_TFR4/45552859_rooms.png is a low contrast image\n",
      "  imsave(os.path.join(os.getcwd(), outdir + '/' + str(pltiter) + '_rooms.png'), r)\n",
      "Lossy conversion from float32 to uint8. Range [0.0, 2.0]. Convert image to uint8 prior to saving to suppress this warning.\n",
      "/d2/studies/TF2DeepFloorplan/train.py:99: UserWarning: /d2/studies/TF2DeepFloorplan/./outJan11_TFR4/45552859_rooms_pred.png is a low contrast image\n",
      "  imsave(os.path.join(os.getcwd(), outdir + '/' + str(pltiter) + '_rooms_pred.png'), img_as_float(lr))\n",
      "Lossy conversion from float64 to uint8. Range [0, 1]. Convert image to uint8 prior to saving to suppress this warning.\n",
      "Clipping input data to the valid range for imshow with RGB data ([0..1] for floats or [0..255] for integers).\n"
     ]
    },
    {
     "name": "stdout",
     "output_type": "stream",
     "text": [
      "[INFO] Epoch 81 loss tf.Tensor(10.570537, shape=(), dtype=float32) roomTypeLoss: tf.Tensor(5.598982, shape=(), dtype=float32) roomBoundLosstf.Tensor(15.542091, shape=(), dtype=float32)\n"
     ]
    },
    {
     "name": "stderr",
     "output_type": "stream",
     "text": [
      "Lossy conversion from float32 to uint8. Range [0.0, 255.0]. Convert image to uint8 prior to saving to suppress this warning.\n",
      "Lossy conversion from float32 to uint8. Range [0.0, 2.0]. Convert image to uint8 prior to saving to suppress this warning.\n",
      "Lossy conversion from float64 to uint8. Range [0, 1]. Convert image to uint8 prior to saving to suppress this warning.\n",
      "Clipping input data to the valid range for imshow with RGB data ([0..1] for floats or [0..255] for integers).\n",
      "Lossy conversion from float32 to uint8. Range [0.0, 255.0]. Convert image to uint8 prior to saving to suppress this warning.\n",
      "Lossy conversion from float32 to uint8. Range [0.0, 2.0]. Convert image to uint8 prior to saving to suppress this warning.\n",
      "Lossy conversion from float64 to uint8. Range [0, 1]. Convert image to uint8 prior to saving to suppress this warning.\n",
      "Clipping input data to the valid range for imshow with RGB data ([0..1] for floats or [0..255] for integers).\n",
      "Lossy conversion from float32 to uint8. Range [3.0, 255.0]. Convert image to uint8 prior to saving to suppress this warning.\n",
      "Lossy conversion from float32 to uint8. Range [0.0, 2.0]. Convert image to uint8 prior to saving to suppress this warning.\n",
      "Lossy conversion from float64 to uint8. Range [0, 1]. Convert image to uint8 prior to saving to suppress this warning.\n",
      "Clipping input data to the valid range for imshow with RGB data ([0..1] for floats or [0..255] for integers).\n",
      "Lossy conversion from float32 to uint8. Range [0.0, 255.0]. Convert image to uint8 prior to saving to suppress this warning.\n",
      "Lossy conversion from float32 to uint8. Range [0.0, 2.0]. Convert image to uint8 prior to saving to suppress this warning.\n",
      "Lossy conversion from float64 to uint8. Range [0, 1]. Convert image to uint8 prior to saving to suppress this warning.\n",
      "Clipping input data to the valid range for imshow with RGB data ([0..1] for floats or [0..255] for integers).\n"
     ]
    },
    {
     "name": "stdout",
     "output_type": "stream",
     "text": [
      "[INFO] Epoch 82 loss tf.Tensor(5.2764735, shape=(), dtype=float32) roomTypeLoss: tf.Tensor(2.422039, shape=(), dtype=float32) roomBoundLosstf.Tensor(8.130908, shape=(), dtype=float32)\n"
     ]
    },
    {
     "name": "stderr",
     "output_type": "stream",
     "text": [
      "Lossy conversion from float32 to uint8. Range [0.0, 255.0]. Convert image to uint8 prior to saving to suppress this warning.\n",
      "Lossy conversion from float32 to uint8. Range [0.0, 2.0]. Convert image to uint8 prior to saving to suppress this warning.\n",
      "Lossy conversion from float64 to uint8. Range [0, 1]. Convert image to uint8 prior to saving to suppress this warning.\n",
      "Clipping input data to the valid range for imshow with RGB data ([0..1] for floats or [0..255] for integers).\n",
      "Lossy conversion from float32 to uint8. Range [0.0, 255.0]. Convert image to uint8 prior to saving to suppress this warning.\n",
      "Lossy conversion from float32 to uint8. Range [0.0, 2.0]. Convert image to uint8 prior to saving to suppress this warning.\n",
      "Lossy conversion from float64 to uint8. Range [0, 1]. Convert image to uint8 prior to saving to suppress this warning.\n",
      "Clipping input data to the valid range for imshow with RGB data ([0..1] for floats or [0..255] for integers).\n",
      "Lossy conversion from float32 to uint8. Range [0.0, 255.0]. Convert image to uint8 prior to saving to suppress this warning.\n",
      "Lossy conversion from float32 to uint8. Range [0.0, 2.0]. Convert image to uint8 prior to saving to suppress this warning.\n",
      "Lossy conversion from float64 to uint8. Range [0, 1]. Convert image to uint8 prior to saving to suppress this warning.\n",
      "Clipping input data to the valid range for imshow with RGB data ([0..1] for floats or [0..255] for integers).\n"
     ]
    },
    {
     "name": "stdout",
     "output_type": "stream",
     "text": [
      "[INFO] Epoch 83 loss tf.Tensor(3.605136, shape=(), dtype=float32) roomTypeLoss: tf.Tensor(2.1369464, shape=(), dtype=float32) roomBoundLosstf.Tensor(5.0733256, shape=(), dtype=float32)\n"
     ]
    },
    {
     "name": "stderr",
     "output_type": "stream",
     "text": [
      "Lossy conversion from float32 to uint8. Range [0.0, 255.0]. Convert image to uint8 prior to saving to suppress this warning.\n",
      "/d2/studies/TF2DeepFloorplan/train.py:95: UserWarning: /d2/studies/TF2DeepFloorplan/./outJan11_TFR4/45775222_rooms.png is a low contrast image\n",
      "  imsave(os.path.join(os.getcwd(), outdir + '/' + str(pltiter) + '_rooms.png'), r)\n",
      "Lossy conversion from float32 to uint8. Range [0.0, 2.0]. Convert image to uint8 prior to saving to suppress this warning.\n",
      "/d2/studies/TF2DeepFloorplan/train.py:99: UserWarning: /d2/studies/TF2DeepFloorplan/./outJan11_TFR4/45775222_rooms_pred.png is a low contrast image\n",
      "  imsave(os.path.join(os.getcwd(), outdir + '/' + str(pltiter) + '_rooms_pred.png'), img_as_float(lr))\n",
      "Lossy conversion from float64 to uint8. Range [0, 1]. Convert image to uint8 prior to saving to suppress this warning.\n",
      "Clipping input data to the valid range for imshow with RGB data ([0..1] for floats or [0..255] for integers).\n",
      "Lossy conversion from float32 to uint8. Range [0.0, 255.0]. Convert image to uint8 prior to saving to suppress this warning.\n",
      "Lossy conversion from float32 to uint8. Range [0.0, 2.0]. Convert image to uint8 prior to saving to suppress this warning.\n",
      "Lossy conversion from float64 to uint8. Range [0, 1]. Convert image to uint8 prior to saving to suppress this warning.\n",
      "Clipping input data to the valid range for imshow with RGB data ([0..1] for floats or [0..255] for integers).\n",
      "Lossy conversion from float32 to uint8. Range [0.0, 255.0]. Convert image to uint8 prior to saving to suppress this warning.\n",
      "Lossy conversion from float32 to uint8. Range [0.0, 2.0]. Convert image to uint8 prior to saving to suppress this warning.\n",
      "Lossy conversion from float64 to uint8. Range [0, 1]. Convert image to uint8 prior to saving to suppress this warning.\n",
      "Clipping input data to the valid range for imshow with RGB data ([0..1] for floats or [0..255] for integers).\n",
      "Lossy conversion from float32 to uint8. Range [3.0, 255.0]. Convert image to uint8 prior to saving to suppress this warning.\n",
      "Lossy conversion from float32 to uint8. Range [0.0, 2.0]. Convert image to uint8 prior to saving to suppress this warning.\n",
      "Lossy conversion from float64 to uint8. Range [0, 1]. Convert image to uint8 prior to saving to suppress this warning.\n",
      "Clipping input data to the valid range for imshow with RGB data ([0..1] for floats or [0..255] for integers).\n"
     ]
    },
    {
     "name": "stdout",
     "output_type": "stream",
     "text": [
      "[INFO] Epoch 84 loss tf.Tensor(5.685377, shape=(), dtype=float32) roomTypeLoss: tf.Tensor(2.4071035, shape=(), dtype=float32) roomBoundLosstf.Tensor(8.963651, shape=(), dtype=float32)\n"
     ]
    },
    {
     "name": "stderr",
     "output_type": "stream",
     "text": [
      "Lossy conversion from float32 to uint8. Range [0.0, 255.0]. Convert image to uint8 prior to saving to suppress this warning.\n",
      "Lossy conversion from float32 to uint8. Range [0.0, 2.0]. Convert image to uint8 prior to saving to suppress this warning.\n",
      "Lossy conversion from float64 to uint8. Range [0, 1]. Convert image to uint8 prior to saving to suppress this warning.\n",
      "Clipping input data to the valid range for imshow with RGB data ([0..1] for floats or [0..255] for integers).\n",
      "Lossy conversion from float32 to uint8. Range [0.0, 255.0]. Convert image to uint8 prior to saving to suppress this warning.\n",
      "Lossy conversion from float32 to uint8. Range [0.0, 2.0]. Convert image to uint8 prior to saving to suppress this warning.\n",
      "Lossy conversion from float64 to uint8. Range [0, 1]. Convert image to uint8 prior to saving to suppress this warning.\n",
      "Clipping input data to the valid range for imshow with RGB data ([0..1] for floats or [0..255] for integers).\n",
      "Lossy conversion from float32 to uint8. Range [0.0, 255.0]. Convert image to uint8 prior to saving to suppress this warning.\n",
      "/d2/studies/TF2DeepFloorplan/train.py:95: UserWarning: /d2/studies/TF2DeepFloorplan/./outJan11_TFR4/47514920_rooms.png is a low contrast image\n",
      "  imsave(os.path.join(os.getcwd(), outdir + '/' + str(pltiter) + '_rooms.png'), r)\n",
      "Lossy conversion from float32 to uint8. Range [0.0, 2.0]. Convert image to uint8 prior to saving to suppress this warning.\n",
      "/d2/studies/TF2DeepFloorplan/train.py:99: UserWarning: /d2/studies/TF2DeepFloorplan/./outJan11_TFR4/47514920_rooms_pred.png is a low contrast image\n",
      "  imsave(os.path.join(os.getcwd(), outdir + '/' + str(pltiter) + '_rooms_pred.png'), img_as_float(lr))\n",
      "Lossy conversion from float64 to uint8. Range [0, 1]. Convert image to uint8 prior to saving to suppress this warning.\n",
      "Clipping input data to the valid range for imshow with RGB data ([0..1] for floats or [0..255] for integers).\n"
     ]
    },
    {
     "name": "stdout",
     "output_type": "stream",
     "text": [
      "[INFO] Epoch 85 loss tf.Tensor(10.275034, shape=(), dtype=float32) roomTypeLoss: tf.Tensor(6.198845, shape=(), dtype=float32) roomBoundLosstf.Tensor(14.351222, shape=(), dtype=float32)\n"
     ]
    },
    {
     "name": "stderr",
     "output_type": "stream",
     "text": [
      "Lossy conversion from float32 to uint8. Range [0.0, 255.0]. Convert image to uint8 prior to saving to suppress this warning.\n",
      "Lossy conversion from float32 to uint8. Range [0.0, 2.0]. Convert image to uint8 prior to saving to suppress this warning.\n",
      "Lossy conversion from float64 to uint8. Range [0, 1]. Convert image to uint8 prior to saving to suppress this warning.\n",
      "Clipping input data to the valid range for imshow with RGB data ([0..1] for floats or [0..255] for integers).\n",
      "Lossy conversion from float32 to uint8. Range [0.0, 255.0]. Convert image to uint8 prior to saving to suppress this warning.\n",
      "Lossy conversion from float32 to uint8. Range [0.0, 2.0]. Convert image to uint8 prior to saving to suppress this warning.\n",
      "Lossy conversion from float64 to uint8. Range [0, 1]. Convert image to uint8 prior to saving to suppress this warning.\n",
      "Clipping input data to the valid range for imshow with RGB data ([0..1] for floats or [0..255] for integers).\n",
      "Lossy conversion from float32 to uint8. Range [0.0, 255.0]. Convert image to uint8 prior to saving to suppress this warning.\n",
      "Lossy conversion from float32 to uint8. Range [0.0, 2.0]. Convert image to uint8 prior to saving to suppress this warning.\n",
      "Lossy conversion from float64 to uint8. Range [0, 1]. Convert image to uint8 prior to saving to suppress this warning.\n",
      "Clipping input data to the valid range for imshow with RGB data ([0..1] for floats or [0..255] for integers).\n",
      "Lossy conversion from float32 to uint8. Range [0.0, 255.0]. Convert image to uint8 prior to saving to suppress this warning.\n",
      "Lossy conversion from float32 to uint8. Range [0.0, 2.0]. Convert image to uint8 prior to saving to suppress this warning.\n",
      "Lossy conversion from float64 to uint8. Range [0, 1]. Convert image to uint8 prior to saving to suppress this warning.\n",
      "Clipping input data to the valid range for imshow with RGB data ([0..1] for floats or [0..255] for integers).\n"
     ]
    },
    {
     "name": "stdout",
     "output_type": "stream",
     "text": [
      "[INFO] Epoch 86 loss tf.Tensor(11.7176, shape=(), dtype=float32) roomTypeLoss: tf.Tensor(4.588751, shape=(), dtype=float32) roomBoundLosstf.Tensor(18.846449, shape=(), dtype=float32)\n"
     ]
    },
    {
     "name": "stderr",
     "output_type": "stream",
     "text": [
      "Lossy conversion from float32 to uint8. Range [65.0, 255.0]. Convert image to uint8 prior to saving to suppress this warning.\n",
      "Lossy conversion from float32 to uint8. Range [0.0, 2.0]. Convert image to uint8 prior to saving to suppress this warning.\n",
      "Lossy conversion from float64 to uint8. Range [0, 1]. Convert image to uint8 prior to saving to suppress this warning.\n",
      "Clipping input data to the valid range for imshow with RGB data ([0..1] for floats or [0..255] for integers).\n",
      "Lossy conversion from float32 to uint8. Range [0.0, 255.0]. Convert image to uint8 prior to saving to suppress this warning.\n",
      "/d2/studies/TF2DeepFloorplan/train.py:95: UserWarning: /d2/studies/TF2DeepFloorplan/./outJan11_TFR4/31883016_rooms.png is a low contrast image\n",
      "  imsave(os.path.join(os.getcwd(), outdir + '/' + str(pltiter) + '_rooms.png'), r)\n",
      "Lossy conversion from float32 to uint8. Range [0.0, 2.0]. Convert image to uint8 prior to saving to suppress this warning.\n",
      "/d2/studies/TF2DeepFloorplan/train.py:99: UserWarning: /d2/studies/TF2DeepFloorplan/./outJan11_TFR4/31883016_rooms_pred.png is a low contrast image\n",
      "  imsave(os.path.join(os.getcwd(), outdir + '/' + str(pltiter) + '_rooms_pred.png'), img_as_float(lr))\n",
      "Lossy conversion from float64 to uint8. Range [0, 1]. Convert image to uint8 prior to saving to suppress this warning.\n",
      "Clipping input data to the valid range for imshow with RGB data ([0..1] for floats or [0..255] for integers).\n",
      "Lossy conversion from float32 to uint8. Range [0.0, 255.0]. Convert image to uint8 prior to saving to suppress this warning.\n",
      "Lossy conversion from float32 to uint8. Range [0.0, 2.0]. Convert image to uint8 prior to saving to suppress this warning.\n",
      "Lossy conversion from float64 to uint8. Range [0, 1]. Convert image to uint8 prior to saving to suppress this warning.\n",
      "Clipping input data to the valid range for imshow with RGB data ([0..1] for floats or [0..255] for integers).\n",
      "Lossy conversion from float32 to uint8. Range [0.0, 255.0]. Convert image to uint8 prior to saving to suppress this warning.\n",
      "Lossy conversion from float32 to uint8. Range [0.0, 2.0]. Convert image to uint8 prior to saving to suppress this warning.\n",
      "Lossy conversion from float64 to uint8. Range [0, 1]. Convert image to uint8 prior to saving to suppress this warning.\n",
      "Clipping input data to the valid range for imshow with RGB data ([0..1] for floats or [0..255] for integers).\n"
     ]
    },
    {
     "name": "stdout",
     "output_type": "stream",
     "text": [
      "[INFO] Epoch 87 loss tf.Tensor(6.366648, shape=(), dtype=float32) roomTypeLoss: tf.Tensor(3.99138, shape=(), dtype=float32) roomBoundLosstf.Tensor(8.741917, shape=(), dtype=float32)\n"
     ]
    },
    {
     "name": "stderr",
     "output_type": "stream",
     "text": [
      "Lossy conversion from float32 to uint8. Range [0.0, 255.0]. Convert image to uint8 prior to saving to suppress this warning.\n",
      "Lossy conversion from float32 to uint8. Range [0.0, 2.0]. Convert image to uint8 prior to saving to suppress this warning.\n",
      "Lossy conversion from float64 to uint8. Range [0, 1]. Convert image to uint8 prior to saving to suppress this warning.\n",
      "Clipping input data to the valid range for imshow with RGB data ([0..1] for floats or [0..255] for integers).\n",
      "Lossy conversion from float32 to uint8. Range [0.0, 255.0]. Convert image to uint8 prior to saving to suppress this warning.\n",
      "Lossy conversion from float32 to uint8. Range [0.0, 2.0]. Convert image to uint8 prior to saving to suppress this warning.\n",
      "Lossy conversion from float64 to uint8. Range [0, 1]. Convert image to uint8 prior to saving to suppress this warning.\n",
      "Clipping input data to the valid range for imshow with RGB data ([0..1] for floats or [0..255] for integers).\n",
      "Lossy conversion from float32 to uint8. Range [0.0, 255.0]. Convert image to uint8 prior to saving to suppress this warning.\n",
      "Lossy conversion from float32 to uint8. Range [0.0, 2.0]. Convert image to uint8 prior to saving to suppress this warning.\n",
      "Lossy conversion from float64 to uint8. Range [0, 1]. Convert image to uint8 prior to saving to suppress this warning.\n",
      "Clipping input data to the valid range for imshow with RGB data ([0..1] for floats or [0..255] for integers).\n"
     ]
    },
    {
     "name": "stdout",
     "output_type": "stream",
     "text": [
      "[INFO] Epoch 88 loss tf.Tensor(9.010177, shape=(), dtype=float32) roomTypeLoss: tf.Tensor(4.5235686, shape=(), dtype=float32) roomBoundLosstf.Tensor(13.496784, shape=(), dtype=float32)\n"
     ]
    },
    {
     "name": "stderr",
     "output_type": "stream",
     "text": [
      "Lossy conversion from float32 to uint8. Range [0.0, 255.0]. Convert image to uint8 prior to saving to suppress this warning.\n",
      "Lossy conversion from float32 to uint8. Range [0.0, 2.0]. Convert image to uint8 prior to saving to suppress this warning.\n",
      "Lossy conversion from float64 to uint8. Range [0, 1]. Convert image to uint8 prior to saving to suppress this warning.\n",
      "Clipping input data to the valid range for imshow with RGB data ([0..1] for floats or [0..255] for integers).\n",
      "Lossy conversion from float32 to uint8. Range [0.0, 255.0]. Convert image to uint8 prior to saving to suppress this warning.\n",
      "Lossy conversion from float32 to uint8. Range [0.0, 2.0]. Convert image to uint8 prior to saving to suppress this warning.\n",
      "Lossy conversion from float64 to uint8. Range [0, 1]. Convert image to uint8 prior to saving to suppress this warning.\n",
      "Clipping input data to the valid range for imshow with RGB data ([0..1] for floats or [0..255] for integers).\n",
      "Lossy conversion from float32 to uint8. Range [0.0, 255.0]. Convert image to uint8 prior to saving to suppress this warning.\n",
      "/d2/studies/TF2DeepFloorplan/train.py:95: UserWarning: /d2/studies/TF2DeepFloorplan/./outJan11_TFR4/45724339_rooms.png is a low contrast image\n",
      "  imsave(os.path.join(os.getcwd(), outdir + '/' + str(pltiter) + '_rooms.png'), r)\n",
      "Lossy conversion from float32 to uint8. Range [0.0, 2.0]. Convert image to uint8 prior to saving to suppress this warning.\n",
      "/d2/studies/TF2DeepFloorplan/train.py:99: UserWarning: /d2/studies/TF2DeepFloorplan/./outJan11_TFR4/45724339_rooms_pred.png is a low contrast image\n",
      "  imsave(os.path.join(os.getcwd(), outdir + '/' + str(pltiter) + '_rooms_pred.png'), img_as_float(lr))\n",
      "Lossy conversion from float64 to uint8. Range [0, 1]. Convert image to uint8 prior to saving to suppress this warning.\n",
      "Clipping input data to the valid range for imshow with RGB data ([0..1] for floats or [0..255] for integers).\n",
      "Lossy conversion from float32 to uint8. Range [6.0, 255.0]. Convert image to uint8 prior to saving to suppress this warning.\n",
      "Lossy conversion from float32 to uint8. Range [0.0, 2.0]. Convert image to uint8 prior to saving to suppress this warning.\n",
      "Lossy conversion from float64 to uint8. Range [0, 1]. Convert image to uint8 prior to saving to suppress this warning.\n",
      "Clipping input data to the valid range for imshow with RGB data ([0..1] for floats or [0..255] for integers).\n"
     ]
    },
    {
     "name": "stdout",
     "output_type": "stream",
     "text": [
      "[INFO] Epoch 89 loss tf.Tensor(6.063196, shape=(), dtype=float32) roomTypeLoss: tf.Tensor(3.1150143, shape=(), dtype=float32) roomBoundLosstf.Tensor(9.011378, shape=(), dtype=float32)\n"
     ]
    },
    {
     "name": "stderr",
     "output_type": "stream",
     "text": [
      "Lossy conversion from float32 to uint8. Range [0.0, 255.0]. Convert image to uint8 prior to saving to suppress this warning.\n",
      "Lossy conversion from float32 to uint8. Range [0.0, 2.0]. Convert image to uint8 prior to saving to suppress this warning.\n",
      "Lossy conversion from float64 to uint8. Range [0, 1]. Convert image to uint8 prior to saving to suppress this warning.\n",
      "Clipping input data to the valid range for imshow with RGB data ([0..1] for floats or [0..255] for integers).\n",
      "Lossy conversion from float32 to uint8. Range [0.0, 255.0]. Convert image to uint8 prior to saving to suppress this warning.\n",
      "Lossy conversion from float32 to uint8. Range [0.0, 2.0]. Convert image to uint8 prior to saving to suppress this warning.\n",
      "Lossy conversion from float64 to uint8. Range [0, 1]. Convert image to uint8 prior to saving to suppress this warning.\n",
      "Clipping input data to the valid range for imshow with RGB data ([0..1] for floats or [0..255] for integers).\n",
      "Lossy conversion from float32 to uint8. Range [0.0, 255.0]. Convert image to uint8 prior to saving to suppress this warning.\n",
      "Lossy conversion from float32 to uint8. Range [0.0, 2.0]. Convert image to uint8 prior to saving to suppress this warning.\n",
      "Lossy conversion from float64 to uint8. Range [0, 1]. Convert image to uint8 prior to saving to suppress this warning.\n",
      "Clipping input data to the valid range for imshow with RGB data ([0..1] for floats or [0..255] for integers).\n"
     ]
    },
    {
     "name": "stdout",
     "output_type": "stream",
     "text": [
      "[INFO] Epoch 90 loss tf.Tensor(7.3845854, shape=(), dtype=float32) roomTypeLoss: tf.Tensor(4.234949, shape=(), dtype=float32) roomBoundLosstf.Tensor(10.534222, shape=(), dtype=float32)\n"
     ]
    },
    {
     "name": "stderr",
     "output_type": "stream",
     "text": [
      "Lossy conversion from float32 to uint8. Range [0.0, 255.0]. Convert image to uint8 prior to saving to suppress this warning.\n",
      "Lossy conversion from float32 to uint8. Range [0.0, 2.0]. Convert image to uint8 prior to saving to suppress this warning.\n",
      "Lossy conversion from float64 to uint8. Range [0, 1]. Convert image to uint8 prior to saving to suppress this warning.\n",
      "Clipping input data to the valid range for imshow with RGB data ([0..1] for floats or [0..255] for integers).\n",
      "Lossy conversion from float32 to uint8. Range [0.0, 255.0]. Convert image to uint8 prior to saving to suppress this warning.\n",
      "Lossy conversion from float32 to uint8. Range [0.0, 2.0]. Convert image to uint8 prior to saving to suppress this warning.\n",
      "Lossy conversion from float64 to uint8. Range [0, 1]. Convert image to uint8 prior to saving to suppress this warning.\n",
      "Clipping input data to the valid range for imshow with RGB data ([0..1] for floats or [0..255] for integers).\n",
      "Lossy conversion from float32 to uint8. Range [0.0, 255.0]. Convert image to uint8 prior to saving to suppress this warning.\n",
      "Lossy conversion from float32 to uint8. Range [0.0, 2.0]. Convert image to uint8 prior to saving to suppress this warning.\n",
      "Lossy conversion from float64 to uint8. Range [0, 1]. Convert image to uint8 prior to saving to suppress this warning.\n",
      "Clipping input data to the valid range for imshow with RGB data ([0..1] for floats or [0..255] for integers).\n",
      "Lossy conversion from float32 to uint8. Range [0.0, 255.0]. Convert image to uint8 prior to saving to suppress this warning.\n",
      "Lossy conversion from float32 to uint8. Range [0.0, 2.0]. Convert image to uint8 prior to saving to suppress this warning.\n",
      "Lossy conversion from float64 to uint8. Range [0, 1]. Convert image to uint8 prior to saving to suppress this warning.\n",
      "Clipping input data to the valid range for imshow with RGB data ([0..1] for floats or [0..255] for integers).\n"
     ]
    },
    {
     "name": "stdout",
     "output_type": "stream",
     "text": [
      "[INFO] Epoch 91 loss tf.Tensor(8.547552, shape=(), dtype=float32) roomTypeLoss: tf.Tensor(3.8844075, shape=(), dtype=float32) roomBoundLosstf.Tensor(13.210696, shape=(), dtype=float32)\n"
     ]
    },
    {
     "name": "stderr",
     "output_type": "stream",
     "text": [
      "Lossy conversion from float32 to uint8. Range [3.0, 255.0]. Convert image to uint8 prior to saving to suppress this warning.\n",
      "Lossy conversion from float32 to uint8. Range [0.0, 2.0]. Convert image to uint8 prior to saving to suppress this warning.\n",
      "Lossy conversion from float64 to uint8. Range [0, 1]. Convert image to uint8 prior to saving to suppress this warning.\n",
      "Clipping input data to the valid range for imshow with RGB data ([0..1] for floats or [0..255] for integers).\n",
      "Lossy conversion from float32 to uint8. Range [0.0, 255.0]. Convert image to uint8 prior to saving to suppress this warning.\n",
      "Lossy conversion from float32 to uint8. Range [0.0, 2.0]. Convert image to uint8 prior to saving to suppress this warning.\n",
      "Lossy conversion from float64 to uint8. Range [0, 1]. Convert image to uint8 prior to saving to suppress this warning.\n",
      "Clipping input data to the valid range for imshow with RGB data ([0..1] for floats or [0..255] for integers).\n",
      "Lossy conversion from float32 to uint8. Range [0.0, 255.0]. Convert image to uint8 prior to saving to suppress this warning.\n",
      "Lossy conversion from float32 to uint8. Range [0.0, 2.0]. Convert image to uint8 prior to saving to suppress this warning.\n",
      "Lossy conversion from float64 to uint8. Range [0, 1]. Convert image to uint8 prior to saving to suppress this warning.\n",
      "Clipping input data to the valid range for imshow with RGB data ([0..1] for floats or [0..255] for integers).\n"
     ]
    },
    {
     "name": "stdout",
     "output_type": "stream",
     "text": [
      "[INFO] Epoch 92 loss tf.Tensor(8.435379, shape=(), dtype=float32) roomTypeLoss: tf.Tensor(4.060834, shape=(), dtype=float32) roomBoundLosstf.Tensor(12.809925, shape=(), dtype=float32)\n"
     ]
    },
    {
     "name": "stderr",
     "output_type": "stream",
     "text": [
      "Lossy conversion from float32 to uint8. Range [0.0, 255.0]. Convert image to uint8 prior to saving to suppress this warning.\n",
      "Lossy conversion from float32 to uint8. Range [0.0, 2.0]. Convert image to uint8 prior to saving to suppress this warning.\n",
      "Lossy conversion from float64 to uint8. Range [0, 1]. Convert image to uint8 prior to saving to suppress this warning.\n",
      "Clipping input data to the valid range for imshow with RGB data ([0..1] for floats or [0..255] for integers).\n",
      "Lossy conversion from float32 to uint8. Range [0.0, 255.0]. Convert image to uint8 prior to saving to suppress this warning.\n",
      "Lossy conversion from float32 to uint8. Range [0.0, 2.0]. Convert image to uint8 prior to saving to suppress this warning.\n",
      "Lossy conversion from float64 to uint8. Range [0, 1]. Convert image to uint8 prior to saving to suppress this warning.\n",
      "Clipping input data to the valid range for imshow with RGB data ([0..1] for floats or [0..255] for integers).\n",
      "Lossy conversion from float32 to uint8. Range [0.0, 255.0]. Convert image to uint8 prior to saving to suppress this warning.\n",
      "Lossy conversion from float32 to uint8. Range [0.0, 2.0]. Convert image to uint8 prior to saving to suppress this warning.\n",
      "Lossy conversion from float64 to uint8. Range [0, 1]. Convert image to uint8 prior to saving to suppress this warning.\n",
      "Clipping input data to the valid range for imshow with RGB data ([0..1] for floats or [0..255] for integers).\n",
      "Lossy conversion from float32 to uint8. Range [0.0, 255.0]. Convert image to uint8 prior to saving to suppress this warning.\n",
      "/d2/studies/TF2DeepFloorplan/train.py:95: UserWarning: /d2/studies/TF2DeepFloorplan/./outJan11_TFR4/31872645_rooms.png is a low contrast image\n",
      "  imsave(os.path.join(os.getcwd(), outdir + '/' + str(pltiter) + '_rooms.png'), r)\n",
      "Lossy conversion from float32 to uint8. Range [0.0, 2.0]. Convert image to uint8 prior to saving to suppress this warning.\n",
      "/d2/studies/TF2DeepFloorplan/train.py:99: UserWarning: /d2/studies/TF2DeepFloorplan/./outJan11_TFR4/31872645_rooms_pred.png is a low contrast image\n",
      "  imsave(os.path.join(os.getcwd(), outdir + '/' + str(pltiter) + '_rooms_pred.png'), img_as_float(lr))\n",
      "Lossy conversion from float64 to uint8. Range [0, 1]. Convert image to uint8 prior to saving to suppress this warning.\n",
      "Clipping input data to the valid range for imshow with RGB data ([0..1] for floats or [0..255] for integers).\n"
     ]
    },
    {
     "name": "stdout",
     "output_type": "stream",
     "text": [
      "[INFO] Epoch 93 loss tf.Tensor(6.254754, shape=(), dtype=float32) roomTypeLoss: tf.Tensor(4.4235215, shape=(), dtype=float32) roomBoundLosstf.Tensor(8.085987, shape=(), dtype=float32)\n"
     ]
    },
    {
     "name": "stderr",
     "output_type": "stream",
     "text": [
      "Lossy conversion from float32 to uint8. Range [0.0, 255.0]. Convert image to uint8 prior to saving to suppress this warning.\n",
      "Lossy conversion from float32 to uint8. Range [0.0, 2.0]. Convert image to uint8 prior to saving to suppress this warning.\n",
      "Lossy conversion from float64 to uint8. Range [0, 1]. Convert image to uint8 prior to saving to suppress this warning.\n",
      "Clipping input data to the valid range for imshow with RGB data ([0..1] for floats or [0..255] for integers).\n",
      "Lossy conversion from float32 to uint8. Range [0.0, 255.0]. Convert image to uint8 prior to saving to suppress this warning.\n",
      "/d2/studies/TF2DeepFloorplan/train.py:95: UserWarning: /d2/studies/TF2DeepFloorplan/./outJan11_TFR4/2_rooms.png is a low contrast image\n",
      "  imsave(os.path.join(os.getcwd(), outdir + '/' + str(pltiter) + '_rooms.png'), r)\n",
      "Lossy conversion from float32 to uint8. Range [0.0, 2.0]. Convert image to uint8 prior to saving to suppress this warning.\n",
      "/d2/studies/TF2DeepFloorplan/train.py:99: UserWarning: /d2/studies/TF2DeepFloorplan/./outJan11_TFR4/2_rooms_pred.png is a low contrast image\n",
      "  imsave(os.path.join(os.getcwd(), outdir + '/' + str(pltiter) + '_rooms_pred.png'), img_as_float(lr))\n",
      "Lossy conversion from float64 to uint8. Range [0, 1]. Convert image to uint8 prior to saving to suppress this warning.\n",
      "Clipping input data to the valid range for imshow with RGB data ([0..1] for floats or [0..255] for integers).\n",
      "Lossy conversion from float32 to uint8. Range [0.0, 255.0]. Convert image to uint8 prior to saving to suppress this warning.\n",
      "Lossy conversion from float32 to uint8. Range [0.0, 2.0]. Convert image to uint8 prior to saving to suppress this warning.\n",
      "Lossy conversion from float64 to uint8. Range [0, 1]. Convert image to uint8 prior to saving to suppress this warning.\n",
      "Clipping input data to the valid range for imshow with RGB data ([0..1] for floats or [0..255] for integers).\n",
      "Lossy conversion from float32 to uint8. Range [0.0, 255.0]. Convert image to uint8 prior to saving to suppress this warning.\n",
      "Lossy conversion from float32 to uint8. Range [0.0, 2.0]. Convert image to uint8 prior to saving to suppress this warning.\n",
      "Lossy conversion from float64 to uint8. Range [0, 1]. Convert image to uint8 prior to saving to suppress this warning.\n",
      "Clipping input data to the valid range for imshow with RGB data ([0..1] for floats or [0..255] for integers).\n"
     ]
    },
    {
     "name": "stdout",
     "output_type": "stream",
     "text": [
      "[INFO] Epoch 94 loss tf.Tensor(6.4456677, shape=(), dtype=float32) roomTypeLoss: tf.Tensor(2.7892542, shape=(), dtype=float32) roomBoundLosstf.Tensor(10.102081, shape=(), dtype=float32)\n"
     ]
    },
    {
     "name": "stderr",
     "output_type": "stream",
     "text": [
      "Lossy conversion from float32 to uint8. Range [0.0, 255.0]. Convert image to uint8 prior to saving to suppress this warning.\n",
      "Lossy conversion from float32 to uint8. Range [0.0, 2.0]. Convert image to uint8 prior to saving to suppress this warning.\n",
      "Lossy conversion from float64 to uint8. Range [0, 1]. Convert image to uint8 prior to saving to suppress this warning.\n",
      "Clipping input data to the valid range for imshow with RGB data ([0..1] for floats or [0..255] for integers).\n",
      "Lossy conversion from float32 to uint8. Range [0.0, 255.0]. Convert image to uint8 prior to saving to suppress this warning.\n",
      "Lossy conversion from float32 to uint8. Range [0.0, 2.0]. Convert image to uint8 prior to saving to suppress this warning.\n",
      "Lossy conversion from float64 to uint8. Range [0, 1]. Convert image to uint8 prior to saving to suppress this warning.\n",
      "Clipping input data to the valid range for imshow with RGB data ([0..1] for floats or [0..255] for integers).\n",
      "Lossy conversion from float32 to uint8. Range [0.0, 255.0]. Convert image to uint8 prior to saving to suppress this warning.\n",
      "Lossy conversion from float32 to uint8. Range [0.0, 2.0]. Convert image to uint8 prior to saving to suppress this warning.\n",
      "Lossy conversion from float64 to uint8. Range [0, 1]. Convert image to uint8 prior to saving to suppress this warning.\n",
      "Clipping input data to the valid range for imshow with RGB data ([0..1] for floats or [0..255] for integers).\n"
     ]
    },
    {
     "name": "stdout",
     "output_type": "stream",
     "text": [
      "[INFO] Epoch 95 loss tf.Tensor(8.193893, shape=(), dtype=float32) roomTypeLoss: tf.Tensor(4.0307636, shape=(), dtype=float32) roomBoundLosstf.Tensor(12.357024, shape=(), dtype=float32)\n"
     ]
    },
    {
     "name": "stderr",
     "output_type": "stream",
     "text": [
      "Lossy conversion from float32 to uint8. Range [0.0, 255.0]. Convert image to uint8 prior to saving to suppress this warning.\n",
      "Lossy conversion from float32 to uint8. Range [0.0, 2.0]. Convert image to uint8 prior to saving to suppress this warning.\n",
      "Lossy conversion from float64 to uint8. Range [0, 1]. Convert image to uint8 prior to saving to suppress this warning.\n",
      "Clipping input data to the valid range for imshow with RGB data ([0..1] for floats or [0..255] for integers).\n",
      "Lossy conversion from float32 to uint8. Range [0.0, 255.0]. Convert image to uint8 prior to saving to suppress this warning.\n",
      "/d2/studies/TF2DeepFloorplan/train.py:95: UserWarning: /d2/studies/TF2DeepFloorplan/./outJan11_TFR4/31830141_rooms.png is a low contrast image\n",
      "  imsave(os.path.join(os.getcwd(), outdir + '/' + str(pltiter) + '_rooms.png'), r)\n",
      "Lossy conversion from float32 to uint8. Range [0.0, 2.0]. Convert image to uint8 prior to saving to suppress this warning.\n",
      "/d2/studies/TF2DeepFloorplan/train.py:99: UserWarning: /d2/studies/TF2DeepFloorplan/./outJan11_TFR4/31830141_rooms_pred.png is a low contrast image\n",
      "  imsave(os.path.join(os.getcwd(), outdir + '/' + str(pltiter) + '_rooms_pred.png'), img_as_float(lr))\n",
      "Lossy conversion from float64 to uint8. Range [0, 1]. Convert image to uint8 prior to saving to suppress this warning.\n",
      "Clipping input data to the valid range for imshow with RGB data ([0..1] for floats or [0..255] for integers).\n",
      "Lossy conversion from float32 to uint8. Range [0.0, 255.0]. Convert image to uint8 prior to saving to suppress this warning.\n",
      "Lossy conversion from float32 to uint8. Range [0.0, 2.0]. Convert image to uint8 prior to saving to suppress this warning.\n",
      "Lossy conversion from float64 to uint8. Range [0, 1]. Convert image to uint8 prior to saving to suppress this warning.\n",
      "Clipping input data to the valid range for imshow with RGB data ([0..1] for floats or [0..255] for integers).\n",
      "Lossy conversion from float32 to uint8. Range [0.0, 255.0]. Convert image to uint8 prior to saving to suppress this warning.\n",
      "Lossy conversion from float32 to uint8. Range [0.0, 2.0]. Convert image to uint8 prior to saving to suppress this warning.\n",
      "Lossy conversion from float64 to uint8. Range [0, 1]. Convert image to uint8 prior to saving to suppress this warning.\n",
      "Clipping input data to the valid range for imshow with RGB data ([0..1] for floats or [0..255] for integers).\n"
     ]
    },
    {
     "name": "stdout",
     "output_type": "stream",
     "text": [
      "[INFO] Epoch 96 loss tf.Tensor(8.745278, shape=(), dtype=float32) roomTypeLoss: tf.Tensor(4.711577, shape=(), dtype=float32) roomBoundLosstf.Tensor(12.778979, shape=(), dtype=float32)\n"
     ]
    },
    {
     "name": "stderr",
     "output_type": "stream",
     "text": [
      "Lossy conversion from float32 to uint8. Range [0.0, 255.0]. Convert image to uint8 prior to saving to suppress this warning.\n",
      "Lossy conversion from float32 to uint8. Range [0.0, 2.0]. Convert image to uint8 prior to saving to suppress this warning.\n",
      "Lossy conversion from float64 to uint8. Range [0, 1]. Convert image to uint8 prior to saving to suppress this warning.\n",
      "Clipping input data to the valid range for imshow with RGB data ([0..1] for floats or [0..255] for integers).\n",
      "Lossy conversion from float32 to uint8. Range [0.0, 255.0]. Convert image to uint8 prior to saving to suppress this warning.\n",
      "Lossy conversion from float32 to uint8. Range [0.0, 2.0]. Convert image to uint8 prior to saving to suppress this warning.\n",
      "Lossy conversion from float64 to uint8. Range [0, 1]. Convert image to uint8 prior to saving to suppress this warning.\n",
      "Clipping input data to the valid range for imshow with RGB data ([0..1] for floats or [0..255] for integers).\n",
      "Lossy conversion from float32 to uint8. Range [0.0, 255.0]. Convert image to uint8 prior to saving to suppress this warning.\n",
      "Lossy conversion from float32 to uint8. Range [0.0, 2.0]. Convert image to uint8 prior to saving to suppress this warning.\n",
      "Lossy conversion from float64 to uint8. Range [0, 1]. Convert image to uint8 prior to saving to suppress this warning.\n",
      "Clipping input data to the valid range for imshow with RGB data ([0..1] for floats or [0..255] for integers).\n"
     ]
    },
    {
     "name": "stdout",
     "output_type": "stream",
     "text": [
      "[INFO] Epoch 97 loss tf.Tensor(7.7914953, shape=(), dtype=float32) roomTypeLoss: tf.Tensor(3.2726567, shape=(), dtype=float32) roomBoundLosstf.Tensor(12.310334, shape=(), dtype=float32)\n"
     ]
    },
    {
     "name": "stderr",
     "output_type": "stream",
     "text": [
      "Lossy conversion from float32 to uint8. Range [0.0, 255.0]. Convert image to uint8 prior to saving to suppress this warning.\n",
      "Lossy conversion from float32 to uint8. Range [0.0, 2.0]. Convert image to uint8 prior to saving to suppress this warning.\n",
      "Lossy conversion from float64 to uint8. Range [0, 1]. Convert image to uint8 prior to saving to suppress this warning.\n",
      "Clipping input data to the valid range for imshow with RGB data ([0..1] for floats or [0..255] for integers).\n",
      "Lossy conversion from float32 to uint8. Range [0.0, 255.0]. Convert image to uint8 prior to saving to suppress this warning.\n",
      "Lossy conversion from float32 to uint8. Range [0.0, 2.0]. Convert image to uint8 prior to saving to suppress this warning.\n",
      "Lossy conversion from float64 to uint8. Range [0, 1]. Convert image to uint8 prior to saving to suppress this warning.\n",
      "Clipping input data to the valid range for imshow with RGB data ([0..1] for floats or [0..255] for integers).\n",
      "Lossy conversion from float32 to uint8. Range [0.0, 255.0]. Convert image to uint8 prior to saving to suppress this warning.\n",
      "/d2/studies/TF2DeepFloorplan/train.py:95: UserWarning: /d2/studies/TF2DeepFloorplan/./outJan11_TFR4/46452431_rooms.png is a low contrast image\n",
      "  imsave(os.path.join(os.getcwd(), outdir + '/' + str(pltiter) + '_rooms.png'), r)\n",
      "Lossy conversion from float32 to uint8. Range [0.0, 2.0]. Convert image to uint8 prior to saving to suppress this warning.\n",
      "/d2/studies/TF2DeepFloorplan/train.py:99: UserWarning: /d2/studies/TF2DeepFloorplan/./outJan11_TFR4/46452431_rooms_pred.png is a low contrast image\n",
      "  imsave(os.path.join(os.getcwd(), outdir + '/' + str(pltiter) + '_rooms_pred.png'), img_as_float(lr))\n",
      "Lossy conversion from float64 to uint8. Range [0, 1]. Convert image to uint8 prior to saving to suppress this warning.\n",
      "Clipping input data to the valid range for imshow with RGB data ([0..1] for floats or [0..255] for integers).\n",
      "Lossy conversion from float32 to uint8. Range [0.0, 255.0]. Convert image to uint8 prior to saving to suppress this warning.\n",
      "Lossy conversion from float32 to uint8. Range [0.0, 2.0]. Convert image to uint8 prior to saving to suppress this warning.\n",
      "Lossy conversion from float64 to uint8. Range [0, 1]. Convert image to uint8 prior to saving to suppress this warning.\n",
      "Clipping input data to the valid range for imshow with RGB data ([0..1] for floats or [0..255] for integers).\n"
     ]
    },
    {
     "name": "stdout",
     "output_type": "stream",
     "text": [
      "[INFO] Epoch 98 loss tf.Tensor(9.604705, shape=(), dtype=float32) roomTypeLoss: tf.Tensor(4.612005, shape=(), dtype=float32) roomBoundLosstf.Tensor(14.5974045, shape=(), dtype=float32)\n"
     ]
    },
    {
     "name": "stderr",
     "output_type": "stream",
     "text": [
      "Lossy conversion from float32 to uint8. Range [0.0, 255.0]. Convert image to uint8 prior to saving to suppress this warning.\n",
      "Lossy conversion from float32 to uint8. Range [0.0, 2.0]. Convert image to uint8 prior to saving to suppress this warning.\n",
      "Lossy conversion from float64 to uint8. Range [0, 1]. Convert image to uint8 prior to saving to suppress this warning.\n",
      "Clipping input data to the valid range for imshow with RGB data ([0..1] for floats or [0..255] for integers).\n",
      "Lossy conversion from float32 to uint8. Range [0.0, 255.0]. Convert image to uint8 prior to saving to suppress this warning.\n",
      "Lossy conversion from float32 to uint8. Range [0.0, 2.0]. Convert image to uint8 prior to saving to suppress this warning.\n",
      "Lossy conversion from float64 to uint8. Range [0, 1]. Convert image to uint8 prior to saving to suppress this warning.\n",
      "Clipping input data to the valid range for imshow with RGB data ([0..1] for floats or [0..255] for integers).\n",
      "Lossy conversion from float32 to uint8. Range [9.0, 255.0]. Convert image to uint8 prior to saving to suppress this warning.\n",
      "/d2/studies/TF2DeepFloorplan/train.py:95: UserWarning: /d2/studies/TF2DeepFloorplan/./outJan11_TFR4/47464151_rooms.png is a low contrast image\n",
      "  imsave(os.path.join(os.getcwd(), outdir + '/' + str(pltiter) + '_rooms.png'), r)\n",
      "Lossy conversion from float32 to uint8. Range [0.0, 2.0]. Convert image to uint8 prior to saving to suppress this warning.\n",
      "/d2/studies/TF2DeepFloorplan/train.py:99: UserWarning: /d2/studies/TF2DeepFloorplan/./outJan11_TFR4/47464151_rooms_pred.png is a low contrast image\n",
      "  imsave(os.path.join(os.getcwd(), outdir + '/' + str(pltiter) + '_rooms_pred.png'), img_as_float(lr))\n",
      "Lossy conversion from float64 to uint8. Range [0, 1]. Convert image to uint8 prior to saving to suppress this warning.\n",
      "Clipping input data to the valid range for imshow with RGB data ([0..1] for floats or [0..255] for integers).\n"
     ]
    },
    {
     "name": "stdout",
     "output_type": "stream",
     "text": [
      "[INFO] Epoch 99 loss tf.Tensor(8.223722, shape=(), dtype=float32) roomTypeLoss: tf.Tensor(4.0307636, shape=(), dtype=float32) roomBoundLosstf.Tensor(12.41668, shape=(), dtype=float32)\n"
     ]
    },
    {
     "name": "stderr",
     "output_type": "stream",
     "text": [
      "Lossy conversion from float32 to uint8. Range [0.0, 255.0]. Convert image to uint8 prior to saving to suppress this warning.\n",
      "Lossy conversion from float32 to uint8. Range [0.0, 2.0]. Convert image to uint8 prior to saving to suppress this warning.\n",
      "Lossy conversion from float64 to uint8. Range [0, 1]. Convert image to uint8 prior to saving to suppress this warning.\n",
      "Clipping input data to the valid range for imshow with RGB data ([0..1] for floats or [0..255] for integers).\n",
      "Lossy conversion from float32 to uint8. Range [0.0, 255.0]. Convert image to uint8 prior to saving to suppress this warning.\n",
      "Lossy conversion from float32 to uint8. Range [0.0, 2.0]. Convert image to uint8 prior to saving to suppress this warning.\n",
      "Lossy conversion from float64 to uint8. Range [0, 1]. Convert image to uint8 prior to saving to suppress this warning.\n",
      "Clipping input data to the valid range for imshow with RGB data ([0..1] for floats or [0..255] for integers).\n",
      "Lossy conversion from float32 to uint8. Range [0.0, 255.0]. Convert image to uint8 prior to saving to suppress this warning.\n",
      "Lossy conversion from float32 to uint8. Range [0.0, 2.0]. Convert image to uint8 prior to saving to suppress this warning.\n",
      "Lossy conversion from float64 to uint8. Range [0, 1]. Convert image to uint8 prior to saving to suppress this warning.\n",
      "Clipping input data to the valid range for imshow with RGB data ([0..1] for floats or [0..255] for integers).\n",
      "Lossy conversion from float32 to uint8. Range [0.0, 255.0]. Convert image to uint8 prior to saving to suppress this warning.\n",
      "Lossy conversion from float32 to uint8. Range [0.0, 2.0]. Convert image to uint8 prior to saving to suppress this warning.\n",
      "Lossy conversion from float64 to uint8. Range [0, 1]. Convert image to uint8 prior to saving to suppress this warning.\n",
      "Clipping input data to the valid range for imshow with RGB data ([0..1] for floats or [0..255] for integers).\n"
     ]
    },
    {
     "name": "stdout",
     "output_type": "stream",
     "text": [
      "[INFO] Epoch 100 loss tf.Tensor(3.4475222, shape=(), dtype=float32) roomTypeLoss: tf.Tensor(1.5281109, shape=(), dtype=float32) roomBoundLosstf.Tensor(5.3669333, shape=(), dtype=float32)\n"
     ]
    },
    {
     "name": "stderr",
     "output_type": "stream",
     "text": [
      "Lossy conversion from float32 to uint8. Range [0.0, 255.0]. Convert image to uint8 prior to saving to suppress this warning.\n",
      "Lossy conversion from float32 to uint8. Range [0.0, 2.0]. Convert image to uint8 prior to saving to suppress this warning.\n",
      "Lossy conversion from float64 to uint8. Range [0, 1]. Convert image to uint8 prior to saving to suppress this warning.\n",
      "Clipping input data to the valid range for imshow with RGB data ([0..1] for floats or [0..255] for integers).\n",
      "Lossy conversion from float32 to uint8. Range [0.0, 105.0]. Convert image to uint8 prior to saving to suppress this warning.\n",
      "Lossy conversion from float32 to uint8. Range [0.0, 2.0]. Convert image to uint8 prior to saving to suppress this warning.\n",
      "Lossy conversion from float64 to uint8. Range [0, 1]. Convert image to uint8 prior to saving to suppress this warning.\n",
      "Clipping input data to the valid range for imshow with RGB data ([0..1] for floats or [0..255] for integers).\n",
      "Lossy conversion from float32 to uint8. Range [0.0, 255.0]. Convert image to uint8 prior to saving to suppress this warning.\n",
      "/d2/studies/TF2DeepFloorplan/train.py:95: UserWarning: /d2/studies/TF2DeepFloorplan/./outJan11_TFR4/31829949_rooms.png is a low contrast image\n",
      "  imsave(os.path.join(os.getcwd(), outdir + '/' + str(pltiter) + '_rooms.png'), r)\n",
      "Lossy conversion from float32 to uint8. Range [0.0, 2.0]. Convert image to uint8 prior to saving to suppress this warning.\n",
      "/d2/studies/TF2DeepFloorplan/train.py:99: UserWarning: /d2/studies/TF2DeepFloorplan/./outJan11_TFR4/31829949_rooms_pred.png is a low contrast image\n",
      "  imsave(os.path.join(os.getcwd(), outdir + '/' + str(pltiter) + '_rooms_pred.png'), img_as_float(lr))\n",
      "Lossy conversion from float64 to uint8. Range [0, 1]. Convert image to uint8 prior to saving to suppress this warning.\n",
      "Clipping input data to the valid range for imshow with RGB data ([0..1] for floats or [0..255] for integers).\n",
      "Lossy conversion from float32 to uint8. Range [0.0, 255.0]. Convert image to uint8 prior to saving to suppress this warning.\n",
      "Lossy conversion from float32 to uint8. Range [0.0, 2.0]. Convert image to uint8 prior to saving to suppress this warning.\n",
      "Lossy conversion from float64 to uint8. Range [0, 1]. Convert image to uint8 prior to saving to suppress this warning.\n",
      "Clipping input data to the valid range for imshow with RGB data ([0..1] for floats or [0..255] for integers).\n"
     ]
    },
    {
     "name": "stdout",
     "output_type": "stream",
     "text": [
      "[INFO] Epoch 101 loss tf.Tensor(5.374172, shape=(), dtype=float32) roomTypeLoss: tf.Tensor(3.8235757, shape=(), dtype=float32) roomBoundLosstf.Tensor(6.924769, shape=(), dtype=float32)\n"
     ]
    },
    {
     "name": "stderr",
     "output_type": "stream",
     "text": [
      "Lossy conversion from float32 to uint8. Range [0.0, 255.0]. Convert image to uint8 prior to saving to suppress this warning.\n",
      "/d2/studies/TF2DeepFloorplan/train.py:95: UserWarning: /d2/studies/TF2DeepFloorplan/./outJan11_TFR4/42761030_rooms.png is a low contrast image\n",
      "  imsave(os.path.join(os.getcwd(), outdir + '/' + str(pltiter) + '_rooms.png'), r)\n",
      "Lossy conversion from float32 to uint8. Range [0.0, 2.0]. Convert image to uint8 prior to saving to suppress this warning.\n",
      "/d2/studies/TF2DeepFloorplan/train.py:99: UserWarning: /d2/studies/TF2DeepFloorplan/./outJan11_TFR4/42761030_rooms_pred.png is a low contrast image\n",
      "  imsave(os.path.join(os.getcwd(), outdir + '/' + str(pltiter) + '_rooms_pred.png'), img_as_float(lr))\n",
      "Lossy conversion from float64 to uint8. Range [0, 1]. Convert image to uint8 prior to saving to suppress this warning.\n",
      "Clipping input data to the valid range for imshow with RGB data ([0..1] for floats or [0..255] for integers).\n",
      "Lossy conversion from float32 to uint8. Range [0.0, 255.0]. Convert image to uint8 prior to saving to suppress this warning.\n",
      "Lossy conversion from float32 to uint8. Range [0.0, 2.0]. Convert image to uint8 prior to saving to suppress this warning.\n",
      "Lossy conversion from float64 to uint8. Range [0, 1]. Convert image to uint8 prior to saving to suppress this warning.\n",
      "Clipping input data to the valid range for imshow with RGB data ([0..1] for floats or [0..255] for integers).\n",
      "Lossy conversion from float32 to uint8. Range [0.0, 255.0]. Convert image to uint8 prior to saving to suppress this warning.\n",
      "Lossy conversion from float32 to uint8. Range [0.0, 2.0]. Convert image to uint8 prior to saving to suppress this warning.\n",
      "Lossy conversion from float64 to uint8. Range [0, 1]. Convert image to uint8 prior to saving to suppress this warning.\n",
      "Clipping input data to the valid range for imshow with RGB data ([0..1] for floats or [0..255] for integers).\n"
     ]
    },
    {
     "name": "stdout",
     "output_type": "stream",
     "text": [
      "[INFO] Epoch 102 loss tf.Tensor(7.6478844, shape=(), dtype=float32) roomTypeLoss: tf.Tensor(3.0864844, shape=(), dtype=float32) roomBoundLosstf.Tensor(12.209285, shape=(), dtype=float32)\n"
     ]
    },
    {
     "name": "stderr",
     "output_type": "stream",
     "text": [
      "Lossy conversion from float32 to uint8. Range [0.0, 255.0]. Convert image to uint8 prior to saving to suppress this warning.\n",
      "Lossy conversion from float32 to uint8. Range [0.0, 2.0]. Convert image to uint8 prior to saving to suppress this warning.\n",
      "Lossy conversion from float64 to uint8. Range [0, 1]. Convert image to uint8 prior to saving to suppress this warning.\n",
      "Clipping input data to the valid range for imshow with RGB data ([0..1] for floats or [0..255] for integers).\n",
      "Lossy conversion from float32 to uint8. Range [0.0, 255.0]. Convert image to uint8 prior to saving to suppress this warning.\n",
      "Lossy conversion from float32 to uint8. Range [0.0, 2.0]. Convert image to uint8 prior to saving to suppress this warning.\n",
      "Lossy conversion from float64 to uint8. Range [0, 1]. Convert image to uint8 prior to saving to suppress this warning.\n",
      "Clipping input data to the valid range for imshow with RGB data ([0..1] for floats or [0..255] for integers).\n",
      "Lossy conversion from float32 to uint8. Range [0.0, 255.0]. Convert image to uint8 prior to saving to suppress this warning.\n",
      "Lossy conversion from float32 to uint8. Range [0.0, 2.0]. Convert image to uint8 prior to saving to suppress this warning.\n",
      "Lossy conversion from float64 to uint8. Range [0, 1]. Convert image to uint8 prior to saving to suppress this warning.\n",
      "Clipping input data to the valid range for imshow with RGB data ([0..1] for floats or [0..255] for integers).\n",
      "Lossy conversion from float32 to uint8. Range [0.0, 255.0]. Convert image to uint8 prior to saving to suppress this warning.\n",
      "Lossy conversion from float32 to uint8. Range [0.0, 2.0]. Convert image to uint8 prior to saving to suppress this warning.\n",
      "Lossy conversion from float64 to uint8. Range [0, 1]. Convert image to uint8 prior to saving to suppress this warning.\n",
      "Clipping input data to the valid range for imshow with RGB data ([0..1] for floats or [0..255] for integers).\n"
     ]
    },
    {
     "name": "stdout",
     "output_type": "stream",
     "text": [
      "[INFO] Epoch 103 loss tf.Tensor(8.103761, shape=(), dtype=float32) roomTypeLoss: tf.Tensor(4.0307636, shape=(), dtype=float32) roomBoundLosstf.Tensor(12.176758, shape=(), dtype=float32)\n"
     ]
    },
    {
     "name": "stderr",
     "output_type": "stream",
     "text": [
      "Lossy conversion from float32 to uint8. Range [27.0, 255.0]. Convert image to uint8 prior to saving to suppress this warning.\n",
      "Lossy conversion from float32 to uint8. Range [0.0, 2.0]. Convert image to uint8 prior to saving to suppress this warning.\n",
      "Lossy conversion from float64 to uint8. Range [0, 1]. Convert image to uint8 prior to saving to suppress this warning.\n",
      "Clipping input data to the valid range for imshow with RGB data ([0..1] for floats or [0..255] for integers).\n",
      "Lossy conversion from float32 to uint8. Range [0.0, 255.0]. Convert image to uint8 prior to saving to suppress this warning.\n",
      "Lossy conversion from float32 to uint8. Range [0.0, 2.0]. Convert image to uint8 prior to saving to suppress this warning.\n",
      "Lossy conversion from float64 to uint8. Range [0, 1]. Convert image to uint8 prior to saving to suppress this warning.\n",
      "Clipping input data to the valid range for imshow with RGB data ([0..1] for floats or [0..255] for integers).\n",
      "Lossy conversion from float32 to uint8. Range [0.0, 255.0]. Convert image to uint8 prior to saving to suppress this warning.\n",
      "Lossy conversion from float32 to uint8. Range [0.0, 2.0]. Convert image to uint8 prior to saving to suppress this warning.\n",
      "Lossy conversion from float64 to uint8. Range [0, 1]. Convert image to uint8 prior to saving to suppress this warning.\n",
      "Clipping input data to the valid range for imshow with RGB data ([0..1] for floats or [0..255] for integers).\n"
     ]
    },
    {
     "name": "stdout",
     "output_type": "stream",
     "text": [
      "[INFO] Epoch 104 loss tf.Tensor(5.8434696, shape=(), dtype=float32) roomTypeLoss: tf.Tensor(3.0618014, shape=(), dtype=float32) roomBoundLosstf.Tensor(8.625137, shape=(), dtype=float32)\n"
     ]
    },
    {
     "name": "stderr",
     "output_type": "stream",
     "text": [
      "Lossy conversion from float32 to uint8. Range [0.0, 255.0]. Convert image to uint8 prior to saving to suppress this warning.\n",
      "Lossy conversion from float32 to uint8. Range [0.0, 2.0]. Convert image to uint8 prior to saving to suppress this warning.\n",
      "Lossy conversion from float64 to uint8. Range [0, 1]. Convert image to uint8 prior to saving to suppress this warning.\n",
      "Clipping input data to the valid range for imshow with RGB data ([0..1] for floats or [0..255] for integers).\n",
      "Lossy conversion from float32 to uint8. Range [0.0, 255.0]. Convert image to uint8 prior to saving to suppress this warning.\n",
      "Lossy conversion from float32 to uint8. Range [0.0, 2.0]. Convert image to uint8 prior to saving to suppress this warning.\n",
      "Lossy conversion from float64 to uint8. Range [0, 1]. Convert image to uint8 prior to saving to suppress this warning.\n",
      "Clipping input data to the valid range for imshow with RGB data ([0..1] for floats or [0..255] for integers).\n",
      "Lossy conversion from float32 to uint8. Range [0.0, 255.0]. Convert image to uint8 prior to saving to suppress this warning.\n",
      "Lossy conversion from float32 to uint8. Range [0.0, 2.0]. Convert image to uint8 prior to saving to suppress this warning.\n",
      "Lossy conversion from float64 to uint8. Range [0, 1]. Convert image to uint8 prior to saving to suppress this warning.\n",
      "Clipping input data to the valid range for imshow with RGB data ([0..1] for floats or [0..255] for integers).\n",
      "Lossy conversion from float32 to uint8. Range [0.0, 255.0]. Convert image to uint8 prior to saving to suppress this warning.\n",
      "/d2/studies/TF2DeepFloorplan/train.py:95: UserWarning: /d2/studies/TF2DeepFloorplan/./outJan11_TFR4/30957516_rooms.png is a low contrast image\n",
      "  imsave(os.path.join(os.getcwd(), outdir + '/' + str(pltiter) + '_rooms.png'), r)\n",
      "Lossy conversion from float32 to uint8. Range [0.0, 2.0]. Convert image to uint8 prior to saving to suppress this warning.\n",
      "/d2/studies/TF2DeepFloorplan/train.py:99: UserWarning: /d2/studies/TF2DeepFloorplan/./outJan11_TFR4/30957516_rooms_pred.png is a low contrast image\n",
      "  imsave(os.path.join(os.getcwd(), outdir + '/' + str(pltiter) + '_rooms_pred.png'), img_as_float(lr))\n",
      "Lossy conversion from float64 to uint8. Range [0, 1]. Convert image to uint8 prior to saving to suppress this warning.\n",
      "Clipping input data to the valid range for imshow with RGB data ([0..1] for floats or [0..255] for integers).\n"
     ]
    },
    {
     "name": "stdout",
     "output_type": "stream",
     "text": [
      "[INFO] Epoch 105 loss tf.Tensor(5.058116, shape=(), dtype=float32) roomTypeLoss: tf.Tensor(2.0619192, shape=(), dtype=float32) roomBoundLosstf.Tensor(8.054313, shape=(), dtype=float32)\n"
     ]
    },
    {
     "name": "stderr",
     "output_type": "stream",
     "text": [
      "Lossy conversion from float32 to uint8. Range [0.0, 255.0]. Convert image to uint8 prior to saving to suppress this warning.\n",
      "Lossy conversion from float32 to uint8. Range [0.0, 2.0]. Convert image to uint8 prior to saving to suppress this warning.\n",
      "Lossy conversion from float64 to uint8. Range [0, 1]. Convert image to uint8 prior to saving to suppress this warning.\n",
      "Clipping input data to the valid range for imshow with RGB data ([0..1] for floats or [0..255] for integers).\n",
      "Lossy conversion from float32 to uint8. Range [0.0, 255.0]. Convert image to uint8 prior to saving to suppress this warning.\n",
      "/d2/studies/TF2DeepFloorplan/train.py:95: UserWarning: /d2/studies/TF2DeepFloorplan/./outJan11_TFR4/47484836_rooms.png is a low contrast image\n",
      "  imsave(os.path.join(os.getcwd(), outdir + '/' + str(pltiter) + '_rooms.png'), r)\n",
      "Lossy conversion from float32 to uint8. Range [0.0, 2.0]. Convert image to uint8 prior to saving to suppress this warning.\n",
      "/d2/studies/TF2DeepFloorplan/train.py:99: UserWarning: /d2/studies/TF2DeepFloorplan/./outJan11_TFR4/47484836_rooms_pred.png is a low contrast image\n",
      "  imsave(os.path.join(os.getcwd(), outdir + '/' + str(pltiter) + '_rooms_pred.png'), img_as_float(lr))\n",
      "Lossy conversion from float64 to uint8. Range [0, 1]. Convert image to uint8 prior to saving to suppress this warning.\n",
      "Clipping input data to the valid range for imshow with RGB data ([0..1] for floats or [0..255] for integers).\n",
      "Lossy conversion from float32 to uint8. Range [0.0, 255.0]. Convert image to uint8 prior to saving to suppress this warning.\n",
      "Lossy conversion from float32 to uint8. Range [0.0, 2.0]. Convert image to uint8 prior to saving to suppress this warning.\n",
      "Lossy conversion from float64 to uint8. Range [0, 1]. Convert image to uint8 prior to saving to suppress this warning.\n",
      "Clipping input data to the valid range for imshow with RGB data ([0..1] for floats or [0..255] for integers).\n",
      "Lossy conversion from float32 to uint8. Range [0.0, 255.0]. Convert image to uint8 prior to saving to suppress this warning.\n",
      "/d2/studies/TF2DeepFloorplan/train.py:95: UserWarning: /d2/studies/TF2DeepFloorplan/./outJan11_TFR4/44867164_rooms.png is a low contrast image\n",
      "  imsave(os.path.join(os.getcwd(), outdir + '/' + str(pltiter) + '_rooms.png'), r)\n",
      "Lossy conversion from float32 to uint8. Range [0.0, 2.0]. Convert image to uint8 prior to saving to suppress this warning.\n",
      "/d2/studies/TF2DeepFloorplan/train.py:99: UserWarning: /d2/studies/TF2DeepFloorplan/./outJan11_TFR4/44867164_rooms_pred.png is a low contrast image\n",
      "  imsave(os.path.join(os.getcwd(), outdir + '/' + str(pltiter) + '_rooms_pred.png'), img_as_float(lr))\n",
      "Lossy conversion from float64 to uint8. Range [0, 1]. Convert image to uint8 prior to saving to suppress this warning.\n",
      "Clipping input data to the valid range for imshow with RGB data ([0..1] for floats or [0..255] for integers).\n"
     ]
    },
    {
     "name": "stdout",
     "output_type": "stream",
     "text": [
      "[INFO] Epoch 106 loss tf.Tensor(6.2080994, shape=(), dtype=float32) roomTypeLoss: tf.Tensor(3.2272944, shape=(), dtype=float32) roomBoundLosstf.Tensor(9.188905, shape=(), dtype=float32)\n"
     ]
    },
    {
     "name": "stderr",
     "output_type": "stream",
     "text": [
      "Lossy conversion from float32 to uint8. Range [0.0, 255.0]. Convert image to uint8 prior to saving to suppress this warning.\n",
      "Lossy conversion from float32 to uint8. Range [0.0, 2.0]. Convert image to uint8 prior to saving to suppress this warning.\n",
      "Lossy conversion from float64 to uint8. Range [0, 1]. Convert image to uint8 prior to saving to suppress this warning.\n",
      "Clipping input data to the valid range for imshow with RGB data ([0..1] for floats or [0..255] for integers).\n",
      "Lossy conversion from float32 to uint8. Range [0.0, 255.0]. Convert image to uint8 prior to saving to suppress this warning.\n",
      "Lossy conversion from float32 to uint8. Range [0.0, 2.0]. Convert image to uint8 prior to saving to suppress this warning.\n",
      "Lossy conversion from float64 to uint8. Range [0, 1]. Convert image to uint8 prior to saving to suppress this warning.\n",
      "Clipping input data to the valid range for imshow with RGB data ([0..1] for floats or [0..255] for integers).\n",
      "Lossy conversion from float32 to uint8. Range [0.0, 240.0]. Convert image to uint8 prior to saving to suppress this warning.\n",
      "Lossy conversion from float32 to uint8. Range [0.0, 2.0]. Convert image to uint8 prior to saving to suppress this warning.\n",
      "Lossy conversion from float64 to uint8. Range [0, 1]. Convert image to uint8 prior to saving to suppress this warning.\n",
      "Clipping input data to the valid range for imshow with RGB data ([0..1] for floats or [0..255] for integers).\n"
     ]
    },
    {
     "name": "stdout",
     "output_type": "stream",
     "text": [
      "[INFO] Epoch 107 loss tf.Tensor(5.6739297, shape=(), dtype=float32) roomTypeLoss: tf.Tensor(3.2267005, shape=(), dtype=float32) roomBoundLosstf.Tensor(8.121159, shape=(), dtype=float32)\n"
     ]
    },
    {
     "name": "stderr",
     "output_type": "stream",
     "text": [
      "Lossy conversion from float32 to uint8. Range [0.0, 255.0]. Convert image to uint8 prior to saving to suppress this warning.\n",
      "Lossy conversion from float32 to uint8. Range [0.0, 2.0]. Convert image to uint8 prior to saving to suppress this warning.\n",
      "Lossy conversion from float64 to uint8. Range [0, 1]. Convert image to uint8 prior to saving to suppress this warning.\n",
      "Clipping input data to the valid range for imshow with RGB data ([0..1] for floats or [0..255] for integers).\n",
      "Lossy conversion from float32 to uint8. Range [13.0, 255.0]. Convert image to uint8 prior to saving to suppress this warning.\n",
      "Lossy conversion from float32 to uint8. Range [0.0, 2.0]. Convert image to uint8 prior to saving to suppress this warning.\n",
      "Lossy conversion from float64 to uint8. Range [0, 1]. Convert image to uint8 prior to saving to suppress this warning.\n",
      "Clipping input data to the valid range for imshow with RGB data ([0..1] for floats or [0..255] for integers).\n",
      "Lossy conversion from float32 to uint8. Range [0.0, 255.0]. Convert image to uint8 prior to saving to suppress this warning.\n",
      "Lossy conversion from float32 to uint8. Range [0.0, 2.0]. Convert image to uint8 prior to saving to suppress this warning.\n",
      "Lossy conversion from float64 to uint8. Range [0, 1]. Convert image to uint8 prior to saving to suppress this warning.\n",
      "Clipping input data to the valid range for imshow with RGB data ([0..1] for floats or [0..255] for integers).\n",
      "Lossy conversion from float32 to uint8. Range [0.0, 255.0]. Convert image to uint8 prior to saving to suppress this warning.\n",
      "Lossy conversion from float32 to uint8. Range [0.0, 2.0]. Convert image to uint8 prior to saving to suppress this warning.\n",
      "Lossy conversion from float64 to uint8. Range [0, 1]. Convert image to uint8 prior to saving to suppress this warning.\n",
      "Clipping input data to the valid range for imshow with RGB data ([0..1] for floats or [0..255] for integers).\n"
     ]
    },
    {
     "name": "stdout",
     "output_type": "stream",
     "text": [
      "[INFO] Epoch 108 loss tf.Tensor(7.3721867, shape=(), dtype=float32) roomTypeLoss: tf.Tensor(3.7904363, shape=(), dtype=float32) roomBoundLosstf.Tensor(10.953938, shape=(), dtype=float32)\n"
     ]
    },
    {
     "name": "stderr",
     "output_type": "stream",
     "text": [
      "Lossy conversion from float32 to uint8. Range [0.0, 240.0]. Convert image to uint8 prior to saving to suppress this warning.\n",
      "Lossy conversion from float32 to uint8. Range [0.0, 2.0]. Convert image to uint8 prior to saving to suppress this warning.\n",
      "Lossy conversion from float64 to uint8. Range [0, 1]. Convert image to uint8 prior to saving to suppress this warning.\n",
      "Clipping input data to the valid range for imshow with RGB data ([0..1] for floats or [0..255] for integers).\n",
      "Lossy conversion from float32 to uint8. Range [0.0, 255.0]. Convert image to uint8 prior to saving to suppress this warning.\n",
      "/d2/studies/TF2DeepFloorplan/train.py:95: UserWarning: /d2/studies/TF2DeepFloorplan/./outJan11_TFR4/31567842_rooms.png is a low contrast image\n",
      "  imsave(os.path.join(os.getcwd(), outdir + '/' + str(pltiter) + '_rooms.png'), r)\n",
      "Lossy conversion from float32 to uint8. Range [0.0, 2.0]. Convert image to uint8 prior to saving to suppress this warning.\n",
      "/d2/studies/TF2DeepFloorplan/train.py:99: UserWarning: /d2/studies/TF2DeepFloorplan/./outJan11_TFR4/31567842_rooms_pred.png is a low contrast image\n",
      "  imsave(os.path.join(os.getcwd(), outdir + '/' + str(pltiter) + '_rooms_pred.png'), img_as_float(lr))\n",
      "Lossy conversion from float64 to uint8. Range [0, 1]. Convert image to uint8 prior to saving to suppress this warning.\n",
      "Clipping input data to the valid range for imshow with RGB data ([0..1] for floats or [0..255] for integers).\n",
      "Lossy conversion from float32 to uint8. Range [0.0, 255.0]. Convert image to uint8 prior to saving to suppress this warning.\n",
      "Lossy conversion from float32 to uint8. Range [0.0, 2.0]. Convert image to uint8 prior to saving to suppress this warning.\n",
      "Lossy conversion from float64 to uint8. Range [0, 1]. Convert image to uint8 prior to saving to suppress this warning.\n",
      "Clipping input data to the valid range for imshow with RGB data ([0..1] for floats or [0..255] for integers).\n"
     ]
    },
    {
     "name": "stdout",
     "output_type": "stream",
     "text": [
      "[INFO] Epoch 109 loss tf.Tensor(5.521555, shape=(), dtype=float32) roomTypeLoss: tf.Tensor(3.7416866, shape=(), dtype=float32) roomBoundLosstf.Tensor(7.3014235, shape=(), dtype=float32)\n"
     ]
    },
    {
     "name": "stderr",
     "output_type": "stream",
     "text": [
      "Lossy conversion from float32 to uint8. Range [0.0, 255.0]. Convert image to uint8 prior to saving to suppress this warning.\n",
      "Lossy conversion from float32 to uint8. Range [0.0, 2.0]. Convert image to uint8 prior to saving to suppress this warning.\n",
      "Lossy conversion from float64 to uint8. Range [0, 1]. Convert image to uint8 prior to saving to suppress this warning.\n",
      "Clipping input data to the valid range for imshow with RGB data ([0..1] for floats or [0..255] for integers).\n",
      "Lossy conversion from float32 to uint8. Range [0.0, 255.0]. Convert image to uint8 prior to saving to suppress this warning.\n",
      "Lossy conversion from float32 to uint8. Range [0.0, 2.0]. Convert image to uint8 prior to saving to suppress this warning.\n",
      "Lossy conversion from float64 to uint8. Range [0, 1]. Convert image to uint8 prior to saving to suppress this warning.\n",
      "Clipping input data to the valid range for imshow with RGB data ([0..1] for floats or [0..255] for integers).\n",
      "Lossy conversion from float32 to uint8. Range [0.0, 255.0]. Convert image to uint8 prior to saving to suppress this warning.\n",
      "Lossy conversion from float32 to uint8. Range [0.0, 2.0]. Convert image to uint8 prior to saving to suppress this warning.\n",
      "Lossy conversion from float64 to uint8. Range [0, 1]. Convert image to uint8 prior to saving to suppress this warning.\n",
      "Clipping input data to the valid range for imshow with RGB data ([0..1] for floats or [0..255] for integers).\n",
      "Lossy conversion from float32 to uint8. Range [0.0, 255.0]. Convert image to uint8 prior to saving to suppress this warning.\n",
      "Lossy conversion from float32 to uint8. Range [0.0, 2.0]. Convert image to uint8 prior to saving to suppress this warning.\n",
      "Lossy conversion from float64 to uint8. Range [0, 1]. Convert image to uint8 prior to saving to suppress this warning.\n",
      "Clipping input data to the valid range for imshow with RGB data ([0..1] for floats or [0..255] for integers).\n"
     ]
    },
    {
     "name": "stdout",
     "output_type": "stream",
     "text": [
      "[INFO] Epoch 110 loss tf.Tensor(5.9946237, shape=(), dtype=float32) roomTypeLoss: tf.Tensor(3.4741602, shape=(), dtype=float32) roomBoundLosstf.Tensor(8.515087, shape=(), dtype=float32)\n"
     ]
    },
    {
     "name": "stderr",
     "output_type": "stream",
     "text": [
      "Lossy conversion from float32 to uint8. Range [0.0, 255.0]. Convert image to uint8 prior to saving to suppress this warning.\n",
      "Lossy conversion from float32 to uint8. Range [0.0, 2.0]. Convert image to uint8 prior to saving to suppress this warning.\n",
      "Lossy conversion from float64 to uint8. Range [0, 1]. Convert image to uint8 prior to saving to suppress this warning.\n",
      "Clipping input data to the valid range for imshow with RGB data ([0..1] for floats or [0..255] for integers).\n",
      "Lossy conversion from float32 to uint8. Range [0.0, 255.0]. Convert image to uint8 prior to saving to suppress this warning.\n",
      "/d2/studies/TF2DeepFloorplan/train.py:95: UserWarning: /d2/studies/TF2DeepFloorplan/./outJan11_TFR4/47492936_rooms.png is a low contrast image\n",
      "  imsave(os.path.join(os.getcwd(), outdir + '/' + str(pltiter) + '_rooms.png'), r)\n",
      "Lossy conversion from float32 to uint8. Range [0.0, 2.0]. Convert image to uint8 prior to saving to suppress this warning.\n",
      "/d2/studies/TF2DeepFloorplan/train.py:99: UserWarning: /d2/studies/TF2DeepFloorplan/./outJan11_TFR4/47492936_rooms_pred.png is a low contrast image\n",
      "  imsave(os.path.join(os.getcwd(), outdir + '/' + str(pltiter) + '_rooms_pred.png'), img_as_float(lr))\n",
      "Lossy conversion from float64 to uint8. Range [0, 1]. Convert image to uint8 prior to saving to suppress this warning.\n",
      "Clipping input data to the valid range for imshow with RGB data ([0..1] for floats or [0..255] for integers).\n",
      "Lossy conversion from float32 to uint8. Range [0.0, 255.0]. Convert image to uint8 prior to saving to suppress this warning.\n",
      "/d2/studies/TF2DeepFloorplan/train.py:95: UserWarning: /d2/studies/TF2DeepFloorplan/./outJan11_TFR4/45740878_rooms.png is a low contrast image\n",
      "  imsave(os.path.join(os.getcwd(), outdir + '/' + str(pltiter) + '_rooms.png'), r)\n",
      "Lossy conversion from float32 to uint8. Range [0.0, 2.0]. Convert image to uint8 prior to saving to suppress this warning.\n",
      "/d2/studies/TF2DeepFloorplan/train.py:99: UserWarning: /d2/studies/TF2DeepFloorplan/./outJan11_TFR4/45740878_rooms_pred.png is a low contrast image\n",
      "  imsave(os.path.join(os.getcwd(), outdir + '/' + str(pltiter) + '_rooms_pred.png'), img_as_float(lr))\n",
      "Lossy conversion from float64 to uint8. Range [0, 1]. Convert image to uint8 prior to saving to suppress this warning.\n",
      "Clipping input data to the valid range for imshow with RGB data ([0..1] for floats or [0..255] for integers).\n"
     ]
    },
    {
     "name": "stdout",
     "output_type": "stream",
     "text": [
      "[INFO] Epoch 111 loss tf.Tensor(5.944984, shape=(), dtype=float32) roomTypeLoss: tf.Tensor(3.148775, shape=(), dtype=float32) roomBoundLosstf.Tensor(8.741193, shape=(), dtype=float32)\n"
     ]
    },
    {
     "name": "stderr",
     "output_type": "stream",
     "text": [
      "Lossy conversion from float32 to uint8. Range [0.0, 255.0]. Convert image to uint8 prior to saving to suppress this warning.\n",
      "Lossy conversion from float32 to uint8. Range [0.0, 2.0]. Convert image to uint8 prior to saving to suppress this warning.\n",
      "Lossy conversion from float64 to uint8. Range [0, 1]. Convert image to uint8 prior to saving to suppress this warning.\n",
      "Clipping input data to the valid range for imshow with RGB data ([0..1] for floats or [0..255] for integers).\n",
      "Lossy conversion from float32 to uint8. Range [0.0, 255.0]. Convert image to uint8 prior to saving to suppress this warning.\n",
      "Lossy conversion from float32 to uint8. Range [0.0, 2.0]. Convert image to uint8 prior to saving to suppress this warning.\n",
      "Lossy conversion from float64 to uint8. Range [0, 1]. Convert image to uint8 prior to saving to suppress this warning.\n",
      "Clipping input data to the valid range for imshow with RGB data ([0..1] for floats or [0..255] for integers).\n",
      "Lossy conversion from float32 to uint8. Range [0.0, 255.0]. Convert image to uint8 prior to saving to suppress this warning.\n",
      "Lossy conversion from float32 to uint8. Range [0.0, 2.0]. Convert image to uint8 prior to saving to suppress this warning.\n",
      "Lossy conversion from float64 to uint8. Range [0, 1]. Convert image to uint8 prior to saving to suppress this warning.\n",
      "Clipping input data to the valid range for imshow with RGB data ([0..1] for floats or [0..255] for integers).\n",
      "Lossy conversion from float32 to uint8. Range [0.0, 255.0]. Convert image to uint8 prior to saving to suppress this warning.\n",
      "Lossy conversion from float32 to uint8. Range [0.0, 2.0]. Convert image to uint8 prior to saving to suppress this warning.\n",
      "Lossy conversion from float64 to uint8. Range [0, 1]. Convert image to uint8 prior to saving to suppress this warning.\n",
      "Clipping input data to the valid range for imshow with RGB data ([0..1] for floats or [0..255] for integers).\n"
     ]
    },
    {
     "name": "stdout",
     "output_type": "stream",
     "text": [
      "[INFO] Epoch 112 loss tf.Tensor(6.196454, shape=(), dtype=float32) roomTypeLoss: tf.Tensor(5.825083, shape=(), dtype=float32) roomBoundLosstf.Tensor(6.567825, shape=(), dtype=float32)\n"
     ]
    },
    {
     "name": "stderr",
     "output_type": "stream",
     "text": [
      "Lossy conversion from float32 to uint8. Range [0.0, 255.0]. Convert image to uint8 prior to saving to suppress this warning.\n",
      "/d2/studies/TF2DeepFloorplan/train.py:95: UserWarning: /d2/studies/TF2DeepFloorplan/./outJan11_TFR4/45741118_rooms.png is a low contrast image\n",
      "  imsave(os.path.join(os.getcwd(), outdir + '/' + str(pltiter) + '_rooms.png'), r)\n",
      "Lossy conversion from float32 to uint8. Range [0.0, 2.0]. Convert image to uint8 prior to saving to suppress this warning.\n",
      "/d2/studies/TF2DeepFloorplan/train.py:99: UserWarning: /d2/studies/TF2DeepFloorplan/./outJan11_TFR4/45741118_rooms_pred.png is a low contrast image\n",
      "  imsave(os.path.join(os.getcwd(), outdir + '/' + str(pltiter) + '_rooms_pred.png'), img_as_float(lr))\n",
      "Lossy conversion from float64 to uint8. Range [0, 1]. Convert image to uint8 prior to saving to suppress this warning.\n",
      "Clipping input data to the valid range for imshow with RGB data ([0..1] for floats or [0..255] for integers).\n",
      "Lossy conversion from float32 to uint8. Range [0.0, 255.0]. Convert image to uint8 prior to saving to suppress this warning.\n",
      "Lossy conversion from float32 to uint8. Range [0.0, 2.0]. Convert image to uint8 prior to saving to suppress this warning.\n",
      "Lossy conversion from float64 to uint8. Range [0, 1]. Convert image to uint8 prior to saving to suppress this warning.\n",
      "Clipping input data to the valid range for imshow with RGB data ([0..1] for floats or [0..255] for integers).\n",
      "Lossy conversion from float32 to uint8. Range [0.0, 255.0]. Convert image to uint8 prior to saving to suppress this warning.\n",
      "Lossy conversion from float32 to uint8. Range [0.0, 2.0]. Convert image to uint8 prior to saving to suppress this warning.\n",
      "Lossy conversion from float64 to uint8. Range [0, 1]. Convert image to uint8 prior to saving to suppress this warning.\n",
      "Clipping input data to the valid range for imshow with RGB data ([0..1] for floats or [0..255] for integers).\n",
      "Lossy conversion from float32 to uint8. Range [0.0, 255.0]. Convert image to uint8 prior to saving to suppress this warning.\n",
      "Lossy conversion from float32 to uint8. Range [0.0, 2.0]. Convert image to uint8 prior to saving to suppress this warning.\n",
      "Lossy conversion from float64 to uint8. Range [0, 1]. Convert image to uint8 prior to saving to suppress this warning.\n",
      "Clipping input data to the valid range for imshow with RGB data ([0..1] for floats or [0..255] for integers).\n"
     ]
    },
    {
     "name": "stdout",
     "output_type": "stream",
     "text": [
      "[INFO] Epoch 113 loss tf.Tensor(4.502015, shape=(), dtype=float32) roomTypeLoss: tf.Tensor(1.9562498, shape=(), dtype=float32) roomBoundLosstf.Tensor(7.0477805, shape=(), dtype=float32)\n"
     ]
    },
    {
     "name": "stderr",
     "output_type": "stream",
     "text": [
      "Lossy conversion from float32 to uint8. Range [0.0, 255.0]. Convert image to uint8 prior to saving to suppress this warning.\n",
      "Lossy conversion from float32 to uint8. Range [0.0, 2.0]. Convert image to uint8 prior to saving to suppress this warning.\n",
      "Lossy conversion from float64 to uint8. Range [0, 1]. Convert image to uint8 prior to saving to suppress this warning.\n",
      "Clipping input data to the valid range for imshow with RGB data ([0..1] for floats or [0..255] for integers).\n",
      "Lossy conversion from float32 to uint8. Range [0.0, 255.0]. Convert image to uint8 prior to saving to suppress this warning.\n",
      "Lossy conversion from float32 to uint8. Range [0.0, 2.0]. Convert image to uint8 prior to saving to suppress this warning.\n",
      "Lossy conversion from float64 to uint8. Range [0, 1]. Convert image to uint8 prior to saving to suppress this warning.\n",
      "Clipping input data to the valid range for imshow with RGB data ([0..1] for floats or [0..255] for integers).\n",
      "Lossy conversion from float32 to uint8. Range [0.0, 255.0]. Convert image to uint8 prior to saving to suppress this warning.\n",
      "Lossy conversion from float32 to uint8. Range [0.0, 2.0]. Convert image to uint8 prior to saving to suppress this warning.\n",
      "Lossy conversion from float64 to uint8. Range [0, 1]. Convert image to uint8 prior to saving to suppress this warning.\n",
      "Clipping input data to the valid range for imshow with RGB data ([0..1] for floats or [0..255] for integers).\n"
     ]
    },
    {
     "name": "stdout",
     "output_type": "stream",
     "text": [
      "[INFO] Epoch 114 loss tf.Tensor(7.5646114, shape=(), dtype=float32) roomTypeLoss: tf.Tensor(3.2861626, shape=(), dtype=float32) roomBoundLosstf.Tensor(11.8430605, shape=(), dtype=float32)\n"
     ]
    },
    {
     "name": "stderr",
     "output_type": "stream",
     "text": [
      "Lossy conversion from float32 to uint8. Range [0.0, 255.0]. Convert image to uint8 prior to saving to suppress this warning.\n",
      "Lossy conversion from float32 to uint8. Range [0.0, 2.0]. Convert image to uint8 prior to saving to suppress this warning.\n",
      "Lossy conversion from float64 to uint8. Range [0, 1]. Convert image to uint8 prior to saving to suppress this warning.\n",
      "Clipping input data to the valid range for imshow with RGB data ([0..1] for floats or [0..255] for integers).\n",
      "Lossy conversion from float32 to uint8. Range [0.0, 255.0]. Convert image to uint8 prior to saving to suppress this warning.\n",
      "Lossy conversion from float32 to uint8. Range [0.0, 2.0]. Convert image to uint8 prior to saving to suppress this warning.\n",
      "Lossy conversion from float64 to uint8. Range [0, 1]. Convert image to uint8 prior to saving to suppress this warning.\n",
      "Clipping input data to the valid range for imshow with RGB data ([0..1] for floats or [0..255] for integers).\n",
      "Lossy conversion from float32 to uint8. Range [0.0, 255.0]. Convert image to uint8 prior to saving to suppress this warning.\n",
      "Lossy conversion from float32 to uint8. Range [0.0, 2.0]. Convert image to uint8 prior to saving to suppress this warning.\n",
      "Lossy conversion from float64 to uint8. Range [0, 1]. Convert image to uint8 prior to saving to suppress this warning.\n",
      "Clipping input data to the valid range for imshow with RGB data ([0..1] for floats or [0..255] for integers).\n",
      "Lossy conversion from float32 to uint8. Range [0.0, 255.0]. Convert image to uint8 prior to saving to suppress this warning.\n",
      "Lossy conversion from float32 to uint8. Range [0.0, 2.0]. Convert image to uint8 prior to saving to suppress this warning.\n",
      "Lossy conversion from float64 to uint8. Range [0, 1]. Convert image to uint8 prior to saving to suppress this warning.\n",
      "Clipping input data to the valid range for imshow with RGB data ([0..1] for floats or [0..255] for integers).\n"
     ]
    },
    {
     "name": "stdout",
     "output_type": "stream",
     "text": [
      "[INFO] Epoch 115 loss tf.Tensor(6.039551, shape=(), dtype=float32) roomTypeLoss: tf.Tensor(3.1150143, shape=(), dtype=float32) roomBoundLosstf.Tensor(8.9640875, shape=(), dtype=float32)\n"
     ]
    },
    {
     "name": "stderr",
     "output_type": "stream",
     "text": [
      "Lossy conversion from float32 to uint8. Range [0.0, 255.0]. Convert image to uint8 prior to saving to suppress this warning.\n",
      "Lossy conversion from float32 to uint8. Range [0.0, 2.0]. Convert image to uint8 prior to saving to suppress this warning.\n",
      "Lossy conversion from float64 to uint8. Range [0, 1]. Convert image to uint8 prior to saving to suppress this warning.\n",
      "Clipping input data to the valid range for imshow with RGB data ([0..1] for floats or [0..255] for integers).\n",
      "Lossy conversion from float32 to uint8. Range [0.0, 255.0]. Convert image to uint8 prior to saving to suppress this warning.\n",
      "Lossy conversion from float32 to uint8. Range [0.0, 2.0]. Convert image to uint8 prior to saving to suppress this warning.\n",
      "Lossy conversion from float64 to uint8. Range [0, 1]. Convert image to uint8 prior to saving to suppress this warning.\n",
      "Clipping input data to the valid range for imshow with RGB data ([0..1] for floats or [0..255] for integers).\n",
      "Lossy conversion from float32 to uint8. Range [0.0, 255.0]. Convert image to uint8 prior to saving to suppress this warning.\n",
      "/d2/studies/TF2DeepFloorplan/train.py:95: UserWarning: /d2/studies/TF2DeepFloorplan/./outJan11_TFR4/45780376_rooms.png is a low contrast image\n",
      "  imsave(os.path.join(os.getcwd(), outdir + '/' + str(pltiter) + '_rooms.png'), r)\n",
      "Lossy conversion from float32 to uint8. Range [0.0, 2.0]. Convert image to uint8 prior to saving to suppress this warning.\n",
      "/d2/studies/TF2DeepFloorplan/train.py:99: UserWarning: /d2/studies/TF2DeepFloorplan/./outJan11_TFR4/45780376_rooms_pred.png is a low contrast image\n",
      "  imsave(os.path.join(os.getcwd(), outdir + '/' + str(pltiter) + '_rooms_pred.png'), img_as_float(lr))\n",
      "Lossy conversion from float64 to uint8. Range [0, 1]. Convert image to uint8 prior to saving to suppress this warning.\n",
      "Clipping input data to the valid range for imshow with RGB data ([0..1] for floats or [0..255] for integers).\n"
     ]
    },
    {
     "name": "stdout",
     "output_type": "stream",
     "text": [
      "[INFO] Epoch 116 loss tf.Tensor(6.5608897, shape=(), dtype=float32) roomTypeLoss: tf.Tensor(2.825552, shape=(), dtype=float32) roomBoundLosstf.Tensor(10.296227, shape=(), dtype=float32)\n"
     ]
    },
    {
     "name": "stderr",
     "output_type": "stream",
     "text": [
      "Lossy conversion from float32 to uint8. Range [0.0, 255.0]. Convert image to uint8 prior to saving to suppress this warning.\n",
      "/d2/studies/TF2DeepFloorplan/train.py:95: UserWarning: /d2/studies/TF2DeepFloorplan/./outJan11_TFR4/45293770_rooms.png is a low contrast image\n",
      "  imsave(os.path.join(os.getcwd(), outdir + '/' + str(pltiter) + '_rooms.png'), r)\n",
      "Lossy conversion from float32 to uint8. Range [0.0, 2.0]. Convert image to uint8 prior to saving to suppress this warning.\n",
      "/d2/studies/TF2DeepFloorplan/train.py:99: UserWarning: /d2/studies/TF2DeepFloorplan/./outJan11_TFR4/45293770_rooms_pred.png is a low contrast image\n",
      "  imsave(os.path.join(os.getcwd(), outdir + '/' + str(pltiter) + '_rooms_pred.png'), img_as_float(lr))\n",
      "Lossy conversion from float64 to uint8. Range [0, 1]. Convert image to uint8 prior to saving to suppress this warning.\n",
      "Clipping input data to the valid range for imshow with RGB data ([0..1] for floats or [0..255] for integers).\n",
      "Lossy conversion from float32 to uint8. Range [0.0, 255.0]. Convert image to uint8 prior to saving to suppress this warning.\n",
      "Lossy conversion from float32 to uint8. Range [0.0, 2.0]. Convert image to uint8 prior to saving to suppress this warning.\n",
      "Lossy conversion from float64 to uint8. Range [0, 1]. Convert image to uint8 prior to saving to suppress this warning.\n",
      "Clipping input data to the valid range for imshow with RGB data ([0..1] for floats or [0..255] for integers).\n",
      "Lossy conversion from float32 to uint8. Range [0.0, 255.0]. Convert image to uint8 prior to saving to suppress this warning.\n",
      "Lossy conversion from float32 to uint8. Range [0.0, 2.0]. Convert image to uint8 prior to saving to suppress this warning.\n",
      "Lossy conversion from float64 to uint8. Range [0, 1]. Convert image to uint8 prior to saving to suppress this warning.\n",
      "Clipping input data to the valid range for imshow with RGB data ([0..1] for floats or [0..255] for integers).\n",
      "Lossy conversion from float32 to uint8. Range [0.0, 255.0]. Convert image to uint8 prior to saving to suppress this warning.\n",
      "Lossy conversion from float32 to uint8. Range [0.0, 2.0]. Convert image to uint8 prior to saving to suppress this warning.\n",
      "Lossy conversion from float64 to uint8. Range [0, 1]. Convert image to uint8 prior to saving to suppress this warning.\n",
      "Clipping input data to the valid range for imshow with RGB data ([0..1] for floats or [0..255] for integers).\n"
     ]
    },
    {
     "name": "stdout",
     "output_type": "stream",
     "text": [
      "[INFO] Epoch 117 loss tf.Tensor(8.595767, shape=(), dtype=float32) roomTypeLoss: tf.Tensor(4.060834, shape=(), dtype=float32) roomBoundLosstf.Tensor(13.1307, shape=(), dtype=float32)\n"
     ]
    },
    {
     "name": "stderr",
     "output_type": "stream",
     "text": [
      "Lossy conversion from float32 to uint8. Range [0.0, 255.0]. Convert image to uint8 prior to saving to suppress this warning.\n",
      "Lossy conversion from float32 to uint8. Range [0.0, 2.0]. Convert image to uint8 prior to saving to suppress this warning.\n",
      "Lossy conversion from float64 to uint8. Range [0, 1]. Convert image to uint8 prior to saving to suppress this warning.\n",
      "Clipping input data to the valid range for imshow with RGB data ([0..1] for floats or [0..255] for integers).\n",
      "Lossy conversion from float32 to uint8. Range [0.0, 255.0]. Convert image to uint8 prior to saving to suppress this warning.\n",
      "Lossy conversion from float32 to uint8. Range [0.0, 2.0]. Convert image to uint8 prior to saving to suppress this warning.\n",
      "Lossy conversion from float64 to uint8. Range [0, 1]. Convert image to uint8 prior to saving to suppress this warning.\n",
      "Clipping input data to the valid range for imshow with RGB data ([0..1] for floats or [0..255] for integers).\n",
      "Lossy conversion from float32 to uint8. Range [0.0, 255.0]. Convert image to uint8 prior to saving to suppress this warning.\n",
      "Lossy conversion from float32 to uint8. Range [0.0, 2.0]. Convert image to uint8 prior to saving to suppress this warning.\n",
      "Lossy conversion from float64 to uint8. Range [0, 1]. Convert image to uint8 prior to saving to suppress this warning.\n",
      "Clipping input data to the valid range for imshow with RGB data ([0..1] for floats or [0..255] for integers).\n",
      "Lossy conversion from float32 to uint8. Range [0.0, 255.0]. Convert image to uint8 prior to saving to suppress this warning.\n",
      "Lossy conversion from float32 to uint8. Range [0.0, 2.0]. Convert image to uint8 prior to saving to suppress this warning.\n",
      "Lossy conversion from float64 to uint8. Range [0, 1]. Convert image to uint8 prior to saving to suppress this warning.\n",
      "Clipping input data to the valid range for imshow with RGB data ([0..1] for floats or [0..255] for integers).\n"
     ]
    },
    {
     "name": "stdout",
     "output_type": "stream",
     "text": [
      "INFO:tensorflow:Assets written to: ./log/Jan11_TFR4/save/assets\n",
      "[INFO] Saving Model\n",
      "[INFO] Epoch 118 loss tf.Tensor(1.784569, shape=(), dtype=float32) roomTypeLoss: tf.Tensor(0.8778212, shape=(), dtype=float32) roomBoundLosstf.Tensor(2.6913168, shape=(), dtype=float32)\n"
     ]
    },
    {
     "name": "stderr",
     "output_type": "stream",
     "text": [
      "Lossy conversion from float32 to uint8. Range [0.0, 255.0]. Convert image to uint8 prior to saving to suppress this warning.\n",
      "Lossy conversion from float32 to uint8. Range [0.0, 2.0]. Convert image to uint8 prior to saving to suppress this warning.\n",
      "Lossy conversion from float64 to uint8. Range [0, 1]. Convert image to uint8 prior to saving to suppress this warning.\n",
      "Clipping input data to the valid range for imshow with RGB data ([0..1] for floats or [0..255] for integers).\n",
      "Lossy conversion from float32 to uint8. Range [0.0, 255.0]. Convert image to uint8 prior to saving to suppress this warning.\n",
      "Lossy conversion from float32 to uint8. Range [0.0, 2.0]. Convert image to uint8 prior to saving to suppress this warning.\n",
      "Lossy conversion from float64 to uint8. Range [0, 1]. Convert image to uint8 prior to saving to suppress this warning.\n",
      "Clipping input data to the valid range for imshow with RGB data ([0..1] for floats or [0..255] for integers).\n",
      "Lossy conversion from float32 to uint8. Range [0.0, 255.0]. Convert image to uint8 prior to saving to suppress this warning.\n",
      "Lossy conversion from float32 to uint8. Range [0.0, 2.0]. Convert image to uint8 prior to saving to suppress this warning.\n",
      "Lossy conversion from float64 to uint8. Range [0, 1]. Convert image to uint8 prior to saving to suppress this warning.\n",
      "Clipping input data to the valid range for imshow with RGB data ([0..1] for floats or [0..255] for integers).\n"
     ]
    },
    {
     "name": "stdout",
     "output_type": "stream",
     "text": [
      "[INFO] Epoch 119 loss tf.Tensor(6.2807565, shape=(), dtype=float32) roomTypeLoss: tf.Tensor(3.8422453, shape=(), dtype=float32) roomBoundLosstf.Tensor(8.719268, shape=(), dtype=float32)\n"
     ]
    },
    {
     "name": "stderr",
     "output_type": "stream",
     "text": [
      "Lossy conversion from float32 to uint8. Range [0.0, 240.0]. Convert image to uint8 prior to saving to suppress this warning.\n",
      "Lossy conversion from float32 to uint8. Range [0.0, 2.0]. Convert image to uint8 prior to saving to suppress this warning.\n",
      "Lossy conversion from float64 to uint8. Range [0, 1]. Convert image to uint8 prior to saving to suppress this warning.\n",
      "Clipping input data to the valid range for imshow with RGB data ([0..1] for floats or [0..255] for integers).\n",
      "Lossy conversion from float32 to uint8. Range [0.0, 255.0]. Convert image to uint8 prior to saving to suppress this warning.\n",
      "Lossy conversion from float32 to uint8. Range [0.0, 2.0]. Convert image to uint8 prior to saving to suppress this warning.\n",
      "Lossy conversion from float64 to uint8. Range [0, 1]. Convert image to uint8 prior to saving to suppress this warning.\n",
      "Clipping input data to the valid range for imshow with RGB data ([0..1] for floats or [0..255] for integers).\n",
      "Lossy conversion from float32 to uint8. Range [0.0, 255.0]. Convert image to uint8 prior to saving to suppress this warning.\n",
      "Lossy conversion from float32 to uint8. Range [0.0, 2.0]. Convert image to uint8 prior to saving to suppress this warning.\n",
      "Lossy conversion from float64 to uint8. Range [0, 1]. Convert image to uint8 prior to saving to suppress this warning.\n",
      "Clipping input data to the valid range for imshow with RGB data ([0..1] for floats or [0..255] for integers).\n",
      "Lossy conversion from float32 to uint8. Range [0.0, 255.0]. Convert image to uint8 prior to saving to suppress this warning.\n",
      "Lossy conversion from float32 to uint8. Range [0.0, 2.0]. Convert image to uint8 prior to saving to suppress this warning.\n",
      "Lossy conversion from float64 to uint8. Range [0, 1]. Convert image to uint8 prior to saving to suppress this warning.\n",
      "Clipping input data to the valid range for imshow with RGB data ([0..1] for floats or [0..255] for integers).\n"
     ]
    },
    {
     "name": "stdout",
     "output_type": "stream",
     "text": [
      "[INFO] Epoch 120 loss tf.Tensor(6.8558774, shape=(), dtype=float32) roomTypeLoss: tf.Tensor(3.8244069, shape=(), dtype=float32) roomBoundLosstf.Tensor(9.887348, shape=(), dtype=float32)\n"
     ]
    },
    {
     "name": "stderr",
     "output_type": "stream",
     "text": [
      "Lossy conversion from float32 to uint8. Range [11.0, 255.0]. Convert image to uint8 prior to saving to suppress this warning.\n",
      "/d2/studies/TF2DeepFloorplan/train.py:95: UserWarning: /d2/studies/TF2DeepFloorplan/./outJan11_TFR4/10_rooms.png is a low contrast image\n",
      "  imsave(os.path.join(os.getcwd(), outdir + '/' + str(pltiter) + '_rooms.png'), r)\n",
      "Lossy conversion from float32 to uint8. Range [0.0, 2.0]. Convert image to uint8 prior to saving to suppress this warning.\n",
      "/d2/studies/TF2DeepFloorplan/train.py:99: UserWarning: /d2/studies/TF2DeepFloorplan/./outJan11_TFR4/10_rooms_pred.png is a low contrast image\n",
      "  imsave(os.path.join(os.getcwd(), outdir + '/' + str(pltiter) + '_rooms_pred.png'), img_as_float(lr))\n",
      "Lossy conversion from float64 to uint8. Range [0, 1]. Convert image to uint8 prior to saving to suppress this warning.\n",
      "Clipping input data to the valid range for imshow with RGB data ([0..1] for floats or [0..255] for integers).\n",
      "Lossy conversion from float32 to uint8. Range [0.0, 255.0]. Convert image to uint8 prior to saving to suppress this warning.\n",
      "Lossy conversion from float32 to uint8. Range [0.0, 2.0]. Convert image to uint8 prior to saving to suppress this warning.\n",
      "Lossy conversion from float64 to uint8. Range [0, 1]. Convert image to uint8 prior to saving to suppress this warning.\n",
      "Clipping input data to the valid range for imshow with RGB data ([0..1] for floats or [0..255] for integers).\n",
      "Lossy conversion from float32 to uint8. Range [0.0, 255.0]. Convert image to uint8 prior to saving to suppress this warning.\n",
      "Lossy conversion from float32 to uint8. Range [0.0, 2.0]. Convert image to uint8 prior to saving to suppress this warning.\n",
      "Lossy conversion from float64 to uint8. Range [0, 1]. Convert image to uint8 prior to saving to suppress this warning.\n",
      "Clipping input data to the valid range for imshow with RGB data ([0..1] for floats or [0..255] for integers).\n"
     ]
    },
    {
     "name": "stdout",
     "output_type": "stream",
     "text": [
      "[INFO] Epoch 121 loss tf.Tensor(5.7344127, shape=(), dtype=float32) roomTypeLoss: tf.Tensor(2.7427063, shape=(), dtype=float32) roomBoundLosstf.Tensor(8.726119, shape=(), dtype=float32)\n"
     ]
    },
    {
     "name": "stderr",
     "output_type": "stream",
     "text": [
      "Lossy conversion from float32 to uint8. Range [0.0, 255.0]. Convert image to uint8 prior to saving to suppress this warning.\n",
      "Lossy conversion from float32 to uint8. Range [0.0, 2.0]. Convert image to uint8 prior to saving to suppress this warning.\n",
      "Lossy conversion from float64 to uint8. Range [0, 1]. Convert image to uint8 prior to saving to suppress this warning.\n",
      "Clipping input data to the valid range for imshow with RGB data ([0..1] for floats or [0..255] for integers).\n",
      "Lossy conversion from float32 to uint8. Range [0.0, 255.0]. Convert image to uint8 prior to saving to suppress this warning.\n",
      "Lossy conversion from float32 to uint8. Range [0.0, 2.0]. Convert image to uint8 prior to saving to suppress this warning.\n",
      "Lossy conversion from float64 to uint8. Range [0, 1]. Convert image to uint8 prior to saving to suppress this warning.\n",
      "Clipping input data to the valid range for imshow with RGB data ([0..1] for floats or [0..255] for integers).\n",
      "Lossy conversion from float32 to uint8. Range [0.0, 255.0]. Convert image to uint8 prior to saving to suppress this warning.\n",
      "Lossy conversion from float32 to uint8. Range [0.0, 2.0]. Convert image to uint8 prior to saving to suppress this warning.\n",
      "Lossy conversion from float64 to uint8. Range [0, 1]. Convert image to uint8 prior to saving to suppress this warning.\n",
      "Clipping input data to the valid range for imshow with RGB data ([0..1] for floats or [0..255] for integers).\n",
      "Lossy conversion from float32 to uint8. Range [0.0, 255.0]. Convert image to uint8 prior to saving to suppress this warning.\n",
      "Lossy conversion from float32 to uint8. Range [0.0, 2.0]. Convert image to uint8 prior to saving to suppress this warning.\n",
      "Lossy conversion from float64 to uint8. Range [0, 1]. Convert image to uint8 prior to saving to suppress this warning.\n",
      "Clipping input data to the valid range for imshow with RGB data ([0..1] for floats or [0..255] for integers).\n"
     ]
    },
    {
     "name": "stdout",
     "output_type": "stream",
     "text": [
      "[INFO] Epoch 122 loss tf.Tensor(6.0180693, shape=(), dtype=float32) roomTypeLoss: tf.Tensor(4.4235215, shape=(), dtype=float32) roomBoundLosstf.Tensor(7.6126175, shape=(), dtype=float32)\n"
     ]
    },
    {
     "name": "stderr",
     "output_type": "stream",
     "text": [
      "Lossy conversion from float32 to uint8. Range [0.0, 255.0]. Convert image to uint8 prior to saving to suppress this warning.\n",
      "Lossy conversion from float32 to uint8. Range [0.0, 2.0]. Convert image to uint8 prior to saving to suppress this warning.\n",
      "Lossy conversion from float64 to uint8. Range [0, 1]. Convert image to uint8 prior to saving to suppress this warning.\n",
      "Clipping input data to the valid range for imshow with RGB data ([0..1] for floats or [0..255] for integers).\n",
      "Lossy conversion from float32 to uint8. Range [0.0, 255.0]. Convert image to uint8 prior to saving to suppress this warning.\n",
      "Lossy conversion from float32 to uint8. Range [0.0, 2.0]. Convert image to uint8 prior to saving to suppress this warning.\n",
      "Lossy conversion from float64 to uint8. Range [0, 1]. Convert image to uint8 prior to saving to suppress this warning.\n",
      "Clipping input data to the valid range for imshow with RGB data ([0..1] for floats or [0..255] for integers).\n",
      "Lossy conversion from float32 to uint8. Range [0.0, 255.0]. Convert image to uint8 prior to saving to suppress this warning.\n",
      "Lossy conversion from float32 to uint8. Range [0.0, 2.0]. Convert image to uint8 prior to saving to suppress this warning.\n",
      "Lossy conversion from float64 to uint8. Range [0, 1]. Convert image to uint8 prior to saving to suppress this warning.\n",
      "Clipping input data to the valid range for imshow with RGB data ([0..1] for floats or [0..255] for integers).\n"
     ]
    },
    {
     "name": "stdout",
     "output_type": "stream",
     "text": [
      "[INFO] Epoch 123 loss tf.Tensor(4.82777, shape=(), dtype=float32) roomTypeLoss: tf.Tensor(2.5953186, shape=(), dtype=float32) roomBoundLosstf.Tensor(7.060222, shape=(), dtype=float32)\n"
     ]
    },
    {
     "name": "stderr",
     "output_type": "stream",
     "text": [
      "Lossy conversion from float32 to uint8. Range [65.0, 255.0]. Convert image to uint8 prior to saving to suppress this warning.\n",
      "Lossy conversion from float32 to uint8. Range [0.0, 2.0]. Convert image to uint8 prior to saving to suppress this warning.\n",
      "Lossy conversion from float64 to uint8. Range [0, 1]. Convert image to uint8 prior to saving to suppress this warning.\n",
      "Clipping input data to the valid range for imshow with RGB data ([0..1] for floats or [0..255] for integers).\n",
      "Lossy conversion from float32 to uint8. Range [0.0, 255.0]. Convert image to uint8 prior to saving to suppress this warning.\n",
      "Lossy conversion from float32 to uint8. Range [0.0, 2.0]. Convert image to uint8 prior to saving to suppress this warning.\n",
      "Lossy conversion from float64 to uint8. Range [0, 1]. Convert image to uint8 prior to saving to suppress this warning.\n",
      "Clipping input data to the valid range for imshow with RGB data ([0..1] for floats or [0..255] for integers).\n",
      "Lossy conversion from float32 to uint8. Range [0.0, 255.0]. Convert image to uint8 prior to saving to suppress this warning.\n",
      "Lossy conversion from float32 to uint8. Range [0.0, 2.0]. Convert image to uint8 prior to saving to suppress this warning.\n",
      "Lossy conversion from float64 to uint8. Range [0, 1]. Convert image to uint8 prior to saving to suppress this warning.\n",
      "Clipping input data to the valid range for imshow with RGB data ([0..1] for floats or [0..255] for integers).\n",
      "Lossy conversion from float32 to uint8. Range [0.0, 255.0]. Convert image to uint8 prior to saving to suppress this warning.\n",
      "Lossy conversion from float32 to uint8. Range [0.0, 2.0]. Convert image to uint8 prior to saving to suppress this warning.\n",
      "Lossy conversion from float64 to uint8. Range [0, 1]. Convert image to uint8 prior to saving to suppress this warning.\n",
      "Clipping input data to the valid range for imshow with RGB data ([0..1] for floats or [0..255] for integers).\n"
     ]
    },
    {
     "name": "stdout",
     "output_type": "stream",
     "text": [
      "[INFO] Epoch 124 loss tf.Tensor(5.7431498, shape=(), dtype=float32) roomTypeLoss: tf.Tensor(3.3725598, shape=(), dtype=float32) roomBoundLosstf.Tensor(8.11374, shape=(), dtype=float32)\n"
     ]
    },
    {
     "name": "stderr",
     "output_type": "stream",
     "text": [
      "Lossy conversion from float32 to uint8. Range [0.0, 255.0]. Convert image to uint8 prior to saving to suppress this warning.\n",
      "Lossy conversion from float32 to uint8. Range [0.0, 2.0]. Convert image to uint8 prior to saving to suppress this warning.\n",
      "Lossy conversion from float64 to uint8. Range [0, 1]. Convert image to uint8 prior to saving to suppress this warning.\n",
      "Clipping input data to the valid range for imshow with RGB data ([0..1] for floats or [0..255] for integers).\n",
      "Lossy conversion from float32 to uint8. Range [0.0, 255.0]. Convert image to uint8 prior to saving to suppress this warning.\n",
      "Lossy conversion from float32 to uint8. Range [0.0, 2.0]. Convert image to uint8 prior to saving to suppress this warning.\n",
      "Lossy conversion from float64 to uint8. Range [0, 1]. Convert image to uint8 prior to saving to suppress this warning.\n",
      "Clipping input data to the valid range for imshow with RGB data ([0..1] for floats or [0..255] for integers).\n",
      "Lossy conversion from float32 to uint8. Range [0.0, 255.0]. Convert image to uint8 prior to saving to suppress this warning.\n",
      "/d2/studies/TF2DeepFloorplan/train.py:95: UserWarning: /d2/studies/TF2DeepFloorplan/./outJan11_TFR4/47489621_rooms.png is a low contrast image\n",
      "  imsave(os.path.join(os.getcwd(), outdir + '/' + str(pltiter) + '_rooms.png'), r)\n",
      "Lossy conversion from float32 to uint8. Range [0.0, 2.0]. Convert image to uint8 prior to saving to suppress this warning.\n",
      "/d2/studies/TF2DeepFloorplan/train.py:99: UserWarning: /d2/studies/TF2DeepFloorplan/./outJan11_TFR4/47489621_rooms_pred.png is a low contrast image\n",
      "  imsave(os.path.join(os.getcwd(), outdir + '/' + str(pltiter) + '_rooms_pred.png'), img_as_float(lr))\n",
      "Lossy conversion from float64 to uint8. Range [0, 1]. Convert image to uint8 prior to saving to suppress this warning.\n",
      "Clipping input data to the valid range for imshow with RGB data ([0..1] for floats or [0..255] for integers).\n",
      "Lossy conversion from float32 to uint8. Range [0.0, 255.0]. Convert image to uint8 prior to saving to suppress this warning.\n",
      "Lossy conversion from float32 to uint8. Range [0.0, 2.0]. Convert image to uint8 prior to saving to suppress this warning.\n",
      "Lossy conversion from float64 to uint8. Range [0, 1]. Convert image to uint8 prior to saving to suppress this warning.\n",
      "Clipping input data to the valid range for imshow with RGB data ([0..1] for floats or [0..255] for integers).\n"
     ]
    },
    {
     "name": "stdout",
     "output_type": "stream",
     "text": [
      "[INFO] Epoch 125 loss tf.Tensor(4.787765, shape=(), dtype=float32) roomTypeLoss: tf.Tensor(2.5953186, shape=(), dtype=float32) roomBoundLosstf.Tensor(6.9802117, shape=(), dtype=float32)\n"
     ]
    },
    {
     "name": "stderr",
     "output_type": "stream",
     "text": [
      "Lossy conversion from float32 to uint8. Range [0.0, 255.0]. Convert image to uint8 prior to saving to suppress this warning.\n",
      "/d2/studies/TF2DeepFloorplan/train.py:95: UserWarning: /d2/studies/TF2DeepFloorplan/./outJan11_TFR4/45740536_rooms.png is a low contrast image\n",
      "  imsave(os.path.join(os.getcwd(), outdir + '/' + str(pltiter) + '_rooms.png'), r)\n",
      "Lossy conversion from float32 to uint8. Range [0.0, 2.0]. Convert image to uint8 prior to saving to suppress this warning.\n",
      "/d2/studies/TF2DeepFloorplan/train.py:99: UserWarning: /d2/studies/TF2DeepFloorplan/./outJan11_TFR4/45740536_rooms_pred.png is a low contrast image\n",
      "  imsave(os.path.join(os.getcwd(), outdir + '/' + str(pltiter) + '_rooms_pred.png'), img_as_float(lr))\n",
      "Lossy conversion from float64 to uint8. Range [0, 1]. Convert image to uint8 prior to saving to suppress this warning.\n",
      "Clipping input data to the valid range for imshow with RGB data ([0..1] for floats or [0..255] for integers).\n",
      "Lossy conversion from float32 to uint8. Range [0.0, 255.0]. Convert image to uint8 prior to saving to suppress this warning.\n",
      "Lossy conversion from float32 to uint8. Range [0.0, 2.0]. Convert image to uint8 prior to saving to suppress this warning.\n",
      "Lossy conversion from float64 to uint8. Range [0, 1]. Convert image to uint8 prior to saving to suppress this warning.\n",
      "Clipping input data to the valid range for imshow with RGB data ([0..1] for floats or [0..255] for integers).\n",
      "Lossy conversion from float32 to uint8. Range [0.0, 255.0]. Convert image to uint8 prior to saving to suppress this warning.\n",
      "Lossy conversion from float32 to uint8. Range [0.0, 2.0]. Convert image to uint8 prior to saving to suppress this warning.\n",
      "Lossy conversion from float64 to uint8. Range [0, 1]. Convert image to uint8 prior to saving to suppress this warning.\n",
      "Clipping input data to the valid range for imshow with RGB data ([0..1] for floats or [0..255] for integers).\n"
     ]
    },
    {
     "name": "stdout",
     "output_type": "stream",
     "text": [
      "[INFO] Epoch 126 loss tf.Tensor(5.363021, shape=(), dtype=float32) roomTypeLoss: tf.Tensor(2.9190836, shape=(), dtype=float32) roomBoundLosstf.Tensor(7.8069587, shape=(), dtype=float32)\n"
     ]
    },
    {
     "name": "stderr",
     "output_type": "stream",
     "text": [
      "Lossy conversion from float32 to uint8. Range [0.0, 255.0]. Convert image to uint8 prior to saving to suppress this warning.\n",
      "/d2/studies/TF2DeepFloorplan/train.py:95: UserWarning: /d2/studies/TF2DeepFloorplan/./outJan11_TFR4/31870182_rooms.png is a low contrast image\n",
      "  imsave(os.path.join(os.getcwd(), outdir + '/' + str(pltiter) + '_rooms.png'), r)\n",
      "Lossy conversion from float32 to uint8. Range [0.0, 2.0]. Convert image to uint8 prior to saving to suppress this warning.\n",
      "/d2/studies/TF2DeepFloorplan/train.py:99: UserWarning: /d2/studies/TF2DeepFloorplan/./outJan11_TFR4/31870182_rooms_pred.png is a low contrast image\n",
      "  imsave(os.path.join(os.getcwd(), outdir + '/' + str(pltiter) + '_rooms_pred.png'), img_as_float(lr))\n",
      "Lossy conversion from float64 to uint8. Range [0, 1]. Convert image to uint8 prior to saving to suppress this warning.\n",
      "Clipping input data to the valid range for imshow with RGB data ([0..1] for floats or [0..255] for integers).\n",
      "Lossy conversion from float32 to uint8. Range [0.0, 255.0]. Convert image to uint8 prior to saving to suppress this warning.\n",
      "Lossy conversion from float32 to uint8. Range [0.0, 2.0]. Convert image to uint8 prior to saving to suppress this warning.\n",
      "Lossy conversion from float64 to uint8. Range [0, 1]. Convert image to uint8 prior to saving to suppress this warning.\n",
      "Clipping input data to the valid range for imshow with RGB data ([0..1] for floats or [0..255] for integers).\n",
      "Lossy conversion from float32 to uint8. Range [0.0, 255.0]. Convert image to uint8 prior to saving to suppress this warning.\n",
      "Lossy conversion from float32 to uint8. Range [0.0, 2.0]. Convert image to uint8 prior to saving to suppress this warning.\n",
      "Lossy conversion from float64 to uint8. Range [0, 1]. Convert image to uint8 prior to saving to suppress this warning.\n",
      "Clipping input data to the valid range for imshow with RGB data ([0..1] for floats or [0..255] for integers).\n",
      "Lossy conversion from float32 to uint8. Range [0.0, 255.0]. Convert image to uint8 prior to saving to suppress this warning.\n",
      "Lossy conversion from float32 to uint8. Range [0.0, 2.0]. Convert image to uint8 prior to saving to suppress this warning.\n",
      "Lossy conversion from float64 to uint8. Range [0, 1]. Convert image to uint8 prior to saving to suppress this warning.\n",
      "Clipping input data to the valid range for imshow with RGB data ([0..1] for floats or [0..255] for integers).\n"
     ]
    },
    {
     "name": "stdout",
     "output_type": "stream",
     "text": [
      "[INFO] Epoch 127 loss tf.Tensor(5.532549, shape=(), dtype=float32) roomTypeLoss: tf.Tensor(3.014131, shape=(), dtype=float32) roomBoundLosstf.Tensor(8.050966, shape=(), dtype=float32)\n"
     ]
    },
    {
     "name": "stderr",
     "output_type": "stream",
     "text": [
      "Lossy conversion from float32 to uint8. Range [0.0, 255.0]. Convert image to uint8 prior to saving to suppress this warning.\n",
      "Lossy conversion from float32 to uint8. Range [0.0, 2.0]. Convert image to uint8 prior to saving to suppress this warning.\n",
      "Lossy conversion from float64 to uint8. Range [0, 1]. Convert image to uint8 prior to saving to suppress this warning.\n",
      "Clipping input data to the valid range for imshow with RGB data ([0..1] for floats or [0..255] for integers).\n",
      "Lossy conversion from float32 to uint8. Range [0.0, 255.0]. Convert image to uint8 prior to saving to suppress this warning.\n",
      "Lossy conversion from float32 to uint8. Range [0.0, 2.0]. Convert image to uint8 prior to saving to suppress this warning.\n",
      "Lossy conversion from float64 to uint8. Range [0, 1]. Convert image to uint8 prior to saving to suppress this warning.\n",
      "Clipping input data to the valid range for imshow with RGB data ([0..1] for floats or [0..255] for integers).\n",
      "Lossy conversion from float32 to uint8. Range [0.0, 255.0]. Convert image to uint8 prior to saving to suppress this warning.\n",
      "/d2/studies/TF2DeepFloorplan/train.py:95: UserWarning: /d2/studies/TF2DeepFloorplan/./outJan11_TFR4/45775354_rooms.png is a low contrast image\n",
      "  imsave(os.path.join(os.getcwd(), outdir + '/' + str(pltiter) + '_rooms.png'), r)\n",
      "Lossy conversion from float32 to uint8. Range [0.0, 2.0]. Convert image to uint8 prior to saving to suppress this warning.\n",
      "/d2/studies/TF2DeepFloorplan/train.py:99: UserWarning: /d2/studies/TF2DeepFloorplan/./outJan11_TFR4/45775354_rooms_pred.png is a low contrast image\n",
      "  imsave(os.path.join(os.getcwd(), outdir + '/' + str(pltiter) + '_rooms_pred.png'), img_as_float(lr))\n",
      "Lossy conversion from float64 to uint8. Range [0, 1]. Convert image to uint8 prior to saving to suppress this warning.\n",
      "Clipping input data to the valid range for imshow with RGB data ([0..1] for floats or [0..255] for integers).\n"
     ]
    },
    {
     "name": "stdout",
     "output_type": "stream",
     "text": [
      "[INFO] Epoch 128 loss tf.Tensor(5.5640197, shape=(), dtype=float32) roomTypeLoss: tf.Tensor(3.7416866, shape=(), dtype=float32) roomBoundLosstf.Tensor(7.386353, shape=(), dtype=float32)\n"
     ]
    },
    {
     "name": "stderr",
     "output_type": "stream",
     "text": [
      "Lossy conversion from float32 to uint8. Range [0.0, 255.0]. Convert image to uint8 prior to saving to suppress this warning.\n",
      "Lossy conversion from float32 to uint8. Range [0.0, 2.0]. Convert image to uint8 prior to saving to suppress this warning.\n",
      "Lossy conversion from float64 to uint8. Range [0, 1]. Convert image to uint8 prior to saving to suppress this warning.\n",
      "Clipping input data to the valid range for imshow with RGB data ([0..1] for floats or [0..255] for integers).\n",
      "Lossy conversion from float32 to uint8. Range [0.0, 255.0]. Convert image to uint8 prior to saving to suppress this warning.\n",
      "Lossy conversion from float32 to uint8. Range [0.0, 2.0]. Convert image to uint8 prior to saving to suppress this warning.\n",
      "Lossy conversion from float64 to uint8. Range [0, 1]. Convert image to uint8 prior to saving to suppress this warning.\n",
      "Clipping input data to the valid range for imshow with RGB data ([0..1] for floats or [0..255] for integers).\n",
      "Lossy conversion from float32 to uint8. Range [0.0, 255.0]. Convert image to uint8 prior to saving to suppress this warning.\n",
      "Lossy conversion from float32 to uint8. Range [0.0, 2.0]. Convert image to uint8 prior to saving to suppress this warning.\n",
      "Lossy conversion from float64 to uint8. Range [0, 1]. Convert image to uint8 prior to saving to suppress this warning.\n",
      "Clipping input data to the valid range for imshow with RGB data ([0..1] for floats or [0..255] for integers).\n",
      "Lossy conversion from float32 to uint8. Range [0.0, 255.0]. Convert image to uint8 prior to saving to suppress this warning.\n",
      "/d2/studies/TF2DeepFloorplan/train.py:95: UserWarning: /d2/studies/TF2DeepFloorplan/./outJan11_TFR4/47360870_rooms.png is a low contrast image\n",
      "  imsave(os.path.join(os.getcwd(), outdir + '/' + str(pltiter) + '_rooms.png'), r)\n",
      "/d2/studies/TF2DeepFloorplan/train.py:97: UserWarning: /d2/studies/TF2DeepFloorplan/./outJan11_TFR4/47360870_close_walls.png is a low contrast image\n",
      "  imsave(os.path.join(os.getcwd(), outdir + '/' + str(pltiter) + '_close_walls.png'), img_as_float(lcw))\n",
      "Lossy conversion from float32 to uint8. Range [0.0, 2.0]. Convert image to uint8 prior to saving to suppress this warning.\n",
      "/d2/studies/TF2DeepFloorplan/train.py:99: UserWarning: /d2/studies/TF2DeepFloorplan/./outJan11_TFR4/47360870_rooms_pred.png is a low contrast image\n",
      "  imsave(os.path.join(os.getcwd(), outdir + '/' + str(pltiter) + '_rooms_pred.png'), img_as_float(lr))\n",
      "Lossy conversion from float64 to uint8. Range [0, 1]. Convert image to uint8 prior to saving to suppress this warning.\n",
      "Clipping input data to the valid range for imshow with RGB data ([0..1] for floats or [0..255] for integers).\n"
     ]
    },
    {
     "name": "stdout",
     "output_type": "stream",
     "text": [
      "[INFO] Epoch 129 loss tf.Tensor(5.6297436, shape=(), dtype=float32) roomTypeLoss: tf.Tensor(2.7427063, shape=(), dtype=float32) roomBoundLosstf.Tensor(8.516781, shape=(), dtype=float32)\n"
     ]
    },
    {
     "name": "stderr",
     "output_type": "stream",
     "text": [
      "Lossy conversion from float32 to uint8. Range [0.0, 255.0]. Convert image to uint8 prior to saving to suppress this warning.\n",
      "Lossy conversion from float32 to uint8. Range [0.0, 2.0]. Convert image to uint8 prior to saving to suppress this warning.\n",
      "Lossy conversion from float64 to uint8. Range [0, 1]. Convert image to uint8 prior to saving to suppress this warning.\n",
      "Clipping input data to the valid range for imshow with RGB data ([0..1] for floats or [0..255] for integers).\n",
      "Lossy conversion from float32 to uint8. Range [0.0, 255.0]. Convert image to uint8 prior to saving to suppress this warning.\n",
      "Lossy conversion from float32 to uint8. Range [0.0, 2.0]. Convert image to uint8 prior to saving to suppress this warning.\n",
      "Lossy conversion from float64 to uint8. Range [0, 1]. Convert image to uint8 prior to saving to suppress this warning.\n",
      "Clipping input data to the valid range for imshow with RGB data ([0..1] for floats or [0..255] for integers).\n",
      "Lossy conversion from float32 to uint8. Range [0.0, 255.0]. Convert image to uint8 prior to saving to suppress this warning.\n",
      "Lossy conversion from float32 to uint8. Range [0.0, 2.0]. Convert image to uint8 prior to saving to suppress this warning.\n",
      "Lossy conversion from float64 to uint8. Range [0, 1]. Convert image to uint8 prior to saving to suppress this warning.\n",
      "Clipping input data to the valid range for imshow with RGB data ([0..1] for floats or [0..255] for integers).\n"
     ]
    },
    {
     "name": "stdout",
     "output_type": "stream",
     "text": [
      "[INFO] Epoch 130 loss tf.Tensor(4.5875483, shape=(), dtype=float32) roomTypeLoss: tf.Tensor(4.0171547, shape=(), dtype=float32) roomBoundLosstf.Tensor(5.1579413, shape=(), dtype=float32)\n"
     ]
    },
    {
     "name": "stderr",
     "output_type": "stream",
     "text": [
      "Lossy conversion from float32 to uint8. Range [0.0, 255.0]. Convert image to uint8 prior to saving to suppress this warning.\n",
      "Lossy conversion from float32 to uint8. Range [0.0, 2.0]. Convert image to uint8 prior to saving to suppress this warning.\n",
      "Lossy conversion from float64 to uint8. Range [0, 1]. Convert image to uint8 prior to saving to suppress this warning.\n",
      "Clipping input data to the valid range for imshow with RGB data ([0..1] for floats or [0..255] for integers).\n",
      "Lossy conversion from float32 to uint8. Range [0.0, 255.0]. Convert image to uint8 prior to saving to suppress this warning.\n",
      "/d2/studies/TF2DeepFloorplan/train.py:95: UserWarning: /d2/studies/TF2DeepFloorplan/./outJan11_TFR4/43778570_rooms.png is a low contrast image\n",
      "  imsave(os.path.join(os.getcwd(), outdir + '/' + str(pltiter) + '_rooms.png'), r)\n",
      "Lossy conversion from float32 to uint8. Range [0.0, 2.0]. Convert image to uint8 prior to saving to suppress this warning.\n",
      "/d2/studies/TF2DeepFloorplan/train.py:99: UserWarning: /d2/studies/TF2DeepFloorplan/./outJan11_TFR4/43778570_rooms_pred.png is a low contrast image\n",
      "  imsave(os.path.join(os.getcwd(), outdir + '/' + str(pltiter) + '_rooms_pred.png'), img_as_float(lr))\n",
      "Lossy conversion from float64 to uint8. Range [0, 1]. Convert image to uint8 prior to saving to suppress this warning.\n",
      "Clipping input data to the valid range for imshow with RGB data ([0..1] for floats or [0..255] for integers).\n",
      "Lossy conversion from float32 to uint8. Range [0.0, 255.0]. Convert image to uint8 prior to saving to suppress this warning.\n",
      "Lossy conversion from float32 to uint8. Range [0.0, 2.0]. Convert image to uint8 prior to saving to suppress this warning.\n",
      "Lossy conversion from float64 to uint8. Range [0, 1]. Convert image to uint8 prior to saving to suppress this warning.\n",
      "Clipping input data to the valid range for imshow with RGB data ([0..1] for floats or [0..255] for integers).\n",
      "Lossy conversion from float32 to uint8. Range [0.0, 255.0]. Convert image to uint8 prior to saving to suppress this warning.\n",
      "Lossy conversion from float32 to uint8. Range [0.0, 2.0]. Convert image to uint8 prior to saving to suppress this warning.\n",
      "Lossy conversion from float64 to uint8. Range [0, 1]. Convert image to uint8 prior to saving to suppress this warning.\n",
      "Clipping input data to the valid range for imshow with RGB data ([0..1] for floats or [0..255] for integers).\n"
     ]
    },
    {
     "name": "stdout",
     "output_type": "stream",
     "text": [
      "[INFO] Epoch 131 loss tf.Tensor(7.800898, shape=(), dtype=float32) roomTypeLoss: tf.Tensor(4.0105867, shape=(), dtype=float32) roomBoundLosstf.Tensor(11.591209, shape=(), dtype=float32)\n"
     ]
    },
    {
     "name": "stderr",
     "output_type": "stream",
     "text": [
      "Lossy conversion from float32 to uint8. Range [27.0, 255.0]. Convert image to uint8 prior to saving to suppress this warning.\n",
      "Lossy conversion from float32 to uint8. Range [0.0, 2.0]. Convert image to uint8 prior to saving to suppress this warning.\n",
      "Lossy conversion from float64 to uint8. Range [0, 1]. Convert image to uint8 prior to saving to suppress this warning.\n",
      "Clipping input data to the valid range for imshow with RGB data ([0..1] for floats or [0..255] for integers).\n",
      "Lossy conversion from float32 to uint8. Range [0.0, 255.0]. Convert image to uint8 prior to saving to suppress this warning.\n",
      "/d2/studies/TF2DeepFloorplan/train.py:95: UserWarning: /d2/studies/TF2DeepFloorplan/./outJan11_TFR4/45765874_rooms.png is a low contrast image\n",
      "  imsave(os.path.join(os.getcwd(), outdir + '/' + str(pltiter) + '_rooms.png'), r)\n",
      "Lossy conversion from float32 to uint8. Range [0.0, 2.0]. Convert image to uint8 prior to saving to suppress this warning.\n",
      "/d2/studies/TF2DeepFloorplan/train.py:99: UserWarning: /d2/studies/TF2DeepFloorplan/./outJan11_TFR4/45765874_rooms_pred.png is a low contrast image\n",
      "  imsave(os.path.join(os.getcwd(), outdir + '/' + str(pltiter) + '_rooms_pred.png'), img_as_float(lr))\n",
      "Lossy conversion from float64 to uint8. Range [0, 1]. Convert image to uint8 prior to saving to suppress this warning.\n",
      "Clipping input data to the valid range for imshow with RGB data ([0..1] for floats or [0..255] for integers).\n",
      "Lossy conversion from float32 to uint8. Range [0.0, 255.0]. Convert image to uint8 prior to saving to suppress this warning.\n",
      "Lossy conversion from float32 to uint8. Range [0.0, 2.0]. Convert image to uint8 prior to saving to suppress this warning.\n",
      "Lossy conversion from float64 to uint8. Range [0, 1]. Convert image to uint8 prior to saving to suppress this warning.\n",
      "Clipping input data to the valid range for imshow with RGB data ([0..1] for floats or [0..255] for integers).\n",
      "Lossy conversion from float32 to uint8. Range [0.0, 255.0]. Convert image to uint8 prior to saving to suppress this warning.\n",
      "Lossy conversion from float32 to uint8. Range [0.0, 2.0]. Convert image to uint8 prior to saving to suppress this warning.\n",
      "Lossy conversion from float64 to uint8. Range [0, 1]. Convert image to uint8 prior to saving to suppress this warning.\n",
      "Clipping input data to the valid range for imshow with RGB data ([0..1] for floats or [0..255] for integers).\n"
     ]
    },
    {
     "name": "stdout",
     "output_type": "stream",
     "text": [
      "[INFO] Epoch 132 loss tf.Tensor(6.808985, shape=(), dtype=float32) roomTypeLoss: tf.Tensor(4.3906727, shape=(), dtype=float32) roomBoundLosstf.Tensor(9.227298, shape=(), dtype=float32)\n"
     ]
    },
    {
     "name": "stderr",
     "output_type": "stream",
     "text": [
      "Lossy conversion from float32 to uint8. Range [0.0, 255.0]. Convert image to uint8 prior to saving to suppress this warning.\n",
      "Lossy conversion from float32 to uint8. Range [0.0, 2.0]. Convert image to uint8 prior to saving to suppress this warning.\n",
      "Lossy conversion from float64 to uint8. Range [0, 1]. Convert image to uint8 prior to saving to suppress this warning.\n",
      "Clipping input data to the valid range for imshow with RGB data ([0..1] for floats or [0..255] for integers).\n",
      "Lossy conversion from float32 to uint8. Range [0.0, 255.0]. Convert image to uint8 prior to saving to suppress this warning.\n",
      "Lossy conversion from float32 to uint8. Range [0.0, 2.0]. Convert image to uint8 prior to saving to suppress this warning.\n",
      "Lossy conversion from float64 to uint8. Range [0, 1]. Convert image to uint8 prior to saving to suppress this warning.\n",
      "Clipping input data to the valid range for imshow with RGB data ([0..1] for floats or [0..255] for integers).\n",
      "Lossy conversion from float32 to uint8. Range [0.0, 255.0]. Convert image to uint8 prior to saving to suppress this warning.\n",
      "Lossy conversion from float32 to uint8. Range [0.0, 2.0]. Convert image to uint8 prior to saving to suppress this warning.\n",
      "Lossy conversion from float64 to uint8. Range [0, 1]. Convert image to uint8 prior to saving to suppress this warning.\n",
      "Clipping input data to the valid range for imshow with RGB data ([0..1] for floats or [0..255] for integers).\n"
     ]
    },
    {
     "name": "stdout",
     "output_type": "stream",
     "text": [
      "[INFO] Epoch 133 loss tf.Tensor(5.63734, shape=(), dtype=float32) roomTypeLoss: tf.Tensor(2.4071035, shape=(), dtype=float32) roomBoundLosstf.Tensor(8.867577, shape=(), dtype=float32)\n"
     ]
    },
    {
     "name": "stderr",
     "output_type": "stream",
     "text": [
      "Lossy conversion from float32 to uint8. Range [0.0, 255.0]. Convert image to uint8 prior to saving to suppress this warning.\n",
      "Lossy conversion from float32 to uint8. Range [0.0, 2.0]. Convert image to uint8 prior to saving to suppress this warning.\n",
      "Lossy conversion from float64 to uint8. Range [0, 1]. Convert image to uint8 prior to saving to suppress this warning.\n",
      "Clipping input data to the valid range for imshow with RGB data ([0..1] for floats or [0..255] for integers).\n",
      "Lossy conversion from float32 to uint8. Range [0.0, 255.0]. Convert image to uint8 prior to saving to suppress this warning.\n",
      "Lossy conversion from float32 to uint8. Range [0.0, 2.0]. Convert image to uint8 prior to saving to suppress this warning.\n",
      "Lossy conversion from float64 to uint8. Range [0, 1]. Convert image to uint8 prior to saving to suppress this warning.\n",
      "Clipping input data to the valid range for imshow with RGB data ([0..1] for floats or [0..255] for integers).\n",
      "Lossy conversion from float32 to uint8. Range [0.0, 255.0]. Convert image to uint8 prior to saving to suppress this warning.\n",
      "/d2/studies/TF2DeepFloorplan/train.py:95: UserWarning: /d2/studies/TF2DeepFloorplan/./outJan11_TFR4/45741079_rooms.png is a low contrast image\n",
      "  imsave(os.path.join(os.getcwd(), outdir + '/' + str(pltiter) + '_rooms.png'), r)\n",
      "Lossy conversion from float32 to uint8. Range [0.0, 2.0]. Convert image to uint8 prior to saving to suppress this warning.\n",
      "/d2/studies/TF2DeepFloorplan/train.py:99: UserWarning: /d2/studies/TF2DeepFloorplan/./outJan11_TFR4/45741079_rooms_pred.png is a low contrast image\n",
      "  imsave(os.path.join(os.getcwd(), outdir + '/' + str(pltiter) + '_rooms_pred.png'), img_as_float(lr))\n",
      "Lossy conversion from float64 to uint8. Range [0, 1]. Convert image to uint8 prior to saving to suppress this warning.\n",
      "Clipping input data to the valid range for imshow with RGB data ([0..1] for floats or [0..255] for integers).\n",
      "Lossy conversion from float32 to uint8. Range [6.0, 255.0]. Convert image to uint8 prior to saving to suppress this warning.\n",
      "Lossy conversion from float32 to uint8. Range [0.0, 2.0]. Convert image to uint8 prior to saving to suppress this warning.\n",
      "Lossy conversion from float64 to uint8. Range [0, 1]. Convert image to uint8 prior to saving to suppress this warning.\n",
      "Clipping input data to the valid range for imshow with RGB data ([0..1] for floats or [0..255] for integers).\n"
     ]
    },
    {
     "name": "stdout",
     "output_type": "stream",
     "text": [
      "[INFO] Epoch 134 loss tf.Tensor(8.721385, shape=(), dtype=float32) roomTypeLoss: tf.Tensor(3.6989942, shape=(), dtype=float32) roomBoundLosstf.Tensor(13.743775, shape=(), dtype=float32)\n"
     ]
    },
    {
     "name": "stderr",
     "output_type": "stream",
     "text": [
      "Lossy conversion from float32 to uint8. Range [0.0, 255.0]. Convert image to uint8 prior to saving to suppress this warning.\n",
      "Lossy conversion from float32 to uint8. Range [0.0, 2.0]. Convert image to uint8 prior to saving to suppress this warning.\n",
      "Lossy conversion from float64 to uint8. Range [0, 1]. Convert image to uint8 prior to saving to suppress this warning.\n",
      "Clipping input data to the valid range for imshow with RGB data ([0..1] for floats or [0..255] for integers).\n",
      "Lossy conversion from float32 to uint8. Range [0.0, 255.0]. Convert image to uint8 prior to saving to suppress this warning.\n",
      "Lossy conversion from float32 to uint8. Range [0.0, 2.0]. Convert image to uint8 prior to saving to suppress this warning.\n",
      "Lossy conversion from float64 to uint8. Range [0, 1]. Convert image to uint8 prior to saving to suppress this warning.\n",
      "Clipping input data to the valid range for imshow with RGB data ([0..1] for floats or [0..255] for integers).\n",
      "Lossy conversion from float32 to uint8. Range [0.0, 255.0]. Convert image to uint8 prior to saving to suppress this warning.\n",
      "Lossy conversion from float32 to uint8. Range [0.0, 2.0]. Convert image to uint8 prior to saving to suppress this warning.\n",
      "Lossy conversion from float64 to uint8. Range [0, 1]. Convert image to uint8 prior to saving to suppress this warning.\n",
      "Clipping input data to the valid range for imshow with RGB data ([0..1] for floats or [0..255] for integers).\n"
     ]
    },
    {
     "name": "stdout",
     "output_type": "stream",
     "text": [
      "[INFO] Epoch 135 loss tf.Tensor(5.6022735, shape=(), dtype=float32) roomTypeLoss: tf.Tensor(3.3725598, shape=(), dtype=float32) roomBoundLosstf.Tensor(7.831987, shape=(), dtype=float32)\n"
     ]
    },
    {
     "name": "stderr",
     "output_type": "stream",
     "text": [
      "Lossy conversion from float32 to uint8. Range [0.0, 255.0]. Convert image to uint8 prior to saving to suppress this warning.\n",
      "Lossy conversion from float32 to uint8. Range [0.0, 2.0]. Convert image to uint8 prior to saving to suppress this warning.\n",
      "Lossy conversion from float64 to uint8. Range [0, 1]. Convert image to uint8 prior to saving to suppress this warning.\n",
      "Clipping input data to the valid range for imshow with RGB data ([0..1] for floats or [0..255] for integers).\n",
      "Lossy conversion from float32 to uint8. Range [0.0, 255.0]. Convert image to uint8 prior to saving to suppress this warning.\n",
      "Lossy conversion from float32 to uint8. Range [0.0, 2.0]. Convert image to uint8 prior to saving to suppress this warning.\n",
      "Lossy conversion from float64 to uint8. Range [0, 1]. Convert image to uint8 prior to saving to suppress this warning.\n",
      "Clipping input data to the valid range for imshow with RGB data ([0..1] for floats or [0..255] for integers).\n",
      "Lossy conversion from float32 to uint8. Range [0.0, 255.0]. Convert image to uint8 prior to saving to suppress this warning.\n",
      "Lossy conversion from float32 to uint8. Range [0.0, 2.0]. Convert image to uint8 prior to saving to suppress this warning.\n",
      "Lossy conversion from float64 to uint8. Range [0, 1]. Convert image to uint8 prior to saving to suppress this warning.\n",
      "Clipping input data to the valid range for imshow with RGB data ([0..1] for floats or [0..255] for integers).\n",
      "Lossy conversion from float32 to uint8. Range [0.0, 255.0]. Convert image to uint8 prior to saving to suppress this warning.\n",
      "Lossy conversion from float32 to uint8. Range [0.0, 2.0]. Convert image to uint8 prior to saving to suppress this warning.\n",
      "Lossy conversion from float64 to uint8. Range [0, 1]. Convert image to uint8 prior to saving to suppress this warning.\n",
      "Clipping input data to the valid range for imshow with RGB data ([0..1] for floats or [0..255] for integers).\n"
     ]
    },
    {
     "name": "stdout",
     "output_type": "stream",
     "text": [
      "[INFO] Epoch 136 loss tf.Tensor(6.355296, shape=(), dtype=float32) roomTypeLoss: tf.Tensor(4.4781775, shape=(), dtype=float32) roomBoundLosstf.Tensor(8.232414, shape=(), dtype=float32)\n"
     ]
    },
    {
     "name": "stderr",
     "output_type": "stream",
     "text": [
      "Lossy conversion from float32 to uint8. Range [0.0, 255.0]. Convert image to uint8 prior to saving to suppress this warning.\n",
      "Lossy conversion from float32 to uint8. Range [0.0, 2.0]. Convert image to uint8 prior to saving to suppress this warning.\n",
      "Lossy conversion from float64 to uint8. Range [0, 1]. Convert image to uint8 prior to saving to suppress this warning.\n",
      "Clipping input data to the valid range for imshow with RGB data ([0..1] for floats or [0..255] for integers).\n",
      "Lossy conversion from float32 to uint8. Range [0.0, 255.0]. Convert image to uint8 prior to saving to suppress this warning.\n",
      "Lossy conversion from float32 to uint8. Range [0.0, 2.0]. Convert image to uint8 prior to saving to suppress this warning.\n",
      "Lossy conversion from float64 to uint8. Range [0, 1]. Convert image to uint8 prior to saving to suppress this warning.\n",
      "Clipping input data to the valid range for imshow with RGB data ([0..1] for floats or [0..255] for integers).\n",
      "Lossy conversion from float32 to uint8. Range [0.0, 255.0]. Convert image to uint8 prior to saving to suppress this warning.\n",
      "Lossy conversion from float32 to uint8. Range [0.0, 2.0]. Convert image to uint8 prior to saving to suppress this warning.\n",
      "Lossy conversion from float64 to uint8. Range [0, 1]. Convert image to uint8 prior to saving to suppress this warning.\n",
      "Clipping input data to the valid range for imshow with RGB data ([0..1] for floats or [0..255] for integers).\n",
      "Lossy conversion from float32 to uint8. Range [0.0, 255.0]. Convert image to uint8 prior to saving to suppress this warning.\n",
      "Lossy conversion from float32 to uint8. Range [0.0, 2.0]. Convert image to uint8 prior to saving to suppress this warning.\n",
      "Lossy conversion from float64 to uint8. Range [0, 1]. Convert image to uint8 prior to saving to suppress this warning.\n",
      "Clipping input data to the valid range for imshow with RGB data ([0..1] for floats or [0..255] for integers).\n"
     ]
    },
    {
     "name": "stdout",
     "output_type": "stream",
     "text": [
      "[INFO] Epoch 137 loss tf.Tensor(4.4867444, shape=(), dtype=float32) roomTypeLoss: tf.Tensor(1.9562498, shape=(), dtype=float32) roomBoundLosstf.Tensor(7.0172386, shape=(), dtype=float32)\n"
     ]
    },
    {
     "name": "stderr",
     "output_type": "stream",
     "text": [
      "Lossy conversion from float32 to uint8. Range [0.0, 255.0]. Convert image to uint8 prior to saving to suppress this warning.\n",
      "Lossy conversion from float32 to uint8. Range [0.0, 2.0]. Convert image to uint8 prior to saving to suppress this warning.\n",
      "Lossy conversion from float64 to uint8. Range [0, 1]. Convert image to uint8 prior to saving to suppress this warning.\n",
      "Clipping input data to the valid range for imshow with RGB data ([0..1] for floats or [0..255] for integers).\n",
      "Lossy conversion from float32 to uint8. Range [0.0, 255.0]. Convert image to uint8 prior to saving to suppress this warning.\n",
      "Lossy conversion from float32 to uint8. Range [0.0, 2.0]. Convert image to uint8 prior to saving to suppress this warning.\n",
      "Lossy conversion from float64 to uint8. Range [0, 1]. Convert image to uint8 prior to saving to suppress this warning.\n",
      "Clipping input data to the valid range for imshow with RGB data ([0..1] for floats or [0..255] for integers).\n",
      "Lossy conversion from float32 to uint8. Range [0.0, 255.0]. Convert image to uint8 prior to saving to suppress this warning.\n",
      "Lossy conversion from float32 to uint8. Range [0.0, 2.0]. Convert image to uint8 prior to saving to suppress this warning.\n",
      "Lossy conversion from float64 to uint8. Range [0, 1]. Convert image to uint8 prior to saving to suppress this warning.\n",
      "Clipping input data to the valid range for imshow with RGB data ([0..1] for floats or [0..255] for integers).\n"
     ]
    },
    {
     "name": "stdout",
     "output_type": "stream",
     "text": [
      "[INFO] Epoch 138 loss tf.Tensor(3.8338637, shape=(), dtype=float32) roomTypeLoss: tf.Tensor(2.3076217, shape=(), dtype=float32) roomBoundLosstf.Tensor(5.3601055, shape=(), dtype=float32)\n"
     ]
    },
    {
     "name": "stderr",
     "output_type": "stream",
     "text": [
      "Lossy conversion from float32 to uint8. Range [0.0, 255.0]. Convert image to uint8 prior to saving to suppress this warning.\n",
      "Lossy conversion from float32 to uint8. Range [0.0, 2.0]. Convert image to uint8 prior to saving to suppress this warning.\n",
      "Lossy conversion from float64 to uint8. Range [0, 1]. Convert image to uint8 prior to saving to suppress this warning.\n",
      "Clipping input data to the valid range for imshow with RGB data ([0..1] for floats or [0..255] for integers).\n",
      "Lossy conversion from float32 to uint8. Range [0.0, 255.0]. Convert image to uint8 prior to saving to suppress this warning.\n",
      "Lossy conversion from float32 to uint8. Range [0.0, 2.0]. Convert image to uint8 prior to saving to suppress this warning.\n",
      "Lossy conversion from float64 to uint8. Range [0, 1]. Convert image to uint8 prior to saving to suppress this warning.\n",
      "Clipping input data to the valid range for imshow with RGB data ([0..1] for floats or [0..255] for integers).\n",
      "Lossy conversion from float32 to uint8. Range [0.0, 255.0]. Convert image to uint8 prior to saving to suppress this warning.\n",
      "Lossy conversion from float32 to uint8. Range [0.0, 2.0]. Convert image to uint8 prior to saving to suppress this warning.\n",
      "Lossy conversion from float64 to uint8. Range [0, 1]. Convert image to uint8 prior to saving to suppress this warning.\n",
      "Clipping input data to the valid range for imshow with RGB data ([0..1] for floats or [0..255] for integers).\n",
      "Lossy conversion from float32 to uint8. Range [0.0, 255.0]. Convert image to uint8 prior to saving to suppress this warning.\n",
      "Lossy conversion from float32 to uint8. Range [0.0, 2.0]. Convert image to uint8 prior to saving to suppress this warning.\n",
      "Lossy conversion from float64 to uint8. Range [0, 1]. Convert image to uint8 prior to saving to suppress this warning.\n",
      "Clipping input data to the valid range for imshow with RGB data ([0..1] for floats or [0..255] for integers).\n"
     ]
    },
    {
     "name": "stdout",
     "output_type": "stream",
     "text": [
      "[INFO] Epoch 139 loss tf.Tensor(4.24882, shape=(), dtype=float32) roomTypeLoss: tf.Tensor(2.237224, shape=(), dtype=float32) roomBoundLosstf.Tensor(6.2604156, shape=(), dtype=float32)\n"
     ]
    },
    {
     "name": "stderr",
     "output_type": "stream",
     "text": [
      "Lossy conversion from float32 to uint8. Range [0.0, 255.0]. Convert image to uint8 prior to saving to suppress this warning.\n",
      "Lossy conversion from float32 to uint8. Range [0.0, 2.0]. Convert image to uint8 prior to saving to suppress this warning.\n",
      "Lossy conversion from float64 to uint8. Range [0, 1]. Convert image to uint8 prior to saving to suppress this warning.\n",
      "Clipping input data to the valid range for imshow with RGB data ([0..1] for floats or [0..255] for integers).\n",
      "Lossy conversion from float32 to uint8. Range [0.0, 255.0]. Convert image to uint8 prior to saving to suppress this warning.\n",
      "Lossy conversion from float32 to uint8. Range [0.0, 2.0]. Convert image to uint8 prior to saving to suppress this warning.\n",
      "Lossy conversion from float64 to uint8. Range [0, 1]. Convert image to uint8 prior to saving to suppress this warning.\n",
      "Clipping input data to the valid range for imshow with RGB data ([0..1] for floats or [0..255] for integers).\n",
      "Lossy conversion from float32 to uint8. Range [0.0, 255.0]. Convert image to uint8 prior to saving to suppress this warning.\n",
      "Lossy conversion from float32 to uint8. Range [0.0, 2.0]. Convert image to uint8 prior to saving to suppress this warning.\n",
      "Lossy conversion from float64 to uint8. Range [0, 1]. Convert image to uint8 prior to saving to suppress this warning.\n",
      "Clipping input data to the valid range for imshow with RGB data ([0..1] for floats or [0..255] for integers).\n"
     ]
    },
    {
     "name": "stdout",
     "output_type": "stream",
     "text": [
      "[INFO] Epoch 140 loss tf.Tensor(6.86299, shape=(), dtype=float32) roomTypeLoss: tf.Tensor(2.774495, shape=(), dtype=float32) roomBoundLosstf.Tensor(10.951485, shape=(), dtype=float32)\n"
     ]
    },
    {
     "name": "stderr",
     "output_type": "stream",
     "text": [
      "Lossy conversion from float32 to uint8. Range [0.0, 255.0]. Convert image to uint8 prior to saving to suppress this warning.\n",
      "Lossy conversion from float32 to uint8. Range [0.0, 2.0]. Convert image to uint8 prior to saving to suppress this warning.\n",
      "Lossy conversion from float64 to uint8. Range [0, 1]. Convert image to uint8 prior to saving to suppress this warning.\n",
      "Clipping input data to the valid range for imshow with RGB data ([0..1] for floats or [0..255] for integers).\n",
      "Lossy conversion from float32 to uint8. Range [0.0, 255.0]. Convert image to uint8 prior to saving to suppress this warning.\n",
      "/d2/studies/TF2DeepFloorplan/train.py:95: UserWarning: /d2/studies/TF2DeepFloorplan/./outJan11_TFR4/31871448_rooms.png is a low contrast image\n",
      "  imsave(os.path.join(os.getcwd(), outdir + '/' + str(pltiter) + '_rooms.png'), r)\n",
      "Lossy conversion from float32 to uint8. Range [0.0, 2.0]. Convert image to uint8 prior to saving to suppress this warning.\n",
      "/d2/studies/TF2DeepFloorplan/train.py:99: UserWarning: /d2/studies/TF2DeepFloorplan/./outJan11_TFR4/31871448_rooms_pred.png is a low contrast image\n",
      "  imsave(os.path.join(os.getcwd(), outdir + '/' + str(pltiter) + '_rooms_pred.png'), img_as_float(lr))\n",
      "Lossy conversion from float64 to uint8. Range [0, 1]. Convert image to uint8 prior to saving to suppress this warning.\n",
      "Clipping input data to the valid range for imshow with RGB data ([0..1] for floats or [0..255] for integers).\n",
      "Lossy conversion from float32 to uint8. Range [0.0, 255.0]. Convert image to uint8 prior to saving to suppress this warning.\n",
      "Lossy conversion from float32 to uint8. Range [0.0, 2.0]. Convert image to uint8 prior to saving to suppress this warning.\n",
      "Lossy conversion from float64 to uint8. Range [0, 1]. Convert image to uint8 prior to saving to suppress this warning.\n",
      "Clipping input data to the valid range for imshow with RGB data ([0..1] for floats or [0..255] for integers).\n",
      "Lossy conversion from float32 to uint8. Range [0.0, 255.0]. Convert image to uint8 prior to saving to suppress this warning.\n",
      "Lossy conversion from float32 to uint8. Range [0.0, 2.0]. Convert image to uint8 prior to saving to suppress this warning.\n",
      "Lossy conversion from float64 to uint8. Range [0, 1]. Convert image to uint8 prior to saving to suppress this warning.\n",
      "Clipping input data to the valid range for imshow with RGB data ([0..1] for floats or [0..255] for integers).\n"
     ]
    },
    {
     "name": "stdout",
     "output_type": "stream",
     "text": [
      "[INFO] Epoch 141 loss tf.Tensor(6.6633654, shape=(), dtype=float32) roomTypeLoss: tf.Tensor(3.8244069, shape=(), dtype=float32) roomBoundLosstf.Tensor(9.502324, shape=(), dtype=float32)\n"
     ]
    },
    {
     "name": "stderr",
     "output_type": "stream",
     "text": [
      "Lossy conversion from float32 to uint8. Range [0.0, 255.0]. Convert image to uint8 prior to saving to suppress this warning.\n",
      "Lossy conversion from float32 to uint8. Range [0.0, 2.0]. Convert image to uint8 prior to saving to suppress this warning.\n",
      "Lossy conversion from float64 to uint8. Range [0, 1]. Convert image to uint8 prior to saving to suppress this warning.\n",
      "Clipping input data to the valid range for imshow with RGB data ([0..1] for floats or [0..255] for integers).\n",
      "Lossy conversion from float32 to uint8. Range [0.0, 255.0]. Convert image to uint8 prior to saving to suppress this warning.\n",
      "Lossy conversion from float32 to uint8. Range [0.0, 2.0]. Convert image to uint8 prior to saving to suppress this warning.\n",
      "Lossy conversion from float64 to uint8. Range [0, 1]. Convert image to uint8 prior to saving to suppress this warning.\n",
      "Clipping input data to the valid range for imshow with RGB data ([0..1] for floats or [0..255] for integers).\n",
      "Lossy conversion from float32 to uint8. Range [0.0, 255.0]. Convert image to uint8 prior to saving to suppress this warning.\n",
      "Lossy conversion from float32 to uint8. Range [0.0, 2.0]. Convert image to uint8 prior to saving to suppress this warning.\n",
      "Lossy conversion from float64 to uint8. Range [0, 1]. Convert image to uint8 prior to saving to suppress this warning.\n",
      "Clipping input data to the valid range for imshow with RGB data ([0..1] for floats or [0..255] for integers).\n"
     ]
    },
    {
     "name": "stdout",
     "output_type": "stream",
     "text": [
      "[INFO] Epoch 142 loss tf.Tensor(6.599863, shape=(), dtype=float32) roomTypeLoss: tf.Tensor(2.825552, shape=(), dtype=float32) roomBoundLosstf.Tensor(10.374174, shape=(), dtype=float32)\n"
     ]
    },
    {
     "name": "stderr",
     "output_type": "stream",
     "text": [
      "Lossy conversion from float32 to uint8. Range [0.0, 255.0]. Convert image to uint8 prior to saving to suppress this warning.\n",
      "Lossy conversion from float32 to uint8. Range [0.0, 2.0]. Convert image to uint8 prior to saving to suppress this warning.\n",
      "Lossy conversion from float64 to uint8. Range [0, 1]. Convert image to uint8 prior to saving to suppress this warning.\n",
      "Clipping input data to the valid range for imshow with RGB data ([0..1] for floats or [0..255] for integers).\n",
      "Lossy conversion from float32 to uint8. Range [0.0, 255.0]. Convert image to uint8 prior to saving to suppress this warning.\n",
      "Lossy conversion from float32 to uint8. Range [0.0, 2.0]. Convert image to uint8 prior to saving to suppress this warning.\n",
      "Lossy conversion from float64 to uint8. Range [0, 1]. Convert image to uint8 prior to saving to suppress this warning.\n",
      "Clipping input data to the valid range for imshow with RGB data ([0..1] for floats or [0..255] for integers).\n",
      "Lossy conversion from float32 to uint8. Range [0.0, 255.0]. Convert image to uint8 prior to saving to suppress this warning.\n",
      "Lossy conversion from float32 to uint8. Range [0.0, 2.0]. Convert image to uint8 prior to saving to suppress this warning.\n",
      "Lossy conversion from float64 to uint8. Range [0, 1]. Convert image to uint8 prior to saving to suppress this warning.\n",
      "Clipping input data to the valid range for imshow with RGB data ([0..1] for floats or [0..255] for integers).\n",
      "Lossy conversion from float32 to uint8. Range [0.0, 255.0]. Convert image to uint8 prior to saving to suppress this warning.\n",
      "Lossy conversion from float32 to uint8. Range [0.0, 2.0]. Convert image to uint8 prior to saving to suppress this warning.\n",
      "Lossy conversion from float64 to uint8. Range [0, 1]. Convert image to uint8 prior to saving to suppress this warning.\n",
      "Clipping input data to the valid range for imshow with RGB data ([0..1] for floats or [0..255] for integers).\n"
     ]
    },
    {
     "name": "stdout",
     "output_type": "stream",
     "text": [
      "[INFO] Epoch 143 loss tf.Tensor(8.43043, shape=(), dtype=float32) roomTypeLoss: tf.Tensor(3.9113858, shape=(), dtype=float32) roomBoundLosstf.Tensor(12.949475, shape=(), dtype=float32)\n"
     ]
    },
    {
     "name": "stderr",
     "output_type": "stream",
     "text": [
      "Lossy conversion from float32 to uint8. Range [0.0, 255.0]. Convert image to uint8 prior to saving to suppress this warning.\n",
      "/d2/studies/TF2DeepFloorplan/train.py:95: UserWarning: /d2/studies/TF2DeepFloorplan/./outJan11_TFR4/31318404_rooms.png is a low contrast image\n",
      "  imsave(os.path.join(os.getcwd(), outdir + '/' + str(pltiter) + '_rooms.png'), r)\n",
      "Lossy conversion from float32 to uint8. Range [0.0, 2.0]. Convert image to uint8 prior to saving to suppress this warning.\n",
      "/d2/studies/TF2DeepFloorplan/train.py:99: UserWarning: /d2/studies/TF2DeepFloorplan/./outJan11_TFR4/31318404_rooms_pred.png is a low contrast image\n",
      "  imsave(os.path.join(os.getcwd(), outdir + '/' + str(pltiter) + '_rooms_pred.png'), img_as_float(lr))\n",
      "Lossy conversion from float64 to uint8. Range [0, 1]. Convert image to uint8 prior to saving to suppress this warning.\n",
      "Clipping input data to the valid range for imshow with RGB data ([0..1] for floats or [0..255] for integers).\n",
      "Lossy conversion from float32 to uint8. Range [0.0, 255.0]. Convert image to uint8 prior to saving to suppress this warning.\n",
      "Lossy conversion from float32 to uint8. Range [0.0, 2.0]. Convert image to uint8 prior to saving to suppress this warning.\n",
      "Lossy conversion from float64 to uint8. Range [0, 1]. Convert image to uint8 prior to saving to suppress this warning.\n",
      "Clipping input data to the valid range for imshow with RGB data ([0..1] for floats or [0..255] for integers).\n",
      "Lossy conversion from float32 to uint8. Range [0.0, 255.0]. Convert image to uint8 prior to saving to suppress this warning.\n",
      "Lossy conversion from float32 to uint8. Range [0.0, 2.0]. Convert image to uint8 prior to saving to suppress this warning.\n",
      "Lossy conversion from float64 to uint8. Range [0, 1]. Convert image to uint8 prior to saving to suppress this warning.\n",
      "Clipping input data to the valid range for imshow with RGB data ([0..1] for floats or [0..255] for integers).\n",
      "Lossy conversion from float32 to uint8. Range [0.0, 255.0]. Convert image to uint8 prior to saving to suppress this warning.\n",
      "Lossy conversion from float32 to uint8. Range [0.0, 2.0]. Convert image to uint8 prior to saving to suppress this warning.\n",
      "Lossy conversion from float64 to uint8. Range [0, 1]. Convert image to uint8 prior to saving to suppress this warning.\n",
      "Clipping input data to the valid range for imshow with RGB data ([0..1] for floats or [0..255] for integers).\n"
     ]
    },
    {
     "name": "stdout",
     "output_type": "stream",
     "text": [
      "[INFO] Epoch 144 loss tf.Tensor(3.8926985, shape=(), dtype=float32) roomTypeLoss: tf.Tensor(1.9933861, shape=(), dtype=float32) roomBoundLosstf.Tensor(5.792011, shape=(), dtype=float32)\n"
     ]
    },
    {
     "name": "stderr",
     "output_type": "stream",
     "text": [
      "Lossy conversion from float32 to uint8. Range [0.0, 255.0]. Convert image to uint8 prior to saving to suppress this warning.\n",
      "Lossy conversion from float32 to uint8. Range [0.0, 2.0]. Convert image to uint8 prior to saving to suppress this warning.\n",
      "Lossy conversion from float64 to uint8. Range [0, 1]. Convert image to uint8 prior to saving to suppress this warning.\n",
      "Clipping input data to the valid range for imshow with RGB data ([0..1] for floats or [0..255] for integers).\n",
      "Lossy conversion from float32 to uint8. Range [0.0, 255.0]. Convert image to uint8 prior to saving to suppress this warning.\n",
      "Lossy conversion from float32 to uint8. Range [0.0, 2.0]. Convert image to uint8 prior to saving to suppress this warning.\n",
      "Lossy conversion from float64 to uint8. Range [0, 1]. Convert image to uint8 prior to saving to suppress this warning.\n",
      "Clipping input data to the valid range for imshow with RGB data ([0..1] for floats or [0..255] for integers).\n",
      "Lossy conversion from float32 to uint8. Range [0.0, 255.0]. Convert image to uint8 prior to saving to suppress this warning.\n",
      "Lossy conversion from float32 to uint8. Range [0.0, 2.0]. Convert image to uint8 prior to saving to suppress this warning.\n",
      "Lossy conversion from float64 to uint8. Range [0, 1]. Convert image to uint8 prior to saving to suppress this warning.\n",
      "Clipping input data to the valid range for imshow with RGB data ([0..1] for floats or [0..255] for integers).\n"
     ]
    },
    {
     "name": "stdout",
     "output_type": "stream",
     "text": [
      "[INFO] Epoch 145 loss tf.Tensor(5.1287904, shape=(), dtype=float32) roomTypeLoss: tf.Tensor(2.5671897, shape=(), dtype=float32) roomBoundLosstf.Tensor(7.690391, shape=(), dtype=float32)\n"
     ]
    },
    {
     "name": "stderr",
     "output_type": "stream",
     "text": [
      "Lossy conversion from float32 to uint8. Range [0.0, 255.0]. Convert image to uint8 prior to saving to suppress this warning.\n",
      "Lossy conversion from float32 to uint8. Range [0.0, 2.0]. Convert image to uint8 prior to saving to suppress this warning.\n",
      "Lossy conversion from float64 to uint8. Range [0, 1]. Convert image to uint8 prior to saving to suppress this warning.\n",
      "Clipping input data to the valid range for imshow with RGB data ([0..1] for floats or [0..255] for integers).\n",
      "Lossy conversion from float32 to uint8. Range [6.0, 255.0]. Convert image to uint8 prior to saving to suppress this warning.\n",
      "Lossy conversion from float32 to uint8. Range [0.0, 2.0]. Convert image to uint8 prior to saving to suppress this warning.\n",
      "Lossy conversion from float64 to uint8. Range [0, 1]. Convert image to uint8 prior to saving to suppress this warning.\n",
      "Clipping input data to the valid range for imshow with RGB data ([0..1] for floats or [0..255] for integers).\n",
      "Lossy conversion from float32 to uint8. Range [0.0, 255.0]. Convert image to uint8 prior to saving to suppress this warning.\n",
      "Lossy conversion from float32 to uint8. Range [0.0, 2.0]. Convert image to uint8 prior to saving to suppress this warning.\n",
      "Lossy conversion from float64 to uint8. Range [0, 1]. Convert image to uint8 prior to saving to suppress this warning.\n",
      "Clipping input data to the valid range for imshow with RGB data ([0..1] for floats or [0..255] for integers).\n",
      "Lossy conversion from float32 to uint8. Range [0.0, 255.0]. Convert image to uint8 prior to saving to suppress this warning.\n",
      "Lossy conversion from float32 to uint8. Range [0.0, 2.0]. Convert image to uint8 prior to saving to suppress this warning.\n",
      "Lossy conversion from float64 to uint8. Range [0, 1]. Convert image to uint8 prior to saving to suppress this warning.\n",
      "Clipping input data to the valid range for imshow with RGB data ([0..1] for floats or [0..255] for integers).\n"
     ]
    },
    {
     "name": "stdout",
     "output_type": "stream",
     "text": [
      "[INFO] Epoch 146 loss tf.Tensor(3.8263617, shape=(), dtype=float32) roomTypeLoss: tf.Tensor(2.5340476, shape=(), dtype=float32) roomBoundLosstf.Tensor(5.1186757, shape=(), dtype=float32)\n"
     ]
    },
    {
     "name": "stderr",
     "output_type": "stream",
     "text": [
      "Lossy conversion from float32 to uint8. Range [0.0, 255.0]. Convert image to uint8 prior to saving to suppress this warning.\n",
      "Lossy conversion from float32 to uint8. Range [0.0, 2.0]. Convert image to uint8 prior to saving to suppress this warning.\n",
      "Lossy conversion from float64 to uint8. Range [0, 1]. Convert image to uint8 prior to saving to suppress this warning.\n",
      "Clipping input data to the valid range for imshow with RGB data ([0..1] for floats or [0..255] for integers).\n",
      "Lossy conversion from float32 to uint8. Range [0.0, 255.0]. Convert image to uint8 prior to saving to suppress this warning.\n",
      "Lossy conversion from float32 to uint8. Range [0.0, 2.0]. Convert image to uint8 prior to saving to suppress this warning.\n",
      "Lossy conversion from float64 to uint8. Range [0, 1]. Convert image to uint8 prior to saving to suppress this warning.\n",
      "Clipping input data to the valid range for imshow with RGB data ([0..1] for floats or [0..255] for integers).\n",
      "Lossy conversion from float32 to uint8. Range [0.0, 255.0]. Convert image to uint8 prior to saving to suppress this warning.\n",
      "Lossy conversion from float32 to uint8. Range [0.0, 2.0]. Convert image to uint8 prior to saving to suppress this warning.\n",
      "Lossy conversion from float64 to uint8. Range [0, 1]. Convert image to uint8 prior to saving to suppress this warning.\n",
      "Clipping input data to the valid range for imshow with RGB data ([0..1] for floats or [0..255] for integers).\n"
     ]
    },
    {
     "name": "stdout",
     "output_type": "stream",
     "text": [
      "[INFO] Epoch 147 loss tf.Tensor(7.2095795, shape=(), dtype=float32) roomTypeLoss: tf.Tensor(4.234949, shape=(), dtype=float32) roomBoundLosstf.Tensor(10.18421, shape=(), dtype=float32)\n"
     ]
    },
    {
     "name": "stderr",
     "output_type": "stream",
     "text": [
      "Lossy conversion from float32 to uint8. Range [0.0, 253.0]. Convert image to uint8 prior to saving to suppress this warning.\n",
      "Lossy conversion from float32 to uint8. Range [0.0, 2.0]. Convert image to uint8 prior to saving to suppress this warning.\n",
      "Lossy conversion from float64 to uint8. Range [0, 1]. Convert image to uint8 prior to saving to suppress this warning.\n",
      "Clipping input data to the valid range for imshow with RGB data ([0..1] for floats or [0..255] for integers).\n",
      "Lossy conversion from float32 to uint8. Range [0.0, 255.0]. Convert image to uint8 prior to saving to suppress this warning.\n",
      "Lossy conversion from float32 to uint8. Range [0.0, 2.0]. Convert image to uint8 prior to saving to suppress this warning.\n",
      "Lossy conversion from float64 to uint8. Range [0, 1]. Convert image to uint8 prior to saving to suppress this warning.\n",
      "Clipping input data to the valid range for imshow with RGB data ([0..1] for floats or [0..255] for integers).\n",
      "Lossy conversion from float32 to uint8. Range [0.0, 255.0]. Convert image to uint8 prior to saving to suppress this warning.\n",
      "/d2/studies/TF2DeepFloorplan/train.py:95: UserWarning: /d2/studies/TF2DeepFloorplan/./outJan11_TFR4/45724375_rooms.png is a low contrast image\n",
      "  imsave(os.path.join(os.getcwd(), outdir + '/' + str(pltiter) + '_rooms.png'), r)\n",
      "Lossy conversion from float32 to uint8. Range [0.0, 2.0]. Convert image to uint8 prior to saving to suppress this warning.\n",
      "/d2/studies/TF2DeepFloorplan/train.py:99: UserWarning: /d2/studies/TF2DeepFloorplan/./outJan11_TFR4/45724375_rooms_pred.png is a low contrast image\n",
      "  imsave(os.path.join(os.getcwd(), outdir + '/' + str(pltiter) + '_rooms_pred.png'), img_as_float(lr))\n",
      "Lossy conversion from float64 to uint8. Range [0, 1]. Convert image to uint8 prior to saving to suppress this warning.\n",
      "Clipping input data to the valid range for imshow with RGB data ([0..1] for floats or [0..255] for integers).\n",
      "Lossy conversion from float32 to uint8. Range [0.0, 255.0]. Convert image to uint8 prior to saving to suppress this warning.\n",
      "Lossy conversion from float32 to uint8. Range [0.0, 2.0]. Convert image to uint8 prior to saving to suppress this warning.\n",
      "Lossy conversion from float64 to uint8. Range [0, 1]. Convert image to uint8 prior to saving to suppress this warning.\n",
      "Clipping input data to the valid range for imshow with RGB data ([0..1] for floats or [0..255] for integers).\n"
     ]
    },
    {
     "name": "stdout",
     "output_type": "stream",
     "text": [
      "[INFO] Epoch 148 loss tf.Tensor(8.591253, shape=(), dtype=float32) roomTypeLoss: tf.Tensor(3.721629, shape=(), dtype=float32) roomBoundLosstf.Tensor(13.460877, shape=(), dtype=float32)\n"
     ]
    },
    {
     "name": "stderr",
     "output_type": "stream",
     "text": [
      "Lossy conversion from float32 to uint8. Range [0.0, 255.0]. Convert image to uint8 prior to saving to suppress this warning.\n",
      "Lossy conversion from float32 to uint8. Range [0.0, 2.0]. Convert image to uint8 prior to saving to suppress this warning.\n",
      "Lossy conversion from float64 to uint8. Range [0, 1]. Convert image to uint8 prior to saving to suppress this warning.\n",
      "Clipping input data to the valid range for imshow with RGB data ([0..1] for floats or [0..255] for integers).\n",
      "Lossy conversion from float32 to uint8. Range [0.0, 255.0]. Convert image to uint8 prior to saving to suppress this warning.\n",
      "Lossy conversion from float32 to uint8. Range [0.0, 2.0]. Convert image to uint8 prior to saving to suppress this warning.\n",
      "Lossy conversion from float64 to uint8. Range [0, 1]. Convert image to uint8 prior to saving to suppress this warning.\n",
      "Clipping input data to the valid range for imshow with RGB data ([0..1] for floats or [0..255] for integers).\n",
      "Lossy conversion from float32 to uint8. Range [0.0, 255.0]. Convert image to uint8 prior to saving to suppress this warning.\n",
      "Lossy conversion from float32 to uint8. Range [0.0, 2.0]. Convert image to uint8 prior to saving to suppress this warning.\n",
      "Lossy conversion from float64 to uint8. Range [0, 1]. Convert image to uint8 prior to saving to suppress this warning.\n",
      "Clipping input data to the valid range for imshow with RGB data ([0..1] for floats or [0..255] for integers).\n"
     ]
    },
    {
     "name": "stdout",
     "output_type": "stream",
     "text": [
      "[INFO] Epoch 149 loss tf.Tensor(3.2743518, shape=(), dtype=float32) roomTypeLoss: tf.Tensor(1.266534, shape=(), dtype=float32) roomBoundLosstf.Tensor(5.28217, shape=(), dtype=float32)\n"
     ]
    },
    {
     "name": "stderr",
     "output_type": "stream",
     "text": [
      "Lossy conversion from float32 to uint8. Range [0.0, 255.0]. Convert image to uint8 prior to saving to suppress this warning.\n",
      "Lossy conversion from float32 to uint8. Range [0.0, 2.0]. Convert image to uint8 prior to saving to suppress this warning.\n",
      "Lossy conversion from float64 to uint8. Range [0, 1]. Convert image to uint8 prior to saving to suppress this warning.\n",
      "Clipping input data to the valid range for imshow with RGB data ([0..1] for floats or [0..255] for integers).\n",
      "Lossy conversion from float32 to uint8. Range [0.0, 255.0]. Convert image to uint8 prior to saving to suppress this warning.\n",
      "Lossy conversion from float32 to uint8. Range [0.0, 2.0]. Convert image to uint8 prior to saving to suppress this warning.\n",
      "Lossy conversion from float64 to uint8. Range [0, 1]. Convert image to uint8 prior to saving to suppress this warning.\n",
      "Clipping input data to the valid range for imshow with RGB data ([0..1] for floats or [0..255] for integers).\n",
      "Lossy conversion from float32 to uint8. Range [0.0, 255.0]. Convert image to uint8 prior to saving to suppress this warning.\n",
      "Lossy conversion from float32 to uint8. Range [0.0, 2.0]. Convert image to uint8 prior to saving to suppress this warning.\n",
      "Lossy conversion from float64 to uint8. Range [0, 1]. Convert image to uint8 prior to saving to suppress this warning.\n",
      "Clipping input data to the valid range for imshow with RGB data ([0..1] for floats or [0..255] for integers).\n",
      "Lossy conversion from float32 to uint8. Range [0.0, 255.0]. Convert image to uint8 prior to saving to suppress this warning.\n",
      "Lossy conversion from float32 to uint8. Range [0.0, 2.0]. Convert image to uint8 prior to saving to suppress this warning.\n",
      "Lossy conversion from float64 to uint8. Range [0, 1]. Convert image to uint8 prior to saving to suppress this warning.\n",
      "Clipping input data to the valid range for imshow with RGB data ([0..1] for floats or [0..255] for integers).\n"
     ]
    },
    {
     "name": "stdout",
     "output_type": "stream",
     "text": [
      "[INFO] Epoch 150 loss tf.Tensor(10.510763, shape=(), dtype=float32) roomTypeLoss: tf.Tensor(4.256907, shape=(), dtype=float32) roomBoundLosstf.Tensor(16.76462, shape=(), dtype=float32)\n"
     ]
    },
    {
     "name": "stderr",
     "output_type": "stream",
     "text": [
      "Lossy conversion from float32 to uint8. Range [0.0, 255.0]. Convert image to uint8 prior to saving to suppress this warning.\n",
      "Lossy conversion from float32 to uint8. Range [0.0, 2.0]. Convert image to uint8 prior to saving to suppress this warning.\n",
      "Lossy conversion from float64 to uint8. Range [0, 1]. Convert image to uint8 prior to saving to suppress this warning.\n",
      "Clipping input data to the valid range for imshow with RGB data ([0..1] for floats or [0..255] for integers).\n",
      "Lossy conversion from float32 to uint8. Range [0.0, 255.0]. Convert image to uint8 prior to saving to suppress this warning.\n",
      "Lossy conversion from float32 to uint8. Range [0.0, 2.0]. Convert image to uint8 prior to saving to suppress this warning.\n",
      "Lossy conversion from float64 to uint8. Range [0, 1]. Convert image to uint8 prior to saving to suppress this warning.\n",
      "Clipping input data to the valid range for imshow with RGB data ([0..1] for floats or [0..255] for integers).\n",
      "Lossy conversion from float32 to uint8. Range [0.0, 255.0]. Convert image to uint8 prior to saving to suppress this warning.\n",
      "Lossy conversion from float32 to uint8. Range [0.0, 2.0]. Convert image to uint8 prior to saving to suppress this warning.\n",
      "Lossy conversion from float64 to uint8. Range [0, 1]. Convert image to uint8 prior to saving to suppress this warning.\n",
      "Clipping input data to the valid range for imshow with RGB data ([0..1] for floats or [0..255] for integers).\n",
      "Lossy conversion from float32 to uint8. Range [0.0, 255.0]. Convert image to uint8 prior to saving to suppress this warning.\n",
      "Lossy conversion from float32 to uint8. Range [0.0, 2.0]. Convert image to uint8 prior to saving to suppress this warning.\n",
      "Lossy conversion from float64 to uint8. Range [0, 1]. Convert image to uint8 prior to saving to suppress this warning.\n",
      "Clipping input data to the valid range for imshow with RGB data ([0..1] for floats or [0..255] for integers).\n"
     ]
    },
    {
     "name": "stdout",
     "output_type": "stream",
     "text": [
      "[INFO] Epoch 151 loss tf.Tensor(7.350816, shape=(), dtype=float32) roomTypeLoss: tf.Tensor(4.2732043, shape=(), dtype=float32) roomBoundLosstf.Tensor(10.428428, shape=(), dtype=float32)\n"
     ]
    },
    {
     "name": "stderr",
     "output_type": "stream",
     "text": [
      "Lossy conversion from float32 to uint8. Range [0.0, 255.0]. Convert image to uint8 prior to saving to suppress this warning.\n",
      "Lossy conversion from float32 to uint8. Range [0.0, 2.0]. Convert image to uint8 prior to saving to suppress this warning.\n",
      "Lossy conversion from float64 to uint8. Range [0, 1]. Convert image to uint8 prior to saving to suppress this warning.\n",
      "Clipping input data to the valid range for imshow with RGB data ([0..1] for floats or [0..255] for integers).\n",
      "Lossy conversion from float32 to uint8. Range [0.0, 255.0]. Convert image to uint8 prior to saving to suppress this warning.\n",
      "Lossy conversion from float32 to uint8. Range [0.0, 2.0]. Convert image to uint8 prior to saving to suppress this warning.\n",
      "Lossy conversion from float64 to uint8. Range [0, 1]. Convert image to uint8 prior to saving to suppress this warning.\n",
      "Clipping input data to the valid range for imshow with RGB data ([0..1] for floats or [0..255] for integers).\n",
      "Lossy conversion from float32 to uint8. Range [0.0, 255.0]. Convert image to uint8 prior to saving to suppress this warning.\n",
      "Lossy conversion from float32 to uint8. Range [0.0, 2.0]. Convert image to uint8 prior to saving to suppress this warning.\n",
      "Lossy conversion from float64 to uint8. Range [0, 1]. Convert image to uint8 prior to saving to suppress this warning.\n",
      "Clipping input data to the valid range for imshow with RGB data ([0..1] for floats or [0..255] for integers).\n"
     ]
    },
    {
     "name": "stdout",
     "output_type": "stream",
     "text": [
      "[INFO] Epoch 152 loss tf.Tensor(7.559047, shape=(), dtype=float32) roomTypeLoss: tf.Tensor(3.2861626, shape=(), dtype=float32) roomBoundLosstf.Tensor(11.831932, shape=(), dtype=float32)\n"
     ]
    },
    {
     "name": "stderr",
     "output_type": "stream",
     "text": [
      "Lossy conversion from float32 to uint8. Range [0.0, 255.0]. Convert image to uint8 prior to saving to suppress this warning.\n",
      "/d2/studies/TF2DeepFloorplan/train.py:95: UserWarning: /d2/studies/TF2DeepFloorplan/./outJan11_TFR4/45613198_rooms.png is a low contrast image\n",
      "  imsave(os.path.join(os.getcwd(), outdir + '/' + str(pltiter) + '_rooms.png'), r)\n",
      "Lossy conversion from float32 to uint8. Range [0.0, 2.0]. Convert image to uint8 prior to saving to suppress this warning.\n",
      "/d2/studies/TF2DeepFloorplan/train.py:99: UserWarning: /d2/studies/TF2DeepFloorplan/./outJan11_TFR4/45613198_rooms_pred.png is a low contrast image\n",
      "  imsave(os.path.join(os.getcwd(), outdir + '/' + str(pltiter) + '_rooms_pred.png'), img_as_float(lr))\n",
      "Lossy conversion from float64 to uint8. Range [0, 1]. Convert image to uint8 prior to saving to suppress this warning.\n",
      "Clipping input data to the valid range for imshow with RGB data ([0..1] for floats or [0..255] for integers).\n",
      "Lossy conversion from float32 to uint8. Range [0.0, 255.0]. Convert image to uint8 prior to saving to suppress this warning.\n",
      "Lossy conversion from float32 to uint8. Range [0.0, 2.0]. Convert image to uint8 prior to saving to suppress this warning.\n",
      "Lossy conversion from float64 to uint8. Range [0, 1]. Convert image to uint8 prior to saving to suppress this warning.\n",
      "Clipping input data to the valid range for imshow with RGB data ([0..1] for floats or [0..255] for integers).\n",
      "Lossy conversion from float32 to uint8. Range [0.0, 254.0]. Convert image to uint8 prior to saving to suppress this warning.\n",
      "Lossy conversion from float32 to uint8. Range [0.0, 2.0]. Convert image to uint8 prior to saving to suppress this warning.\n",
      "Lossy conversion from float64 to uint8. Range [0, 1]. Convert image to uint8 prior to saving to suppress this warning.\n",
      "Clipping input data to the valid range for imshow with RGB data ([0..1] for floats or [0..255] for integers).\n",
      "Lossy conversion from float32 to uint8. Range [0.0, 255.0]. Convert image to uint8 prior to saving to suppress this warning.\n",
      "Lossy conversion from float32 to uint8. Range [0.0, 2.0]. Convert image to uint8 prior to saving to suppress this warning.\n",
      "Lossy conversion from float64 to uint8. Range [0, 1]. Convert image to uint8 prior to saving to suppress this warning.\n",
      "Clipping input data to the valid range for imshow with RGB data ([0..1] for floats or [0..255] for integers).\n"
     ]
    },
    {
     "name": "stdout",
     "output_type": "stream",
     "text": [
      "[INFO] Epoch 153 loss tf.Tensor(6.2294655, shape=(), dtype=float32) roomTypeLoss: tf.Tensor(3.0575323, shape=(), dtype=float32) roomBoundLosstf.Tensor(9.401399, shape=(), dtype=float32)\n"
     ]
    },
    {
     "name": "stderr",
     "output_type": "stream",
     "text": [
      "Lossy conversion from float32 to uint8. Range [0.0, 255.0]. Convert image to uint8 prior to saving to suppress this warning.\n",
      "Lossy conversion from float32 to uint8. Range [0.0, 2.0]. Convert image to uint8 prior to saving to suppress this warning.\n",
      "Lossy conversion from float64 to uint8. Range [0, 1]. Convert image to uint8 prior to saving to suppress this warning.\n",
      "Clipping input data to the valid range for imshow with RGB data ([0..1] for floats or [0..255] for integers).\n",
      "Lossy conversion from float32 to uint8. Range [0.0, 255.0]. Convert image to uint8 prior to saving to suppress this warning.\n",
      "Lossy conversion from float32 to uint8. Range [0.0, 2.0]. Convert image to uint8 prior to saving to suppress this warning.\n",
      "Lossy conversion from float64 to uint8. Range [0, 1]. Convert image to uint8 prior to saving to suppress this warning.\n",
      "Clipping input data to the valid range for imshow with RGB data ([0..1] for floats or [0..255] for integers).\n",
      "Lossy conversion from float32 to uint8. Range [0.0, 255.0]. Convert image to uint8 prior to saving to suppress this warning.\n",
      "Lossy conversion from float32 to uint8. Range [0.0, 2.0]. Convert image to uint8 prior to saving to suppress this warning.\n",
      "Lossy conversion from float64 to uint8. Range [0, 1]. Convert image to uint8 prior to saving to suppress this warning.\n",
      "Clipping input data to the valid range for imshow with RGB data ([0..1] for floats or [0..255] for integers).\n"
     ]
    },
    {
     "name": "stdout",
     "output_type": "stream",
     "text": [
      "[INFO] Epoch 154 loss tf.Tensor(6.843782, shape=(), dtype=float32) roomTypeLoss: tf.Tensor(4.234949, shape=(), dtype=float32) roomBoundLosstf.Tensor(9.452615, shape=(), dtype=float32)\n"
     ]
    },
    {
     "name": "stderr",
     "output_type": "stream",
     "text": [
      "Lossy conversion from float32 to uint8. Range [0.0, 255.0]. Convert image to uint8 prior to saving to suppress this warning.\n",
      "/d2/studies/TF2DeepFloorplan/train.py:95: UserWarning: /d2/studies/TF2DeepFloorplan/./outJan11_TFR4/31870983_rooms.png is a low contrast image\n",
      "  imsave(os.path.join(os.getcwd(), outdir + '/' + str(pltiter) + '_rooms.png'), r)\n",
      "Lossy conversion from float32 to uint8. Range [0.0, 2.0]. Convert image to uint8 prior to saving to suppress this warning.\n",
      "/d2/studies/TF2DeepFloorplan/train.py:99: UserWarning: /d2/studies/TF2DeepFloorplan/./outJan11_TFR4/31870983_rooms_pred.png is a low contrast image\n",
      "  imsave(os.path.join(os.getcwd(), outdir + '/' + str(pltiter) + '_rooms_pred.png'), img_as_float(lr))\n",
      "Lossy conversion from float64 to uint8. Range [0, 1]. Convert image to uint8 prior to saving to suppress this warning.\n",
      "Clipping input data to the valid range for imshow with RGB data ([0..1] for floats or [0..255] for integers).\n",
      "Lossy conversion from float32 to uint8. Range [0.0, 255.0]. Convert image to uint8 prior to saving to suppress this warning.\n",
      "Lossy conversion from float32 to uint8. Range [0.0, 2.0]. Convert image to uint8 prior to saving to suppress this warning.\n",
      "Lossy conversion from float64 to uint8. Range [0, 1]. Convert image to uint8 prior to saving to suppress this warning.\n",
      "Clipping input data to the valid range for imshow with RGB data ([0..1] for floats or [0..255] for integers).\n",
      "Lossy conversion from float32 to uint8. Range [0.0, 255.0]. Convert image to uint8 prior to saving to suppress this warning.\n",
      "Lossy conversion from float32 to uint8. Range [0.0, 2.0]. Convert image to uint8 prior to saving to suppress this warning.\n",
      "Lossy conversion from float64 to uint8. Range [0, 1]. Convert image to uint8 prior to saving to suppress this warning.\n",
      "Clipping input data to the valid range for imshow with RGB data ([0..1] for floats or [0..255] for integers).\n",
      "Lossy conversion from float32 to uint8. Range [0.0, 255.0]. Convert image to uint8 prior to saving to suppress this warning.\n",
      "Lossy conversion from float32 to uint8. Range [0.0, 2.0]. Convert image to uint8 prior to saving to suppress this warning.\n",
      "Lossy conversion from float64 to uint8. Range [0, 1]. Convert image to uint8 prior to saving to suppress this warning.\n",
      "Clipping input data to the valid range for imshow with RGB data ([0..1] for floats or [0..255] for integers).\n"
     ]
    },
    {
     "name": "stdout",
     "output_type": "stream",
     "text": [
      "[INFO] Epoch 155 loss tf.Tensor(8.548504, shape=(), dtype=float32) roomTypeLoss: tf.Tensor(3.0121226, shape=(), dtype=float32) roomBoundLosstf.Tensor(14.084885, shape=(), dtype=float32)\n"
     ]
    },
    {
     "name": "stderr",
     "output_type": "stream",
     "text": [
      "Lossy conversion from float32 to uint8. Range [6.0, 255.0]. Convert image to uint8 prior to saving to suppress this warning.\n",
      "Lossy conversion from float32 to uint8. Range [0.0, 2.0]. Convert image to uint8 prior to saving to suppress this warning.\n",
      "Lossy conversion from float64 to uint8. Range [0, 1]. Convert image to uint8 prior to saving to suppress this warning.\n",
      "Clipping input data to the valid range for imshow with RGB data ([0..1] for floats or [0..255] for integers).\n",
      "Lossy conversion from float32 to uint8. Range [0.0, 255.0]. Convert image to uint8 prior to saving to suppress this warning.\n",
      "Lossy conversion from float32 to uint8. Range [0.0, 2.0]. Convert image to uint8 prior to saving to suppress this warning.\n",
      "Lossy conversion from float64 to uint8. Range [0, 1]. Convert image to uint8 prior to saving to suppress this warning.\n",
      "Clipping input data to the valid range for imshow with RGB data ([0..1] for floats or [0..255] for integers).\n",
      "Lossy conversion from float32 to uint8. Range [0.0, 255.0]. Convert image to uint8 prior to saving to suppress this warning.\n",
      "Lossy conversion from float32 to uint8. Range [0.0, 2.0]. Convert image to uint8 prior to saving to suppress this warning.\n",
      "Lossy conversion from float64 to uint8. Range [0, 1]. Convert image to uint8 prior to saving to suppress this warning.\n",
      "Clipping input data to the valid range for imshow with RGB data ([0..1] for floats or [0..255] for integers).\n",
      "Lossy conversion from float32 to uint8. Range [0.0, 255.0]. Convert image to uint8 prior to saving to suppress this warning.\n",
      "Lossy conversion from float32 to uint8. Range [0.0, 2.0]. Convert image to uint8 prior to saving to suppress this warning.\n",
      "Lossy conversion from float64 to uint8. Range [0, 1]. Convert image to uint8 prior to saving to suppress this warning.\n",
      "Clipping input data to the valid range for imshow with RGB data ([0..1] for floats or [0..255] for integers).\n"
     ]
    },
    {
     "name": "stdout",
     "output_type": "stream",
     "text": [
      "[INFO] Epoch 156 loss tf.Tensor(5.0975432, shape=(), dtype=float32) roomTypeLoss: tf.Tensor(2.6059964, shape=(), dtype=float32) roomBoundLosstf.Tensor(7.58909, shape=(), dtype=float32)\n"
     ]
    },
    {
     "name": "stderr",
     "output_type": "stream",
     "text": [
      "Lossy conversion from float32 to uint8. Range [0.0, 255.0]. Convert image to uint8 prior to saving to suppress this warning.\n",
      "Lossy conversion from float32 to uint8. Range [0.0, 2.0]. Convert image to uint8 prior to saving to suppress this warning.\n",
      "Lossy conversion from float64 to uint8. Range [0, 1]. Convert image to uint8 prior to saving to suppress this warning.\n",
      "Clipping input data to the valid range for imshow with RGB data ([0..1] for floats or [0..255] for integers).\n",
      "Lossy conversion from float32 to uint8. Range [0.0, 255.0]. Convert image to uint8 prior to saving to suppress this warning.\n",
      "Lossy conversion from float32 to uint8. Range [0.0, 2.0]. Convert image to uint8 prior to saving to suppress this warning.\n",
      "Lossy conversion from float64 to uint8. Range [0, 1]. Convert image to uint8 prior to saving to suppress this warning.\n",
      "Clipping input data to the valid range for imshow with RGB data ([0..1] for floats or [0..255] for integers).\n",
      "Lossy conversion from float32 to uint8. Range [0.0, 255.0]. Convert image to uint8 prior to saving to suppress this warning.\n",
      "Lossy conversion from float32 to uint8. Range [0.0, 2.0]. Convert image to uint8 prior to saving to suppress this warning.\n",
      "Lossy conversion from float64 to uint8. Range [0, 1]. Convert image to uint8 prior to saving to suppress this warning.\n",
      "Clipping input data to the valid range for imshow with RGB data ([0..1] for floats or [0..255] for integers).\n"
     ]
    },
    {
     "name": "stdout",
     "output_type": "stream",
     "text": [
      "[INFO] Epoch 157 loss tf.Tensor(7.8246183, shape=(), dtype=float32) roomTypeLoss: tf.Tensor(3.816435, shape=(), dtype=float32) roomBoundLosstf.Tensor(11.832802, shape=(), dtype=float32)\n"
     ]
    },
    {
     "name": "stderr",
     "output_type": "stream",
     "text": [
      "Lossy conversion from float32 to uint8. Range [0.0, 255.0]. Convert image to uint8 prior to saving to suppress this warning.\n",
      "Lossy conversion from float32 to uint8. Range [0.0, 2.0]. Convert image to uint8 prior to saving to suppress this warning.\n",
      "Lossy conversion from float64 to uint8. Range [0, 1]. Convert image to uint8 prior to saving to suppress this warning.\n",
      "Clipping input data to the valid range for imshow with RGB data ([0..1] for floats or [0..255] for integers).\n",
      "Lossy conversion from float32 to uint8. Range [0.0, 255.0]. Convert image to uint8 prior to saving to suppress this warning.\n",
      "Lossy conversion from float32 to uint8. Range [0.0, 2.0]. Convert image to uint8 prior to saving to suppress this warning.\n",
      "Lossy conversion from float64 to uint8. Range [0, 1]. Convert image to uint8 prior to saving to suppress this warning.\n",
      "Clipping input data to the valid range for imshow with RGB data ([0..1] for floats or [0..255] for integers).\n",
      "Lossy conversion from float32 to uint8. Range [0.0, 255.0]. Convert image to uint8 prior to saving to suppress this warning.\n",
      "Lossy conversion from float32 to uint8. Range [0.0, 2.0]. Convert image to uint8 prior to saving to suppress this warning.\n",
      "Lossy conversion from float64 to uint8. Range [0, 1]. Convert image to uint8 prior to saving to suppress this warning.\n",
      "Clipping input data to the valid range for imshow with RGB data ([0..1] for floats or [0..255] for integers).\n",
      "Lossy conversion from float32 to uint8. Range [0.0, 255.0]. Convert image to uint8 prior to saving to suppress this warning.\n",
      "Lossy conversion from float32 to uint8. Range [0.0, 2.0]. Convert image to uint8 prior to saving to suppress this warning.\n",
      "Lossy conversion from float64 to uint8. Range [0, 1]. Convert image to uint8 prior to saving to suppress this warning.\n",
      "Clipping input data to the valid range for imshow with RGB data ([0..1] for floats or [0..255] for integers).\n"
     ]
    },
    {
     "name": "stdout",
     "output_type": "stream",
     "text": [
      "[INFO] Epoch 158 loss tf.Tensor(5.463545, shape=(), dtype=float32) roomTypeLoss: tf.Tensor(3.5702035, shape=(), dtype=float32) roomBoundLosstf.Tensor(7.3568864, shape=(), dtype=float32)\n"
     ]
    },
    {
     "name": "stderr",
     "output_type": "stream",
     "text": [
      "Lossy conversion from float32 to uint8. Range [0.0, 255.0]. Convert image to uint8 prior to saving to suppress this warning.\n",
      "Lossy conversion from float32 to uint8. Range [0.0, 2.0]. Convert image to uint8 prior to saving to suppress this warning.\n",
      "Lossy conversion from float64 to uint8. Range [0, 1]. Convert image to uint8 prior to saving to suppress this warning.\n",
      "Clipping input data to the valid range for imshow with RGB data ([0..1] for floats or [0..255] for integers).\n",
      "Lossy conversion from float32 to uint8. Range [0.0, 255.0]. Convert image to uint8 prior to saving to suppress this warning.\n",
      "Lossy conversion from float32 to uint8. Range [0.0, 2.0]. Convert image to uint8 prior to saving to suppress this warning.\n",
      "Lossy conversion from float64 to uint8. Range [0, 1]. Convert image to uint8 prior to saving to suppress this warning.\n",
      "Clipping input data to the valid range for imshow with RGB data ([0..1] for floats or [0..255] for integers).\n",
      "Lossy conversion from float32 to uint8. Range [0.0, 255.0]. Convert image to uint8 prior to saving to suppress this warning.\n",
      "Lossy conversion from float32 to uint8. Range [0.0, 2.0]. Convert image to uint8 prior to saving to suppress this warning.\n",
      "Lossy conversion from float64 to uint8. Range [0, 1]. Convert image to uint8 prior to saving to suppress this warning.\n",
      "Clipping input data to the valid range for imshow with RGB data ([0..1] for floats or [0..255] for integers).\n"
     ]
    },
    {
     "name": "stdout",
     "output_type": "stream",
     "text": [
      "[INFO] Epoch 159 loss tf.Tensor(6.8113594, shape=(), dtype=float32) roomTypeLoss: tf.Tensor(3.576373, shape=(), dtype=float32) roomBoundLosstf.Tensor(10.046346, shape=(), dtype=float32)\n"
     ]
    },
    {
     "name": "stderr",
     "output_type": "stream",
     "text": [
      "Lossy conversion from float32 to uint8. Range [0.0, 255.0]. Convert image to uint8 prior to saving to suppress this warning.\n",
      "Lossy conversion from float32 to uint8. Range [0.0, 2.0]. Convert image to uint8 prior to saving to suppress this warning.\n",
      "Lossy conversion from float64 to uint8. Range [0, 1]. Convert image to uint8 prior to saving to suppress this warning.\n",
      "Clipping input data to the valid range for imshow with RGB data ([0..1] for floats or [0..255] for integers).\n",
      "Lossy conversion from float32 to uint8. Range [0.0, 255.0]. Convert image to uint8 prior to saving to suppress this warning.\n",
      "Lossy conversion from float32 to uint8. Range [0.0, 2.0]. Convert image to uint8 prior to saving to suppress this warning.\n",
      "Lossy conversion from float64 to uint8. Range [0, 1]. Convert image to uint8 prior to saving to suppress this warning.\n",
      "Clipping input data to the valid range for imshow with RGB data ([0..1] for floats or [0..255] for integers).\n",
      "Lossy conversion from float32 to uint8. Range [9.0, 255.0]. Convert image to uint8 prior to saving to suppress this warning.\n",
      "Lossy conversion from float32 to uint8. Range [0.0, 2.0]. Convert image to uint8 prior to saving to suppress this warning.\n",
      "Lossy conversion from float64 to uint8. Range [0, 1]. Convert image to uint8 prior to saving to suppress this warning.\n",
      "Clipping input data to the valid range for imshow with RGB data ([0..1] for floats or [0..255] for integers).\n",
      "Lossy conversion from float32 to uint8. Range [0.0, 255.0]. Convert image to uint8 prior to saving to suppress this warning.\n",
      "Lossy conversion from float32 to uint8. Range [0.0, 2.0]. Convert image to uint8 prior to saving to suppress this warning.\n",
      "Lossy conversion from float64 to uint8. Range [0, 1]. Convert image to uint8 prior to saving to suppress this warning.\n",
      "Clipping input data to the valid range for imshow with RGB data ([0..1] for floats or [0..255] for integers).\n"
     ]
    },
    {
     "name": "stdout",
     "output_type": "stream",
     "text": [
      "[INFO] Epoch 160 loss tf.Tensor(5.839733, shape=(), dtype=float32) roomTypeLoss: tf.Tensor(6.404925e-06, shape=(), dtype=float32) roomBoundLosstf.Tensor(11.67946, shape=(), dtype=float32)\n"
     ]
    },
    {
     "name": "stderr",
     "output_type": "stream",
     "text": [
      "Lossy conversion from float32 to uint8. Range [0.0, 255.0]. Convert image to uint8 prior to saving to suppress this warning.\n",
      "Lossy conversion from float32 to uint8. Range [0.0, 2.0]. Convert image to uint8 prior to saving to suppress this warning.\n",
      "Lossy conversion from float64 to uint8. Range [0, 1]. Convert image to uint8 prior to saving to suppress this warning.\n",
      "Clipping input data to the valid range for imshow with RGB data ([0..1] for floats or [0..255] for integers).\n",
      "Lossy conversion from float32 to uint8. Range [0.0, 255.0]. Convert image to uint8 prior to saving to suppress this warning.\n",
      "Lossy conversion from float32 to uint8. Range [0.0, 2.0]. Convert image to uint8 prior to saving to suppress this warning.\n",
      "Lossy conversion from float64 to uint8. Range [0, 1]. Convert image to uint8 prior to saving to suppress this warning.\n",
      "Clipping input data to the valid range for imshow with RGB data ([0..1] for floats or [0..255] for integers).\n",
      "Lossy conversion from float32 to uint8. Range [0.0, 255.0]. Convert image to uint8 prior to saving to suppress this warning.\n",
      "Lossy conversion from float32 to uint8. Range [0.0, 2.0]. Convert image to uint8 prior to saving to suppress this warning.\n",
      "Lossy conversion from float64 to uint8. Range [0, 1]. Convert image to uint8 prior to saving to suppress this warning.\n",
      "Clipping input data to the valid range for imshow with RGB data ([0..1] for floats or [0..255] for integers).\n"
     ]
    },
    {
     "name": "stdout",
     "output_type": "stream",
     "text": [
      "[INFO] Epoch 161 loss tf.Tensor(10.12754, shape=(), dtype=float32) roomTypeLoss: tf.Tensor(4.8273063, shape=(), dtype=float32) roomBoundLosstf.Tensor(15.4277725, shape=(), dtype=float32)\n"
     ]
    },
    {
     "name": "stderr",
     "output_type": "stream",
     "text": [
      "Lossy conversion from float32 to uint8. Range [17.0, 255.0]. Convert image to uint8 prior to saving to suppress this warning.\n",
      "Lossy conversion from float32 to uint8. Range [0.0, 2.0]. Convert image to uint8 prior to saving to suppress this warning.\n",
      "Lossy conversion from float64 to uint8. Range [0, 1]. Convert image to uint8 prior to saving to suppress this warning.\n",
      "Clipping input data to the valid range for imshow with RGB data ([0..1] for floats or [0..255] for integers).\n",
      "Lossy conversion from float32 to uint8. Range [0.0, 255.0]. Convert image to uint8 prior to saving to suppress this warning.\n",
      "Lossy conversion from float32 to uint8. Range [0.0, 2.0]. Convert image to uint8 prior to saving to suppress this warning.\n",
      "Lossy conversion from float64 to uint8. Range [0, 1]. Convert image to uint8 prior to saving to suppress this warning.\n",
      "Clipping input data to the valid range for imshow with RGB data ([0..1] for floats or [0..255] for integers).\n",
      "Lossy conversion from float32 to uint8. Range [0.0, 255.0]. Convert image to uint8 prior to saving to suppress this warning.\n",
      "Lossy conversion from float32 to uint8. Range [0.0, 2.0]. Convert image to uint8 prior to saving to suppress this warning.\n",
      "Lossy conversion from float64 to uint8. Range [0, 1]. Convert image to uint8 prior to saving to suppress this warning.\n",
      "Clipping input data to the valid range for imshow with RGB data ([0..1] for floats or [0..255] for integers).\n",
      "Lossy conversion from float32 to uint8. Range [0.0, 255.0]. Convert image to uint8 prior to saving to suppress this warning.\n",
      "Lossy conversion from float32 to uint8. Range [0.0, 2.0]. Convert image to uint8 prior to saving to suppress this warning.\n",
      "Lossy conversion from float64 to uint8. Range [0, 1]. Convert image to uint8 prior to saving to suppress this warning.\n",
      "Clipping input data to the valid range for imshow with RGB data ([0..1] for floats or [0..255] for integers).\n"
     ]
    },
    {
     "name": "stdout",
     "output_type": "stream",
     "text": [
      "[INFO] Epoch 162 loss tf.Tensor(6.6766567, shape=(), dtype=float32) roomTypeLoss: tf.Tensor(3.9997416, shape=(), dtype=float32) roomBoundLosstf.Tensor(9.353572, shape=(), dtype=float32)\n"
     ]
    },
    {
     "name": "stderr",
     "output_type": "stream",
     "text": [
      "Lossy conversion from float32 to uint8. Range [9.0, 255.0]. Convert image to uint8 prior to saving to suppress this warning.\n",
      "Lossy conversion from float32 to uint8. Range [0.0, 2.0]. Convert image to uint8 prior to saving to suppress this warning.\n",
      "Lossy conversion from float64 to uint8. Range [0, 1]. Convert image to uint8 prior to saving to suppress this warning.\n",
      "Clipping input data to the valid range for imshow with RGB data ([0..1] for floats or [0..255] for integers).\n",
      "Lossy conversion from float32 to uint8. Range [0.0, 255.0]. Convert image to uint8 prior to saving to suppress this warning.\n",
      "Lossy conversion from float32 to uint8. Range [0.0, 2.0]. Convert image to uint8 prior to saving to suppress this warning.\n",
      "Lossy conversion from float64 to uint8. Range [0, 1]. Convert image to uint8 prior to saving to suppress this warning.\n",
      "Clipping input data to the valid range for imshow with RGB data ([0..1] for floats or [0..255] for integers).\n",
      "Lossy conversion from float32 to uint8. Range [0.0, 255.0]. Convert image to uint8 prior to saving to suppress this warning.\n",
      "Lossy conversion from float32 to uint8. Range [0.0, 2.0]. Convert image to uint8 prior to saving to suppress this warning.\n",
      "Lossy conversion from float64 to uint8. Range [0, 1]. Convert image to uint8 prior to saving to suppress this warning.\n",
      "Clipping input data to the valid range for imshow with RGB data ([0..1] for floats or [0..255] for integers).\n",
      "Lossy conversion from float32 to uint8. Range [0.0, 255.0]. Convert image to uint8 prior to saving to suppress this warning.\n",
      "Lossy conversion from float32 to uint8. Range [0.0, 2.0]. Convert image to uint8 prior to saving to suppress this warning.\n",
      "Lossy conversion from float64 to uint8. Range [0, 1]. Convert image to uint8 prior to saving to suppress this warning.\n",
      "Clipping input data to the valid range for imshow with RGB data ([0..1] for floats or [0..255] for integers).\n"
     ]
    },
    {
     "name": "stdout",
     "output_type": "stream",
     "text": [
      "[INFO] Epoch 163 loss tf.Tensor(6.410997, shape=(), dtype=float32) roomTypeLoss: tf.Tensor(3.0575323, shape=(), dtype=float32) roomBoundLosstf.Tensor(9.7644615, shape=(), dtype=float32)\n"
     ]
    },
    {
     "name": "stderr",
     "output_type": "stream",
     "text": [
      "Lossy conversion from float32 to uint8. Range [0.0, 255.0]. Convert image to uint8 prior to saving to suppress this warning.\n",
      "Lossy conversion from float32 to uint8. Range [0.0, 2.0]. Convert image to uint8 prior to saving to suppress this warning.\n",
      "Lossy conversion from float64 to uint8. Range [0, 1]. Convert image to uint8 prior to saving to suppress this warning.\n",
      "Clipping input data to the valid range for imshow with RGB data ([0..1] for floats or [0..255] for integers).\n",
      "Lossy conversion from float32 to uint8. Range [0.0, 255.0]. Convert image to uint8 prior to saving to suppress this warning.\n",
      "Lossy conversion from float32 to uint8. Range [0.0, 2.0]. Convert image to uint8 prior to saving to suppress this warning.\n",
      "Lossy conversion from float64 to uint8. Range [0, 1]. Convert image to uint8 prior to saving to suppress this warning.\n",
      "Clipping input data to the valid range for imshow with RGB data ([0..1] for floats or [0..255] for integers).\n",
      "Lossy conversion from float32 to uint8. Range [0.0, 255.0]. Convert image to uint8 prior to saving to suppress this warning.\n",
      "Lossy conversion from float32 to uint8. Range [0.0, 2.0]. Convert image to uint8 prior to saving to suppress this warning.\n",
      "Lossy conversion from float64 to uint8. Range [0, 1]. Convert image to uint8 prior to saving to suppress this warning.\n",
      "Clipping input data to the valid range for imshow with RGB data ([0..1] for floats or [0..255] for integers).\n"
     ]
    },
    {
     "name": "stdout",
     "output_type": "stream",
     "text": [
      "[INFO] Epoch 164 loss tf.Tensor(9.5913, shape=(), dtype=float32) roomTypeLoss: tf.Tensor(5.7156935, shape=(), dtype=float32) roomBoundLosstf.Tensor(13.466907, shape=(), dtype=float32)\n"
     ]
    },
    {
     "name": "stderr",
     "output_type": "stream",
     "text": [
      "Lossy conversion from float32 to uint8. Range [0.0, 255.0]. Convert image to uint8 prior to saving to suppress this warning.\n",
      "Lossy conversion from float32 to uint8. Range [0.0, 2.0]. Convert image to uint8 prior to saving to suppress this warning.\n",
      "Lossy conversion from float64 to uint8. Range [0, 1]. Convert image to uint8 prior to saving to suppress this warning.\n",
      "Clipping input data to the valid range for imshow with RGB data ([0..1] for floats or [0..255] for integers).\n",
      "Lossy conversion from float32 to uint8. Range [0.0, 255.0]. Convert image to uint8 prior to saving to suppress this warning.\n",
      "Lossy conversion from float32 to uint8. Range [0.0, 2.0]. Convert image to uint8 prior to saving to suppress this warning.\n",
      "Lossy conversion from float64 to uint8. Range [0, 1]. Convert image to uint8 prior to saving to suppress this warning.\n",
      "Clipping input data to the valid range for imshow with RGB data ([0..1] for floats or [0..255] for integers).\n",
      "Lossy conversion from float32 to uint8. Range [0.0, 255.0]. Convert image to uint8 prior to saving to suppress this warning.\n",
      "Lossy conversion from float32 to uint8. Range [0.0, 2.0]. Convert image to uint8 prior to saving to suppress this warning.\n",
      "Lossy conversion from float64 to uint8. Range [0, 1]. Convert image to uint8 prior to saving to suppress this warning.\n",
      "Clipping input data to the valid range for imshow with RGB data ([0..1] for floats or [0..255] for integers).\n",
      "Lossy conversion from float32 to uint8. Range [0.0, 255.0]. Convert image to uint8 prior to saving to suppress this warning.\n",
      "Lossy conversion from float32 to uint8. Range [0.0, 2.0]. Convert image to uint8 prior to saving to suppress this warning.\n",
      "Lossy conversion from float64 to uint8. Range [0, 1]. Convert image to uint8 prior to saving to suppress this warning.\n",
      "Clipping input data to the valid range for imshow with RGB data ([0..1] for floats or [0..255] for integers).\n"
     ]
    },
    {
     "name": "stdout",
     "output_type": "stream",
     "text": [
      "[INFO] Epoch 165 loss tf.Tensor(4.339206, shape=(), dtype=float32) roomTypeLoss: tf.Tensor(2.5692909, shape=(), dtype=float32) roomBoundLosstf.Tensor(6.109122, shape=(), dtype=float32)\n"
     ]
    },
    {
     "name": "stderr",
     "output_type": "stream",
     "text": [
      "Lossy conversion from float32 to uint8. Range [0.0, 255.0]. Convert image to uint8 prior to saving to suppress this warning.\n",
      "/d2/studies/TF2DeepFloorplan/train.py:95: UserWarning: /d2/studies/TF2DeepFloorplan/./outJan11_TFR4/46678955_rooms.png is a low contrast image\n",
      "  imsave(os.path.join(os.getcwd(), outdir + '/' + str(pltiter) + '_rooms.png'), r)\n",
      "Lossy conversion from float32 to uint8. Range [0.0, 2.0]. Convert image to uint8 prior to saving to suppress this warning.\n",
      "/d2/studies/TF2DeepFloorplan/train.py:99: UserWarning: /d2/studies/TF2DeepFloorplan/./outJan11_TFR4/46678955_rooms_pred.png is a low contrast image\n",
      "  imsave(os.path.join(os.getcwd(), outdir + '/' + str(pltiter) + '_rooms_pred.png'), img_as_float(lr))\n",
      "Lossy conversion from float64 to uint8. Range [0, 1]. Convert image to uint8 prior to saving to suppress this warning.\n",
      "Clipping input data to the valid range for imshow with RGB data ([0..1] for floats or [0..255] for integers).\n",
      "Lossy conversion from float32 to uint8. Range [0.0, 255.0]. Convert image to uint8 prior to saving to suppress this warning.\n",
      "Lossy conversion from float32 to uint8. Range [0.0, 2.0]. Convert image to uint8 prior to saving to suppress this warning.\n",
      "Lossy conversion from float64 to uint8. Range [0, 1]. Convert image to uint8 prior to saving to suppress this warning.\n",
      "Clipping input data to the valid range for imshow with RGB data ([0..1] for floats or [0..255] for integers).\n",
      "Lossy conversion from float32 to uint8. Range [0.0, 255.0]. Convert image to uint8 prior to saving to suppress this warning.\n",
      "Lossy conversion from float32 to uint8. Range [0.0, 2.0]. Convert image to uint8 prior to saving to suppress this warning.\n",
      "Lossy conversion from float64 to uint8. Range [0, 1]. Convert image to uint8 prior to saving to suppress this warning.\n",
      "Clipping input data to the valid range for imshow with RGB data ([0..1] for floats or [0..255] for integers).\n"
     ]
    },
    {
     "name": "stdout",
     "output_type": "stream",
     "text": [
      "[INFO] Epoch 166 loss tf.Tensor(7.470578, shape=(), dtype=float32) roomTypeLoss: tf.Tensor(3.2861626, shape=(), dtype=float32) roomBoundLosstf.Tensor(11.654994, shape=(), dtype=float32)\n"
     ]
    },
    {
     "name": "stderr",
     "output_type": "stream",
     "text": [
      "Lossy conversion from float32 to uint8. Range [0.0, 253.0]. Convert image to uint8 prior to saving to suppress this warning.\n",
      "Lossy conversion from float32 to uint8. Range [0.0, 2.0]. Convert image to uint8 prior to saving to suppress this warning.\n",
      "Lossy conversion from float64 to uint8. Range [0, 1]. Convert image to uint8 prior to saving to suppress this warning.\n",
      "Clipping input data to the valid range for imshow with RGB data ([0..1] for floats or [0..255] for integers).\n",
      "Lossy conversion from float32 to uint8. Range [0.0, 255.0]. Convert image to uint8 prior to saving to suppress this warning.\n",
      "Lossy conversion from float32 to uint8. Range [0.0, 2.0]. Convert image to uint8 prior to saving to suppress this warning.\n",
      "Lossy conversion from float64 to uint8. Range [0, 1]. Convert image to uint8 prior to saving to suppress this warning.\n",
      "Clipping input data to the valid range for imshow with RGB data ([0..1] for floats or [0..255] for integers).\n",
      "Lossy conversion from float32 to uint8. Range [13.0, 255.0]. Convert image to uint8 prior to saving to suppress this warning.\n",
      "Lossy conversion from float32 to uint8. Range [0.0, 2.0]. Convert image to uint8 prior to saving to suppress this warning.\n",
      "Lossy conversion from float64 to uint8. Range [0, 1]. Convert image to uint8 prior to saving to suppress this warning.\n",
      "Clipping input data to the valid range for imshow with RGB data ([0..1] for floats or [0..255] for integers).\n",
      "Lossy conversion from float32 to uint8. Range [0.0, 255.0]. Convert image to uint8 prior to saving to suppress this warning.\n",
      "Lossy conversion from float32 to uint8. Range [0.0, 2.0]. Convert image to uint8 prior to saving to suppress this warning.\n",
      "Lossy conversion from float64 to uint8. Range [0, 1]. Convert image to uint8 prior to saving to suppress this warning.\n",
      "Clipping input data to the valid range for imshow with RGB data ([0..1] for floats or [0..255] for integers).\n"
     ]
    },
    {
     "name": "stdout",
     "output_type": "stream",
     "text": [
      "[INFO] Epoch 167 loss tf.Tensor(3.0783784, shape=(), dtype=float32) roomTypeLoss: tf.Tensor(1.1327386, shape=(), dtype=float32) roomBoundLosstf.Tensor(5.0240183, shape=(), dtype=float32)\n"
     ]
    },
    {
     "name": "stderr",
     "output_type": "stream",
     "text": [
      "Lossy conversion from float32 to uint8. Range [0.0, 255.0]. Convert image to uint8 prior to saving to suppress this warning.\n",
      "Lossy conversion from float32 to uint8. Range [0.0, 2.0]. Convert image to uint8 prior to saving to suppress this warning.\n",
      "Lossy conversion from float64 to uint8. Range [0, 1]. Convert image to uint8 prior to saving to suppress this warning.\n",
      "Clipping input data to the valid range for imshow with RGB data ([0..1] for floats or [0..255] for integers).\n",
      "Lossy conversion from float32 to uint8. Range [0.0, 255.0]. Convert image to uint8 prior to saving to suppress this warning.\n",
      "Lossy conversion from float32 to uint8. Range [0.0, 2.0]. Convert image to uint8 prior to saving to suppress this warning.\n",
      "Lossy conversion from float64 to uint8. Range [0, 1]. Convert image to uint8 prior to saving to suppress this warning.\n",
      "Clipping input data to the valid range for imshow with RGB data ([0..1] for floats or [0..255] for integers).\n",
      "Lossy conversion from float32 to uint8. Range [0.0, 255.0]. Convert image to uint8 prior to saving to suppress this warning.\n",
      "Lossy conversion from float32 to uint8. Range [0.0, 2.0]. Convert image to uint8 prior to saving to suppress this warning.\n",
      "Lossy conversion from float64 to uint8. Range [0, 1]. Convert image to uint8 prior to saving to suppress this warning.\n",
      "Clipping input data to the valid range for imshow with RGB data ([0..1] for floats or [0..255] for integers).\n",
      "Lossy conversion from float32 to uint8. Range [0.0, 255.0]. Convert image to uint8 prior to saving to suppress this warning.\n",
      "Lossy conversion from float32 to uint8. Range [0.0, 2.0]. Convert image to uint8 prior to saving to suppress this warning.\n",
      "Lossy conversion from float64 to uint8. Range [0, 1]. Convert image to uint8 prior to saving to suppress this warning.\n",
      "Clipping input data to the valid range for imshow with RGB data ([0..1] for floats or [0..255] for integers).\n"
     ]
    },
    {
     "name": "stdout",
     "output_type": "stream",
     "text": [
      "[INFO] Epoch 168 loss tf.Tensor(4.010735, shape=(), dtype=float32) roomTypeLoss: tf.Tensor(2.2723897, shape=(), dtype=float32) roomBoundLosstf.Tensor(5.7490807, shape=(), dtype=float32)\n"
     ]
    },
    {
     "name": "stderr",
     "output_type": "stream",
     "text": [
      "Lossy conversion from float32 to uint8. Range [0.0, 255.0]. Convert image to uint8 prior to saving to suppress this warning.\n",
      "Lossy conversion from float32 to uint8. Range [0.0, 2.0]. Convert image to uint8 prior to saving to suppress this warning.\n",
      "Lossy conversion from float64 to uint8. Range [0, 1]. Convert image to uint8 prior to saving to suppress this warning.\n",
      "Clipping input data to the valid range for imshow with RGB data ([0..1] for floats or [0..255] for integers).\n",
      "Lossy conversion from float32 to uint8. Range [0.0, 255.0]. Convert image to uint8 prior to saving to suppress this warning.\n",
      "Lossy conversion from float32 to uint8. Range [0.0, 2.0]. Convert image to uint8 prior to saving to suppress this warning.\n",
      "Lossy conversion from float64 to uint8. Range [0, 1]. Convert image to uint8 prior to saving to suppress this warning.\n",
      "Clipping input data to the valid range for imshow with RGB data ([0..1] for floats or [0..255] for integers).\n",
      "Lossy conversion from float32 to uint8. Range [0.0, 255.0]. Convert image to uint8 prior to saving to suppress this warning.\n",
      "Lossy conversion from float32 to uint8. Range [0.0, 2.0]. Convert image to uint8 prior to saving to suppress this warning.\n",
      "Lossy conversion from float64 to uint8. Range [0, 1]. Convert image to uint8 prior to saving to suppress this warning.\n",
      "Clipping input data to the valid range for imshow with RGB data ([0..1] for floats or [0..255] for integers).\n"
     ]
    },
    {
     "name": "stdout",
     "output_type": "stream",
     "text": [
      "[INFO] Epoch 169 loss tf.Tensor(3.7938085, shape=(), dtype=float32) roomTypeLoss: tf.Tensor(2.5258358, shape=(), dtype=float32) roomBoundLosstf.Tensor(5.0617814, shape=(), dtype=float32)\n"
     ]
    },
    {
     "name": "stderr",
     "output_type": "stream",
     "text": [
      "Lossy conversion from float32 to uint8. Range [0.0, 255.0]. Convert image to uint8 prior to saving to suppress this warning.\n",
      "Lossy conversion from float32 to uint8. Range [0.0, 2.0]. Convert image to uint8 prior to saving to suppress this warning.\n",
      "Lossy conversion from float64 to uint8. Range [0, 1]. Convert image to uint8 prior to saving to suppress this warning.\n",
      "Clipping input data to the valid range for imshow with RGB data ([0..1] for floats or [0..255] for integers).\n",
      "Lossy conversion from float32 to uint8. Range [0.0, 255.0]. Convert image to uint8 prior to saving to suppress this warning.\n",
      "/d2/studies/TF2DeepFloorplan/train.py:95: UserWarning: /d2/studies/TF2DeepFloorplan/./outJan11_TFR4/31878855_rooms.png is a low contrast image\n",
      "  imsave(os.path.join(os.getcwd(), outdir + '/' + str(pltiter) + '_rooms.png'), r)\n",
      "Lossy conversion from float32 to uint8. Range [0.0, 2.0]. Convert image to uint8 prior to saving to suppress this warning.\n",
      "/d2/studies/TF2DeepFloorplan/train.py:99: UserWarning: /d2/studies/TF2DeepFloorplan/./outJan11_TFR4/31878855_rooms_pred.png is a low contrast image\n",
      "  imsave(os.path.join(os.getcwd(), outdir + '/' + str(pltiter) + '_rooms_pred.png'), img_as_float(lr))\n",
      "Lossy conversion from float64 to uint8. Range [0, 1]. Convert image to uint8 prior to saving to suppress this warning.\n",
      "Clipping input data to the valid range for imshow with RGB data ([0..1] for floats or [0..255] for integers).\n",
      "Lossy conversion from float32 to uint8. Range [0.0, 255.0]. Convert image to uint8 prior to saving to suppress this warning.\n",
      "Lossy conversion from float32 to uint8. Range [0.0, 2.0]. Convert image to uint8 prior to saving to suppress this warning.\n",
      "Lossy conversion from float64 to uint8. Range [0, 1]. Convert image to uint8 prior to saving to suppress this warning.\n",
      "Clipping input data to the valid range for imshow with RGB data ([0..1] for floats or [0..255] for integers).\n",
      "Lossy conversion from float32 to uint8. Range [0.0, 255.0]. Convert image to uint8 prior to saving to suppress this warning.\n",
      "Lossy conversion from float32 to uint8. Range [0.0, 2.0]. Convert image to uint8 prior to saving to suppress this warning.\n",
      "Lossy conversion from float64 to uint8. Range [0, 1]. Convert image to uint8 prior to saving to suppress this warning.\n",
      "Clipping input data to the valid range for imshow with RGB data ([0..1] for floats or [0..255] for integers).\n"
     ]
    },
    {
     "name": "stdout",
     "output_type": "stream",
     "text": [
      "[INFO] Epoch 170 loss tf.Tensor(6.1035814, shape=(), dtype=float32) roomTypeLoss: tf.Tensor(3.733273, shape=(), dtype=float32) roomBoundLosstf.Tensor(8.47389, shape=(), dtype=float32)\n"
     ]
    },
    {
     "name": "stderr",
     "output_type": "stream",
     "text": [
      "Lossy conversion from float32 to uint8. Range [0.0, 255.0]. Convert image to uint8 prior to saving to suppress this warning.\n",
      "Lossy conversion from float32 to uint8. Range [0.0, 2.0]. Convert image to uint8 prior to saving to suppress this warning.\n",
      "Lossy conversion from float64 to uint8. Range [0, 1]. Convert image to uint8 prior to saving to suppress this warning.\n",
      "Clipping input data to the valid range for imshow with RGB data ([0..1] for floats or [0..255] for integers).\n",
      "Lossy conversion from float32 to uint8. Range [6.0, 255.0]. Convert image to uint8 prior to saving to suppress this warning.\n",
      "Lossy conversion from float32 to uint8. Range [0.0, 2.0]. Convert image to uint8 prior to saving to suppress this warning.\n",
      "Lossy conversion from float64 to uint8. Range [0, 1]. Convert image to uint8 prior to saving to suppress this warning.\n",
      "Clipping input data to the valid range for imshow with RGB data ([0..1] for floats or [0..255] for integers).\n",
      "Lossy conversion from float32 to uint8. Range [0.0, 255.0]. Convert image to uint8 prior to saving to suppress this warning.\n",
      "Lossy conversion from float32 to uint8. Range [0.0, 2.0]. Convert image to uint8 prior to saving to suppress this warning.\n",
      "Lossy conversion from float64 to uint8. Range [0, 1]. Convert image to uint8 prior to saving to suppress this warning.\n",
      "Clipping input data to the valid range for imshow with RGB data ([0..1] for floats or [0..255] for integers).\n"
     ]
    },
    {
     "name": "stdout",
     "output_type": "stream",
     "text": [
      "[INFO] Epoch 171 loss tf.Tensor(4.4568048, shape=(), dtype=float32) roomTypeLoss: tf.Tensor(1.9530882, shape=(), dtype=float32) roomBoundLosstf.Tensor(6.9605217, shape=(), dtype=float32)\n"
     ]
    },
    {
     "name": "stderr",
     "output_type": "stream",
     "text": [
      "Lossy conversion from float32 to uint8. Range [0.0, 255.0]. Convert image to uint8 prior to saving to suppress this warning.\n",
      "Lossy conversion from float32 to uint8. Range [0.0, 2.0]. Convert image to uint8 prior to saving to suppress this warning.\n",
      "Lossy conversion from float64 to uint8. Range [0, 1]. Convert image to uint8 prior to saving to suppress this warning.\n",
      "Clipping input data to the valid range for imshow with RGB data ([0..1] for floats or [0..255] for integers).\n",
      "Lossy conversion from float32 to uint8. Range [0.0, 255.0]. Convert image to uint8 prior to saving to suppress this warning.\n",
      "Lossy conversion from float32 to uint8. Range [0.0, 2.0]. Convert image to uint8 prior to saving to suppress this warning.\n",
      "Lossy conversion from float64 to uint8. Range [0, 1]. Convert image to uint8 prior to saving to suppress this warning.\n",
      "Clipping input data to the valid range for imshow with RGB data ([0..1] for floats or [0..255] for integers).\n",
      "Lossy conversion from float32 to uint8. Range [0.0, 255.0]. Convert image to uint8 prior to saving to suppress this warning.\n",
      "Lossy conversion from float32 to uint8. Range [0.0, 2.0]. Convert image to uint8 prior to saving to suppress this warning.\n",
      "Lossy conversion from float64 to uint8. Range [0, 1]. Convert image to uint8 prior to saving to suppress this warning.\n",
      "Clipping input data to the valid range for imshow with RGB data ([0..1] for floats or [0..255] for integers).\n",
      "Lossy conversion from float32 to uint8. Range [0.0, 255.0]. Convert image to uint8 prior to saving to suppress this warning.\n",
      "/d2/studies/TF2DeepFloorplan/train.py:95: UserWarning: /d2/studies/TF2DeepFloorplan/./outJan11_TFR4/45741127_rooms.png is a low contrast image\n",
      "  imsave(os.path.join(os.getcwd(), outdir + '/' + str(pltiter) + '_rooms.png'), r)\n",
      "Lossy conversion from float32 to uint8. Range [0.0, 2.0]. Convert image to uint8 prior to saving to suppress this warning.\n",
      "/d2/studies/TF2DeepFloorplan/train.py:99: UserWarning: /d2/studies/TF2DeepFloorplan/./outJan11_TFR4/45741127_rooms_pred.png is a low contrast image\n",
      "  imsave(os.path.join(os.getcwd(), outdir + '/' + str(pltiter) + '_rooms_pred.png'), img_as_float(lr))\n",
      "Lossy conversion from float64 to uint8. Range [0, 1]. Convert image to uint8 prior to saving to suppress this warning.\n",
      "Clipping input data to the valid range for imshow with RGB data ([0..1] for floats or [0..255] for integers).\n"
     ]
    },
    {
     "name": "stdout",
     "output_type": "stream",
     "text": [
      "[INFO] Epoch 172 loss tf.Tensor(3.9195333, shape=(), dtype=float32) roomTypeLoss: tf.Tensor(2.5258358, shape=(), dtype=float32) roomBoundLosstf.Tensor(5.313231, shape=(), dtype=float32)\n"
     ]
    },
    {
     "name": "stderr",
     "output_type": "stream",
     "text": [
      "Lossy conversion from float32 to uint8. Range [0.0, 255.0]. Convert image to uint8 prior to saving to suppress this warning.\n",
      "Lossy conversion from float32 to uint8. Range [0.0, 2.0]. Convert image to uint8 prior to saving to suppress this warning.\n",
      "Lossy conversion from float64 to uint8. Range [0, 1]. Convert image to uint8 prior to saving to suppress this warning.\n",
      "Clipping input data to the valid range for imshow with RGB data ([0..1] for floats or [0..255] for integers).\n",
      "Lossy conversion from float32 to uint8. Range [0.0, 253.0]. Convert image to uint8 prior to saving to suppress this warning.\n",
      "Lossy conversion from float32 to uint8. Range [0.0, 2.0]. Convert image to uint8 prior to saving to suppress this warning.\n",
      "Lossy conversion from float64 to uint8. Range [0, 1]. Convert image to uint8 prior to saving to suppress this warning.\n",
      "Clipping input data to the valid range for imshow with RGB data ([0..1] for floats or [0..255] for integers).\n",
      "Lossy conversion from float32 to uint8. Range [0.0, 255.0]. Convert image to uint8 prior to saving to suppress this warning.\n",
      "Lossy conversion from float32 to uint8. Range [0.0, 2.0]. Convert image to uint8 prior to saving to suppress this warning.\n",
      "Lossy conversion from float64 to uint8. Range [0, 1]. Convert image to uint8 prior to saving to suppress this warning.\n",
      "Clipping input data to the valid range for imshow with RGB data ([0..1] for floats or [0..255] for integers).\n"
     ]
    },
    {
     "name": "stdout",
     "output_type": "stream",
     "text": [
      "[INFO] Epoch 173 loss tf.Tensor(7.1106462, shape=(), dtype=float32) roomTypeLoss: tf.Tensor(2.9233766, shape=(), dtype=float32) roomBoundLosstf.Tensor(11.297916, shape=(), dtype=float32)\n"
     ]
    },
    {
     "name": "stderr",
     "output_type": "stream",
     "text": [
      "Lossy conversion from float32 to uint8. Range [0.0, 255.0]. Convert image to uint8 prior to saving to suppress this warning.\n",
      "Lossy conversion from float32 to uint8. Range [0.0, 2.0]. Convert image to uint8 prior to saving to suppress this warning.\n",
      "Lossy conversion from float64 to uint8. Range [0, 1]. Convert image to uint8 prior to saving to suppress this warning.\n",
      "Clipping input data to the valid range for imshow with RGB data ([0..1] for floats or [0..255] for integers).\n",
      "Lossy conversion from float32 to uint8. Range [0.0, 255.0]. Convert image to uint8 prior to saving to suppress this warning.\n",
      "Lossy conversion from float32 to uint8. Range [0.0, 2.0]. Convert image to uint8 prior to saving to suppress this warning.\n",
      "Lossy conversion from float64 to uint8. Range [0, 1]. Convert image to uint8 prior to saving to suppress this warning.\n",
      "Clipping input data to the valid range for imshow with RGB data ([0..1] for floats or [0..255] for integers).\n",
      "Lossy conversion from float32 to uint8. Range [0.0, 255.0]. Convert image to uint8 prior to saving to suppress this warning.\n",
      "Lossy conversion from float32 to uint8. Range [0.0, 2.0]. Convert image to uint8 prior to saving to suppress this warning.\n",
      "Lossy conversion from float64 to uint8. Range [0, 1]. Convert image to uint8 prior to saving to suppress this warning.\n",
      "Clipping input data to the valid range for imshow with RGB data ([0..1] for floats or [0..255] for integers).\n",
      "Lossy conversion from float32 to uint8. Range [0.0, 240.0]. Convert image to uint8 prior to saving to suppress this warning.\n",
      "Lossy conversion from float32 to uint8. Range [0.0, 2.0]. Convert image to uint8 prior to saving to suppress this warning.\n",
      "Lossy conversion from float64 to uint8. Range [0, 1]. Convert image to uint8 prior to saving to suppress this warning.\n",
      "Clipping input data to the valid range for imshow with RGB data ([0..1] for floats or [0..255] for integers).\n"
     ]
    },
    {
     "name": "stdout",
     "output_type": "stream",
     "text": [
      "[INFO] Epoch 174 loss tf.Tensor(3.7745528, shape=(), dtype=float32) roomTypeLoss: tf.Tensor(2.3076217, shape=(), dtype=float32) roomBoundLosstf.Tensor(5.241484, shape=(), dtype=float32)\n"
     ]
    },
    {
     "name": "stderr",
     "output_type": "stream",
     "text": [
      "Lossy conversion from float32 to uint8. Range [0.0, 255.0]. Convert image to uint8 prior to saving to suppress this warning.\n",
      "Lossy conversion from float32 to uint8. Range [0.0, 2.0]. Convert image to uint8 prior to saving to suppress this warning.\n",
      "Lossy conversion from float64 to uint8. Range [0, 1]. Convert image to uint8 prior to saving to suppress this warning.\n",
      "Clipping input data to the valid range for imshow with RGB data ([0..1] for floats or [0..255] for integers).\n",
      "Lossy conversion from float32 to uint8. Range [0.0, 255.0]. Convert image to uint8 prior to saving to suppress this warning.\n",
      "Lossy conversion from float32 to uint8. Range [0.0, 2.0]. Convert image to uint8 prior to saving to suppress this warning.\n",
      "Lossy conversion from float64 to uint8. Range [0, 1]. Convert image to uint8 prior to saving to suppress this warning.\n",
      "Clipping input data to the valid range for imshow with RGB data ([0..1] for floats or [0..255] for integers).\n",
      "Lossy conversion from float32 to uint8. Range [0.0, 255.0]. Convert image to uint8 prior to saving to suppress this warning.\n",
      "Lossy conversion from float32 to uint8. Range [0.0, 2.0]. Convert image to uint8 prior to saving to suppress this warning.\n",
      "Lossy conversion from float64 to uint8. Range [0, 1]. Convert image to uint8 prior to saving to suppress this warning.\n",
      "Clipping input data to the valid range for imshow with RGB data ([0..1] for floats or [0..255] for integers).\n",
      "Lossy conversion from float32 to uint8. Range [0.0, 255.0]. Convert image to uint8 prior to saving to suppress this warning.\n",
      "Lossy conversion from float32 to uint8. Range [0.0, 2.0]. Convert image to uint8 prior to saving to suppress this warning.\n",
      "Lossy conversion from float64 to uint8. Range [0, 1]. Convert image to uint8 prior to saving to suppress this warning.\n",
      "Clipping input data to the valid range for imshow with RGB data ([0..1] for floats or [0..255] for integers).\n"
     ]
    },
    {
     "name": "stdout",
     "output_type": "stream",
     "text": [
      "[INFO] Epoch 175 loss tf.Tensor(9.493597, shape=(), dtype=float32) roomTypeLoss: tf.Tensor(5.7156935, shape=(), dtype=float32) roomBoundLosstf.Tensor(13.2715, shape=(), dtype=float32)\n"
     ]
    },
    {
     "name": "stderr",
     "output_type": "stream",
     "text": [
      "Lossy conversion from float32 to uint8. Range [0.0, 255.0]. Convert image to uint8 prior to saving to suppress this warning.\n",
      "Lossy conversion from float32 to uint8. Range [0.0, 2.0]. Convert image to uint8 prior to saving to suppress this warning.\n",
      "Lossy conversion from float64 to uint8. Range [0, 1]. Convert image to uint8 prior to saving to suppress this warning.\n",
      "Clipping input data to the valid range for imshow with RGB data ([0..1] for floats or [0..255] for integers).\n",
      "Lossy conversion from float32 to uint8. Range [0.0, 253.0]. Convert image to uint8 prior to saving to suppress this warning.\n",
      "Lossy conversion from float32 to uint8. Range [0.0, 2.0]. Convert image to uint8 prior to saving to suppress this warning.\n",
      "Lossy conversion from float64 to uint8. Range [0, 1]. Convert image to uint8 prior to saving to suppress this warning.\n",
      "Clipping input data to the valid range for imshow with RGB data ([0..1] for floats or [0..255] for integers).\n",
      "Lossy conversion from float32 to uint8. Range [0.0, 255.0]. Convert image to uint8 prior to saving to suppress this warning.\n",
      "Lossy conversion from float32 to uint8. Range [0.0, 2.0]. Convert image to uint8 prior to saving to suppress this warning.\n",
      "Lossy conversion from float64 to uint8. Range [0, 1]. Convert image to uint8 prior to saving to suppress this warning.\n",
      "Clipping input data to the valid range for imshow with RGB data ([0..1] for floats or [0..255] for integers).\n"
     ]
    },
    {
     "name": "stdout",
     "output_type": "stream",
     "text": [
      "[INFO] Epoch 176 loss tf.Tensor(6.128655, shape=(), dtype=float32) roomTypeLoss: tf.Tensor(4.4700065, shape=(), dtype=float32) roomBoundLosstf.Tensor(7.7873034, shape=(), dtype=float32)\n"
     ]
    },
    {
     "name": "stderr",
     "output_type": "stream",
     "text": [
      "Lossy conversion from float32 to uint8. Range [0.0, 255.0]. Convert image to uint8 prior to saving to suppress this warning.\n",
      "Lossy conversion from float32 to uint8. Range [0.0, 2.0]. Convert image to uint8 prior to saving to suppress this warning.\n",
      "Lossy conversion from float64 to uint8. Range [0, 1]. Convert image to uint8 prior to saving to suppress this warning.\n",
      "Clipping input data to the valid range for imshow with RGB data ([0..1] for floats or [0..255] for integers).\n",
      "Lossy conversion from float32 to uint8. Range [0.0, 255.0]. Convert image to uint8 prior to saving to suppress this warning.\n",
      "Lossy conversion from float32 to uint8. Range [0.0, 2.0]. Convert image to uint8 prior to saving to suppress this warning.\n",
      "Lossy conversion from float64 to uint8. Range [0, 1]. Convert image to uint8 prior to saving to suppress this warning.\n",
      "Clipping input data to the valid range for imshow with RGB data ([0..1] for floats or [0..255] for integers).\n",
      "Lossy conversion from float32 to uint8. Range [0.0, 255.0]. Convert image to uint8 prior to saving to suppress this warning.\n",
      "Lossy conversion from float32 to uint8. Range [0.0, 2.0]. Convert image to uint8 prior to saving to suppress this warning.\n",
      "Lossy conversion from float64 to uint8. Range [0, 1]. Convert image to uint8 prior to saving to suppress this warning.\n",
      "Clipping input data to the valid range for imshow with RGB data ([0..1] for floats or [0..255] for integers).\n",
      "Lossy conversion from float32 to uint8. Range [0.0, 255.0]. Convert image to uint8 prior to saving to suppress this warning.\n",
      "Lossy conversion from float32 to uint8. Range [0.0, 2.0]. Convert image to uint8 prior to saving to suppress this warning.\n",
      "Lossy conversion from float64 to uint8. Range [0, 1]. Convert image to uint8 prior to saving to suppress this warning.\n",
      "Clipping input data to the valid range for imshow with RGB data ([0..1] for floats or [0..255] for integers).\n"
     ]
    },
    {
     "name": "stdout",
     "output_type": "stream",
     "text": [
      "[INFO] Epoch 177 loss tf.Tensor(3.2701135, shape=(), dtype=float32) roomTypeLoss: tf.Tensor(1.5552013, shape=(), dtype=float32) roomBoundLosstf.Tensor(4.985026, shape=(), dtype=float32)\n"
     ]
    },
    {
     "name": "stderr",
     "output_type": "stream",
     "text": [
      "Lossy conversion from float32 to uint8. Range [0.0, 255.0]. Convert image to uint8 prior to saving to suppress this warning.\n",
      "Lossy conversion from float32 to uint8. Range [0.0, 2.0]. Convert image to uint8 prior to saving to suppress this warning.\n",
      "Lossy conversion from float64 to uint8. Range [0, 1]. Convert image to uint8 prior to saving to suppress this warning.\n",
      "Clipping input data to the valid range for imshow with RGB data ([0..1] for floats or [0..255] for integers).\n",
      "Lossy conversion from float32 to uint8. Range [0.0, 255.0]. Convert image to uint8 prior to saving to suppress this warning.\n",
      "Lossy conversion from float32 to uint8. Range [0.0, 2.0]. Convert image to uint8 prior to saving to suppress this warning.\n",
      "Lossy conversion from float64 to uint8. Range [0, 1]. Convert image to uint8 prior to saving to suppress this warning.\n",
      "Clipping input data to the valid range for imshow with RGB data ([0..1] for floats or [0..255] for integers).\n",
      "Lossy conversion from float32 to uint8. Range [0.0, 255.0]. Convert image to uint8 prior to saving to suppress this warning.\n",
      "Lossy conversion from float32 to uint8. Range [0.0, 2.0]. Convert image to uint8 prior to saving to suppress this warning.\n",
      "Lossy conversion from float64 to uint8. Range [0, 1]. Convert image to uint8 prior to saving to suppress this warning.\n",
      "Clipping input data to the valid range for imshow with RGB data ([0..1] for floats or [0..255] for integers).\n"
     ]
    },
    {
     "name": "stdout",
     "output_type": "stream",
     "text": [
      "[INFO] Epoch 178 loss tf.Tensor(6.798212, shape=(), dtype=float32) roomTypeLoss: tf.Tensor(3.8244069, shape=(), dtype=float32) roomBoundLosstf.Tensor(9.7720175, shape=(), dtype=float32)\n"
     ]
    },
    {
     "name": "stderr",
     "output_type": "stream",
     "text": [
      "Lossy conversion from float32 to uint8. Range [0.0, 255.0]. Convert image to uint8 prior to saving to suppress this warning.\n",
      "Lossy conversion from float32 to uint8. Range [0.0, 2.0]. Convert image to uint8 prior to saving to suppress this warning.\n",
      "Lossy conversion from float64 to uint8. Range [0, 1]. Convert image to uint8 prior to saving to suppress this warning.\n",
      "Clipping input data to the valid range for imshow with RGB data ([0..1] for floats or [0..255] for integers).\n",
      "Lossy conversion from float32 to uint8. Range [0.0, 255.0]. Convert image to uint8 prior to saving to suppress this warning.\n",
      "Lossy conversion from float32 to uint8. Range [0.0, 2.0]. Convert image to uint8 prior to saving to suppress this warning.\n",
      "Lossy conversion from float64 to uint8. Range [0, 1]. Convert image to uint8 prior to saving to suppress this warning.\n",
      "Clipping input data to the valid range for imshow with RGB data ([0..1] for floats or [0..255] for integers).\n",
      "Lossy conversion from float32 to uint8. Range [4.0, 255.0]. Convert image to uint8 prior to saving to suppress this warning.\n",
      "Lossy conversion from float32 to uint8. Range [0.0, 2.0]. Convert image to uint8 prior to saving to suppress this warning.\n",
      "Lossy conversion from float64 to uint8. Range [0, 1]. Convert image to uint8 prior to saving to suppress this warning.\n",
      "Clipping input data to the valid range for imshow with RGB data ([0..1] for floats or [0..255] for integers).\n",
      "Lossy conversion from float32 to uint8. Range [0.0, 255.0]. Convert image to uint8 prior to saving to suppress this warning.\n",
      "Lossy conversion from float32 to uint8. Range [0.0, 2.0]. Convert image to uint8 prior to saving to suppress this warning.\n",
      "Lossy conversion from float64 to uint8. Range [0, 1]. Convert image to uint8 prior to saving to suppress this warning.\n",
      "Clipping input data to the valid range for imshow with RGB data ([0..1] for floats or [0..255] for integers).\n"
     ]
    },
    {
     "name": "stdout",
     "output_type": "stream",
     "text": [
      "[INFO] Epoch 179 loss tf.Tensor(6.9902177, shape=(), dtype=float32) roomTypeLoss: tf.Tensor(4.0107555, shape=(), dtype=float32) roomBoundLosstf.Tensor(9.96968, shape=(), dtype=float32)\n"
     ]
    },
    {
     "name": "stderr",
     "output_type": "stream",
     "text": [
      "Lossy conversion from float32 to uint8. Range [0.0, 255.0]. Convert image to uint8 prior to saving to suppress this warning.\n",
      "Lossy conversion from float32 to uint8. Range [0.0, 2.0]. Convert image to uint8 prior to saving to suppress this warning.\n",
      "Lossy conversion from float64 to uint8. Range [0, 1]. Convert image to uint8 prior to saving to suppress this warning.\n",
      "Clipping input data to the valid range for imshow with RGB data ([0..1] for floats or [0..255] for integers).\n",
      "Lossy conversion from float32 to uint8. Range [0.0, 255.0]. Convert image to uint8 prior to saving to suppress this warning.\n",
      "Lossy conversion from float32 to uint8. Range [0.0, 2.0]. Convert image to uint8 prior to saving to suppress this warning.\n",
      "Lossy conversion from float64 to uint8. Range [0, 1]. Convert image to uint8 prior to saving to suppress this warning.\n",
      "Clipping input data to the valid range for imshow with RGB data ([0..1] for floats or [0..255] for integers).\n",
      "Lossy conversion from float32 to uint8. Range [0.0, 255.0]. Convert image to uint8 prior to saving to suppress this warning.\n",
      "Lossy conversion from float32 to uint8. Range [0.0, 2.0]. Convert image to uint8 prior to saving to suppress this warning.\n",
      "Lossy conversion from float64 to uint8. Range [0, 1]. Convert image to uint8 prior to saving to suppress this warning.\n",
      "Clipping input data to the valid range for imshow with RGB data ([0..1] for floats or [0..255] for integers).\n"
     ]
    },
    {
     "name": "stdout",
     "output_type": "stream",
     "text": [
      "[INFO] Epoch 180 loss tf.Tensor(7.221832, shape=(), dtype=float32) roomTypeLoss: tf.Tensor(4.7378254, shape=(), dtype=float32) roomBoundLosstf.Tensor(9.705838, shape=(), dtype=float32)\n"
     ]
    },
    {
     "name": "stderr",
     "output_type": "stream",
     "text": [
      "Lossy conversion from float32 to uint8. Range [0.0, 255.0]. Convert image to uint8 prior to saving to suppress this warning.\n",
      "Lossy conversion from float32 to uint8. Range [0.0, 2.0]. Convert image to uint8 prior to saving to suppress this warning.\n",
      "Lossy conversion from float64 to uint8. Range [0, 1]. Convert image to uint8 prior to saving to suppress this warning.\n",
      "Clipping input data to the valid range for imshow with RGB data ([0..1] for floats or [0..255] for integers).\n",
      "Lossy conversion from float32 to uint8. Range [0.0, 255.0]. Convert image to uint8 prior to saving to suppress this warning.\n",
      "Lossy conversion from float32 to uint8. Range [0.0, 2.0]. Convert image to uint8 prior to saving to suppress this warning.\n",
      "Lossy conversion from float64 to uint8. Range [0, 1]. Convert image to uint8 prior to saving to suppress this warning.\n",
      "Clipping input data to the valid range for imshow with RGB data ([0..1] for floats or [0..255] for integers).\n",
      "Lossy conversion from float32 to uint8. Range [0.0, 255.0]. Convert image to uint8 prior to saving to suppress this warning.\n",
      "Lossy conversion from float32 to uint8. Range [0.0, 2.0]. Convert image to uint8 prior to saving to suppress this warning.\n",
      "Lossy conversion from float64 to uint8. Range [0, 1]. Convert image to uint8 prior to saving to suppress this warning.\n",
      "Clipping input data to the valid range for imshow with RGB data ([0..1] for floats or [0..255] for integers).\n",
      "Lossy conversion from float32 to uint8. Range [0.0, 255.0]. Convert image to uint8 prior to saving to suppress this warning.\n",
      "Lossy conversion from float32 to uint8. Range [0.0, 2.0]. Convert image to uint8 prior to saving to suppress this warning.\n",
      "Lossy conversion from float64 to uint8. Range [0, 1]. Convert image to uint8 prior to saving to suppress this warning.\n",
      "Clipping input data to the valid range for imshow with RGB data ([0..1] for floats or [0..255] for integers).\n"
     ]
    },
    {
     "name": "stdout",
     "output_type": "stream",
     "text": [
      "[INFO] Epoch 181 loss tf.Tensor(6.838109, shape=(), dtype=float32) roomTypeLoss: tf.Tensor(5.873742, shape=(), dtype=float32) roomBoundLosstf.Tensor(7.8024764, shape=(), dtype=float32)\n"
     ]
    },
    {
     "name": "stderr",
     "output_type": "stream",
     "text": [
      "Lossy conversion from float32 to uint8. Range [0.0, 255.0]. Convert image to uint8 prior to saving to suppress this warning.\n",
      "Lossy conversion from float32 to uint8. Range [0.0, 2.0]. Convert image to uint8 prior to saving to suppress this warning.\n",
      "Lossy conversion from float64 to uint8. Range [0, 1]. Convert image to uint8 prior to saving to suppress this warning.\n",
      "Clipping input data to the valid range for imshow with RGB data ([0..1] for floats or [0..255] for integers).\n",
      "Lossy conversion from float32 to uint8. Range [65.0, 255.0]. Convert image to uint8 prior to saving to suppress this warning.\n",
      "Lossy conversion from float32 to uint8. Range [0.0, 2.0]. Convert image to uint8 prior to saving to suppress this warning.\n",
      "Lossy conversion from float64 to uint8. Range [0, 1]. Convert image to uint8 prior to saving to suppress this warning.\n",
      "Clipping input data to the valid range for imshow with RGB data ([0..1] for floats or [0..255] for integers).\n",
      "Lossy conversion from float32 to uint8. Range [0.0, 255.0]. Convert image to uint8 prior to saving to suppress this warning.\n",
      "Lossy conversion from float32 to uint8. Range [0.0, 2.0]. Convert image to uint8 prior to saving to suppress this warning.\n",
      "Lossy conversion from float64 to uint8. Range [0, 1]. Convert image to uint8 prior to saving to suppress this warning.\n",
      "Clipping input data to the valid range for imshow with RGB data ([0..1] for floats or [0..255] for integers).\n",
      "Lossy conversion from float32 to uint8. Range [0.0, 255.0]. Convert image to uint8 prior to saving to suppress this warning.\n",
      "Lossy conversion from float32 to uint8. Range [0.0, 2.0]. Convert image to uint8 prior to saving to suppress this warning.\n",
      "Lossy conversion from float64 to uint8. Range [0, 1]. Convert image to uint8 prior to saving to suppress this warning.\n",
      "Clipping input data to the valid range for imshow with RGB data ([0..1] for floats or [0..255] for integers).\n"
     ]
    },
    {
     "name": "stdout",
     "output_type": "stream",
     "text": [
      "[INFO] Epoch 182 loss tf.Tensor(4.6885786, shape=(), dtype=float32) roomTypeLoss: tf.Tensor(3.314326, shape=(), dtype=float32) roomBoundLosstf.Tensor(6.0628314, shape=(), dtype=float32)\n"
     ]
    },
    {
     "name": "stderr",
     "output_type": "stream",
     "text": [
      "Lossy conversion from float32 to uint8. Range [0.0, 240.0]. Convert image to uint8 prior to saving to suppress this warning.\n",
      "Lossy conversion from float32 to uint8. Range [0.0, 2.0]. Convert image to uint8 prior to saving to suppress this warning.\n",
      "Lossy conversion from float64 to uint8. Range [0, 1]. Convert image to uint8 prior to saving to suppress this warning.\n",
      "Clipping input data to the valid range for imshow with RGB data ([0..1] for floats or [0..255] for integers).\n",
      "Lossy conversion from float32 to uint8. Range [0.0, 255.0]. Convert image to uint8 prior to saving to suppress this warning.\n",
      "Lossy conversion from float32 to uint8. Range [0.0, 2.0]. Convert image to uint8 prior to saving to suppress this warning.\n",
      "Lossy conversion from float64 to uint8. Range [0, 1]. Convert image to uint8 prior to saving to suppress this warning.\n",
      "Clipping input data to the valid range for imshow with RGB data ([0..1] for floats or [0..255] for integers).\n",
      "Lossy conversion from float32 to uint8. Range [0.0, 255.0]. Convert image to uint8 prior to saving to suppress this warning.\n",
      "Lossy conversion from float32 to uint8. Range [0.0, 2.0]. Convert image to uint8 prior to saving to suppress this warning.\n",
      "Lossy conversion from float64 to uint8. Range [0, 1]. Convert image to uint8 prior to saving to suppress this warning.\n",
      "Clipping input data to the valid range for imshow with RGB data ([0..1] for floats or [0..255] for integers).\n"
     ]
    },
    {
     "name": "stdout",
     "output_type": "stream",
     "text": [
      "[INFO] Epoch 183 loss tf.Tensor(8.672117, shape=(), dtype=float32) roomTypeLoss: tf.Tensor(5.0462346, shape=(), dtype=float32) roomBoundLosstf.Tensor(12.297999, shape=(), dtype=float32)\n"
     ]
    },
    {
     "name": "stderr",
     "output_type": "stream",
     "text": [
      "Lossy conversion from float32 to uint8. Range [0.0, 255.0]. Convert image to uint8 prior to saving to suppress this warning.\n",
      "Lossy conversion from float32 to uint8. Range [0.0, 2.0]. Convert image to uint8 prior to saving to suppress this warning.\n",
      "Lossy conversion from float64 to uint8. Range [0, 1]. Convert image to uint8 prior to saving to suppress this warning.\n",
      "Clipping input data to the valid range for imshow with RGB data ([0..1] for floats or [0..255] for integers).\n",
      "Lossy conversion from float32 to uint8. Range [0.0, 255.0]. Convert image to uint8 prior to saving to suppress this warning.\n",
      "Lossy conversion from float32 to uint8. Range [0.0, 2.0]. Convert image to uint8 prior to saving to suppress this warning.\n",
      "Lossy conversion from float64 to uint8. Range [0, 1]. Convert image to uint8 prior to saving to suppress this warning.\n",
      "Clipping input data to the valid range for imshow with RGB data ([0..1] for floats or [0..255] for integers).\n",
      "Lossy conversion from float32 to uint8. Range [0.0, 255.0]. Convert image to uint8 prior to saving to suppress this warning.\n",
      "Lossy conversion from float32 to uint8. Range [0.0, 2.0]. Convert image to uint8 prior to saving to suppress this warning.\n",
      "Lossy conversion from float64 to uint8. Range [0, 1]. Convert image to uint8 prior to saving to suppress this warning.\n",
      "Clipping input data to the valid range for imshow with RGB data ([0..1] for floats or [0..255] for integers).\n",
      "Lossy conversion from float32 to uint8. Range [0.0, 255.0]. Convert image to uint8 prior to saving to suppress this warning.\n",
      "Lossy conversion from float32 to uint8. Range [0.0, 2.0]. Convert image to uint8 prior to saving to suppress this warning.\n",
      "Lossy conversion from float64 to uint8. Range [0, 1]. Convert image to uint8 prior to saving to suppress this warning.\n",
      "Clipping input data to the valid range for imshow with RGB data ([0..1] for floats or [0..255] for integers).\n"
     ]
    },
    {
     "name": "stdout",
     "output_type": "stream",
     "text": [
      "[INFO] Epoch 184 loss tf.Tensor(4.823673, shape=(), dtype=float32) roomTypeLoss: tf.Tensor(3.1604316, shape=(), dtype=float32) roomBoundLosstf.Tensor(6.4869137, shape=(), dtype=float32)\n"
     ]
    },
    {
     "name": "stderr",
     "output_type": "stream",
     "text": [
      "Lossy conversion from float32 to uint8. Range [0.0, 255.0]. Convert image to uint8 prior to saving to suppress this warning.\n",
      "/d2/studies/TF2DeepFloorplan/train.py:95: UserWarning: /d2/studies/TF2DeepFloorplan/./outJan11_TFR4/31883034_rooms.png is a low contrast image\n",
      "  imsave(os.path.join(os.getcwd(), outdir + '/' + str(pltiter) + '_rooms.png'), r)\n",
      "Lossy conversion from float32 to uint8. Range [0.0, 2.0]. Convert image to uint8 prior to saving to suppress this warning.\n",
      "/d2/studies/TF2DeepFloorplan/train.py:99: UserWarning: /d2/studies/TF2DeepFloorplan/./outJan11_TFR4/31883034_rooms_pred.png is a low contrast image\n",
      "  imsave(os.path.join(os.getcwd(), outdir + '/' + str(pltiter) + '_rooms_pred.png'), img_as_float(lr))\n",
      "Lossy conversion from float64 to uint8. Range [0, 1]. Convert image to uint8 prior to saving to suppress this warning.\n",
      "Clipping input data to the valid range for imshow with RGB data ([0..1] for floats or [0..255] for integers).\n",
      "Lossy conversion from float32 to uint8. Range [0.0, 255.0]. Convert image to uint8 prior to saving to suppress this warning.\n",
      "Lossy conversion from float32 to uint8. Range [0.0, 2.0]. Convert image to uint8 prior to saving to suppress this warning.\n",
      "Lossy conversion from float64 to uint8. Range [0, 1]. Convert image to uint8 prior to saving to suppress this warning.\n",
      "Clipping input data to the valid range for imshow with RGB data ([0..1] for floats or [0..255] for integers).\n",
      "Lossy conversion from float32 to uint8. Range [13.0, 255.0]. Convert image to uint8 prior to saving to suppress this warning.\n",
      "Lossy conversion from float32 to uint8. Range [0.0, 2.0]. Convert image to uint8 prior to saving to suppress this warning.\n",
      "Lossy conversion from float64 to uint8. Range [0, 1]. Convert image to uint8 prior to saving to suppress this warning.\n",
      "Clipping input data to the valid range for imshow with RGB data ([0..1] for floats or [0..255] for integers).\n"
     ]
    },
    {
     "name": "stdout",
     "output_type": "stream",
     "text": [
      "[INFO] Epoch 185 loss tf.Tensor(6.70872, shape=(), dtype=float32) roomTypeLoss: tf.Tensor(4.0872564, shape=(), dtype=float32) roomBoundLosstf.Tensor(9.330184, shape=(), dtype=float32)\n"
     ]
    },
    {
     "name": "stderr",
     "output_type": "stream",
     "text": [
      "Lossy conversion from float32 to uint8. Range [0.0, 255.0]. Convert image to uint8 prior to saving to suppress this warning.\n",
      "Lossy conversion from float32 to uint8. Range [0.0, 2.0]. Convert image to uint8 prior to saving to suppress this warning.\n",
      "Lossy conversion from float64 to uint8. Range [0, 1]. Convert image to uint8 prior to saving to suppress this warning.\n",
      "Clipping input data to the valid range for imshow with RGB data ([0..1] for floats or [0..255] for integers).\n",
      "Lossy conversion from float32 to uint8. Range [0.0, 255.0]. Convert image to uint8 prior to saving to suppress this warning.\n",
      "Lossy conversion from float32 to uint8. Range [0.0, 2.0]. Convert image to uint8 prior to saving to suppress this warning.\n",
      "Lossy conversion from float64 to uint8. Range [0, 1]. Convert image to uint8 prior to saving to suppress this warning.\n",
      "Clipping input data to the valid range for imshow with RGB data ([0..1] for floats or [0..255] for integers).\n",
      "Lossy conversion from float32 to uint8. Range [0.0, 255.0]. Convert image to uint8 prior to saving to suppress this warning.\n",
      "Lossy conversion from float32 to uint8. Range [0.0, 2.0]. Convert image to uint8 prior to saving to suppress this warning.\n",
      "Lossy conversion from float64 to uint8. Range [0, 1]. Convert image to uint8 prior to saving to suppress this warning.\n",
      "Clipping input data to the valid range for imshow with RGB data ([0..1] for floats or [0..255] for integers).\n",
      "Lossy conversion from float32 to uint8. Range [0.0, 255.0]. Convert image to uint8 prior to saving to suppress this warning.\n",
      "Lossy conversion from float32 to uint8. Range [0.0, 2.0]. Convert image to uint8 prior to saving to suppress this warning.\n",
      "Lossy conversion from float64 to uint8. Range [0, 1]. Convert image to uint8 prior to saving to suppress this warning.\n",
      "Clipping input data to the valid range for imshow with RGB data ([0..1] for floats or [0..255] for integers).\n"
     ]
    },
    {
     "name": "stdout",
     "output_type": "stream",
     "text": [
      "[INFO] Epoch 186 loss tf.Tensor(7.5322146, shape=(), dtype=float32) roomTypeLoss: tf.Tensor(3.2861626, shape=(), dtype=float32) roomBoundLosstf.Tensor(11.778267, shape=(), dtype=float32)\n"
     ]
    },
    {
     "name": "stderr",
     "output_type": "stream",
     "text": [
      "Lossy conversion from float32 to uint8. Range [0.0, 255.0]. Convert image to uint8 prior to saving to suppress this warning.\n",
      "Lossy conversion from float32 to uint8. Range [0.0, 2.0]. Convert image to uint8 prior to saving to suppress this warning.\n",
      "Lossy conversion from float64 to uint8. Range [0, 1]. Convert image to uint8 prior to saving to suppress this warning.\n",
      "Clipping input data to the valid range for imshow with RGB data ([0..1] for floats or [0..255] for integers).\n",
      "Lossy conversion from float32 to uint8. Range [0.0, 253.0]. Convert image to uint8 prior to saving to suppress this warning.\n",
      "Lossy conversion from float32 to uint8. Range [0.0, 2.0]. Convert image to uint8 prior to saving to suppress this warning.\n",
      "Lossy conversion from float64 to uint8. Range [0, 1]. Convert image to uint8 prior to saving to suppress this warning.\n",
      "Clipping input data to the valid range for imshow with RGB data ([0..1] for floats or [0..255] for integers).\n",
      "Lossy conversion from float32 to uint8. Range [0.0, 255.0]. Convert image to uint8 prior to saving to suppress this warning.\n",
      "Lossy conversion from float32 to uint8. Range [0.0, 2.0]. Convert image to uint8 prior to saving to suppress this warning.\n",
      "Lossy conversion from float64 to uint8. Range [0, 1]. Convert image to uint8 prior to saving to suppress this warning.\n",
      "Clipping input data to the valid range for imshow with RGB data ([0..1] for floats or [0..255] for integers).\n",
      "Lossy conversion from float32 to uint8. Range [0.0, 255.0]. Convert image to uint8 prior to saving to suppress this warning.\n",
      "Lossy conversion from float32 to uint8. Range [0.0, 2.0]. Convert image to uint8 prior to saving to suppress this warning.\n",
      "Lossy conversion from float64 to uint8. Range [0, 1]. Convert image to uint8 prior to saving to suppress this warning.\n",
      "Clipping input data to the valid range for imshow with RGB data ([0..1] for floats or [0..255] for integers).\n"
     ]
    },
    {
     "name": "stdout",
     "output_type": "stream",
     "text": [
      "[INFO] Epoch 187 loss tf.Tensor(2.5145237, shape=(), dtype=float32) roomTypeLoss: tf.Tensor(1.1170777, shape=(), dtype=float32) roomBoundLosstf.Tensor(3.91197, shape=(), dtype=float32)\n"
     ]
    },
    {
     "name": "stderr",
     "output_type": "stream",
     "text": [
      "Lossy conversion from float32 to uint8. Range [0.0, 255.0]. Convert image to uint8 prior to saving to suppress this warning.\n",
      "Lossy conversion from float32 to uint8. Range [0.0, 2.0]. Convert image to uint8 prior to saving to suppress this warning.\n",
      "Lossy conversion from float64 to uint8. Range [0, 1]. Convert image to uint8 prior to saving to suppress this warning.\n",
      "Clipping input data to the valid range for imshow with RGB data ([0..1] for floats or [0..255] for integers).\n",
      "Lossy conversion from float32 to uint8. Range [0.0, 255.0]. Convert image to uint8 prior to saving to suppress this warning.\n",
      "Lossy conversion from float32 to uint8. Range [0.0, 2.0]. Convert image to uint8 prior to saving to suppress this warning.\n",
      "Lossy conversion from float64 to uint8. Range [0, 1]. Convert image to uint8 prior to saving to suppress this warning.\n",
      "Clipping input data to the valid range for imshow with RGB data ([0..1] for floats or [0..255] for integers).\n",
      "Lossy conversion from float32 to uint8. Range [11.0, 255.0]. Convert image to uint8 prior to saving to suppress this warning.\n",
      "Lossy conversion from float32 to uint8. Range [0.0, 2.0]. Convert image to uint8 prior to saving to suppress this warning.\n",
      "Lossy conversion from float64 to uint8. Range [0, 1]. Convert image to uint8 prior to saving to suppress this warning.\n",
      "Clipping input data to the valid range for imshow with RGB data ([0..1] for floats or [0..255] for integers).\n"
     ]
    },
    {
     "name": "stdout",
     "output_type": "stream",
     "text": [
      "[INFO] Epoch 188 loss tf.Tensor(5.5922284, shape=(), dtype=float32) roomTypeLoss: tf.Tensor(3.4348783, shape=(), dtype=float32) roomBoundLosstf.Tensor(7.7495785, shape=(), dtype=float32)\n"
     ]
    },
    {
     "name": "stderr",
     "output_type": "stream",
     "text": [
      "Lossy conversion from float32 to uint8. Range [0.0, 255.0]. Convert image to uint8 prior to saving to suppress this warning.\n",
      "Lossy conversion from float32 to uint8. Range [0.0, 2.0]. Convert image to uint8 prior to saving to suppress this warning.\n",
      "Lossy conversion from float64 to uint8. Range [0, 1]. Convert image to uint8 prior to saving to suppress this warning.\n",
      "Clipping input data to the valid range for imshow with RGB data ([0..1] for floats or [0..255] for integers).\n",
      "Lossy conversion from float32 to uint8. Range [0.0, 255.0]. Convert image to uint8 prior to saving to suppress this warning.\n",
      "Lossy conversion from float32 to uint8. Range [0.0, 2.0]. Convert image to uint8 prior to saving to suppress this warning.\n",
      "Lossy conversion from float64 to uint8. Range [0, 1]. Convert image to uint8 prior to saving to suppress this warning.\n",
      "Clipping input data to the valid range for imshow with RGB data ([0..1] for floats or [0..255] for integers).\n",
      "Lossy conversion from float32 to uint8. Range [0.0, 255.0]. Convert image to uint8 prior to saving to suppress this warning.\n",
      "Lossy conversion from float32 to uint8. Range [0.0, 2.0]. Convert image to uint8 prior to saving to suppress this warning.\n",
      "Lossy conversion from float64 to uint8. Range [0, 1]. Convert image to uint8 prior to saving to suppress this warning.\n",
      "Clipping input data to the valid range for imshow with RGB data ([0..1] for floats or [0..255] for integers).\n",
      "Lossy conversion from float32 to uint8. Range [0.0, 255.0]. Convert image to uint8 prior to saving to suppress this warning.\n",
      "Lossy conversion from float32 to uint8. Range [0.0, 2.0]. Convert image to uint8 prior to saving to suppress this warning.\n",
      "Lossy conversion from float64 to uint8. Range [0, 1]. Convert image to uint8 prior to saving to suppress this warning.\n",
      "Clipping input data to the valid range for imshow with RGB data ([0..1] for floats or [0..255] for integers).\n"
     ]
    },
    {
     "name": "stdout",
     "output_type": "stream",
     "text": [
      "[INFO] Epoch 189 loss tf.Tensor(7.0742984, shape=(), dtype=float32) roomTypeLoss: tf.Tensor(3.1264079, shape=(), dtype=float32) roomBoundLosstf.Tensor(11.022189, shape=(), dtype=float32)\n"
     ]
    },
    {
     "name": "stderr",
     "output_type": "stream",
     "text": [
      "Lossy conversion from float32 to uint8. Range [0.0, 255.0]. Convert image to uint8 prior to saving to suppress this warning.\n",
      "Lossy conversion from float32 to uint8. Range [0.0, 2.0]. Convert image to uint8 prior to saving to suppress this warning.\n",
      "Lossy conversion from float64 to uint8. Range [0, 1]. Convert image to uint8 prior to saving to suppress this warning.\n",
      "Clipping input data to the valid range for imshow with RGB data ([0..1] for floats or [0..255] for integers).\n",
      "Lossy conversion from float32 to uint8. Range [0.0, 255.0]. Convert image to uint8 prior to saving to suppress this warning.\n",
      "Lossy conversion from float32 to uint8. Range [0.0, 2.0]. Convert image to uint8 prior to saving to suppress this warning.\n",
      "Lossy conversion from float64 to uint8. Range [0, 1]. Convert image to uint8 prior to saving to suppress this warning.\n",
      "Clipping input data to the valid range for imshow with RGB data ([0..1] for floats or [0..255] for integers).\n",
      "Lossy conversion from float32 to uint8. Range [0.0, 255.0]. Convert image to uint8 prior to saving to suppress this warning.\n",
      "Lossy conversion from float32 to uint8. Range [0.0, 2.0]. Convert image to uint8 prior to saving to suppress this warning.\n",
      "Lossy conversion from float64 to uint8. Range [0, 1]. Convert image to uint8 prior to saving to suppress this warning.\n",
      "Clipping input data to the valid range for imshow with RGB data ([0..1] for floats or [0..255] for integers).\n"
     ]
    },
    {
     "name": "stdout",
     "output_type": "stream",
     "text": [
      "[INFO] Epoch 190 loss tf.Tensor(6.464744, shape=(), dtype=float32) roomTypeLoss: tf.Tensor(3.1839132, shape=(), dtype=float32) roomBoundLosstf.Tensor(9.745575, shape=(), dtype=float32)\n"
     ]
    },
    {
     "name": "stderr",
     "output_type": "stream",
     "text": [
      "Lossy conversion from float32 to uint8. Range [0.0, 255.0]. Convert image to uint8 prior to saving to suppress this warning.\n",
      "Lossy conversion from float32 to uint8. Range [0.0, 2.0]. Convert image to uint8 prior to saving to suppress this warning.\n",
      "Lossy conversion from float64 to uint8. Range [0, 1]. Convert image to uint8 prior to saving to suppress this warning.\n",
      "Clipping input data to the valid range for imshow with RGB data ([0..1] for floats or [0..255] for integers).\n",
      "Lossy conversion from float32 to uint8. Range [0.0, 255.0]. Convert image to uint8 prior to saving to suppress this warning.\n",
      "Lossy conversion from float32 to uint8. Range [0.0, 2.0]. Convert image to uint8 prior to saving to suppress this warning.\n",
      "Lossy conversion from float64 to uint8. Range [0, 1]. Convert image to uint8 prior to saving to suppress this warning.\n",
      "Clipping input data to the valid range for imshow with RGB data ([0..1] for floats or [0..255] for integers).\n",
      "Lossy conversion from float32 to uint8. Range [0.0, 255.0]. Convert image to uint8 prior to saving to suppress this warning.\n",
      "Lossy conversion from float32 to uint8. Range [0.0, 2.0]. Convert image to uint8 prior to saving to suppress this warning.\n",
      "Lossy conversion from float64 to uint8. Range [0, 1]. Convert image to uint8 prior to saving to suppress this warning.\n",
      "Clipping input data to the valid range for imshow with RGB data ([0..1] for floats or [0..255] for integers).\n",
      "Lossy conversion from float32 to uint8. Range [0.0, 255.0]. Convert image to uint8 prior to saving to suppress this warning.\n",
      "Lossy conversion from float32 to uint8. Range [0.0, 2.0]. Convert image to uint8 prior to saving to suppress this warning.\n",
      "Lossy conversion from float64 to uint8. Range [0, 1]. Convert image to uint8 prior to saving to suppress this warning.\n",
      "Clipping input data to the valid range for imshow with RGB data ([0..1] for floats or [0..255] for integers).\n"
     ]
    },
    {
     "name": "stdout",
     "output_type": "stream",
     "text": [
      "[INFO] Epoch 191 loss tf.Tensor(3.8291135, shape=(), dtype=float32) roomTypeLoss: tf.Tensor(2.5340476, shape=(), dtype=float32) roomBoundLosstf.Tensor(5.1241794, shape=(), dtype=float32)\n"
     ]
    },
    {
     "name": "stderr",
     "output_type": "stream",
     "text": [
      "Lossy conversion from float32 to uint8. Range [0.0, 255.0]. Convert image to uint8 prior to saving to suppress this warning.\n",
      "Lossy conversion from float32 to uint8. Range [0.0, 2.0]. Convert image to uint8 prior to saving to suppress this warning.\n",
      "Lossy conversion from float64 to uint8. Range [0, 1]. Convert image to uint8 prior to saving to suppress this warning.\n",
      "Clipping input data to the valid range for imshow with RGB data ([0..1] for floats or [0..255] for integers).\n",
      "Lossy conversion from float32 to uint8. Range [0.0, 255.0]. Convert image to uint8 prior to saving to suppress this warning.\n",
      "Lossy conversion from float32 to uint8. Range [0.0, 2.0]. Convert image to uint8 prior to saving to suppress this warning.\n",
      "Lossy conversion from float64 to uint8. Range [0, 1]. Convert image to uint8 prior to saving to suppress this warning.\n",
      "Clipping input data to the valid range for imshow with RGB data ([0..1] for floats or [0..255] for integers).\n",
      "Lossy conversion from float32 to uint8. Range [0.0, 255.0]. Convert image to uint8 prior to saving to suppress this warning.\n",
      "Lossy conversion from float32 to uint8. Range [0.0, 2.0]. Convert image to uint8 prior to saving to suppress this warning.\n",
      "Lossy conversion from float64 to uint8. Range [0, 1]. Convert image to uint8 prior to saving to suppress this warning.\n",
      "Clipping input data to the valid range for imshow with RGB data ([0..1] for floats or [0..255] for integers).\n"
     ]
    },
    {
     "name": "stdout",
     "output_type": "stream",
     "text": [
      "[INFO] Epoch 192 loss tf.Tensor(7.694918, shape=(), dtype=float32) roomTypeLoss: tf.Tensor(5.2814465, shape=(), dtype=float32) roomBoundLosstf.Tensor(10.10839, shape=(), dtype=float32)\n"
     ]
    },
    {
     "name": "stderr",
     "output_type": "stream",
     "text": [
      "Lossy conversion from float32 to uint8. Range [0.0, 255.0]. Convert image to uint8 prior to saving to suppress this warning.\n",
      "Lossy conversion from float32 to uint8. Range [0.0, 2.0]. Convert image to uint8 prior to saving to suppress this warning.\n",
      "Lossy conversion from float64 to uint8. Range [0, 1]. Convert image to uint8 prior to saving to suppress this warning.\n",
      "Clipping input data to the valid range for imshow with RGB data ([0..1] for floats or [0..255] for integers).\n",
      "Lossy conversion from float32 to uint8. Range [0.0, 255.0]. Convert image to uint8 prior to saving to suppress this warning.\n",
      "Lossy conversion from float32 to uint8. Range [0.0, 2.0]. Convert image to uint8 prior to saving to suppress this warning.\n",
      "Lossy conversion from float64 to uint8. Range [0, 1]. Convert image to uint8 prior to saving to suppress this warning.\n",
      "Clipping input data to the valid range for imshow with RGB data ([0..1] for floats or [0..255] for integers).\n",
      "Lossy conversion from float32 to uint8. Range [0.0, 255.0]. Convert image to uint8 prior to saving to suppress this warning.\n",
      "Lossy conversion from float32 to uint8. Range [0.0, 2.0]. Convert image to uint8 prior to saving to suppress this warning.\n",
      "Lossy conversion from float64 to uint8. Range [0, 1]. Convert image to uint8 prior to saving to suppress this warning.\n",
      "Clipping input data to the valid range for imshow with RGB data ([0..1] for floats or [0..255] for integers).\n",
      "Lossy conversion from float32 to uint8. Range [0.0, 255.0]. Convert image to uint8 prior to saving to suppress this warning.\n",
      "Lossy conversion from float32 to uint8. Range [0.0, 2.0]. Convert image to uint8 prior to saving to suppress this warning.\n",
      "Lossy conversion from float64 to uint8. Range [0, 1]. Convert image to uint8 prior to saving to suppress this warning.\n",
      "Clipping input data to the valid range for imshow with RGB data ([0..1] for floats or [0..255] for integers).\n"
     ]
    },
    {
     "name": "stdout",
     "output_type": "stream",
     "text": [
      "[INFO] Epoch 193 loss tf.Tensor(4.1273537, shape=(), dtype=float32) roomTypeLoss: tf.Tensor(2.4044316, shape=(), dtype=float32) roomBoundLosstf.Tensor(5.8502755, shape=(), dtype=float32)\n"
     ]
    },
    {
     "name": "stderr",
     "output_type": "stream",
     "text": [
      "Lossy conversion from float32 to uint8. Range [0.0, 255.0]. Convert image to uint8 prior to saving to suppress this warning.\n",
      "Lossy conversion from float32 to uint8. Range [0.0, 2.0]. Convert image to uint8 prior to saving to suppress this warning.\n",
      "Lossy conversion from float64 to uint8. Range [0, 1]. Convert image to uint8 prior to saving to suppress this warning.\n",
      "Clipping input data to the valid range for imshow with RGB data ([0..1] for floats or [0..255] for integers).\n",
      "Lossy conversion from float32 to uint8. Range [0.0, 255.0]. Convert image to uint8 prior to saving to suppress this warning.\n",
      "Lossy conversion from float32 to uint8. Range [0.0, 2.0]. Convert image to uint8 prior to saving to suppress this warning.\n",
      "Lossy conversion from float64 to uint8. Range [0, 1]. Convert image to uint8 prior to saving to suppress this warning.\n",
      "Clipping input data to the valid range for imshow with RGB data ([0..1] for floats or [0..255] for integers).\n",
      "Lossy conversion from float32 to uint8. Range [0.0, 255.0]. Convert image to uint8 prior to saving to suppress this warning.\n",
      "Lossy conversion from float32 to uint8. Range [0.0, 2.0]. Convert image to uint8 prior to saving to suppress this warning.\n",
      "Lossy conversion from float64 to uint8. Range [0, 1]. Convert image to uint8 prior to saving to suppress this warning.\n",
      "Clipping input data to the valid range for imshow with RGB data ([0..1] for floats or [0..255] for integers).\n",
      "Lossy conversion from float32 to uint8. Range [0.0, 255.0]. Convert image to uint8 prior to saving to suppress this warning.\n",
      "Lossy conversion from float32 to uint8. Range [0.0, 2.0]. Convert image to uint8 prior to saving to suppress this warning.\n",
      "Lossy conversion from float64 to uint8. Range [0, 1]. Convert image to uint8 prior to saving to suppress this warning.\n",
      "Clipping input data to the valid range for imshow with RGB data ([0..1] for floats or [0..255] for integers).\n"
     ]
    },
    {
     "name": "stdout",
     "output_type": "stream",
     "text": [
      "[INFO] Epoch 194 loss tf.Tensor(10.490546, shape=(), dtype=float32) roomTypeLoss: tf.Tensor(5.0426383, shape=(), dtype=float32) roomBoundLosstf.Tensor(15.938454, shape=(), dtype=float32)\n"
     ]
    },
    {
     "name": "stderr",
     "output_type": "stream",
     "text": [
      "Lossy conversion from float32 to uint8. Range [0.0, 255.0]. Convert image to uint8 prior to saving to suppress this warning.\n",
      "Lossy conversion from float32 to uint8. Range [0.0, 2.0]. Convert image to uint8 prior to saving to suppress this warning.\n",
      "Lossy conversion from float64 to uint8. Range [0, 1]. Convert image to uint8 prior to saving to suppress this warning.\n",
      "Clipping input data to the valid range for imshow with RGB data ([0..1] for floats or [0..255] for integers).\n",
      "Lossy conversion from float32 to uint8. Range [0.0, 255.0]. Convert image to uint8 prior to saving to suppress this warning.\n",
      "Lossy conversion from float32 to uint8. Range [0.0, 2.0]. Convert image to uint8 prior to saving to suppress this warning.\n",
      "Lossy conversion from float64 to uint8. Range [0, 1]. Convert image to uint8 prior to saving to suppress this warning.\n",
      "Clipping input data to the valid range for imshow with RGB data ([0..1] for floats or [0..255] for integers).\n",
      "Lossy conversion from float32 to uint8. Range [0.0, 255.0]. Convert image to uint8 prior to saving to suppress this warning.\n",
      "Lossy conversion from float32 to uint8. Range [0.0, 2.0]. Convert image to uint8 prior to saving to suppress this warning.\n",
      "Lossy conversion from float64 to uint8. Range [0, 1]. Convert image to uint8 prior to saving to suppress this warning.\n",
      "Clipping input data to the valid range for imshow with RGB data ([0..1] for floats or [0..255] for integers).\n"
     ]
    },
    {
     "name": "stdout",
     "output_type": "stream",
     "text": [
      "[INFO] Epoch 195 loss tf.Tensor(8.523259, shape=(), dtype=float32) roomTypeLoss: tf.Tensor(3.8844075, shape=(), dtype=float32) roomBoundLosstf.Tensor(13.16211, shape=(), dtype=float32)\n"
     ]
    },
    {
     "name": "stderr",
     "output_type": "stream",
     "text": [
      "Lossy conversion from float32 to uint8. Range [0.0, 255.0]. Convert image to uint8 prior to saving to suppress this warning.\n",
      "Lossy conversion from float32 to uint8. Range [0.0, 2.0]. Convert image to uint8 prior to saving to suppress this warning.\n",
      "Lossy conversion from float64 to uint8. Range [0, 1]. Convert image to uint8 prior to saving to suppress this warning.\n",
      "Clipping input data to the valid range for imshow with RGB data ([0..1] for floats or [0..255] for integers).\n",
      "Lossy conversion from float32 to uint8. Range [0.0, 255.0]. Convert image to uint8 prior to saving to suppress this warning.\n",
      "Lossy conversion from float32 to uint8. Range [0.0, 2.0]. Convert image to uint8 prior to saving to suppress this warning.\n",
      "Lossy conversion from float64 to uint8. Range [0, 1]. Convert image to uint8 prior to saving to suppress this warning.\n",
      "Clipping input data to the valid range for imshow with RGB data ([0..1] for floats or [0..255] for integers).\n",
      "Lossy conversion from float32 to uint8. Range [0.0, 255.0]. Convert image to uint8 prior to saving to suppress this warning.\n",
      "Lossy conversion from float32 to uint8. Range [0.0, 2.0]. Convert image to uint8 prior to saving to suppress this warning.\n",
      "Lossy conversion from float64 to uint8. Range [0, 1]. Convert image to uint8 prior to saving to suppress this warning.\n",
      "Clipping input data to the valid range for imshow with RGB data ([0..1] for floats or [0..255] for integers).\n",
      "Lossy conversion from float32 to uint8. Range [0.0, 255.0]. Convert image to uint8 prior to saving to suppress this warning.\n",
      "Lossy conversion from float32 to uint8. Range [0.0, 2.0]. Convert image to uint8 prior to saving to suppress this warning.\n",
      "Lossy conversion from float64 to uint8. Range [0, 1]. Convert image to uint8 prior to saving to suppress this warning.\n",
      "Clipping input data to the valid range for imshow with RGB data ([0..1] for floats or [0..255] for integers).\n"
     ]
    },
    {
     "name": "stdout",
     "output_type": "stream",
     "text": [
      "[INFO] Epoch 196 loss tf.Tensor(3.543629, shape=(), dtype=float32) roomTypeLoss: tf.Tensor(1.6986909, shape=(), dtype=float32) roomBoundLosstf.Tensor(5.388567, shape=(), dtype=float32)\n"
     ]
    },
    {
     "name": "stderr",
     "output_type": "stream",
     "text": [
      "Lossy conversion from float32 to uint8. Range [0.0, 255.0]. Convert image to uint8 prior to saving to suppress this warning.\n",
      "Lossy conversion from float32 to uint8. Range [0.0, 2.0]. Convert image to uint8 prior to saving to suppress this warning.\n",
      "Lossy conversion from float64 to uint8. Range [0, 1]. Convert image to uint8 prior to saving to suppress this warning.\n",
      "Clipping input data to the valid range for imshow with RGB data ([0..1] for floats or [0..255] for integers).\n",
      "Lossy conversion from float32 to uint8. Range [0.0, 255.0]. Convert image to uint8 prior to saving to suppress this warning.\n",
      "Lossy conversion from float32 to uint8. Range [0.0, 2.0]. Convert image to uint8 prior to saving to suppress this warning.\n",
      "Lossy conversion from float64 to uint8. Range [0, 1]. Convert image to uint8 prior to saving to suppress this warning.\n",
      "Clipping input data to the valid range for imshow with RGB data ([0..1] for floats or [0..255] for integers).\n",
      "Lossy conversion from float32 to uint8. Range [0.0, 255.0]. Convert image to uint8 prior to saving to suppress this warning.\n",
      "Lossy conversion from float32 to uint8. Range [0.0, 2.0]. Convert image to uint8 prior to saving to suppress this warning.\n",
      "Lossy conversion from float64 to uint8. Range [0, 1]. Convert image to uint8 prior to saving to suppress this warning.\n",
      "Clipping input data to the valid range for imshow with RGB data ([0..1] for floats or [0..255] for integers).\n"
     ]
    },
    {
     "name": "stdout",
     "output_type": "stream",
     "text": [
      "[INFO] Epoch 197 loss tf.Tensor(6.854166, shape=(), dtype=float32) roomTypeLoss: tf.Tensor(4.754063, shape=(), dtype=float32) roomBoundLosstf.Tensor(8.954268, shape=(), dtype=float32)\n"
     ]
    },
    {
     "name": "stderr",
     "output_type": "stream",
     "text": [
      "Lossy conversion from float32 to uint8. Range [0.0, 255.0]. Convert image to uint8 prior to saving to suppress this warning.\n",
      "Lossy conversion from float32 to uint8. Range [0.0, 2.0]. Convert image to uint8 prior to saving to suppress this warning.\n",
      "Lossy conversion from float64 to uint8. Range [0, 1]. Convert image to uint8 prior to saving to suppress this warning.\n",
      "Clipping input data to the valid range for imshow with RGB data ([0..1] for floats or [0..255] for integers).\n",
      "Lossy conversion from float32 to uint8. Range [0.0, 255.0]. Convert image to uint8 prior to saving to suppress this warning.\n",
      "Lossy conversion from float32 to uint8. Range [0.0, 2.0]. Convert image to uint8 prior to saving to suppress this warning.\n",
      "Lossy conversion from float64 to uint8. Range [0, 1]. Convert image to uint8 prior to saving to suppress this warning.\n",
      "Clipping input data to the valid range for imshow with RGB data ([0..1] for floats or [0..255] for integers).\n",
      "Lossy conversion from float32 to uint8. Range [0.0, 255.0]. Convert image to uint8 prior to saving to suppress this warning.\n",
      "Lossy conversion from float32 to uint8. Range [0.0, 2.0]. Convert image to uint8 prior to saving to suppress this warning.\n",
      "Lossy conversion from float64 to uint8. Range [0, 1]. Convert image to uint8 prior to saving to suppress this warning.\n",
      "Clipping input data to the valid range for imshow with RGB data ([0..1] for floats or [0..255] for integers).\n",
      "Lossy conversion from float32 to uint8. Range [0.0, 255.0]. Convert image to uint8 prior to saving to suppress this warning.\n",
      "Lossy conversion from float32 to uint8. Range [0.0, 2.0]. Convert image to uint8 prior to saving to suppress this warning.\n",
      "Lossy conversion from float64 to uint8. Range [0, 1]. Convert image to uint8 prior to saving to suppress this warning.\n",
      "Clipping input data to the valid range for imshow with RGB data ([0..1] for floats or [0..255] for integers).\n"
     ]
    },
    {
     "name": "stdout",
     "output_type": "stream",
     "text": [
      "[INFO] Epoch 198 loss tf.Tensor(5.2284465, shape=(), dtype=float32) roomTypeLoss: tf.Tensor(3.5702035, shape=(), dtype=float32) roomBoundLosstf.Tensor(6.8866897, shape=(), dtype=float32)\n"
     ]
    },
    {
     "name": "stderr",
     "output_type": "stream",
     "text": [
      "Lossy conversion from float32 to uint8. Range [0.0, 255.0]. Convert image to uint8 prior to saving to suppress this warning.\n",
      "Lossy conversion from float32 to uint8. Range [0.0, 2.0]. Convert image to uint8 prior to saving to suppress this warning.\n",
      "Lossy conversion from float64 to uint8. Range [0, 1]. Convert image to uint8 prior to saving to suppress this warning.\n",
      "Clipping input data to the valid range for imshow with RGB data ([0..1] for floats or [0..255] for integers).\n",
      "Lossy conversion from float32 to uint8. Range [0.0, 255.0]. Convert image to uint8 prior to saving to suppress this warning.\n",
      "Lossy conversion from float32 to uint8. Range [0.0, 2.0]. Convert image to uint8 prior to saving to suppress this warning.\n",
      "Lossy conversion from float64 to uint8. Range [0, 1]. Convert image to uint8 prior to saving to suppress this warning.\n",
      "Clipping input data to the valid range for imshow with RGB data ([0..1] for floats or [0..255] for integers).\n",
      "Lossy conversion from float32 to uint8. Range [0.0, 255.0]. Convert image to uint8 prior to saving to suppress this warning.\n",
      "Lossy conversion from float32 to uint8. Range [0.0, 2.0]. Convert image to uint8 prior to saving to suppress this warning.\n",
      "Lossy conversion from float64 to uint8. Range [0, 1]. Convert image to uint8 prior to saving to suppress this warning.\n",
      "Clipping input data to the valid range for imshow with RGB data ([0..1] for floats or [0..255] for integers).\n"
     ]
    },
    {
     "name": "stdout",
     "output_type": "stream",
     "text": [
      "[INFO] Epoch 199 loss tf.Tensor(8.286382, shape=(), dtype=float32) roomTypeLoss: tf.Tensor(3.5211499, shape=(), dtype=float32) roomBoundLosstf.Tensor(13.051613, shape=(), dtype=float32)\n"
     ]
    }
   ],
   "source": [
    "train.main(config)"
   ]
  },
  {
   "cell_type": "code",
   "execution_count": null,
   "metadata": {},
   "outputs": [],
   "source": []
  }
 ],
 "metadata": {
  "kernelspec": {
   "display_name": "Python 3",
   "language": "python",
   "name": "python3"
  },
  "language_info": {
   "codemirror_mode": {
    "name": "ipython",
    "version": 3
   },
   "file_extension": ".py",
   "mimetype": "text/x-python",
   "name": "python",
   "nbconvert_exporter": "python",
   "pygments_lexer": "ipython3",
   "version": "3.7.4"
  }
 },
 "nbformat": 4,
 "nbformat_minor": 4
}
