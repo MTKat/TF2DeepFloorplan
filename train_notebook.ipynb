{
 "cells": [
  {
   "cell_type": "code",
   "execution_count": 4,
   "metadata": {},
   "outputs": [],
   "source": [
    "import train"
   ]
  },
  {
   "cell_type": "code",
   "execution_count": 5,
   "metadata": {},
   "outputs": [],
   "source": [
    "config = {'batchsize':2, 'lr':1e-4, 'wd':1e-5, 'epochs':1, 'logdir':'./log/Jan7', 'saveTensorInterval':1,\n",
    "         'saveModelInterval':10, 'restore':'./log/Jan5/', 'outdir':'./outJan7Test', 'train':False}"
   ]
  },
  {
   "cell_type": "code",
   "execution_count": 6,
   "metadata": {},
   "outputs": [
    {
     "name": "stdout",
     "output_type": "stream",
     "text": [
      "Loading weights from ./log/Jan5/\n",
      "INFO:tensorflow:Assets written to: ./log/Jan7/save/assets\n",
      "[INFO] Saving Model\n",
      "[INFO] Epoch 0 loss tf.Tensor(1.1320838, shape=(), dtype=float32) roomTypeLoss: tf.Tensor(0.5322345, shape=(), dtype=float32) roomBoundLosstf.Tensor(1.731933, shape=(), dtype=float32)\n"
     ]
    }
   ],
   "source": [
    "train.main(config)"
   ]
  },
  {
   "cell_type": "code",
   "execution_count": null,
   "metadata": {},
   "outputs": [],
   "source": []
  }
 ],
 "metadata": {
  "kernelspec": {
   "display_name": "Python 3",
   "language": "python",
   "name": "python3"
  },
  "language_info": {
   "codemirror_mode": {
    "name": "ipython",
    "version": 3
   },
   "file_extension": ".py",
   "mimetype": "text/x-python",
   "name": "python",
   "nbconvert_exporter": "python",
   "pygments_lexer": "ipython3",
   "version": "3.7.4"
  }
 },
 "nbformat": 4,
 "nbformat_minor": 4
}
