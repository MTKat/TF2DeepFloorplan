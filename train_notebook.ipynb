{
 "cells": [
  {
   "cell_type": "code",
   "execution_count": 3,
   "metadata": {},
   "outputs": [],
   "source": [
    "import train"
   ]
  },
  {
   "cell_type": "code",
   "execution_count": 1,
   "metadata": {},
   "outputs": [],
   "source": [
    "config = {'batchsize':2, 'lr':1e-4, 'wd':1e-5, 'epochs':1000, 'logdir':'./log/store', 'saveTensorInterval':10,\n",
    "         'saveModelInterval':2, 'restore':'./log/store/'}"
   ]
  },
  {
   "cell_type": "code",
   "execution_count": null,
   "metadata": {},
   "outputs": [
    {
     "name": "stdout",
     "output_type": "stream",
     "text": [
      "Loading weights from ./log/store/\n",
      "[INFO] Epoch 0\n",
      "[INFO] Saving Model ...\n",
      "[INFO] Epoch 1\n",
      "[INFO] Epoch 2\n",
      "[INFO] Saving Model ...\n",
      "[INFO] Epoch 3\n",
      "[INFO] Epoch 4\n",
      "[INFO] Saving Model ...\n",
      "[INFO] Epoch 5\n",
      "[INFO] Epoch 6\n",
      "[INFO] Saving Model ...\n",
      "[INFO] Epoch 7\n",
      "[INFO] Epoch 8\n",
      "[INFO] Saving Model ...\n",
      "[INFO] Epoch 9\n",
      "[INFO] Epoch 10\n",
      "[INFO] Saving Model ...\n",
      "[INFO] Epoch 11\n",
      "[INFO] Epoch 12\n",
      "[INFO] Saving Model ...\n",
      "[INFO] Epoch 13\n",
      "[INFO] Epoch 14\n",
      "[INFO] Saving Model ...\n",
      "[INFO] Epoch 15\n",
      "[INFO] Epoch 16\n"
     ]
    }
   ],
   "source": [
    "train.main(config)"
   ]
  },
  {
   "cell_type": "code",
   "execution_count": null,
   "metadata": {},
   "outputs": [],
   "source": [
    "import os\n",
    "os.getcwd()"
   ]
  },
  {
   "cell_type": "code",
   "execution_count": null,
   "metadata": {},
   "outputs": [],
   "source": []
  }
 ],
 "metadata": {
  "kernelspec": {
   "display_name": "Python 3",
   "language": "python",
   "name": "python3"
  },
  "language_info": {
   "codemirror_mode": {
    "name": "ipython",
    "version": 3
   },
   "file_extension": ".py",
   "mimetype": "text/x-python",
   "name": "python",
   "nbconvert_exporter": "python",
   "pygments_lexer": "ipython3",
   "version": "3.7.4"
  }
 },
 "nbformat": 4,
 "nbformat_minor": 4
}
